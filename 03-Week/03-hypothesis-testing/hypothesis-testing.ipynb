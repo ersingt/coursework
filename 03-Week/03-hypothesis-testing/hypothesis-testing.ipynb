{
 "cells": [
  {
   "cell_type": "markdown",
   "metadata": {},
   "source": [
    "# Inferential Statistics"
   ]
  },
  {
   "cell_type": "markdown",
   "metadata": {},
   "source": [
    "Let's say we wanted to know how many hours of sleep DSI students get, on average. It's not really a viable option to ask every single DSI student in all of the campuses (especially if we're checking across cohorts!) So instead, we'll collect a sample of hours of sleep of students in the DC campus, and use hypothesis testing to if a DSI gets, for example, 6 hours of sleep every night, on average. "
   ]
  },
  {
   "cell_type": "code",
   "execution_count": null,
   "metadata": {},
   "outputs": [],
   "source": [
    "# List of average hours of sleep each student in DSI 10 gets a night\n",
    "sleep = [5, 7, 6, 8, 6, 8.5, 6.5, 8, 7.5, 7, 6.5, 6, 8]"
   ]
  },
  {
   "cell_type": "code",
   "execution_count": null,
   "metadata": {},
   "outputs": [],
   "source": [
    "# import the necessary libraries \n",
    "import numpy as np\n",
    "from scipy import stats"
   ]
  },
  {
   "cell_type": "markdown",
   "metadata": {},
   "source": [
    "## Hypothesis Testing"
   ]
  },
  {
   "cell_type": "markdown",
   "metadata": {},
   "source": [
    "You probably remember that we talked about Confidence Intervals on Week 2. Hypothesis Test is kind of an inversion of confidence interval.\n",
    "\n",
    "1. The first step is setting null and alternative hypothesis. One or the other has to be true:\n",
    "$$H_0 {(null)}: \\mu = 6$$\n",
    "$$H_A {(alternative)}: {\\mu \\ne 6}$$\n",
    "2. Step two - gather data\n",
    "3. Step three - calcualte statistic\n",
    "$$t = \\frac{(\\bar{x} - \\mu)}{\\frac{\\sigma}{\\sqrt{n}}}$$\n",
    "In words/English: **T-statistic** equals the **sample mean** minus the hypothesized **population mean**, divided by the Standard Error. As a reminder, the Standard Error formula - $s_{e} =  \\frac {\\sigma}{\\sqrt n}$\n",
    "4. Find p-value (the probability that if we run this test again that we get this result, or a more extreme one, again)\n",
    "5. Make a conclusion - if the p-value is small enough, it means the difference is pretty big, and then we reject the null hypothesis. If it's not, we fail to reject the null hypothesis ($H_0$)."
   ]
  },
  {
   "cell_type": "markdown",
   "metadata": {},
   "source": [
    "### One Sample T-Test"
   ]
  },
  {
   "cell_type": "markdown",
   "metadata": {},
   "source": [
    "Let's check if on average, a student in DSI 10 gets 6 hours of sleep on average. For that we'll use **One Sample T-Test**."
   ]
  },
  {
   "cell_type": "code",
   "execution_count": null,
   "metadata": {},
   "outputs": [],
   "source": [
    "# Run a t-test using the stats library\n"
   ]
  },
  {
   "cell_type": "code",
   "execution_count": null,
   "metadata": {},
   "outputs": [],
   "source": [
    "# What's the T-Test result? "
   ]
  },
  {
   "cell_type": "markdown",
   "metadata": {},
   "source": [
    "If the P-value is lower than 0.05, we will able to reject the null hypothesis and conclude that a student in DSI 10 doesn't not get 6 hours of sleep a night on average. "
   ]
  },
  {
   "cell_type": "code",
   "execution_count": null,
   "metadata": {},
   "outputs": [],
   "source": [
    "# What about 7 hours?\n"
   ]
  },
  {
   "cell_type": "code",
   "execution_count": null,
   "metadata": {},
   "outputs": [],
   "source": []
  },
  {
   "cell_type": "code",
   "execution_count": null,
   "metadata": {},
   "outputs": [],
   "source": [
    "# What about 5? "
   ]
  },
  {
   "cell_type": "markdown",
   "metadata": {},
   "source": [
    "### Independent Sample T-Test"
   ]
  },
  {
   "cell_type": "markdown",
   "metadata": {},
   "source": [
    "Let's say we want to see if there's a **statistically significant** difference between the average sleep time of DSI 9 and DSI 10 students (in the DC campus). For that, we will use the **Independent Samples T-Test**. "
   ]
  },
  {
   "cell_type": "markdown",
   "metadata": {},
   "source": [
    "The formula for **Independent Samples T-Test**:\n",
    "![](https://miro.medium.com/max/932/1*1ZUnA4eR5J2WEGhDVPDkEw.png)"
   ]
  },
  {
   "cell_type": "markdown",
   "metadata": {},
   "source": [
    "The hypothesis in Independent Samples Hypothesis Test is a little different:\n",
    "![](https://slideplayer.com/slide/3605887/13/images/8/Two+Sample+Hypothesis+Test+with+Independent+Samples.jpg)"
   ]
  },
  {
   "cell_type": "code",
   "execution_count": null,
   "metadata": {},
   "outputs": [],
   "source": [
    "# List of average hours of sleep each student in DSI 9 gets a night\n",
    "dsi_9_sleep = [6.5, 6.18, 6, 7, 6, 5.5, 7, 8.5, 7, 6.5]"
   ]
  },
  {
   "cell_type": "code",
   "execution_count": null,
   "metadata": {},
   "outputs": [],
   "source": [
    "# Independent sampple T-Test"
   ]
  },
  {
   "cell_type": "code",
   "execution_count": null,
   "metadata": {},
   "outputs": [],
   "source": [
    "# Result of T-Test"
   ]
  },
  {
   "cell_type": "code",
   "execution_count": null,
   "metadata": {},
   "outputs": [],
   "source": [
    "# What are the averages?"
   ]
  },
  {
   "cell_type": "markdown",
   "metadata": {},
   "source": []
  }
 ],
 "metadata": {
  "kernelspec": {
   "display_name": "Python 3",
   "language": "python",
   "name": "python3"
  },
  "language_info": {
   "codemirror_mode": {
    "name": "ipython",
    "version": 3
   },
   "file_extension": ".py",
   "mimetype": "text/x-python",
   "name": "python",
   "nbconvert_exporter": "python",
   "pygments_lexer": "ipython3",
   "version": "3.7.5"
  }
 },
 "nbformat": 4,
 "nbformat_minor": 2
}
