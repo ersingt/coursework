{
 "cells": [
  {
   "cell_type": "markdown",
   "metadata": {
    "colab_type": "text",
    "id": "sgYJ3eEgXEsl"
   },
   "source": [
    "# Weeks 2 & 3 Summary of Major Concepts\n",
    "\n",
    "_Modified by Jeff Hale_"
   ]
  },
  {
   "cell_type": "markdown",
   "metadata": {
    "colab_type": "text",
    "id": "3sOTl4rOZtfh"
   },
   "source": [
    "## Pandas\n",
    "\n",
    "- **Explain the difference: Series vs DataFrame.**\n",
    "  - Series : One-dimensional ndarray with axis labels (including time series)\n",
    "  - DataFrame : Two-dimensional size-mutable, potentially heterogeneous tabular data structure with labeled axes (rows and columns).   Its composed of several series whose y axis labels interact for consistancy.\n",
    "- Describe basic characteristics of DataFrames.\n",
    "  - Pandas The Python equivalent of an Excel spread sheet.  Pandas DFs have dozens and dozens of methods to interact with the data and attributes to describe the data. Pandas is our bread and butter for data manipuation.\n",
    "- Practice plotting with panda\n",
    "  - We can call the `.plot(kind='')` method on our pandas series and DataFrames. We can pass a plot kind using the parameter. Some of the popular selections for `kind` are bar, line, box, scatter, and hist.\n",
    "- Series axis 1 vs 0\n",
    "    - `axis = 1` typically relates to column organization\n",
    "    - `axis = 0` typically relates to row organization\n",
    "    \n",
    "    - This can get confusing when you are doing an operation along a column or along the rows. ☝️\n",
    "    \n",
    "- Understanding Pandas datatypes\n",
    "    - Pandas follows Python and NumPy dtypes, but has some of it's own.  A column or series can only contain a single dtype inside of it.  Common dtypes are varieties of `int`,  `float`, `object`(string), `datetime`, and 'categorical'. \n",
    "- Selection of data\n",
    "  - Logical filters, called masks, can be used to select data from our DataFrame that meets certain conditions\n",
    "  - First we create a mask that evaluate to true or false, e.g. `mask = (df['col_1'] > 10)`\n",
    "  - Next, we pass our mask to our DataFrame to return only the data that passes our filter. `df[mask]`\n",
    "  - We can use multiple masks together:\n",
    "  ```python\n",
    "    df[mask & mask2]\n",
    "  ``` \n",
    "  returns the data where *both* mask *and* mask2 are true\n",
    "  \n",
    "  - Similarly:\n",
    "  ```python\n",
    "    df[mask | mask2]\n",
    "  ``` \n",
    "  returns the data where *either* mask *or* mask2 are true\n",
    "    \n",
    "  \n",
    "- Basic Plotting\n",
    "  - `df.plot(kind='...')`\n",
    "  - `import matplotlib.pyplot as plot`\n",
    "  - `import seaborn as sns`\n",
    "    - Heatmaps, Scatter Plots, Barcharts, Histograms, BoxPlots"
   ]
  },
  {
   "cell_type": "markdown",
   "metadata": {
    "colab_type": "text",
    "id": "xzfWnEPY065b"
   },
   "source": [
    "## Visualization\n",
    "\n",
    "- Identify what type of visualization may be appropriate for a given scenario.\n",
    "    - Histogram : Distribution of a single feature\n",
    "    - Bar : Compare counts of one or more categorical features\n",
    "    - Scatter Plot : Compare two numeric features\n",
    "    - Pie Chart : Never\n",
    "    - Box Plots : Understand the distribution of a feature\n",
    "    - Line : Changes over time\n",
    "- The Six Principals \"Lessons\" of Visualizing Data\n",
    "  - Lesson 1: Understand the context. (Who, What, How)\n",
    "  - Lesson 2: Choose an appropriate visual display. (What type of graph?)\n",
    "  - Lesson 3: Eliminate clutter. (What can I delete or make more subtle?)\n",
    "  - Lesson 4: Focus attention where you want it. (How do I emphasize important things?)\n",
    "  - Lesson 5: Think like a designer. (How do I organize my visualization?)\n",
    "  - Lesson 6: Tell a story! (How do I communicate my visualization?)"
   ]
  },
  {
   "cell_type": "code",
   "execution_count": 2,
   "metadata": {
    "colab": {},
    "colab_type": "code",
    "id": "yGdae12PzwUG"
   },
   "outputs": [],
   "source": [
    "import matplotlib.pyplot as plt\n",
    "import pandas as pd\n",
    "import numpy as np\n",
    "import seaborn as sns"
   ]
  },
  {
   "cell_type": "code",
   "execution_count": 3,
   "metadata": {},
   "outputs": [
    {
     "data": {
      "text/plain": [
       "'0.10.0'"
      ]
     },
     "execution_count": 3,
     "metadata": {},
     "output_type": "execute_result"
    }
   ],
   "source": [
    "sns.__version__"
   ]
  },
  {
   "cell_type": "code",
   "execution_count": 4,
   "metadata": {},
   "outputs": [
    {
     "data": {
      "text/plain": [
       "'1.0.3'"
      ]
     },
     "execution_count": 4,
     "metadata": {},
     "output_type": "execute_result"
    }
   ],
   "source": [
    "pd.__version__"
   ]
  },
  {
   "cell_type": "markdown",
   "metadata": {},
   "source": [
    "### Load the data from Seaborn. Seaborn has a loading utility to help."
   ]
  },
  {
   "cell_type": "code",
   "execution_count": 19,
   "metadata": {},
   "outputs": [],
   "source": [
    "df=sns.load_dataset('mpg')"
   ]
  },
  {
   "cell_type": "code",
   "execution_count": 20,
   "metadata": {},
   "outputs": [
    {
     "data": {
      "text/html": [
       "<div>\n",
       "<style scoped>\n",
       "    .dataframe tbody tr th:only-of-type {\n",
       "        vertical-align: middle;\n",
       "    }\n",
       "\n",
       "    .dataframe tbody tr th {\n",
       "        vertical-align: top;\n",
       "    }\n",
       "\n",
       "    .dataframe thead th {\n",
       "        text-align: right;\n",
       "    }\n",
       "</style>\n",
       "<table border=\"1\" class=\"dataframe\">\n",
       "  <thead>\n",
       "    <tr style=\"text-align: right;\">\n",
       "      <th></th>\n",
       "      <th>mpg</th>\n",
       "      <th>cylinders</th>\n",
       "      <th>displacement</th>\n",
       "      <th>horsepower</th>\n",
       "      <th>weight</th>\n",
       "      <th>acceleration</th>\n",
       "      <th>model_year</th>\n",
       "      <th>origin</th>\n",
       "      <th>name</th>\n",
       "    </tr>\n",
       "  </thead>\n",
       "  <tbody>\n",
       "    <tr>\n",
       "      <th>0</th>\n",
       "      <td>18.0</td>\n",
       "      <td>8</td>\n",
       "      <td>307.0</td>\n",
       "      <td>130.0</td>\n",
       "      <td>3504</td>\n",
       "      <td>12.0</td>\n",
       "      <td>70</td>\n",
       "      <td>usa</td>\n",
       "      <td>chevrolet chevelle malibu</td>\n",
       "    </tr>\n",
       "    <tr>\n",
       "      <th>1</th>\n",
       "      <td>15.0</td>\n",
       "      <td>8</td>\n",
       "      <td>350.0</td>\n",
       "      <td>165.0</td>\n",
       "      <td>3693</td>\n",
       "      <td>11.5</td>\n",
       "      <td>70</td>\n",
       "      <td>usa</td>\n",
       "      <td>buick skylark 320</td>\n",
       "    </tr>\n",
       "  </tbody>\n",
       "</table>\n",
       "</div>"
      ],
      "text/plain": [
       "    mpg  cylinders  displacement  horsepower  weight  acceleration  \\\n",
       "0  18.0          8         307.0       130.0    3504          12.0   \n",
       "1  15.0          8         350.0       165.0    3693          11.5   \n",
       "\n",
       "   model_year origin                       name  \n",
       "0          70    usa  chevrolet chevelle malibu  \n",
       "1          70    usa          buick skylark 320  "
      ]
     },
     "execution_count": 20,
     "metadata": {},
     "output_type": "execute_result"
    }
   ],
   "source": [
    "df.head(2)"
   ]
  },
  {
   "cell_type": "markdown",
   "metadata": {
    "colab_type": "text",
    "id": "sl1ICd846-Fs"
   },
   "source": [
    "### Scatterplot\n",
    "Scatterplots help us to more closely examine the relationship between two numeric columns. "
   ]
  },
  {
   "cell_type": "markdown",
   "metadata": {},
   "source": [
    "#### Using MatPlotLib "
   ]
  },
  {
   "cell_type": "code",
   "execution_count": 13,
   "metadata": {
    "colab": {
     "base_uri": "https://localhost:8080/",
     "height": 279
    },
    "colab_type": "code",
    "id": "UfbNAKRn4I5_",
    "outputId": "13f61715-51cc-472b-fba2-1fa37a90715d"
   },
   "outputs": [
    {
     "data": {
      "image/png": "[encoded data removed]",
      "text/plain": [
       "<Figure size 432x288 with 1 Axes>"
      ]
     },
     "metadata": {
      "needs_background": "light"
     },
     "output_type": "display_data"
    }
   ],
   "source": [
    "plt.xlabel('model_year');\n",
    "plt.ylabel('mpg');\n",
    "plt.scatter(df['model_year'], df['mpg']);"
   ]
  },
  {
   "cell_type": "markdown",
   "metadata": {},
   "source": [
    "#### Using pandas"
   ]
  },
  {
   "cell_type": "code",
   "execution_count": 17,
   "metadata": {},
   "outputs": [
    {
     "data": {
      "image/png": "[encoded data removed]",
      "text/plain": [
       "<Figure size 432x288 with 1 Axes>"
      ]
     },
     "metadata": {
      "needs_background": "light"
     },
     "output_type": "display_data"
    }
   ],
   "source": [
    "df.plot(kind='scatter', x='model_year', y='mpg', title='MPG Increasing');"
   ]
  },
  {
   "cell_type": "markdown",
   "metadata": {},
   "source": [
    "#### Histogram\n",
    "\n",
    "Bin counts of a single column."
   ]
  },
  {
   "cell_type": "code",
   "execution_count": 62,
   "metadata": {},
   "outputs": [
    {
     "data": {
      "image/png": "[encoded data removed]",
      "text/plain": [
       "<Figure size 432x288 with 1 Axes>"
      ]
     },
     "metadata": {
      "needs_background": "light"
     },
     "output_type": "display_data"
    }
   ],
   "source": [
    "df['model_year'].plot(kind='hist', bins=20);"
   ]
  },
  {
   "cell_type": "markdown",
   "metadata": {},
   "source": [
    "Use a groupby to make find the average mpg by origin."
   ]
  },
  {
   "cell_type": "code",
   "execution_count": 35,
   "metadata": {},
   "outputs": [
    {
     "data": {
      "text/html": [
       "<div>\n",
       "<style scoped>\n",
       "    .dataframe tbody tr th:only-of-type {\n",
       "        vertical-align: middle;\n",
       "    }\n",
       "\n",
       "    .dataframe tbody tr th {\n",
       "        vertical-align: top;\n",
       "    }\n",
       "\n",
       "    .dataframe thead th {\n",
       "        text-align: right;\n",
       "    }\n",
       "</style>\n",
       "<table border=\"1\" class=\"dataframe\">\n",
       "  <thead>\n",
       "    <tr style=\"text-align: right;\">\n",
       "      <th></th>\n",
       "      <th>mpg</th>\n",
       "      <th>cylinders</th>\n",
       "      <th>displacement</th>\n",
       "      <th>horsepower</th>\n",
       "      <th>weight</th>\n",
       "      <th>acceleration</th>\n",
       "      <th>model_year</th>\n",
       "    </tr>\n",
       "    <tr>\n",
       "      <th>origin</th>\n",
       "      <th></th>\n",
       "      <th></th>\n",
       "      <th></th>\n",
       "      <th></th>\n",
       "      <th></th>\n",
       "      <th></th>\n",
       "      <th></th>\n",
       "    </tr>\n",
       "  </thead>\n",
       "  <tbody>\n",
       "    <tr>\n",
       "      <th>europe</th>\n",
       "      <td>27.891429</td>\n",
       "      <td>4.157143</td>\n",
       "      <td>109.142857</td>\n",
       "      <td>80.558824</td>\n",
       "      <td>2423.300000</td>\n",
       "      <td>16.787143</td>\n",
       "      <td>75.814286</td>\n",
       "    </tr>\n",
       "    <tr>\n",
       "      <th>japan</th>\n",
       "      <td>30.450633</td>\n",
       "      <td>4.101266</td>\n",
       "      <td>102.708861</td>\n",
       "      <td>79.835443</td>\n",
       "      <td>2221.227848</td>\n",
       "      <td>16.172152</td>\n",
       "      <td>77.443038</td>\n",
       "    </tr>\n",
       "    <tr>\n",
       "      <th>usa</th>\n",
       "      <td>20.083534</td>\n",
       "      <td>6.248996</td>\n",
       "      <td>245.901606</td>\n",
       "      <td>119.048980</td>\n",
       "      <td>3361.931727</td>\n",
       "      <td>15.033735</td>\n",
       "      <td>75.610442</td>\n",
       "    </tr>\n",
       "  </tbody>\n",
       "</table>\n",
       "</div>"
      ],
      "text/plain": [
       "              mpg  cylinders  displacement  horsepower       weight  \\\n",
       "origin                                                                \n",
       "europe  27.891429   4.157143    109.142857   80.558824  2423.300000   \n",
       "japan   30.450633   4.101266    102.708861   79.835443  2221.227848   \n",
       "usa     20.083534   6.248996    245.901606  119.048980  3361.931727   \n",
       "\n",
       "        acceleration  model_year  \n",
       "origin                            \n",
       "europe     16.787143   75.814286  \n",
       "japan      16.172152   77.443038  \n",
       "usa        15.033735   75.610442  "
      ]
     },
     "execution_count": 35,
     "metadata": {},
     "output_type": "execute_result"
    }
   ],
   "source": [
    "df_origin = df.groupby('origin').mean()\n",
    "df_origin"
   ]
  },
  {
   "cell_type": "markdown",
   "metadata": {},
   "source": [
    "#### Bar plot\n",
    "\n",
    "Use with categorical data."
   ]
  },
  {
   "cell_type": "code",
   "execution_count": 43,
   "metadata": {
    "colab": {},
    "colab_type": "code",
    "id": "yGdae12PzwUG"
   },
   "outputs": [
    {
     "data": {
      "text/plain": [
       "<matplotlib.axes._subplots.AxesSubplot at 0x1a234a82d0>"
      ]
     },
     "execution_count": 43,
     "metadata": {},
     "output_type": "execute_result"
    },
    {
     "data": {
      "image/png": "[encoded data removed]",
      "text/plain": [
       "<Figure size 432x288 with 1 Axes>"
      ]
     },
     "metadata": {
      "needs_background": "light"
     },
     "output_type": "display_data"
    }
   ],
   "source": [
    "df_origin.plot(kind='bar', y='mpg', use_index=True) \n",
    "# https://stackoverflow.com/a/39536653/4590385"
   ]
  },
  {
   "cell_type": "markdown",
   "metadata": {},
   "source": [
    "Or, using vanilla matplotlib"
   ]
  },
  {
   "cell_type": "code",
   "execution_count": 49,
   "metadata": {},
   "outputs": [
    {
     "data": {
      "image/png": "[encoded data removed]",
      "text/plain": [
       "<Figure size 432x288 with 1 Axes>"
      ]
     },
     "metadata": {
      "needs_background": "light"
     },
     "output_type": "display_data"
    }
   ],
   "source": [
    "plt.bar(df_origin.index, df_origin['mpg'])\n",
    "plt.xlabel('Origin');"
   ]
  },
  {
   "cell_type": "markdown",
   "metadata": {},
   "source": [
    "#### Boxplot\n",
    "\n",
    "Use, when you would use a scatter plot but want to see the distribution with some more statistical information at the same time."
   ]
  },
  {
   "cell_type": "code",
   "execution_count": 51,
   "metadata": {},
   "outputs": [
    {
     "data": {
      "text/plain": [
       "<matplotlib.axes._subplots.AxesSubplot at 0x1a23a711d0>"
      ]
     },
     "execution_count": 51,
     "metadata": {},
     "output_type": "execute_result"
    },
    {
     "data": {
      "image/png": "[encoded data removed]",
      "text/plain": [
       "<Figure size 432x288 with 1 Axes>"
      ]
     },
     "metadata": {
      "needs_background": "light"
     },
     "output_type": "display_data"
    }
   ],
   "source": [
    "df.plot(kind='box')"
   ]
  },
  {
   "cell_type": "code",
   "execution_count": 56,
   "metadata": {},
   "outputs": [
    {
     "data": {
      "text/plain": [
       "<matplotlib.axes._subplots.AxesSubplot at 0x1a23f3af10>"
      ]
     },
     "execution_count": 56,
     "metadata": {},
     "output_type": "execute_result"
    },
    {
     "data": {
      "image/png": "[encoded data removed]",
      "text/plain": [
       "<Figure size 432x288 with 1 Axes>"
      ]
     },
     "metadata": {
      "needs_background": "light"
     },
     "output_type": "display_data"
    }
   ],
   "source": [
    "sns.boxplot(data=df[['weight', 'horsepower']])"
   ]
  },
  {
   "cell_type": "markdown",
   "metadata": {},
   "source": [
    "#### Line chart\n",
    "\n",
    "Use for data that changes over time.\n",
    "\n",
    "Display a count of records by year."
   ]
  },
  {
   "cell_type": "code",
   "execution_count": 59,
   "metadata": {},
   "outputs": [
    {
     "data": {
      "text/html": [
       "<div>\n",
       "<style scoped>\n",
       "    .dataframe tbody tr th:only-of-type {\n",
       "        vertical-align: middle;\n",
       "    }\n",
       "\n",
       "    .dataframe tbody tr th {\n",
       "        vertical-align: top;\n",
       "    }\n",
       "\n",
       "    .dataframe thead th {\n",
       "        text-align: right;\n",
       "    }\n",
       "</style>\n",
       "<table border=\"1\" class=\"dataframe\">\n",
       "  <thead>\n",
       "    <tr style=\"text-align: right;\">\n",
       "      <th></th>\n",
       "      <th>mpg</th>\n",
       "      <th>cylinders</th>\n",
       "      <th>displacement</th>\n",
       "      <th>horsepower</th>\n",
       "      <th>weight</th>\n",
       "      <th>acceleration</th>\n",
       "      <th>origin</th>\n",
       "      <th>name</th>\n",
       "    </tr>\n",
       "    <tr>\n",
       "      <th>model_year</th>\n",
       "      <th></th>\n",
       "      <th></th>\n",
       "      <th></th>\n",
       "      <th></th>\n",
       "      <th></th>\n",
       "      <th></th>\n",
       "      <th></th>\n",
       "      <th></th>\n",
       "    </tr>\n",
       "  </thead>\n",
       "  <tbody>\n",
       "    <tr>\n",
       "      <th>70</th>\n",
       "      <td>29</td>\n",
       "      <td>29</td>\n",
       "      <td>29</td>\n",
       "      <td>29</td>\n",
       "      <td>29</td>\n",
       "      <td>29</td>\n",
       "      <td>29</td>\n",
       "      <td>29</td>\n",
       "    </tr>\n",
       "    <tr>\n",
       "      <th>71</th>\n",
       "      <td>28</td>\n",
       "      <td>28</td>\n",
       "      <td>28</td>\n",
       "      <td>27</td>\n",
       "      <td>28</td>\n",
       "      <td>28</td>\n",
       "      <td>28</td>\n",
       "      <td>28</td>\n",
       "    </tr>\n",
       "    <tr>\n",
       "      <th>72</th>\n",
       "      <td>28</td>\n",
       "      <td>28</td>\n",
       "      <td>28</td>\n",
       "      <td>28</td>\n",
       "      <td>28</td>\n",
       "      <td>28</td>\n",
       "      <td>28</td>\n",
       "      <td>28</td>\n",
       "    </tr>\n",
       "    <tr>\n",
       "      <th>73</th>\n",
       "      <td>40</td>\n",
       "      <td>40</td>\n",
       "      <td>40</td>\n",
       "      <td>40</td>\n",
       "      <td>40</td>\n",
       "      <td>40</td>\n",
       "      <td>40</td>\n",
       "      <td>40</td>\n",
       "    </tr>\n",
       "    <tr>\n",
       "      <th>74</th>\n",
       "      <td>27</td>\n",
       "      <td>27</td>\n",
       "      <td>27</td>\n",
       "      <td>26</td>\n",
       "      <td>27</td>\n",
       "      <td>27</td>\n",
       "      <td>27</td>\n",
       "      <td>27</td>\n",
       "    </tr>\n",
       "    <tr>\n",
       "      <th>75</th>\n",
       "      <td>30</td>\n",
       "      <td>30</td>\n",
       "      <td>30</td>\n",
       "      <td>30</td>\n",
       "      <td>30</td>\n",
       "      <td>30</td>\n",
       "      <td>30</td>\n",
       "      <td>30</td>\n",
       "    </tr>\n",
       "    <tr>\n",
       "      <th>76</th>\n",
       "      <td>34</td>\n",
       "      <td>34</td>\n",
       "      <td>34</td>\n",
       "      <td>34</td>\n",
       "      <td>34</td>\n",
       "      <td>34</td>\n",
       "      <td>34</td>\n",
       "      <td>34</td>\n",
       "    </tr>\n",
       "    <tr>\n",
       "      <th>77</th>\n",
       "      <td>28</td>\n",
       "      <td>28</td>\n",
       "      <td>28</td>\n",
       "      <td>28</td>\n",
       "      <td>28</td>\n",
       "      <td>28</td>\n",
       "      <td>28</td>\n",
       "      <td>28</td>\n",
       "    </tr>\n",
       "    <tr>\n",
       "      <th>78</th>\n",
       "      <td>36</td>\n",
       "      <td>36</td>\n",
       "      <td>36</td>\n",
       "      <td>36</td>\n",
       "      <td>36</td>\n",
       "      <td>36</td>\n",
       "      <td>36</td>\n",
       "      <td>36</td>\n",
       "    </tr>\n",
       "    <tr>\n",
       "      <th>79</th>\n",
       "      <td>29</td>\n",
       "      <td>29</td>\n",
       "      <td>29</td>\n",
       "      <td>29</td>\n",
       "      <td>29</td>\n",
       "      <td>29</td>\n",
       "      <td>29</td>\n",
       "      <td>29</td>\n",
       "    </tr>\n",
       "    <tr>\n",
       "      <th>80</th>\n",
       "      <td>29</td>\n",
       "      <td>29</td>\n",
       "      <td>29</td>\n",
       "      <td>27</td>\n",
       "      <td>29</td>\n",
       "      <td>29</td>\n",
       "      <td>29</td>\n",
       "      <td>29</td>\n",
       "    </tr>\n",
       "    <tr>\n",
       "      <th>81</th>\n",
       "      <td>29</td>\n",
       "      <td>29</td>\n",
       "      <td>29</td>\n",
       "      <td>28</td>\n",
       "      <td>29</td>\n",
       "      <td>29</td>\n",
       "      <td>29</td>\n",
       "      <td>29</td>\n",
       "    </tr>\n",
       "    <tr>\n",
       "      <th>82</th>\n",
       "      <td>31</td>\n",
       "      <td>31</td>\n",
       "      <td>31</td>\n",
       "      <td>30</td>\n",
       "      <td>31</td>\n",
       "      <td>31</td>\n",
       "      <td>31</td>\n",
       "      <td>31</td>\n",
       "    </tr>\n",
       "  </tbody>\n",
       "</table>\n",
       "</div>"
      ],
      "text/plain": [
       "            mpg  cylinders  displacement  horsepower  weight  acceleration  \\\n",
       "model_year                                                                   \n",
       "70           29         29            29          29      29            29   \n",
       "71           28         28            28          27      28            28   \n",
       "72           28         28            28          28      28            28   \n",
       "73           40         40            40          40      40            40   \n",
       "74           27         27            27          26      27            27   \n",
       "75           30         30            30          30      30            30   \n",
       "76           34         34            34          34      34            34   \n",
       "77           28         28            28          28      28            28   \n",
       "78           36         36            36          36      36            36   \n",
       "79           29         29            29          29      29            29   \n",
       "80           29         29            29          27      29            29   \n",
       "81           29         29            29          28      29            29   \n",
       "82           31         31            31          30      31            31   \n",
       "\n",
       "            origin  name  \n",
       "model_year                \n",
       "70              29    29  \n",
       "71              28    28  \n",
       "72              28    28  \n",
       "73              40    40  \n",
       "74              27    27  \n",
       "75              30    30  \n",
       "76              34    34  \n",
       "77              28    28  \n",
       "78              36    36  \n",
       "79              29    29  \n",
       "80              29    29  \n",
       "81              29    29  \n",
       "82              31    31  "
      ]
     },
     "execution_count": 59,
     "metadata": {},
     "output_type": "execute_result"
    }
   ],
   "source": [
    "df_year = df.groupby('model_year').count()\n",
    "df_year"
   ]
  },
  {
   "cell_type": "code",
   "execution_count": 60,
   "metadata": {},
   "outputs": [
    {
     "data": {
      "text/plain": [
       "<matplotlib.axes._subplots.AxesSubplot at 0x1a240f4dd0>"
      ]
     },
     "execution_count": 60,
     "metadata": {},
     "output_type": "execute_result"
    },
    {
     "data": {
      "image/png": "[encoded data removed]",
      "text/plain": [
       "<Figure size 432x288 with 1 Axes>"
      ]
     },
     "metadata": {
      "needs_background": "light"
     },
     "output_type": "display_data"
    }
   ],
   "source": [
    "df_year.plot()"
   ]
  },
  {
   "cell_type": "markdown",
   "metadata": {
    "colab_type": "text",
    "id": "EThDKne85Zpq"
   },
   "source": [
    "### Correlation Heatmap\n",
    "A correlation heatmap gives us insight into the strength and sign of relationships between numeric columns in our dataset. We can use it to identify predictor variables with large effects on our target. "
   ]
  },
  {
   "cell_type": "code",
   "execution_count": 9,
   "metadata": {
    "colab": {
     "base_uri": "https://localhost:8080/",
     "height": 329
    },
    "colab_type": "code",
    "id": "ArPm7wIb0oYo",
    "outputId": "046df2e9-9d3a-45b9-e438-402f2fb0ae12"
   },
   "outputs": [
    {
     "data": {
      "image/png": "[encoded data removed]",
      "text/plain": [
       "<Figure size 720x288 with 2 Axes>"
      ]
     },
     "metadata": {
      "needs_background": "light"
     },
     "output_type": "display_data"
    }
   ],
   "source": [
    "plt.figure(figsize=(10,4));\n",
    "\n",
    "sns.heatmap(df.corr(), annot=True, cmap='coolwarm');"
   ]
  },
  {
   "cell_type": "markdown",
   "metadata": {
    "colab_type": "text",
    "id": "EX4EUClp6T7E"
   },
   "source": [
    "### Pairplot\n",
    "A pairplot will include scatterplots describing the relationship between the numeric columns, and the distributions for those columns will appear along the diagonal."
   ]
  },
  {
   "cell_type": "code",
   "execution_count": 10,
   "metadata": {
    "colab": {
     "base_uri": "https://localhost:8080/",
     "height": 901
    },
    "colab_type": "code",
    "id": "mjl8yCrp2GFq",
    "outputId": "0d4d5030-6bf5-4c17-e88c-1021d93333d7"
   },
   "outputs": [
    {
     "data": {
      "image/png": "[encoded data removed]",
      "text/plain": [
       "<Figure size 540x540 with 12 Axes>"
      ]
     },
     "metadata": {
      "needs_background": "light"
     },
     "output_type": "display_data"
    }
   ],
   "source": [
    "sns.pairplot(df[['mpg', 'model_year', 'displacement', 'name']], plot_kws={\"s\": 5});"
   ]
  },
  {
   "cell_type": "markdown",
   "metadata": {
    "colab_type": "text",
    "id": "Yi00TR0A0YP9"
   },
   "source": [
    "## Exploratory Data Analysis\n",
    "\n",
    "- Quickly describe a dataset, including data types, missing values and basic descriptive statistics\n",
    "\n",
    "- df.info()\n",
    "\n",
    "- df.describe()\n",
    "\n",
    "- df.dtypes\n",
    "\n",
    "- df.isnull().sum()\n",
    "- Rename columns (series) in a DataFrame\n",
    "  - ```python\n",
    "  df.columns = ['new', 'full', 'list', 'of', 'column', 'names']\n",
    "  ```\n",
    "  - ```python\n",
    "  df.rename(columns={'single_old_column': 'new_name', 'other_old_column': 'new_name2'}, inplace=True)\n",
    "  ```\n",
    "  \n"
   ]
  },
  {
   "cell_type": "markdown",
   "metadata": {
    "colab_type": "text",
    "id": "etvh1oug0n-M"
   },
   "source": [
    "## Central Limit Theorm & Confidence Intervals\n",
    "\n",
    "- Define and describe sampling distribution.\n",
    "  - For some random variable x in a population: if we take the mean of a random sample of size n, and repeat that process for every possible sample of size n, the distribution of those means is called the sampling distribution of x. \n",
    "  \n",
    "  \n",
    "- Standard error of the mean.\n",
    "  - The standard error of the mean quantifies the spread of the sampling distribution. \n",
    "\n",
    "         \n",
    "- Describe the Central Limit Theorem.\n",
    "  - The Central Limit Theorem states that the sampling distribution of the sample means approaches a normal distribution as the sample size gets larger — no matter what the shape of the population distribution.\n",
    "  \n",
    "  \n",
    "- Describe and calculate confidence intervals for the mean.\n",
    "  - A confidence interval describes the set of possible values for a parameter, based on a statistic. It is calculated by taking our statistic and adding/subtracting an error term based on the degree of certainty we want\n",
    "$$ \\text{CI} = \\text{point estimate} \\pm \\text{multiplier} \\cdot \\text{standard error} $$\n",
    "$$\\text{CI} = \\bar{x} \\pm z_{\\alpha/2} \\cdot \\frac{s}{\\sqrt{n}}$$\n",
    "  - If we want our confidence level — i.e., how confident we are that the true value of the parameter lies within the confidence interval — to be:\n",
    "    - **90%**: The z-score multiplier should be **z = 1.645**, because 90% of the area under the $Z \\sim N(0, 1)$ normal distribution lies between -1.645 and 1.645.\n",
    "    - **95%**: The z-score multiplier should be **z = 1.96**, because 95% of the area under the $Z \\sim N(0, 1)$ normal distribution lies between -1.96 and 1.96.\n",
    "    - **99%**: The z-score multiplier should be **z = 2.575**, because 99% of the area under the $Z \\sim N(0, 1)$ normal distribution lies between -2.575 and 2.575.\n",
    "    \n",
    "    \n",
    "- Interpret the meaning of the confidence interval\n",
    "\n",
    "  - We can have a certain degree of confidence that our population parameter lies within a certain range of our calculated sample statistic, called the confidence interval. \n",
    "  \n",
    "  - For example, if we calculate the 95% confidence interval for our sample mean, we are saying we can be 95% confident that the true population mean falls within that interval. "
   ]
  },
  {
   "cell_type": "markdown",
   "metadata": {
    "colab_type": "text",
    "id": "RwOTqNm4sSaE"
   },
   "source": [
    "## Linear Regression\n",
    "- Understand modeling, inference from models, and prediction\n",
    "  - Modeling: defining a relationship between variables which can then be used for inference or predictions. \n",
    "  - Inference: Using our model to draw conclusions or to support a claim.\n",
    "  - Prediction: Using our model to guess the outcome of a new observation, given the predictor variables\n",
    "- Understand the framework of regression modeling\n",
    "- Understand simple linear regression and linear relationships between variables\n",
    "  - Linear relationships between variables: proportionality, direct effect, consistent relationship.\n",
    "  - Simple Linear Regression: Linear regression is a statistical method that allows us to study and summarize relationships between variables. Simple Linear regression uses only one predictor variable.\n",
    "- Learn how to find the best slope and intercept for simple linear regression\n",
    "    - Given variables:\n",
    "      - $\\bar{y}$ : the sample mean of observed values $Y$\n",
    "      - $\\bar{x}$ : the sample mean of observed values $X$\n",
    "      - $s_Y$ : the sample standard deviation of observed values $Y$\n",
    "      - $s_X$ : the sample standard deviation of observed values $X$\n",
    "      - $r_{XY}$ : the sample Pearson correlation coefficient between observed $X$ and $Y$\n",
    "  \n",
    "    - The equations for the intercept and slope that minimize the RSS is:\n",
    "    $$ \\hat{\\beta}_0 = \\bar{y} - \\hat{\\beta}_1 \\bar{x} $$\n",
    "    \n",
    "   $$ \\hat{\\beta}_1 = r_{XY} \\frac{s_Y}{s_X}$$\n",
    "   \n",
    "- Be able to interpret the results of simple linear regression\n",
    "  - Slope: For every single unit increase in our predictor variable, we can expect an increase in our target equal to the slope.\n",
    "  - Intercept: When the value of our predictor is 0, the base prediction we make is the intercept\n",
    "  "
   ]
  },
  {
   "cell_type": "markdown",
   "metadata": {
    "colab_type": "text",
    "id": "RwOTqNm4sSaE"
   },
   "source": [
    "- There are some **critical assumptions** involved in SLR that **you should be aware of**:\n",
    "  1. **Linearity:** Y and X must have an approximately linear relationship.\n",
    "  2. **Independence:** Errors (residuals) $\\varepsilon_i$ and $\\varepsilon_j$ must be independent of one another for any $i \\neq j$.\n",
    "  3. **Normality:** The errors (residuals) follow a Normal distribution with mean 0.\n",
    "  4. **Equality of Variances** (Homoscedasticity of errors): The errors (residuals) should have a roughly consistent pattern, regardless of the value of X. (There should be no discernable relationship between X and the residuals.)\n",
    "  \n",
    "\n",
    "- Like SLR, there are assumptions associated with MLR. Luckily, they're quite similar to the SLR assumptions.\n",
    "  1. **Linearity:** $Y$ have an approximately linear relationship with each independent $X_i$.\n",
    "  2. **Independence:** Errors (residuals) $\\varepsilon_i$ and $\\varepsilon_j$ must be independent of one another for any $i \\ne j$.\n",
    "  3. **Normality:** The errors (residuals) follow a Normal distribution with mean 0.\n",
    "  4. **Equality of Variances**: The errors (residuals) should have a roughly consistent pattern, regardless of the value of the $X_i$ predictors. (There should be no discernable relationship between the $X$ predictors and the residuals.)\n",
    "  5. **Independence of Predictors**: The independent variables $X_i$ and $X_j$ must be independent of one another for any $i \\ne j$.\n",
    "\n",
    "### $$\\hat{y} = X \\beta$$\n",
    "\n",
    "**Note:** $\\beta$ in the formula above is a *vector* of coefficients now, rather than a single value. In different notation we could write $\\hat{y}$ calculated with:\n",
    "\n",
    "### $$ \\hat{y} = \\beta_0 + \\beta_1 x_1 + \\beta_2 x_2 + ... + \\beta_p x_p $$"
   ]
  },
  {
   "cell_type": "markdown",
   "metadata": {
    "colab_type": "text",
    "id": "t3D_Sii3NJGr"
   },
   "source": [
    "## Model Evaluation Metrics\n",
    "\n",
    "- **Residual Sum of Squares**: Identical to the sum of squared error (SSE). Take the difference between each prediction and the actual value, square it, and sum all of those squares.\n",
    "\n",
    "$$RSS = \\sum_{i=1}^n (Y_i - \\hat{Y}_i)^2 $$\n",
    "\n",
    "- **Mean Squared Error**: Our RSE/SSE from above, divided by the number of observations in our dataset.\n",
    "\n",
    "$$MSE(\\mathbf{y},\\hat{\\mathbf{y}}) = \\frac{1}{n}\\sum_{i=1}^n(y_i-\\hat{y}_i)^2$$\n",
    "\n",
    "- **Root Mean Squared Error**: Take the square root of our MSE\n",
    "\n",
    "$$RMSE(\\mathbf{y},\\hat{\\mathbf{y}}) = \\sqrt{\\frac{1}{n}\\sum_{i=1}^n(y_i-\\hat{y}_i)^2}$$\n",
    "\n",
    "- **Coefficient of Determination, $R^2$**: quantifies the amount of variance that our model explains *compared to the null model* (predicting the mean everytime). A model with a positive $R^2$ is said to explain more of the data's variance than our null model, while a negative $R^2$ indicates our model performs worse than the null model.\n",
    "\n",
    "$$R^2 = \\frac{\\text{Explained variance}}{\\text{Total variance}} = 1 - \\frac{\\sum_{i=1}^n(y_i - \\hat{y}_i)^2}{\\sum_{i=1}^n(y_i - \\bar{y})^2} = 1 - \\frac{SSE}{SST} $$"
   ]
  },
  {
   "cell_type": "markdown",
   "metadata": {
    "colab_type": "text",
    "id": "E7MiyD2uNJGv"
   },
   "source": [
    "## Decomposing error, $E[SSE]$\n",
    "\n",
    "The expected values of SSE, decomposes into 3 components:\n",
    "\n",
    "1. **Bias** (aka $bias^2$)\n",
    "> $(E[\\hat{y}] - y)^2$\n",
    ">\n",
    "> How much predicted values differ from true values.\n",
    "1. **Variance** \n",
    "> $E[(\\hat{y} - E[\\hat{y}])^2]$\n",
    ">\n",
    "> How much do predictions differ. \n",
    "1. **$\\sigma^2$**: Irreducible Error\n",
    "\n",
    "<center><h2> $E[SSE] = \\text{bias}^2 + variance + \\sigma^2$</h2></center>\n",
    "\n",
    "\n",
    "> **Irreducible error(s):**\n",
    ">\n",
    "> - Error that cannot be reduced by model improvement.\n",
    "> - Error due to randomness or natural variability in an existing system."
   ]
  },
  {
   "cell_type": "markdown",
   "metadata": {
    "colab_type": "text",
    "id": "cFTqvnsqNJGy"
   },
   "source": [
    "## Bias-Variance Terminology\n",
    "\n",
    "- **Bias**: The average difference between our model $\\hat{y}$ and the truth $y$\n",
    "  - No bias: On average, our predictions are correct.\n",
    "  - As bias increases, our predictions, on average, get more and more incorrect.\n",
    "  - High bias: Low accuracy model, underfit.\n",
    "\n",
    "- **Variance**: The amount of variation in our model.\n",
    "  - No variance: Our predictions consistently hit the same value.\n",
    "  - As variance increases, our predictions get more and more spread out.\n",
    "  - High variance: High accuracy model, overfit.\n",
    "\n",
    "![Ridge vs. Variance](https://www.kdnuggets.com/wp-content/uploads/bias-and-variance.jpg)"
   ]
  },
  {
   "cell_type": "markdown",
   "metadata": {
    "colab_type": "text",
    "id": "J5TzyZCfNJG0"
   },
   "source": [
    "## Increasing Model Complexity\n",
    "- Bias decreases\n",
    "- Variance increases (the model is more squiggly)\n",
    "\n",
    "![What does this look like?](https://cdn-images-1.medium.com/max/1600/1*x8CBE7eAbaifwM15KNHuUA.png)"
   ]
  },
  {
   "cell_type": "markdown",
   "metadata": {
    "colab_type": "text",
    "id": "2warhQ5HNJHH"
   },
   "source": [
    "## K-Fold Cross-Validation\n",
    "\n",
    "---\n",
    "\n",
    "K-fold cross-validation takes the idea of a single train/test split and expands it to *multiple tests* across different train/test splits of your data.\n",
    "\n",
    "For example, if you determine your training set will contain 80 percent of the data and your testing set will contain the other 20 percent, you could have five different 80/20 splits in which the test set in each is a different set of observations. We have:\n",
    "- Five (K=5) training sets.\n",
    "- Five (K=5) corresponding testing sets.\n",
    "\n",
    "**K-fold cross-validation builds K models — one for each train/test pair — and evaluates those models on each respective test set.**\n",
    "\n",
    "\n",
    "![image.png](https://i.snag.gy/o1lLcw.jpg)\n"
   ]
  },
  {
   "cell_type": "markdown",
   "metadata": {
    "colab_type": "text",
    "id": "FLELemOHNJHJ"
   },
   "source": [
    "## Hold-Out Sets (Test set first, then cross validation on the training set)\n",
    "\n",
    "\n",
    "![https://scikit-learn.org/stable/_images/grid_search_cross_validation.png](https://scikit-learn.org/stable/_images/grid_search_cross_validation.png)\n",
    "---\n",
    "\n",
    "To create a hold-out set, you:\n",
    "\n",
    "1) **Split data into a large training and a small testing set. This small testing set will be the \"hold-out\" set.**\n",
    "\n",
    "2) **For a set of different model hyperparameters:**\n",
    "\n",
    "    1) Set up the model.\n",
    "    2) Cross-validate the current model on the training data.\n",
    "\n",
    "3) **Select the model that performed best using cross-validation on the training data.**\n",
    "\n",
    "4) **Perform a final test of that model on the original \"hold-out\" test set.**\n",
    "\n",
    "> **Note:** The \"hold-out\" method is more conservative, but also requires you to have more data. With smaller data sets it can be infeasible.\n",
    "\n",
    "\n",
    "---"
   ]
  },
  {
   "cell_type": "markdown",
   "metadata": {
    "colab_type": "text",
    "id": "ao-5BP8zd-4i"
   },
   "source": [
    "## Hypothesis Testing\n",
    "---\n",
    "#### For basic experiments\n",
    "\n",
    "- Define the null and alternative hypotheses.\n",
    "  - The null hypothesis is the default position we take, stating that there is no significant difference between two populations. \n",
    "  - The alternative hypothesis is the assertion we are trying to test, stating that there is a significant difference between our two populations.\n",
    "- Perform a two-sample t-test.\n",
    "\n",
    "- Define the t-statistics and p-value.\n",
    "  - A t-statistic is a standardized metric measuring the difference between two samples, accounting for the variance of the two samples. \n",
    "### $$t = \\frac{\\bar{x}_E - \\bar{x}_C}{\\sqrt {s^2 (\\frac{1}{n_E} + \\frac{1}{n_C})}}$$\n",
    "<br>\n",
    "\n",
    "    - $\\bar{x}_E$ is the mean of our experimental group's sample measurements and $\\bar{x}_C$ is the mean of our control group's sample measurements.\n",
    "    \n",
    "    - $n_E$ and $n_C$ are the number of observations in each group. \n",
    "    \n",
    "    - The $s^2$ denotes our *sample variance*. We are assuming equal variances in our experimental and control groups in the overall population. There is another way to calculate the t-test where equal variance is not assumed, but, in our case, it is a reasonable assumption.\n",
    "    \n",
    "    <br>\n",
    "    $$ s^2 = \\text{sample variance} = \\frac{\\sum_{i=1}^{n_E} (x_i - \\bar{x}_E)^2 + \\sum_{j=1}^{n_C} (x_j - \\bar{x}_C)^2}{ n_E + n_C -2} $$"
   ]
  },
  {
   "cell_type": "markdown",
   "metadata": {
    "colab_type": "text",
    "id": "ao-5BP8zd-4i"
   },
   "source": [
    "  -  A p-value gives us insight into the significance of our results, and describes the probability that our results could have been achieved through random sampling. This p-value is then compared to our pre-defined level of significance to determine if the null-hypothesis is rejected or not. \n",
    "    - When our p-value is less than our significance level, meaning that the probability of achieving our results from random sampling is low enough, we can reject the null hypothesis\n",
    "    - If the p-value is greater than our significance level, we fail to reject the null hypothesis because the chance that our results are due to random sampling is to high.\n",
    "<br>\n",
    "- List the steps of hypothesis testing:\n",
    "    1. Construct a null hypothesis and its complement, the alternative hypothesis. The null hypothesis in an experiment is generally that there is no significant difference between the treatment group and the control group.\n",
    "    2. Specify a level of significance.\n",
    "    3. Calculate your point estimate(s).\n",
    "    4. Calculate your test statistic.\n",
    "    5. Find your $p$-value and make a conclusion."
   ]
  }
 ],
 "metadata": {
  "colab": {
   "collapsed_sections": [],
   "name": "quiz_2_review.ipynb",
   "provenance": [],
   "version": "0.3.2"
  },
  "kernelspec": {
   "display_name": "Python 3",
   "language": "python",
   "name": "python3"
  },
  "language_info": {
   "codemirror_mode": {
    "name": "ipython",
    "version": 3
   },
   "file_extension": ".py",
   "mimetype": "text/x-python",
   "name": "python",
   "nbconvert_exporter": "python",
   "pygments_lexer": "ipython3",
   "version": "3.7.7"
  }
 },
 "nbformat": 4,
 "nbformat_minor": 4
}
