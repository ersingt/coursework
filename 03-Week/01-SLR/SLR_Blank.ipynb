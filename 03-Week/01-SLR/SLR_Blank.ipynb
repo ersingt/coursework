{
 "cells": [
  {
   "cell_type": "markdown",
   "metadata": {},
   "source": [
    "# In-class Linear Regression Demo\n",
    "## Learning Objectives:\n",
    "- Identify a Target Variable\n",
    "- Identify independent and explanatory variables\n",
    "- Explore the Scikit-learn linear regression API: `.fit`/`.predict`\n",
    "- Visualize our predictions\n",
    "- Find our residuals\n",
    "- Compute MSE\n",
    "- Compute and interpret R-squared"
   ]
  },
  {
   "cell_type": "code",
   "execution_count": null,
   "metadata": {
    "ExecuteTime": {
     "end_time": "2018-05-11T19:33:13.950032Z",
     "start_time": "2018-05-11T19:33:06.365125Z"
    }
   },
   "outputs": [],
   "source": [
    "import numpy as np\n",
    "import pandas as pd\n",
    "import matplotlib.pyplot as plt\n",
    "import seaborn as sns\n",
    "%matplotlib inline"
   ]
  },
  {
   "cell_type": "markdown",
   "metadata": {},
   "source": [
    "We'll use a dataset from [this website](http://users.stat.ufl.edu/~winner/datasets.html)"
   ]
  },
  {
   "cell_type": "markdown",
   "metadata": {},
   "source": [
    "## Single Linear Regression:"
   ]
  },
  {
   "cell_type": "code",
   "execution_count": null,
   "metadata": {
    "ExecuteTime": {
     "end_time": "2018-05-11T19:33:14.193324Z",
     "start_time": "2018-05-11T19:33:13.953783Z"
    }
   },
   "outputs": [],
   "source": [
    "# LSD and Math Scores\n",
    "# http://users.stat.ufl.edu/~winner/data/lsd.txt\n",
    "lsd = pd.read_csv('http://users.stat.ufl.edu/~winner/data/lsd.dat',\n",
    "            names=['LSD','Math'], sep='\\s+',\n",
    "            header=None)"
   ]
  },
  {
   "cell_type": "code",
   "execution_count": null,
   "metadata": {
    "ExecuteTime": {
     "end_time": "2018-05-11T19:33:14.217033Z",
     "start_time": "2018-05-11T19:33:14.202354Z"
    }
   },
   "outputs": [],
   "source": [
    "# check out the data frame"
   ]
  },
  {
   "cell_type": "code",
   "execution_count": null,
   "metadata": {
    "ExecuteTime": {
     "end_time": "2018-05-11T19:33:14.561677Z",
     "start_time": "2018-05-11T19:33:14.225825Z"
    }
   },
   "outputs": [],
   "source": [
    "# get the info on the data"
   ]
  },
  {
   "cell_type": "code",
   "execution_count": null,
   "metadata": {},
   "outputs": [],
   "source": [
    "# shae of the data"
   ]
  },
  {
   "cell_type": "code",
   "execution_count": null,
   "metadata": {
    "ExecuteTime": {
     "end_time": "2018-05-08T16:34:22.605085Z",
     "start_time": "2018-05-08T16:34:22.600068Z"
    }
   },
   "outputs": [],
   "source": [
    "# summary/descriptive statistics of the data"
   ]
  },
  {
   "cell_type": "code",
   "execution_count": null,
   "metadata": {},
   "outputs": [],
   "source": [
    "# missing values"
   ]
  },
  {
   "cell_type": "code",
   "execution_count": null,
   "metadata": {},
   "outputs": [],
   "source": [
    "# create x and y"
   ]
  },
  {
   "cell_type": "code",
   "execution_count": null,
   "metadata": {},
   "outputs": [],
   "source": [
    "# scatter plot of minimum and maximum values of x and mean of y "
   ]
  },
  {
   "cell_type": "code",
   "execution_count": null,
   "metadata": {},
   "outputs": [],
   "source": [
    "# average math score\n"
   ]
  },
  {
   "cell_type": "code",
   "execution_count": null,
   "metadata": {},
   "outputs": [],
   "source": [
    "# type of x"
   ]
  },
  {
   "cell_type": "code",
   "execution_count": null,
   "metadata": {
    "ExecuteTime": {
     "end_time": "2018-05-11T19:33:15.145307Z",
     "start_time": "2018-05-11T19:33:15.136009Z"
    }
   },
   "outputs": [],
   "source": [
    "# Annoying transformation need if you only have one feature. No idea why they won't fix it.\n",
    "\n",
    "\n",
    " # Not stricly necessary"
   ]
  },
  {
   "cell_type": "markdown",
   "metadata": {},
   "source": [
    "Stack Overflow thread - [What does -1 mean in numpy reshape?](https://stackoverflow.com/questions/18691084/what-does-1-mean-in-numpy-reshape)"
   ]
  },
  {
   "cell_type": "code",
   "execution_count": null,
   "metadata": {},
   "outputs": [],
   "source": [
    "# type of x after reshape"
   ]
  },
  {
   "cell_type": "code",
   "execution_count": null,
   "metadata": {
    "ExecuteTime": {
     "end_time": "2018-05-11T19:33:15.171263Z",
     "start_time": "2018-05-11T19:33:15.153497Z"
    }
   },
   "outputs": [],
   "source": [
    "# Define a linear regression model\n"
   ]
  },
  {
   "cell_type": "code",
   "execution_count": null,
   "metadata": {
    "ExecuteTime": {
     "end_time": "2018-05-11T19:33:15.208070Z",
     "start_time": "2018-05-11T19:33:15.175313Z"
    }
   },
   "outputs": [],
   "source": [
    "# Fit the model\n"
   ]
  },
  {
   "cell_type": "code",
   "execution_count": null,
   "metadata": {
    "ExecuteTime": {
     "end_time": "2018-05-11T19:33:15.228071Z",
     "start_time": "2018-05-11T19:33:15.216159Z"
    }
   },
   "outputs": [],
   "source": [
    "# What is the coefficient?\n"
   ]
  },
  {
   "cell_type": "code",
   "execution_count": null,
   "metadata": {
    "ExecuteTime": {
     "end_time": "2018-05-11T19:33:15.240274Z",
     "start_time": "2018-05-11T19:33:15.232975Z"
    }
   },
   "outputs": [],
   "source": [
    "# What is the intercept?\n"
   ]
  },
  {
   "cell_type": "code",
   "execution_count": null,
   "metadata": {},
   "outputs": [],
   "source": [
    "# Let's plot the prediction line\n"
   ]
  },
  {
   "cell_type": "code",
   "execution_count": null,
   "metadata": {
    "ExecuteTime": {
     "end_time": "2018-05-11T19:33:15.252622Z",
     "start_time": "2018-05-11T19:33:15.243084Z"
    }
   },
   "outputs": [],
   "source": [
    "# Let's make predictions on our data\n"
   ]
  },
  {
   "cell_type": "code",
   "execution_count": null,
   "metadata": {
    "ExecuteTime": {
     "end_time": "2018-05-11T19:33:15.495629Z",
     "start_time": "2018-05-11T19:33:15.258536Z"
    }
   },
   "outputs": [],
   "source": [
    "# Plot those predicted values, which is the same as plotting the model:\n",
    "# Plot on on top of the actual values\n"
   ]
  },
  {
   "cell_type": "code",
   "execution_count": null,
   "metadata": {
    "ExecuteTime": {
     "end_time": "2018-05-11T19:33:15.503647Z",
     "start_time": "2018-05-11T19:33:15.498992Z"
    }
   },
   "outputs": [],
   "source": [
    "# Calculate residuals with those predicted values:\n"
   ]
  },
  {
   "cell_type": "code",
   "execution_count": null,
   "metadata": {
    "ExecuteTime": {
     "end_time": "2018-05-11T19:33:15.738303Z",
     "start_time": "2018-05-11T19:33:15.506899Z"
    }
   },
   "outputs": [],
   "source": [
    "# Plot the residuals by themselves.\n",
    "# Are they normally distributed? Who knows.\n"
   ]
  },
  {
   "cell_type": "code",
   "execution_count": null,
   "metadata": {
    "ExecuteTime": {
     "end_time": "2018-05-11T19:33:15.753425Z",
     "start_time": "2018-05-11T19:33:15.743420Z"
    }
   },
   "outputs": [],
   "source": [
    "# Let's get the MSE\n",
    "\n"
   ]
  },
  {
   "cell_type": "code",
   "execution_count": null,
   "metadata": {},
   "outputs": [],
   "source": [
    "# the baseline of a linear regression model\n"
   ]
  },
  {
   "cell_type": "code",
   "execution_count": null,
   "metadata": {},
   "outputs": [],
   "source": [
    "# MSE of the baseline (null model)"
   ]
  },
  {
   "cell_type": "code",
   "execution_count": null,
   "metadata": {},
   "outputs": [],
   "source": [
    "# RMSE of the baseline (null model)"
   ]
  },
  {
   "cell_type": "code",
   "execution_count": null,
   "metadata": {
    "ExecuteTime": {
     "end_time": "2018-05-11T19:33:15.801227Z",
     "start_time": "2018-05-11T19:33:15.785365Z"
    }
   },
   "outputs": [],
   "source": [
    "# What is rhe R-squared score?\n",
    "\n"
   ]
  }
 ],
 "metadata": {
  "kernelspec": {
   "display_name": "Python 3",
   "language": "python",
   "name": "python3"
  },
  "language_info": {
   "codemirror_mode": {
    "name": "ipython",
    "version": 3
   },
   "file_extension": ".py",
   "mimetype": "text/x-python",
   "name": "python",
   "nbconvert_exporter": "python",
   "pygments_lexer": "ipython3",
   "version": "3.7.3"
  },
  "toc": {
   "nav_menu": {},
   "number_sections": true,
   "sideBar": true,
   "skip_h1_title": false,
   "title_cell": "Table of Contents",
   "title_sidebar": "Contents",
   "toc_cell": false,
   "toc_position": {},
   "toc_section_display": true,
   "toc_window_display": false
  },
  "varInspector": {
   "cols": {
    "lenName": 16,
    "lenType": 16,
    "lenVar": 40
   },
   "kernels_config": {
    "python": {
     "delete_cmd_postfix": "",
     "delete_cmd_prefix": "del ",
     "library": "var_list.py",
     "varRefreshCmd": "print(var_dic_list())"
    },
    "r": {
     "delete_cmd_postfix": ") ",
     "delete_cmd_prefix": "rm(",
     "library": "var_list.r",
     "varRefreshCmd": "cat(var_dic_list()) "
    }
   },
   "types_to_exclude": [
    "module",
    "function",
    "builtin_function_or_method",
    "instance",
    "_Feature"
   ],
   "window_display": false
  }
 },
 "nbformat": 4,
 "nbformat_minor": 2
}
