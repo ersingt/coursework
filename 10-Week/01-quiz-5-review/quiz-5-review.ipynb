{
 "cells": [
  {
   "cell_type": "markdown",
   "metadata": {},
   "source": [
    "# **Quiz 5 Review**\n",
    "-----"
   ]
  },
  {
   "cell_type": "markdown",
   "metadata": {},
   "source": [
    "# Week 8 Material (Unsupervised Learning)\n",
    "---"
   ]
  },
  {
   "cell_type": "markdown",
   "metadata": {},
   "source": [
    "# K-Means Clustering & DBSCAN\n",
    "\n",
    "### Define Supervised Learning and Unsupervised Learning.\n",
    "**Supervised**\n",
    "- Known Target (Y) variable that we are trying to use the X feature matrix in order to predict.\n",
    "**Unsupervised**\n",
    "- Target variable is unknown and we are trying to better understand how our X features relate to themselves.\n",
    "\n",
    "### Identify strategies for Unsupervised Learning.\n",
    "- Pick a proxy Y, then do supervised learning.\n",
    "    - Proxy target maybe something like who would a resident vote for had they voted.\n",
    "    \n",
    "- Use unsupervised learning as a stepping stone to supervised learning.\n",
    "    - Create marketing segmentations for product consumers.\n",
    "    \n",
    "- Try to organize Observations by features.\n",
    "    - Dimensionality reduction instead of using all 20 or 100 features, are there common 5 or 6 combinations that can be represented by clusters/eigenvectors.\n",
    "    \n",
    "    \n",
    "    \n",
    "### Identify problems when Unsupervised Learning can be applied.\n",
    "- **Network Analysis** : This feeds into anomaly detection and identifying aspects of a network that just don't fit.\n",
    "\n",
    "- **Dimensionality reduction (Principal Component Analysis)** : A very powerful and useful tactic for reducing the complexity of your models is dimensionality reduction.  This finds a way to shrink down the number of features we have by finding the combinations of features and representing features as combinations. \"Rather than having 10 weather features, we figure out types of days \"Hot and Humid\", \"Stormy\", etc and we use those rather than all the other features like air pressure, temperature, precipitation, wind speed.\n",
    "\n",
    "- **Clustering** : Pretty straight forward, we are breaking our data up into clusters or dividing by similarities.  This is greater for inference because we break our data up, but it is up to the data scientist to attempt to understand the core aspects of the cluster.\n",
    "\n",
    "- **Topic Modeling** : Topic modeling is pretty cool in that you can, apply it to text data and identify core groups of words that are used together and thus interpret them and assign topics.\n",
    "\n",
    "\n",
    "----\n",
    "\n",
    "### Understand basic Unsupervised clustering problems.\n",
    "- We can apply clustering in order to identify or understand groupings or patterns in our data that are potentially undefined or unknown yet...\n",
    "\n",
    "### Perform a K-Means Clustering Analysis.\n",
    "- K-Means clustering analysis is used to identify/create K number of cluster.\n",
    "- This is an iterative algorithm that updates itself until coming to a convergence (or exceeds number of iterations)\n",
    "    1. K number of centroids are randomly initialized on the data.\n",
    "    2. All values/observations are assigned to the centroid that they are closest to.  \n",
    "    3. The values/observations have now been clustered in the first iteration.  \n",
    "    4. For each of these clusters, a center value is calculated.\n",
    "    5. The centroid then moves to that center value.\n",
    "    6. All values/observations then re-calculate which of the new centroids they are closest to and are then re-clustered.\n",
    "    7. This process repeats until the centroid converges (doesn't move between iterations) or exceeds the maximum number of iterations passed.\n",
    "\n",
    "\n",
    "### Evaluate Clusters for fit.\n",
    "\n",
    "**Dense clusters and/or clusters with large separation are good fits.**\n",
    "- Dense clusters are the result of having a very small distance between points in the cluster.\n",
    "- Inertia : Used to evaluate density of a cluster\n",
    "\n",
    "- Clusters with large separation have a large boundary, with few or no points separating the edge of the cluster.\n",
    "- Silhouette Score : Used to evaluate the distance between clusters.\n",
    "\n",
    "_Unlike, previously defined metrics, a higher score is not always best and these terms can be biased given our data and the clustering type and hyperparameters being used._"
   ]
  },
  {
   "cell_type": "markdown",
   "metadata": {},
   "source": [
    "#  DBSCAN and Cluster Comparison"
   ]
  },
  {
   "cell_type": "markdown",
   "metadata": {},
   "source": [
    "\n",
    "### What is DBSCAN?\n",
    "- Density Based Spatial Clustering of Applications with Noise\n",
    "\n",
    "\n",
    "### How does DBSCAN work?\n",
    "- DBSCAN requires two parameters by which it builds the clusters off of.\n",
    "    1. Epsilon : The radius (distance) from a point by which other points will be considered.\n",
    "    2. Min Samples : Number of samples needed to start a cluster. \n",
    "\n",
    "1. DBSCAN starts by picking a random value/observation to begin from. A \"hub node\" so to speak.\n",
    "2. From this \"Hub Node\" it used epsilon to create a reach distance of all other points to consider or try to draw into its cluster.\n",
    "3. If there are a number of observations equal to or greater than the Min Samples passed that exist within the drawn reach created by Epsilon, a cluster will be created. \n",
    "4. Once a cluster begins, it starts to \"swallow\" other observations and amass in size.\n",
    "5. Once a point is added to a cluster it then uses epsilon to identify all the non-clustered/swallowed points that exists within its epsilon reach and adds those to the cluster. \n",
    "6. Once a clusters reach is exhausted (there are no unclustered points within the epsilon reach of any of the clustered values) a new, un-swallowed, \"Hub Node\" is identified and the clustering process starts over again, swallowing all unclustered values/observations.\n",
    "\n",
    "### How does DBSCAN compare to K-Means and Hierarchical Clustering?\n",
    "\n",
    "**K-Means**\n",
    "- Con : Not very good for identifying data that exists in odd shapes or patterns.  \n",
    "- Pro : Good for Gaussian/normally distributed data.\n",
    "- Pro : Customizable in that we can specify the number of clusters we want to end with up front.\n",
    "\n",
    "**DBSCAN**\n",
    "- Pro : Useful for dense data\n",
    "- Pro : Good for non-normally distributed data (oddly shaped clusters)\n",
    "- Con : Requires black box tuning of Epsilon and Min Samples in order to create the ideally representative clusters.  "
   ]
  },
  {
   "cell_type": "markdown",
   "metadata": {},
   "source": [
    "# Principal Component Analysis\n",
    "\n",
    "\n",
    "### Differentiate between feature elimination and feature extraction.\n",
    "- Feature eliminate we **drop** features from our model.\n",
    "- With feature extraction we **combined** our existing features to make new features that represent the same data but in a different way.  Because all the \"new\" features contain elements of previous features we can drop some of the new features without losing much or any of the variance they're capable of explaining.\n",
    "\n",
    "### Describe the PCA algorithm.\n",
    "- PCA uses EigenVectors and EigenValues in order to identify the directions within the data that explain the combination of the data.\n",
    "    - The way that I comprehend this is think about a line of best fit for a linear regression model, it is designed to explain the relationship between two (or more features).  The line of best fit is a single dimension explaining two or more dimensions.  You can think of this as PC1.  PC2 is that normal error around the line that does not follow the line of best fit perfectly.\n",
    "    \n",
    "    \n",
    "### Identify use cases for PCA.\n",
    "- PCA is used for dimensionality reduction\n",
    "    - Image processing\n",
    "    - Many variables with high multicollinearity\n",
    "    - 100 + variables\n",
    "    - Situations where number of features are greater than number of observations.\n",
    "\n",
    "### Implement PCA in scikit-learn.\n",
    "### Calculate and interpret proportion of explained variance.\n",
    "\n"
   ]
  },
  {
   "cell_type": "code",
   "execution_count": 7,
   "metadata": {},
   "outputs": [],
   "source": [
    "import pandas as pd\n",
    "import numpy as np\n",
    "\n",
    "from sklearn.decomposition import PCA\n",
    "from sklearn.datasets import load_boston\n",
    "\n",
    "bost = load_boston()\n",
    "boston = pd.DataFrame(data = bost.data, columns = bost.feature_names)"
   ]
  },
  {
   "cell_type": "code",
   "execution_count": 14,
   "metadata": {},
   "outputs": [],
   "source": [
    "pca = PCA()\n",
    "pca = pca.fit(boston)"
   ]
  },
  {
   "cell_type": "code",
   "execution_count": 16,
   "metadata": {},
   "outputs": [
    {
     "name": "stdout",
     "output_type": "stream",
     "text": [
      "Explained variance:             [8.05814643e-01 1.63050854e-01 2.13486883e-02 6.95695814e-03\n",
      " 1.30786367e-03 7.27742761e-04 4.20024207e-04 2.48721489e-04\n",
      " 8.53904192e-05 3.08110199e-05 6.65495193e-06 1.56785857e-06\n",
      " 7.96571657e-08]\n",
      "Cumulative explained variance:  [0.80581464 0.9688655  0.99021419 0.99717114 0.99847901 0.99920675\n",
      " 0.99962677 0.9998755  0.99996089 0.9999917  0.99999835 0.99999992\n",
      " 1.        ]\n"
     ]
    }
   ],
   "source": [
    "var_exp  =  pca.explained_variance_ratio_\n",
    "print('Explained variance:            ', var_exp)\n",
    "\n",
    "cum_var_exp = np.cumsum(var_exp)\n",
    "print('Cumulative explained variance: ', cum_var_exp)"
   ]
  },
  {
   "cell_type": "code",
   "execution_count": null,
   "metadata": {},
   "outputs": [],
   "source": [
    "# we can get this down to 3 principal components and explain almost\n",
    "# all the variance that the original 12 features could"
   ]
  },
  {
   "cell_type": "markdown",
   "metadata": {},
   "source": [
    "# Recommender Systems"
   ]
  },
  {
   "cell_type": "markdown",
   "metadata": {},
   "source": [
    "----\n",
    "\n",
    "\n",
    "### Explain common recommendation techniques\n",
    "**Collaborative based**\n",
    "- Based on a users behavior\n",
    "    - User Based : Compares similarities of users to other users. \"Other people that enjoyed The Office also enjoyed Parks and Rec\"\n",
    "    - Similarity vector reduces the original rating of dissimilar users the most and similar user the least \n",
    "\n",
    "    \n",
    "**Content based**\n",
    "- Based on Items attributes\n",
    "    - Item Based : Measures similarities between items that a user has interacted with in the past. \"Based on your interest in the Harry Potter books you may like to read The Lord of the Rings\"\n",
    "    \n",
    "### Types of data used for recommendation, and their tradeoffs\n",
    "**Explicit**\n",
    "- Data that you ask a user to provide\n",
    "    - User rating\n",
    "    - User Search\n",
    "    - User Ranking\n",
    "    - Wish Lists\n",
    "\n",
    "**Implicit**\n",
    "- Data which you collect from user interactions.\n",
    "    - How does a user click through a site\n",
    "    - How long do they stay on a specific page\n",
    "    - List of movies an individual has watched.\n",
    "    - How quickly did they go through a series.\n"
   ]
  },
  {
   "cell_type": "markdown",
   "metadata": {},
   "source": [
    "# Week 9 Material (Time Series)\n",
    "---"
   ]
  },
  {
   "cell_type": "markdown",
   "metadata": {},
   "source": [
    "# 9.01 Intro to Time Series Data"
   ]
  },
  {
   "cell_type": "markdown",
   "metadata": {},
   "source": [
    "### 1. Understand how to turn the date into the index\n",
    "### 2. Understand and implement the following pandas methods:\n",
    "- `.rolling()`\n",
    "- `.diff()`\n",
    "- `.pct_change()`\n",
    "- `.shift()`"
   ]
  },
  {
   "cell_type": "code",
   "execution_count": 1,
   "metadata": {
    "ExecuteTime": {
     "end_time": "2019-08-01T18:20:43.327202Z",
     "start_time": "2019-08-01T18:20:42.370946Z"
    }
   },
   "outputs": [
    {
     "data": {
      "text/html": [
       "<div>\n",
       "<style scoped>\n",
       "    .dataframe tbody tr th:only-of-type {\n",
       "        vertical-align: middle;\n",
       "    }\n",
       "\n",
       "    .dataframe tbody tr th {\n",
       "        vertical-align: top;\n",
       "    }\n",
       "\n",
       "    .dataframe thead th {\n",
       "        text-align: right;\n",
       "    }\n",
       "</style>\n",
       "<table border=\"1\" class=\"dataframe\">\n",
       "  <thead>\n",
       "    <tr style=\"text-align: right;\">\n",
       "      <th></th>\n",
       "      <th>date</th>\n",
       "      <th>bus_ridership</th>\n",
       "    </tr>\n",
       "  </thead>\n",
       "  <tbody>\n",
       "    <tr>\n",
       "      <th>0</th>\n",
       "      <td>1973-01-01</td>\n",
       "      <td>648</td>\n",
       "    </tr>\n",
       "    <tr>\n",
       "      <th>1</th>\n",
       "      <td>1973-02-01</td>\n",
       "      <td>646</td>\n",
       "    </tr>\n",
       "    <tr>\n",
       "      <th>2</th>\n",
       "      <td>1973-03-02</td>\n",
       "      <td>639</td>\n",
       "    </tr>\n",
       "    <tr>\n",
       "      <th>3</th>\n",
       "      <td>1973-04-02</td>\n",
       "      <td>654</td>\n",
       "    </tr>\n",
       "    <tr>\n",
       "      <th>4</th>\n",
       "      <td>1973-05-02</td>\n",
       "      <td>630</td>\n",
       "    </tr>\n",
       "  </tbody>\n",
       "</table>\n",
       "</div>"
      ],
      "text/plain": [
       "         date  bus_ridership\n",
       "0  1973-01-01            648\n",
       "1  1973-02-01            646\n",
       "2  1973-03-02            639\n",
       "3  1973-04-02            654\n",
       "4  1973-05-02            630"
      ]
     },
     "execution_count": 1,
     "metadata": {},
     "output_type": "execute_result"
    }
   ],
   "source": [
    "# import relevant modules\n",
    "import pandas as pd\n",
    "import seaborn as sns\n",
    "import matplotlib.pyplot as plt\n",
    "from statsmodels.graphics.tsaplots import plot_acf, plot_pacf\n",
    "from statsmodels.tsa.seasonal import seasonal_decompose\n",
    "from statsmodels.tsa.arima_model import ARMA\n",
    "from sklearn.metrics import r2_score\n",
    "\n",
    "# import the bus ridership data\n",
    "bus = pd.read_csv('../data/bus.csv')\n",
    "bus.head()"
   ]
  },
  {
   "cell_type": "code",
   "execution_count": 2,
   "metadata": {
    "ExecuteTime": {
     "end_time": "2019-08-01T18:20:43.393528Z",
     "start_time": "2019-08-01T18:20:43.378693Z"
    }
   },
   "outputs": [
    {
     "name": "stdout",
     "output_type": "stream",
     "text": [
      "<class 'pandas.core.frame.DataFrame'>\n",
      "RangeIndex: 114 entries, 0 to 113\n",
      "Data columns (total 2 columns):\n",
      "date             114 non-null object\n",
      "bus_ridership    114 non-null int64\n",
      "dtypes: int64(1), object(1)\n",
      "memory usage: 1.9+ KB\n"
     ]
    }
   ],
   "source": [
    "# When read in, date column are string objects\n",
    "bus.info()"
   ]
  },
  {
   "cell_type": "code",
   "execution_count": 3,
   "metadata": {
    "ExecuteTime": {
     "end_time": "2019-08-01T18:20:43.461976Z",
     "start_time": "2019-08-01T18:20:43.446148Z"
    }
   },
   "outputs": [],
   "source": [
    "# convert date into datetime objects\n",
    "bus['date'] = pd.to_datetime(bus['date'])"
   ]
  },
  {
   "cell_type": "code",
   "execution_count": 4,
   "metadata": {},
   "outputs": [
    {
     "name": "stdout",
     "output_type": "stream",
     "text": [
      "<class 'pandas.core.frame.DataFrame'>\n",
      "RangeIndex: 114 entries, 0 to 113\n",
      "Data columns (total 2 columns):\n",
      "date             114 non-null datetime64[ns]\n",
      "bus_ridership    114 non-null int64\n",
      "dtypes: datetime64[ns](1), int64(1)\n",
      "memory usage: 1.9 KB\n"
     ]
    }
   ],
   "source": [
    "bus.info()"
   ]
  },
  {
   "cell_type": "code",
   "execution_count": 5,
   "metadata": {
    "ExecuteTime": {
     "end_time": "2019-08-01T18:20:43.461976Z",
     "start_time": "2019-08-01T18:20:43.446148Z"
    }
   },
   "outputs": [],
   "source": [
    "# change index of dataframe to the date\n",
    "bus = bus.set_index('date')"
   ]
  },
  {
   "cell_type": "code",
   "execution_count": 6,
   "metadata": {},
   "outputs": [
    {
     "data": {
      "text/html": [
       "<div>\n",
       "<style scoped>\n",
       "    .dataframe tbody tr th:only-of-type {\n",
       "        vertical-align: middle;\n",
       "    }\n",
       "\n",
       "    .dataframe tbody tr th {\n",
       "        vertical-align: top;\n",
       "    }\n",
       "\n",
       "    .dataframe thead th {\n",
       "        text-align: right;\n",
       "    }\n",
       "</style>\n",
       "<table border=\"1\" class=\"dataframe\">\n",
       "  <thead>\n",
       "    <tr style=\"text-align: right;\">\n",
       "      <th></th>\n",
       "      <th>bus_ridership</th>\n",
       "    </tr>\n",
       "    <tr>\n",
       "      <th>date</th>\n",
       "      <th></th>\n",
       "    </tr>\n",
       "  </thead>\n",
       "  <tbody>\n",
       "    <tr>\n",
       "      <th>1973-01-01</th>\n",
       "      <td>648</td>\n",
       "    </tr>\n",
       "    <tr>\n",
       "      <th>1973-02-01</th>\n",
       "      <td>646</td>\n",
       "    </tr>\n",
       "    <tr>\n",
       "      <th>1973-03-02</th>\n",
       "      <td>639</td>\n",
       "    </tr>\n",
       "    <tr>\n",
       "      <th>1973-04-02</th>\n",
       "      <td>654</td>\n",
       "    </tr>\n",
       "    <tr>\n",
       "      <th>1973-05-02</th>\n",
       "      <td>630</td>\n",
       "    </tr>\n",
       "  </tbody>\n",
       "</table>\n",
       "</div>"
      ],
      "text/plain": [
       "            bus_ridership\n",
       "date                     \n",
       "1973-01-01            648\n",
       "1973-02-01            646\n",
       "1973-03-02            639\n",
       "1973-04-02            654\n",
       "1973-05-02            630"
      ]
     },
     "execution_count": 6,
     "metadata": {},
     "output_type": "execute_result"
    }
   ],
   "source": [
    "bus.head()"
   ]
  },
  {
   "cell_type": "markdown",
   "metadata": {},
   "source": [
    "### `.rolling()`\n",
    "> Allows for rolling statistics (ie. \"I want the average of the past 7 days' ridership\")\n",
    "- **`window`** : the \"length\" or the period of the window\n",
    "- **`min_periods=None`** : Min number of observations in a window\n",
    "- **`win_type=None`** : Type of window"
   ]
  },
  {
   "cell_type": "code",
   "execution_count": 7,
   "metadata": {
    "ExecuteTime": {
     "end_time": "2019-08-01T18:20:46.171686Z",
     "start_time": "2019-08-01T18:20:46.158633Z"
    }
   },
   "outputs": [],
   "source": [
    "bus['SevenDayTotal'] = bus['bus_ridership'].rolling(window = 7).sum()\n",
    "bus['WeeklyAverage'] = bus['bus_ridership'].rolling(window = 7).mean()"
   ]
  },
  {
   "cell_type": "code",
   "execution_count": 8,
   "metadata": {
    "ExecuteTime": {
     "end_time": "2019-08-01T18:20:46.438176Z",
     "start_time": "2019-08-01T18:20:46.427441Z"
    },
    "scrolled": true
   },
   "outputs": [
    {
     "data": {
      "text/html": [
       "<div>\n",
       "<style scoped>\n",
       "    .dataframe tbody tr th:only-of-type {\n",
       "        vertical-align: middle;\n",
       "    }\n",
       "\n",
       "    .dataframe tbody tr th {\n",
       "        vertical-align: top;\n",
       "    }\n",
       "\n",
       "    .dataframe thead th {\n",
       "        text-align: right;\n",
       "    }\n",
       "</style>\n",
       "<table border=\"1\" class=\"dataframe\">\n",
       "  <thead>\n",
       "    <tr style=\"text-align: right;\">\n",
       "      <th></th>\n",
       "      <th>bus_ridership</th>\n",
       "      <th>SevenDayTotal</th>\n",
       "      <th>WeeklyAverage</th>\n",
       "    </tr>\n",
       "    <tr>\n",
       "      <th>date</th>\n",
       "      <th></th>\n",
       "      <th></th>\n",
       "      <th></th>\n",
       "    </tr>\n",
       "  </thead>\n",
       "  <tbody>\n",
       "    <tr>\n",
       "      <th>1973-01-01</th>\n",
       "      <td>648</td>\n",
       "      <td>NaN</td>\n",
       "      <td>NaN</td>\n",
       "    </tr>\n",
       "    <tr>\n",
       "      <th>1973-02-01</th>\n",
       "      <td>646</td>\n",
       "      <td>NaN</td>\n",
       "      <td>NaN</td>\n",
       "    </tr>\n",
       "    <tr>\n",
       "      <th>1973-03-02</th>\n",
       "      <td>639</td>\n",
       "      <td>NaN</td>\n",
       "      <td>NaN</td>\n",
       "    </tr>\n",
       "    <tr>\n",
       "      <th>1973-04-02</th>\n",
       "      <td>654</td>\n",
       "      <td>NaN</td>\n",
       "      <td>NaN</td>\n",
       "    </tr>\n",
       "    <tr>\n",
       "      <th>1973-05-02</th>\n",
       "      <td>630</td>\n",
       "      <td>NaN</td>\n",
       "      <td>NaN</td>\n",
       "    </tr>\n",
       "    <tr>\n",
       "      <th>1973-06-02</th>\n",
       "      <td>622</td>\n",
       "      <td>NaN</td>\n",
       "      <td>NaN</td>\n",
       "    </tr>\n",
       "    <tr>\n",
       "      <th>1973-07-02</th>\n",
       "      <td>617</td>\n",
       "      <td>4456.0</td>\n",
       "      <td>636.571429</td>\n",
       "    </tr>\n",
       "    <tr>\n",
       "      <th>1973-08-02</th>\n",
       "      <td>613</td>\n",
       "      <td>4421.0</td>\n",
       "      <td>631.571429</td>\n",
       "    </tr>\n",
       "    <tr>\n",
       "      <th>1973-09-02</th>\n",
       "      <td>661</td>\n",
       "      <td>4436.0</td>\n",
       "      <td>633.714286</td>\n",
       "    </tr>\n",
       "    <tr>\n",
       "      <th>1973-10-02</th>\n",
       "      <td>695</td>\n",
       "      <td>4492.0</td>\n",
       "      <td>641.714286</td>\n",
       "    </tr>\n",
       "  </tbody>\n",
       "</table>\n",
       "</div>"
      ],
      "text/plain": [
       "            bus_ridership  SevenDayTotal  WeeklyAverage\n",
       "date                                                   \n",
       "1973-01-01            648            NaN            NaN\n",
       "1973-02-01            646            NaN            NaN\n",
       "1973-03-02            639            NaN            NaN\n",
       "1973-04-02            654            NaN            NaN\n",
       "1973-05-02            630            NaN            NaN\n",
       "1973-06-02            622            NaN            NaN\n",
       "1973-07-02            617         4456.0     636.571429\n",
       "1973-08-02            613         4421.0     631.571429\n",
       "1973-09-02            661         4436.0     633.714286\n",
       "1973-10-02            695         4492.0     641.714286"
      ]
     },
     "execution_count": 8,
     "metadata": {},
     "output_type": "execute_result"
    }
   ],
   "source": [
    "bus.head(10)"
   ]
  },
  {
   "cell_type": "markdown",
   "metadata": {},
   "source": [
    "### `.diff()`\n",
    "> The literal subtraction between day x and the period specified\n",
    "- **`periods`** : With what time before you subtract from\n",
    "    - `periods = 1` : Subtracting from previous day\n",
    "    - `periods = 7` : Subtracting from exactly 7 days ago"
   ]
  },
  {
   "cell_type": "code",
   "execution_count": 9,
   "metadata": {
    "ExecuteTime": {
     "end_time": "2019-08-01T18:20:48.553526Z",
     "start_time": "2019-08-01T18:20:48.539607Z"
    }
   },
   "outputs": [
    {
     "data": {
      "text/html": [
       "<div>\n",
       "<style scoped>\n",
       "    .dataframe tbody tr th:only-of-type {\n",
       "        vertical-align: middle;\n",
       "    }\n",
       "\n",
       "    .dataframe tbody tr th {\n",
       "        vertical-align: top;\n",
       "    }\n",
       "\n",
       "    .dataframe thead th {\n",
       "        text-align: right;\n",
       "    }\n",
       "</style>\n",
       "<table border=\"1\" class=\"dataframe\">\n",
       "  <thead>\n",
       "    <tr style=\"text-align: right;\">\n",
       "      <th></th>\n",
       "      <th>bus_ridership</th>\n",
       "      <th>SevenDayTotal</th>\n",
       "      <th>WeeklyAverage</th>\n",
       "      <th>DailyDiff</th>\n",
       "      <th>WeeklyDiff</th>\n",
       "    </tr>\n",
       "    <tr>\n",
       "      <th>date</th>\n",
       "      <th></th>\n",
       "      <th></th>\n",
       "      <th></th>\n",
       "      <th></th>\n",
       "      <th></th>\n",
       "    </tr>\n",
       "  </thead>\n",
       "  <tbody>\n",
       "    <tr>\n",
       "      <th>1973-01-01</th>\n",
       "      <td>648</td>\n",
       "      <td>NaN</td>\n",
       "      <td>NaN</td>\n",
       "      <td>NaN</td>\n",
       "      <td>NaN</td>\n",
       "    </tr>\n",
       "    <tr>\n",
       "      <th>1973-02-01</th>\n",
       "      <td>646</td>\n",
       "      <td>NaN</td>\n",
       "      <td>NaN</td>\n",
       "      <td>-2.0</td>\n",
       "      <td>NaN</td>\n",
       "    </tr>\n",
       "    <tr>\n",
       "      <th>1973-03-02</th>\n",
       "      <td>639</td>\n",
       "      <td>NaN</td>\n",
       "      <td>NaN</td>\n",
       "      <td>-7.0</td>\n",
       "      <td>NaN</td>\n",
       "    </tr>\n",
       "    <tr>\n",
       "      <th>1973-04-02</th>\n",
       "      <td>654</td>\n",
       "      <td>NaN</td>\n",
       "      <td>NaN</td>\n",
       "      <td>15.0</td>\n",
       "      <td>NaN</td>\n",
       "    </tr>\n",
       "    <tr>\n",
       "      <th>1973-05-02</th>\n",
       "      <td>630</td>\n",
       "      <td>NaN</td>\n",
       "      <td>NaN</td>\n",
       "      <td>-24.0</td>\n",
       "      <td>NaN</td>\n",
       "    </tr>\n",
       "  </tbody>\n",
       "</table>\n",
       "</div>"
      ],
      "text/plain": [
       "            bus_ridership  SevenDayTotal  WeeklyAverage  DailyDiff  WeeklyDiff\n",
       "date                                                                          \n",
       "1973-01-01            648            NaN            NaN        NaN         NaN\n",
       "1973-02-01            646            NaN            NaN       -2.0         NaN\n",
       "1973-03-02            639            NaN            NaN       -7.0         NaN\n",
       "1973-04-02            654            NaN            NaN       15.0         NaN\n",
       "1973-05-02            630            NaN            NaN      -24.0         NaN"
      ]
     },
     "execution_count": 9,
     "metadata": {},
     "output_type": "execute_result"
    }
   ],
   "source": [
    "bus['DailyDiff']  = bus['bus_ridership'].diff()\n",
    "bus['WeeklyDiff'] = bus['bus_ridership'].diff(7)\n",
    "\n",
    "bus.head()"
   ]
  },
  {
   "cell_type": "markdown",
   "metadata": {},
   "source": [
    "### `.pct_change()`\n",
    "> Percent change for the period specified"
   ]
  },
  {
   "cell_type": "code",
   "execution_count": 10,
   "metadata": {
    "ExecuteTime": {
     "end_time": "2019-08-01T18:20:50.466578Z",
     "start_time": "2019-08-01T18:20:50.433819Z"
    }
   },
   "outputs": [
    {
     "data": {
      "text/html": [
       "<div>\n",
       "<style scoped>\n",
       "    .dataframe tbody tr th:only-of-type {\n",
       "        vertical-align: middle;\n",
       "    }\n",
       "\n",
       "    .dataframe tbody tr th {\n",
       "        vertical-align: top;\n",
       "    }\n",
       "\n",
       "    .dataframe thead th {\n",
       "        text-align: right;\n",
       "    }\n",
       "</style>\n",
       "<table border=\"1\" class=\"dataframe\">\n",
       "  <thead>\n",
       "    <tr style=\"text-align: right;\">\n",
       "      <th></th>\n",
       "      <th>bus_ridership</th>\n",
       "      <th>SevenDayTotal</th>\n",
       "      <th>WeeklyAverage</th>\n",
       "      <th>DailyDiff</th>\n",
       "      <th>WeeklyDiff</th>\n",
       "      <th>DailyDiffPCT</th>\n",
       "    </tr>\n",
       "    <tr>\n",
       "      <th>date</th>\n",
       "      <th></th>\n",
       "      <th></th>\n",
       "      <th></th>\n",
       "      <th></th>\n",
       "      <th></th>\n",
       "      <th></th>\n",
       "    </tr>\n",
       "  </thead>\n",
       "  <tbody>\n",
       "    <tr>\n",
       "      <th>1973-01-01</th>\n",
       "      <td>648</td>\n",
       "      <td>NaN</td>\n",
       "      <td>NaN</td>\n",
       "      <td>NaN</td>\n",
       "      <td>NaN</td>\n",
       "      <td>NaN</td>\n",
       "    </tr>\n",
       "    <tr>\n",
       "      <th>1973-02-01</th>\n",
       "      <td>646</td>\n",
       "      <td>NaN</td>\n",
       "      <td>NaN</td>\n",
       "      <td>-2.0</td>\n",
       "      <td>NaN</td>\n",
       "      <td>-0.003086</td>\n",
       "    </tr>\n",
       "    <tr>\n",
       "      <th>1973-03-02</th>\n",
       "      <td>639</td>\n",
       "      <td>NaN</td>\n",
       "      <td>NaN</td>\n",
       "      <td>-7.0</td>\n",
       "      <td>NaN</td>\n",
       "      <td>-0.010836</td>\n",
       "    </tr>\n",
       "    <tr>\n",
       "      <th>1973-04-02</th>\n",
       "      <td>654</td>\n",
       "      <td>NaN</td>\n",
       "      <td>NaN</td>\n",
       "      <td>15.0</td>\n",
       "      <td>NaN</td>\n",
       "      <td>0.023474</td>\n",
       "    </tr>\n",
       "    <tr>\n",
       "      <th>1973-05-02</th>\n",
       "      <td>630</td>\n",
       "      <td>NaN</td>\n",
       "      <td>NaN</td>\n",
       "      <td>-24.0</td>\n",
       "      <td>NaN</td>\n",
       "      <td>-0.036697</td>\n",
       "    </tr>\n",
       "  </tbody>\n",
       "</table>\n",
       "</div>"
      ],
      "text/plain": [
       "            bus_ridership  SevenDayTotal  WeeklyAverage  DailyDiff  \\\n",
       "date                                                                 \n",
       "1973-01-01            648            NaN            NaN        NaN   \n",
       "1973-02-01            646            NaN            NaN       -2.0   \n",
       "1973-03-02            639            NaN            NaN       -7.0   \n",
       "1973-04-02            654            NaN            NaN       15.0   \n",
       "1973-05-02            630            NaN            NaN      -24.0   \n",
       "\n",
       "            WeeklyDiff  DailyDiffPCT  \n",
       "date                                  \n",
       "1973-01-01         NaN           NaN  \n",
       "1973-02-01         NaN     -0.003086  \n",
       "1973-03-02         NaN     -0.010836  \n",
       "1973-04-02         NaN      0.023474  \n",
       "1973-05-02         NaN     -0.036697  "
      ]
     },
     "execution_count": 10,
     "metadata": {},
     "output_type": "execute_result"
    }
   ],
   "source": [
    "bus['DailyDiffPCT'] = bus['bus_ridership'].pct_change()\n",
    "\n",
    "bus.head()"
   ]
  },
  {
   "cell_type": "markdown",
   "metadata": {},
   "source": [
    "### `.shift()`\n",
    "> Just shifts the days down by specified period"
   ]
  },
  {
   "cell_type": "code",
   "execution_count": 11,
   "metadata": {
    "ExecuteTime": {
     "end_time": "2019-08-01T18:20:51.930779Z",
     "start_time": "2019-08-01T18:20:51.905684Z"
    }
   },
   "outputs": [
    {
     "data": {
      "text/html": [
       "<div>\n",
       "<style scoped>\n",
       "    .dataframe tbody tr th:only-of-type {\n",
       "        vertical-align: middle;\n",
       "    }\n",
       "\n",
       "    .dataframe tbody tr th {\n",
       "        vertical-align: top;\n",
       "    }\n",
       "\n",
       "    .dataframe thead th {\n",
       "        text-align: right;\n",
       "    }\n",
       "</style>\n",
       "<table border=\"1\" class=\"dataframe\">\n",
       "  <thead>\n",
       "    <tr style=\"text-align: right;\">\n",
       "      <th></th>\n",
       "      <th>bus_ridership</th>\n",
       "      <th>SevenDayTotal</th>\n",
       "      <th>WeeklyAverage</th>\n",
       "      <th>DailyDiff</th>\n",
       "      <th>WeeklyDiff</th>\n",
       "      <th>DailyDiffPCT</th>\n",
       "      <th>DailyOffset</th>\n",
       "      <th>WeeklyOffset</th>\n",
       "    </tr>\n",
       "    <tr>\n",
       "      <th>date</th>\n",
       "      <th></th>\n",
       "      <th></th>\n",
       "      <th></th>\n",
       "      <th></th>\n",
       "      <th></th>\n",
       "      <th></th>\n",
       "      <th></th>\n",
       "      <th></th>\n",
       "    </tr>\n",
       "  </thead>\n",
       "  <tbody>\n",
       "    <tr>\n",
       "      <th>1973-01-01</th>\n",
       "      <td>648</td>\n",
       "      <td>NaN</td>\n",
       "      <td>NaN</td>\n",
       "      <td>NaN</td>\n",
       "      <td>NaN</td>\n",
       "      <td>NaN</td>\n",
       "      <td>NaN</td>\n",
       "      <td>NaN</td>\n",
       "    </tr>\n",
       "    <tr>\n",
       "      <th>1973-02-01</th>\n",
       "      <td>646</td>\n",
       "      <td>NaN</td>\n",
       "      <td>NaN</td>\n",
       "      <td>-2.0</td>\n",
       "      <td>NaN</td>\n",
       "      <td>-0.003086</td>\n",
       "      <td>648.0</td>\n",
       "      <td>NaN</td>\n",
       "    </tr>\n",
       "    <tr>\n",
       "      <th>1973-03-02</th>\n",
       "      <td>639</td>\n",
       "      <td>NaN</td>\n",
       "      <td>NaN</td>\n",
       "      <td>-7.0</td>\n",
       "      <td>NaN</td>\n",
       "      <td>-0.010836</td>\n",
       "      <td>646.0</td>\n",
       "      <td>NaN</td>\n",
       "    </tr>\n",
       "    <tr>\n",
       "      <th>1973-04-02</th>\n",
       "      <td>654</td>\n",
       "      <td>NaN</td>\n",
       "      <td>NaN</td>\n",
       "      <td>15.0</td>\n",
       "      <td>NaN</td>\n",
       "      <td>0.023474</td>\n",
       "      <td>639.0</td>\n",
       "      <td>NaN</td>\n",
       "    </tr>\n",
       "    <tr>\n",
       "      <th>1973-05-02</th>\n",
       "      <td>630</td>\n",
       "      <td>NaN</td>\n",
       "      <td>NaN</td>\n",
       "      <td>-24.0</td>\n",
       "      <td>NaN</td>\n",
       "      <td>-0.036697</td>\n",
       "      <td>654.0</td>\n",
       "      <td>NaN</td>\n",
       "    </tr>\n",
       "    <tr>\n",
       "      <th>1973-06-02</th>\n",
       "      <td>622</td>\n",
       "      <td>NaN</td>\n",
       "      <td>NaN</td>\n",
       "      <td>-8.0</td>\n",
       "      <td>NaN</td>\n",
       "      <td>-0.012698</td>\n",
       "      <td>630.0</td>\n",
       "      <td>NaN</td>\n",
       "    </tr>\n",
       "    <tr>\n",
       "      <th>1973-07-02</th>\n",
       "      <td>617</td>\n",
       "      <td>4456.0</td>\n",
       "      <td>636.571429</td>\n",
       "      <td>-5.0</td>\n",
       "      <td>NaN</td>\n",
       "      <td>-0.008039</td>\n",
       "      <td>622.0</td>\n",
       "      <td>NaN</td>\n",
       "    </tr>\n",
       "    <tr>\n",
       "      <th>1973-08-02</th>\n",
       "      <td>613</td>\n",
       "      <td>4421.0</td>\n",
       "      <td>631.571429</td>\n",
       "      <td>-4.0</td>\n",
       "      <td>-35.0</td>\n",
       "      <td>-0.006483</td>\n",
       "      <td>617.0</td>\n",
       "      <td>648.0</td>\n",
       "    </tr>\n",
       "    <tr>\n",
       "      <th>1973-09-02</th>\n",
       "      <td>661</td>\n",
       "      <td>4436.0</td>\n",
       "      <td>633.714286</td>\n",
       "      <td>48.0</td>\n",
       "      <td>15.0</td>\n",
       "      <td>0.078303</td>\n",
       "      <td>613.0</td>\n",
       "      <td>646.0</td>\n",
       "    </tr>\n",
       "    <tr>\n",
       "      <th>1973-10-02</th>\n",
       "      <td>695</td>\n",
       "      <td>4492.0</td>\n",
       "      <td>641.714286</td>\n",
       "      <td>34.0</td>\n",
       "      <td>56.0</td>\n",
       "      <td>0.051437</td>\n",
       "      <td>661.0</td>\n",
       "      <td>639.0</td>\n",
       "    </tr>\n",
       "  </tbody>\n",
       "</table>\n",
       "</div>"
      ],
      "text/plain": [
       "            bus_ridership  SevenDayTotal  WeeklyAverage  DailyDiff  \\\n",
       "date                                                                 \n",
       "1973-01-01            648            NaN            NaN        NaN   \n",
       "1973-02-01            646            NaN            NaN       -2.0   \n",
       "1973-03-02            639            NaN            NaN       -7.0   \n",
       "1973-04-02            654            NaN            NaN       15.0   \n",
       "1973-05-02            630            NaN            NaN      -24.0   \n",
       "1973-06-02            622            NaN            NaN       -8.0   \n",
       "1973-07-02            617         4456.0     636.571429       -5.0   \n",
       "1973-08-02            613         4421.0     631.571429       -4.0   \n",
       "1973-09-02            661         4436.0     633.714286       48.0   \n",
       "1973-10-02            695         4492.0     641.714286       34.0   \n",
       "\n",
       "            WeeklyDiff  DailyDiffPCT  DailyOffset  WeeklyOffset  \n",
       "date                                                             \n",
       "1973-01-01         NaN           NaN          NaN           NaN  \n",
       "1973-02-01         NaN     -0.003086        648.0           NaN  \n",
       "1973-03-02         NaN     -0.010836        646.0           NaN  \n",
       "1973-04-02         NaN      0.023474        639.0           NaN  \n",
       "1973-05-02         NaN     -0.036697        654.0           NaN  \n",
       "1973-06-02         NaN     -0.012698        630.0           NaN  \n",
       "1973-07-02         NaN     -0.008039        622.0           NaN  \n",
       "1973-08-02       -35.0     -0.006483        617.0         648.0  \n",
       "1973-09-02        15.0      0.078303        613.0         646.0  \n",
       "1973-10-02        56.0      0.051437        661.0         639.0  "
      ]
     },
     "execution_count": 11,
     "metadata": {},
     "output_type": "execute_result"
    }
   ],
   "source": [
    "bus['DailyOffset']  = bus['bus_ridership'].shift(1)\n",
    "bus['WeeklyOffset'] = bus['bus_ridership'].shift(7)\n",
    "\n",
    "bus.head(10)"
   ]
  },
  {
   "cell_type": "markdown",
   "metadata": {},
   "source": [
    "# 9.02 Principles of Time Series"
   ]
  },
  {
   "cell_type": "markdown",
   "metadata": {},
   "source": [
    "### 1. Define time series and cross-sectional data."
   ]
  },
  {
   "cell_type": "markdown",
   "metadata": {},
   "source": [
    "- **Time series data**\n",
    "> Data where indices is time (collected over time)\n",
    "- **Cross-sectional data**\n",
    "> Data at one point in time"
   ]
  },
  {
   "cell_type": "markdown",
   "metadata": {},
   "source": [
    "### 2. Describe forecasting, some of its challenges, and when it's advised."
   ]
  },
  {
   "cell_type": "markdown",
   "metadata": {},
   "source": [
    "> Predicting a future estimate for a target variable\n",
    "\n",
    "- What are some challenges to consider when using time series data?\n",
    "> 1. As we forecast farther out, accuracy starkly decreases\n",
    "> 2. Changes will be compounded in future forecasts\n",
    "> 3. Is the data available, and how much?"
   ]
  },
  {
   "cell_type": "markdown",
   "metadata": {},
   "source": [
    "### 3. Generate and interpret time plots."
   ]
  },
  {
   "cell_type": "code",
   "execution_count": 12,
   "metadata": {
    "ExecuteTime": {
     "end_time": "2019-08-01T18:39:55.680920Z",
     "start_time": "2019-08-01T18:39:55.669932Z"
    }
   },
   "outputs": [],
   "source": [
    "# reset bus dataframe\n",
    "bus = bus[['bus_ridership']]\n",
    "\n",
    "# Specify frequency for data (this will be relevant later)!\n",
    "bus.index = pd.date_range('1/1/1973', # start date is January 1, 1973\n",
    "                               periods=len(bus.index), # we want one period per entry\n",
    "                               freq='M') # frequency in months"
   ]
  },
  {
   "cell_type": "code",
   "execution_count": 13,
   "metadata": {
    "ExecuteTime": {
     "end_time": "2019-08-01T18:39:56.845848Z",
     "start_time": "2019-08-01T18:39:56.834347Z"
    },
    "scrolled": true
   },
   "outputs": [
    {
     "data": {
      "text/html": [
       "<div>\n",
       "<style scoped>\n",
       "    .dataframe tbody tr th:only-of-type {\n",
       "        vertical-align: middle;\n",
       "    }\n",
       "\n",
       "    .dataframe tbody tr th {\n",
       "        vertical-align: top;\n",
       "    }\n",
       "\n",
       "    .dataframe thead th {\n",
       "        text-align: right;\n",
       "    }\n",
       "</style>\n",
       "<table border=\"1\" class=\"dataframe\">\n",
       "  <thead>\n",
       "    <tr style=\"text-align: right;\">\n",
       "      <th></th>\n",
       "      <th>bus_ridership</th>\n",
       "    </tr>\n",
       "  </thead>\n",
       "  <tbody>\n",
       "    <tr>\n",
       "      <th>1973-01-31</th>\n",
       "      <td>648</td>\n",
       "    </tr>\n",
       "    <tr>\n",
       "      <th>1973-02-28</th>\n",
       "      <td>646</td>\n",
       "    </tr>\n",
       "    <tr>\n",
       "      <th>1973-03-31</th>\n",
       "      <td>639</td>\n",
       "    </tr>\n",
       "    <tr>\n",
       "      <th>1973-04-30</th>\n",
       "      <td>654</td>\n",
       "    </tr>\n",
       "    <tr>\n",
       "      <th>1973-05-31</th>\n",
       "      <td>630</td>\n",
       "    </tr>\n",
       "  </tbody>\n",
       "</table>\n",
       "</div>"
      ],
      "text/plain": [
       "            bus_ridership\n",
       "1973-01-31            648\n",
       "1973-02-28            646\n",
       "1973-03-31            639\n",
       "1973-04-30            654\n",
       "1973-05-31            630"
      ]
     },
     "execution_count": 13,
     "metadata": {},
     "output_type": "execute_result"
    }
   ],
   "source": [
    "bus.head()"
   ]
  },
  {
   "cell_type": "code",
   "execution_count": 14,
   "metadata": {
    "ExecuteTime": {
     "end_time": "2019-08-01T18:40:01.311936Z",
     "start_time": "2019-08-01T18:40:00.694361Z"
    }
   },
   "outputs": [
    {
     "data": {
      "image/png": "[encoded data removed]",
      "text/plain": [
       "<Figure size 432x288 with 1 Axes>"
      ]
     },
     "metadata": {},
     "output_type": "display_data"
    }
   ],
   "source": [
    "# Thanks, Sean Bjork!\n",
    "sns.set()\n",
    "\n",
    "bus.plot()\n",
    "plt.title('Bus Ridership from 1973 to 1983', fontsize = 20)\n",
    "plt.xlabel('Year', fontsize = 16)\n",
    "plt.ylabel('Bus Ridership', fontsize = 16);"
   ]
  },
  {
   "cell_type": "markdown",
   "metadata": {},
   "source": [
    "### 4. Define and identify trend, seasonality, and cyclic patterns in time series data."
   ]
  },
  {
   "cell_type": "markdown",
   "metadata": {},
   "source": [
    "- **Trends** : \n",
    "> patterns over time, long-term changes; most trends are linear or quadratic\n",
    "- **Seasonality** :\n",
    "> fluctuations over a \"fixed and known\" interval\n",
    "- **Cyclic** :\n",
    "> fluctuactions over \"unknown and irregular\" intervals"
   ]
  },
  {
   "cell_type": "code",
   "execution_count": 15,
   "metadata": {
    "ExecuteTime": {
     "end_time": "2019-08-01T18:40:04.836946Z",
     "start_time": "2019-08-01T18:40:04.826677Z"
    }
   },
   "outputs": [
    {
     "data": {
      "text/html": [
       "<div>\n",
       "<style scoped>\n",
       "    .dataframe tbody tr th:only-of-type {\n",
       "        vertical-align: middle;\n",
       "    }\n",
       "\n",
       "    .dataframe tbody tr th {\n",
       "        vertical-align: top;\n",
       "    }\n",
       "\n",
       "    .dataframe thead th {\n",
       "        text-align: right;\n",
       "    }\n",
       "</style>\n",
       "<table border=\"1\" class=\"dataframe\">\n",
       "  <thead>\n",
       "    <tr style=\"text-align: right;\">\n",
       "      <th></th>\n",
       "      <th>bus_ridership</th>\n",
       "    </tr>\n",
       "  </thead>\n",
       "  <tbody>\n",
       "    <tr>\n",
       "      <th>1973-01-31</th>\n",
       "      <td>648</td>\n",
       "    </tr>\n",
       "    <tr>\n",
       "      <th>1973-02-28</th>\n",
       "      <td>646</td>\n",
       "    </tr>\n",
       "    <tr>\n",
       "      <th>1973-03-31</th>\n",
       "      <td>639</td>\n",
       "    </tr>\n",
       "    <tr>\n",
       "      <th>1973-04-30</th>\n",
       "      <td>654</td>\n",
       "    </tr>\n",
       "    <tr>\n",
       "      <th>1973-05-31</th>\n",
       "      <td>630</td>\n",
       "    </tr>\n",
       "  </tbody>\n",
       "</table>\n",
       "</div>"
      ],
      "text/plain": [
       "            bus_ridership\n",
       "1973-01-31            648\n",
       "1973-02-28            646\n",
       "1973-03-31            639\n",
       "1973-04-30            654\n",
       "1973-05-31            630"
      ]
     },
     "execution_count": 15,
     "metadata": {},
     "output_type": "execute_result"
    }
   ],
   "source": [
    "bus.head()"
   ]
  },
  {
   "cell_type": "code",
   "execution_count": 16,
   "metadata": {
    "ExecuteTime": {
     "end_time": "2019-08-01T18:40:11.253431Z",
     "start_time": "2019-08-01T18:40:08.839050Z"
    },
    "scrolled": true
   },
   "outputs": [
    {
     "data": {
      "image/png": "[encoded data removed]",
      "text/plain": [
       "<Figure size 432x288 with 4 Axes>"
      ]
     },
     "metadata": {},
     "output_type": "display_data"
    }
   ],
   "source": [
    "# This will always try to find some kind of seasonality\n",
    "decomp = seasonal_decompose(bus['bus_ridership'])\n",
    "decomp.plot();"
   ]
  },
  {
   "cell_type": "markdown",
   "metadata": {},
   "source": [
    "### 5. Calculate, plot and interpret autocorrelation and partial autocorrelation."
   ]
  },
  {
   "cell_type": "markdown",
   "metadata": {},
   "source": [
    "- **Autocorrelation (or ACF) plots** :\n",
    "> How correlated one row (time) is to the one before it (or some other specified time)\n",
    "- **Partial autocorrelation (or PACF) plots** : \n",
    "> Autocorrelation but ignoring previous correlations already accounted for"
   ]
  },
  {
   "cell_type": "markdown",
   "metadata": {},
   "source": [
    "- Interpreting ACF (autocorrelation) and PACF (partial autocorrelation) plots\n",
    "    - Y axis = level of correlation\n",
    "    - X axis = Number of lags away.\n",
    "    - Shaded blue area = region of uncertainty"
   ]
  },
  {
   "cell_type": "code",
   "execution_count": 17,
   "metadata": {
    "ExecuteTime": {
     "end_time": "2019-08-01T18:40:19.607912Z",
     "start_time": "2019-08-01T18:40:18.876162Z"
    }
   },
   "outputs": [
    {
     "data": {
      "image/png": "[encoded data removed]",
      "text/plain": [
       "<Figure size 648x360 with 1 Axes>"
      ]
     },
     "metadata": {},
     "output_type": "display_data"
    },
    {
     "data": {
      "image/png": "[encoded data removed]",
      "text/plain": [
       "<Figure size 648x360 with 1 Axes>"
      ]
     },
     "metadata": {},
     "output_type": "display_data"
    },
    {
     "data": {
      "image/png": "[encoded data removed]",
      "text/plain": [
       "<Figure size 648x360 with 1 Axes>"
      ]
     },
     "metadata": {},
     "output_type": "display_data"
    }
   ],
   "source": [
    "fig, ax = plt.subplots(figsize = (9, 5))\n",
    "plot_acf(bus['bus_ridership'], lags = 30, ax = ax)\n",
    "plt.show();\n",
    "\n",
    "fig, ax = plt.subplots(figsize = (9, 5))\n",
    "plot_pacf(bus['bus_ridership'], lags = 30, ax = ax)\n",
    "plt.show();\n",
    "\n",
    "fig, ax = plt.subplots(figsize = (9, 5))\n",
    "plot_pacf(bus['bus_ridership'], lags = 15, ax = ax)\n",
    "plt.show();"
   ]
  },
  {
   "cell_type": "markdown",
   "metadata": {
    "ExecuteTime": {
     "end_time": "2019-08-01T18:09:34.552419Z",
     "start_time": "2019-08-01T18:09:34.544183Z"
    }
   },
   "source": []
  },
  {
   "cell_type": "markdown",
   "metadata": {},
   "source": [
    "### 6. Properly fit, generate predictions from, and evaluate a linear time series model."
   ]
  },
  {
   "cell_type": "code",
   "execution_count": 18,
   "metadata": {
    "ExecuteTime": {
     "end_time": "2019-08-01T18:40:29.054468Z",
     "start_time": "2019-08-01T18:40:28.966500Z"
    }
   },
   "outputs": [
    {
     "data": {
      "text/plain": [
       "0.9364431877685966"
      ]
     },
     "execution_count": 18,
     "metadata": {},
     "output_type": "execute_result"
    }
   ],
   "source": [
    "# make bus_ridership into float values\n",
    "# (p,q), p is the AR part\n",
    "bus['bus_ridership'] = bus['bus_ridership'].astype(float)\n",
    "\n",
    "# fit an AR model with a lag of 1\n",
    "ar1 = ARMA(endog = bus['bus_ridership'],\n",
    "           order = (1, 0))\n",
    "\n",
    "model = ar1.fit()\n",
    "\n",
    "# generate predicted values\n",
    "preds = model.predict()\n",
    "r2_score(bus['bus_ridership'], preds)"
   ]
  },
  {
   "cell_type": "code",
   "execution_count": 19,
   "metadata": {
    "ExecuteTime": {
     "end_time": "2019-08-01T18:40:29.965247Z",
     "start_time": "2019-08-01T18:40:29.892356Z"
    }
   },
   "outputs": [
    {
     "data": {
      "text/plain": [
       "0.6553314322628319"
      ]
     },
     "execution_count": 19,
     "metadata": {},
     "output_type": "execute_result"
    }
   ],
   "source": [
    "# fit a MA model with a window of 1\n",
    "# (p,q), q is the MA part\n",
    "ma1 = ARMA(endog = bus['bus_ridership'],\n",
    "           order = (0, 1))\n",
    "\n",
    "model = ma1.fit()\n",
    "preds = model.predict()\n",
    "r2_score(bus['bus_ridership'], preds)"
   ]
  },
  {
   "cell_type": "markdown",
   "metadata": {},
   "source": [
    "# 9.03-9.04 ARIMA"
   ]
  },
  {
   "cell_type": "markdown",
   "metadata": {},
   "source": [
    "### 1. Define stationarity."
   ]
  },
  {
   "cell_type": "markdown",
   "metadata": {},
   "source": [
    "> Data that is detrended, mean is constant, line of best fit is horizontal"
   ]
  },
  {
   "cell_type": "markdown",
   "metadata": {},
   "source": [
    "### 2. Conduct and interpret an augmented Dickey-Fuller test for stationarity."
   ]
  },
  {
   "cell_type": "code",
   "execution_count": 20,
   "metadata": {
    "ExecuteTime": {
     "end_time": "2019-08-01T18:42:10.878638Z",
     "start_time": "2019-08-01T18:42:10.873090Z"
    }
   },
   "outputs": [],
   "source": [
    "from statsmodels.tsa.stattools import adfuller\n",
    "\n",
    "# Original code written by Joseph Nelson\n",
    "def interpret_dftest(series):\n",
    "    return pd.Series(adfuller(series)[0:2], index=['Test Statistic','p-value'])"
   ]
  },
  {
   "cell_type": "code",
   "execution_count": 21,
   "metadata": {
    "ExecuteTime": {
     "end_time": "2019-08-01T18:42:29.093343Z",
     "start_time": "2019-08-01T18:42:29.065875Z"
    }
   },
   "outputs": [
    {
     "data": {
      "text/plain": [
       "Test Statistic   -1.536597\n",
       "p-value           0.515336\n",
       "dtype: float64"
      ]
     },
     "execution_count": 21,
     "metadata": {},
     "output_type": "execute_result"
    }
   ],
   "source": [
    "# Not stationary\n",
    "interpret_dftest(bus['bus_ridership'])"
   ]
  },
  {
   "cell_type": "code",
   "execution_count": 22,
   "metadata": {
    "ExecuteTime": {
     "end_time": "2019-08-01T18:43:06.672330Z",
     "start_time": "2019-08-01T18:43:06.645739Z"
    }
   },
   "outputs": [
    {
     "data": {
      "text/plain": [
       "Test Statistic   -1.938696\n",
       "p-value           0.314082\n",
       "dtype: float64"
      ]
     },
     "execution_count": 22,
     "metadata": {},
     "output_type": "execute_result"
    }
   ],
   "source": [
    "# First difference\n",
    "interpret_dftest(bus['bus_ridership'].diff().dropna())"
   ]
  },
  {
   "cell_type": "code",
   "execution_count": 23,
   "metadata": {
    "ExecuteTime": {
     "end_time": "2019-08-01T18:43:17.643873Z",
     "start_time": "2019-08-01T18:43:17.622002Z"
    }
   },
   "outputs": [
    {
     "data": {
      "text/plain": [
       "Test Statistic   -1.247869e+01\n",
       "p-value           3.126378e-23\n",
       "dtype: float64"
      ]
     },
     "execution_count": 23,
     "metadata": {},
     "output_type": "execute_result"
    }
   ],
   "source": [
    "# Second difference\n",
    "interpret_dftest(bus['bus_ridership'].diff().diff().dropna())"
   ]
  },
  {
   "cell_type": "code",
   "execution_count": 24,
   "metadata": {
    "ExecuteTime": {
     "end_time": "2019-08-01T18:44:20.328472Z",
     "start_time": "2019-08-01T18:44:20.309247Z"
    }
   },
   "outputs": [
    {
     "data": {
      "text/html": [
       "<div>\n",
       "<style scoped>\n",
       "    .dataframe tbody tr th:only-of-type {\n",
       "        vertical-align: middle;\n",
       "    }\n",
       "\n",
       "    .dataframe tbody tr th {\n",
       "        vertical-align: top;\n",
       "    }\n",
       "\n",
       "    .dataframe thead th {\n",
       "        text-align: right;\n",
       "    }\n",
       "</style>\n",
       "<table border=\"1\" class=\"dataframe\">\n",
       "  <thead>\n",
       "    <tr style=\"text-align: right;\">\n",
       "      <th></th>\n",
       "      <th>bus_ridership</th>\n",
       "      <th>second_diff_ridership</th>\n",
       "    </tr>\n",
       "  </thead>\n",
       "  <tbody>\n",
       "    <tr>\n",
       "      <th>1973-01-31</th>\n",
       "      <td>648.0</td>\n",
       "      <td>NaN</td>\n",
       "    </tr>\n",
       "    <tr>\n",
       "      <th>1973-02-28</th>\n",
       "      <td>646.0</td>\n",
       "      <td>NaN</td>\n",
       "    </tr>\n",
       "    <tr>\n",
       "      <th>1973-03-31</th>\n",
       "      <td>639.0</td>\n",
       "      <td>-5.0</td>\n",
       "    </tr>\n",
       "    <tr>\n",
       "      <th>1973-04-30</th>\n",
       "      <td>654.0</td>\n",
       "      <td>22.0</td>\n",
       "    </tr>\n",
       "    <tr>\n",
       "      <th>1973-05-31</th>\n",
       "      <td>630.0</td>\n",
       "      <td>-39.0</td>\n",
       "    </tr>\n",
       "  </tbody>\n",
       "</table>\n",
       "</div>"
      ],
      "text/plain": [
       "            bus_ridership  second_diff_ridership\n",
       "1973-01-31          648.0                    NaN\n",
       "1973-02-28          646.0                    NaN\n",
       "1973-03-31          639.0                   -5.0\n",
       "1973-04-30          654.0                   22.0\n",
       "1973-05-31          630.0                  -39.0"
      ]
     },
     "execution_count": 24,
     "metadata": {},
     "output_type": "execute_result"
    }
   ],
   "source": [
    "bus['second_diff_ridership'] = bus['bus_ridership'].diff().diff()\n",
    "bus.head()"
   ]
  },
  {
   "cell_type": "markdown",
   "metadata": {},
   "source": [
    "### 3. Construct integrated autoregressive moving average (ARIMA) models."
   ]
  },
  {
   "cell_type": "markdown",
   "metadata": {},
   "source": [
    "- Integrating AR and MA models results in an ARIMA model\n",
    "- Useful when we want to model _longer term data with sudden fluctuations_"
   ]
  },
  {
   "cell_type": "markdown",
   "metadata": {},
   "source": [
    "### 4. Describe when autoregressive models and moving average models are appropriate."
   ]
  },
  {
   "cell_type": "markdown",
   "metadata": {},
   "source": [
    "**Autoregressive (AR - p) models** :\n",
    "> Better for long-term trends\n",
    "- Number of previous observations to consider when predicting (lags)\n",
    "\n",
    "**Moving average (MA - q) models** :\n",
    "> Better for short-term fluctuations\n",
    "- Number of errors we regress on\n",
    "\n",
    "**Integrated (d)**\n",
    "- How many differences we need to achieve stationarity"
   ]
  },
  {
   "cell_type": "markdown",
   "metadata": {},
   "source": [
    "### 5. Identify the optimal values of parameters $p$, $d$, and $q$ through GridSearch."
   ]
  },
  {
   "cell_type": "markdown",
   "metadata": {},
   "source": [
    "# 9.05 Benford's Law"
   ]
  },
  {
   "cell_type": "markdown",
   "metadata": {},
   "source": [
    "### 1. Understand what Benford's law is"
   ]
  },
  {
   "cell_type": "markdown",
   "metadata": {},
   "source": [
    "> Numbers with a smaller first digit are more frequent\n",
    "\n",
    "> Benford's law is an observation about the frequency distribution of leading digits in many real-life sets of numerical data. The law states that in many naturally occurring collections of numbers, the leading significant digit is likely to be small."
   ]
  },
  {
   "cell_type": "markdown",
   "metadata": {},
   "source": [
    "### 2. Use Benford's law to find anomalies within a dataset."
   ]
  },
  {
   "cell_type": "markdown",
   "metadata": {},
   "source": [
    "> convert numbers into strings, check count of first character (leading digit)"
   ]
  },
  {
   "cell_type": "markdown",
   "metadata": {},
   "source": [
    "---"
   ]
  },
  {
   "cell_type": "markdown",
   "metadata": {},
   "source": [
    "# Week 10 Material (Bayesian Statistics)\n",
    "---"
   ]
  },
  {
   "cell_type": "markdown",
   "metadata": {},
   "source": [
    "#  Intro to Bayes & Bayesian Inference\n",
    "\n",
    "### Recognize and describe the axioms and properties of probability.\n",
    "1. The probability of any event is a non-negative real number.\n",
    "2. The probability of an entire sample space is 1.\n",
    "3. Mutually Exclusive Events (Empty Intersection of events)\n",
    "    - The probability of these mutually exclusive events occurring is the sum of all their probabilities.\n",
    "    - $P(A \\cup B) = P(A) + P(B)$\n",
    "\n",
    "\n",
    "### Describe Bayes' theorem.\n",
    "- Bayes Theorm is based on conditional probability in that events considered are not mutually exclusive.\n",
    "- Rather than calculating how likely an event is to happen, we calculate how likely an event is to happen given a prior piece of knowledge or understanding (The Prior).\n",
    "\n",
    "With frequentist statistics, everytime we flip a coin the odds of it being heads or tails are equal 50/50, however as a human you may think that after a coin is a flipped and tails is observed that there is a better chance on the next flip or getting a heads. \n",
    "### Explain the diachronic interpretation of Bayes' theorem.\n",
    "- Comes from the Greek words for \"Through Time\", in that Bayesian analysis has a \"through time\" consideration.  As events occur in time so should our understanding of the results influenced by them.\n",
    "\n",
    "### Solve some Bayesian statistics problems.\n",
    "\n",
    "**Monte Hall**\n",
    "- There is a game show with 3 doors.  Behind 2 of the doors are goats and behind 1 is a car.\n",
    "- Contestant pick a door. One of the two remaining doors is opened to reveal a goat.\n",
    "- Contestant is then asked whether they want to keep their current door or select the other non opened door.\n",
    "- Intuition makes us believe that every door has an equal opportunity of having a goat/car behind it, so all things considered the odds of the car being behind the current door or the other option is the same.\n",
    "- **Enter Bayes**, however its not. \n"
   ]
  },
  {
   "cell_type": "markdown",
   "metadata": {},
   "source": [
    "**Bayes Example**  \n",
    "You work at a financial services company that offers individual retirement accounts (IRAs). To target high potential customers, you want to find out if people with children are more likely to invest in IRAs.\n",
    "So far you have found:\n",
    "\n",
    "- 30% of all Americans have IRAs.\n",
    "- half of Americans have children.\n",
    "- two-thirds of those with IRAs have children.\n",
    "- Based on this information, what is the probability that someone with children has an IRA?\n",
    "\n",
    "Answer:\n",
    "\n",
    "- $P(ira) = 0.30$  \n",
    "- $P(child) = 0.50$\n",
    "- $P(child|ira) = 0.66$\n",
    "\n",
    "\n",
    "$P(ira | child) = \\frac{P(child|ira) \\cdot P(ira)}{P(child)}$\n",
    "\n",
    "$ 0.198= \\frac{0.66 \\cdot 0.30}{0.50}$\n",
    "\n",
    "\n",
    "Probability of an American having an IRA _given_ they have a child is 0.396 (approx. %40).  \n",
    "$P(ira | child) = 0.396$"
   ]
  },
  {
   "cell_type": "code",
   "execution_count": 26,
   "metadata": {},
   "outputs": [
    {
     "data": {
      "text/plain": [
       "0.396"
      ]
     },
     "execution_count": 26,
     "metadata": {},
     "output_type": "execute_result"
    }
   ],
   "source": [
    "(0.66*0.3 )/0.5"
   ]
  },
  {
   "cell_type": "markdown",
   "metadata": {},
   "source": [
    "### Describe the relationship among parameter, statistic, sample, and population\n",
    "\n",
    "|   |   |\n",
    "| --- | --- |\n",
    "| **Population** : The whole / every member that exists in a group (_all_ students at OSU) | **Parameter** : Value that tells us something about a _population_ (Such as Mean, Median or Mode). |\n",
    "| **Sample** : Portion taken from the population. (Use a random number generator to select 2000 students from enrollment records) | **Statistic** : Value that tells us something about a _sample_ (Such as Mean, Median or Mode). |\n",
    "\n",
    "\n",
    "\n",
    "### Understand how Bayesian Inference connects Bayesian Probability.\n",
    "- Similar to the way we use information to update a belief with Bayesian Probability, we use new information to update the previous.\n",
    "- With Bayesian Probability we calculate a single probability of an event given the outcome of another event.\n",
    "- Bayesian inference is used the same way but instead of a single probability being estimated, we're applying it or a probability distribution. \n",
    "    - Does our understanding of a probability distribution of some event\n",
    "\n",
    "### Describe the Posterior Distribution.\n",
    "- The posterior distribution is the result of taking the prior distribution and the observed observation and combining them so that we come to an updated distribution.\n",
    "\n",
    "\n",
    "## $$ P(A|B) = \\frac{P(B|A)P(A)}{P(B)} \\Rightarrow f(\\theta |y) = \\frac{P(y|\\theta)P(\\theta)}{P(y)}$$\n",
    "\n",
    "**$f(\\theta)$** : Distribution of $\\theta$ given no supplemental information\n",
    "    - Prior Distribution/Belief\n",
    "**$f(y|\\theta)$** : Likelihood Function relating $\\theta$ to $y$\n",
    "    - The \"Likelihood\"\n",
    "**$f(y)$** : normalizing constant to ensure $f(\\theta |y)$ is a valid probability.\n",
    "    - Marginal Likelihood of $y$.\n",
    "\n",
    "Posterior is a compromise of the prior and the likelihood.\n",
    "\n",
    "\n",
    "### Identify methods for choosing a prior and a likelihood.\n",
    "- If prior beliefs are too strong, our posterior will be dominated by the prior.\n",
    "- if prior beliefs are too vague, our posterior will be dominated by the data.\n",
    "- conjugacy between your prior and likelihood\n",
    "- likelihood dist should only influence the posterior , develop prior first and then add likelihood\n",
    "\n",
    "**Prior**\n",
    "Our prior distribution should summarize our beliefs about P (our distribution) _prior_ to seeing any data.\n",
    "- Often times we can manipulate the Beta distribution family to find a continuous distribution that we believe represents how we think the distribution exists. (Manipulation of A and B creates different distributions.\n",
    "\n",
    "**Likelihood**\n",
    "The likelihood function to model how the data are generated.\n",
    "- We're going to learn about the maximum likelihood estimate later in the week which is beneficial for identifying the optimal likelihood for the data.\n",
    "\n",
    "### Understand how simulations play such a large role in Bayesian Inference.\n",
    "- conjugacy is limiting, using simulation allows use to use more complicated distribution combinations\n",
    "- computer powers allow more complex problems\n"
   ]
  },
  {
   "cell_type": "markdown",
   "metadata": {},
   "source": [
    "# Monte Carlo Markov Chains (MCMC)\n",
    "\n",
    "**Basic:** MCMC allows us to leverage computers to do Bayesian statistics.\n",
    "\n",
    "**Intermediate:** MCMC is a method that can find the posterior distribution of our parameter of interest. Specifically, this type of algorithm generates Monte Carlo simulations in a way that relies on the Markov property, then accepts these simulations at a certain rate to get the posterior distribution\n",
    "\n",
    "### Identify the Markov property.\n",
    "- Markov Chains are a way for us to see how random varaibles change or move from one state to another over time.\n",
    "- We use these to study on average how likely an event will happen.\n",
    "\n",
    "$$\n",
    "f(X_{t+1}|X_t) = f(X_{t+1}|X_t, X_{t-1}, X_{t-2}, \\ldots, X_1)\n",
    "$$\n",
    "\n",
    "It doesn't matter what happened before time $t$ every event has the same possible probabilities for outcomes or paths to take for time $t+1$.  Essentially, once a chain has started the event that came before it does not affect the probabilities of what will come next.\n",
    "TL;DR of __Markov Property__: if i know what is happening at time t, i know just as much about what will happen at t+1, without having to back to t=1.\n",
    "\n",
    "\n",
    "### Describe Monte Carlo simulations.\n",
    "- powerful way to model complex systems by generating random numbers\n",
    "\n",
    "### Describe how MCMC works.\n",
    "- MCMC is a method that can find the posterior distribution of our parameter of interest. Specifically, this type of algorithm generates Monte Carlo simulations in a way that relies on the Markov property, then accepts these simulations at a certain rate to get the posterior distribution.\n",
    "\n",
    "- Monte Carlo Methods\n",
    "    - large random sampling process to generate numerical results \n",
    "- Markov Chains\n",
    "    - when we sample random numbers, we're going to rely on the previous random number to help randomly generate the next one\n",
    "- Acceptance Rejection Sampling\n",
    "    - specific type of Monte Carlo\n",
    "    - decide to keep or discard it \n",
    "    - Keeps in going in the right direction\n",
    "    \n",
    "### Identify situations where MCMC is beneficial.\n",
    "- helpful in cases when we don't have conjugate priors/posteriors\n"
   ]
  },
  {
   "cell_type": "markdown",
   "metadata": {},
   "source": [
    "# PyMC & Bayesian Regression\n",
    "\n",
    "### Fit models in PyMC.\n",
    "- MCMC creates a posterior distributions and then samples a large number of times from it"
   ]
  },
  {
   "cell_type": "code",
   "execution_count": 27,
   "metadata": {},
   "outputs": [],
   "source": [
    "import pymc3 as pm\n",
    "import pandas as pd\n",
    "df = pd.read_csv('../data/heights.csv', index_col=0)\n",
    "\n",
    "model = pm.Model()"
   ]
  },
  {
   "cell_type": "code",
   "execution_count": 28,
   "metadata": {},
   "outputs": [],
   "source": [
    "# Set priors for parameters\n",
    "# these are 3 potential posterior distributions that we're going to sample from\n",
    "with model:\n",
    "    beta_0 = pm.Normal('beta_0', mu=0, sd=5) # normal dist, mean of 0 STD of 5\n",
    "\n",
    "    \n",
    "    beta_1 = pm.Normal('beta_1', mu=1, sd=0.2) # normal dist, mean 1 STD of 0.2\n",
    "\n",
    "    \n",
    "    sigma = pm.Uniform('sigma', lower=0, upper=8) # uniform dist, min 0, max 8"
   ]
  },
  {
   "cell_type": "code",
   "execution_count": 29,
   "metadata": {},
   "outputs": [],
   "source": [
    "# Set likelihood function.\n",
    "with model:\n",
    "    # Likelihood (sampling distribution) of observations\n",
    "    Y_obs = pm.Normal('Y_obs',\n",
    "                      mu = beta_0 + beta_1*df['Mheight'], \n",
    "                      sd = sigma,\n",
    "                      observed = df['Dheight'])"
   ]
  },
  {
   "cell_type": "code",
   "execution_count": 30,
   "metadata": {},
   "outputs": [
    {
     "name": "stderr",
     "output_type": "stream",
     "text": [
      "/Users/adibronshtein/anaconda3/lib/python3.7/site-packages/pymc3/tuning/starting.py:61: UserWarning: find_MAP should not be used to initialize the NUTS sampler, simply call pymc3.sample() and it will automatically initialize NUTS in a better way.\n",
      "  warnings.warn('find_MAP should not be used to initialize the NUTS sampler, simply call pymc3.sample() and it will automatically initialize NUTS in a better way.')\n",
      "logp = -3,097.2, ||grad|| = 0.047534: 100%|██████████| 33/33 [00:00<00:00, 1409.63it/s]  \n",
      "Auto-assigning NUTS sampler...\n",
      "Initializing NUTS using jitter+adapt_diag...\n",
      "Multiprocess sampling (2 chains in 2 jobs)\n",
      "NUTS: [sigma, beta_1, beta_0]\n",
      "Sampling 2 chains: 100%|██████████| 22000/22000 [03:32<00:00, 103.73draws/s]\n",
      "The acceptance probability does not match the target. It is 0.8835480776041877, but should be close to 0.8. Try to increase the number of tuning steps.\n"
     ]
    }
   ],
   "source": [
    "with model:\n",
    "    map_estimate = pm.find_MAP(model=model)\n",
    "    trace = pm.sample(10000, tune=1000, start = map_estimate, chains = 2)"
   ]
  },
  {
   "cell_type": "markdown",
   "metadata": {},
   "source": [
    "### Interpret traceplots and posterior distributions."
   ]
  },
  {
   "cell_type": "code",
   "execution_count": 31,
   "metadata": {},
   "outputs": [
    {
     "name": "stderr",
     "output_type": "stream",
     "text": [
      "UsageError: Line magic function `%` not found.\n"
     ]
    }
   ],
   "source": [
    "% matplotlib inline\n",
    "pm.traceplot(trace);\n"
   ]
  },
  {
   "cell_type": "code",
   "execution_count": null,
   "metadata": {},
   "outputs": [],
   "source": [
    "pm.summary(trace).round(2)"
   ]
  },
  {
   "cell_type": "code",
   "execution_count": null,
   "metadata": {},
   "outputs": [],
   "source": [
    "(0.4*0.6)/0.33"
   ]
  },
  {
   "cell_type": "markdown",
   "metadata": {},
   "source": [
    "# Conjugacy, Maximum Likelihood\n",
    "\n",
    "### Define conjugacy.\n",
    "- Basically our prior and posterior distributions are the same or follow the same trends.  If this occurs they prior and posterior can be referred to as Conjugate Distributions.\n",
    "- You can think of this as a situation in which the likelyhood confirms our assumption about our prior, further supporting that hypothesis and strengthening the certainty in said distribution.\n"
   ]
  },
  {
   "cell_type": "markdown",
   "metadata": {},
   "source": [
    "### Maximum Likelihood\n",
    "\n",
    "**Understand the Beta Distribution**\n",
    "- distribution of probabilites, binary choice and their probabilities\n",
    "\n",
    "**Describe the concept of \"conjugacy\" and \"conjugate priors\" in Bayesian statistics**\n",
    "- conjugate priors are the linked distribution that allow simple calculations\n",
    "\n",
    "**Calculate the Maximum Likelihood Estimate**\n",
    "- highest point in the posterior distribution\n",
    "\n",
    "**Use the Beta-Binomial model to build our example in a Bayesian framework**\n",
    "- combining a beta prior with a binomial likelihood can generate a beta posterior within Bayesian terms"
   ]
  },
  {
   "cell_type": "markdown",
   "metadata": {},
   "source": [
    "---"
   ]
  }
 ],
 "metadata": {
  "kernelspec": {
   "display_name": "Python 3",
   "language": "python",
   "name": "python3"
  },
  "language_info": {
   "codemirror_mode": {
    "name": "ipython",
    "version": 3
   },
   "file_extension": ".py",
   "mimetype": "text/x-python",
   "name": "python",
   "nbconvert_exporter": "python",
   "pygments_lexer": "ipython3",
   "version": "3.7.6"
  }
 },
 "nbformat": 4,
 "nbformat_minor": 4
}
