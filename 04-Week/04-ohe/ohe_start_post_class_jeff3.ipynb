{
 "cells": [
  {
   "cell_type": "markdown",
   "metadata": {},
   "source": [
    "# OneHotEncoder\n",
    "\n",
    "_By Jeff Hale_\n",
    "\n",
    "---\n",
    "\n",
    "## Learning Objectives\n",
    "By the end of this lesson students will be able to:\n",
    "\n",
    "- Understand when you would want to use OneHotEncoder \n",
    "- Use OneHotEncoder to create dummy variables for training and test data\n",
    "- Create a baseline model for a classification project\n",
    "- Generate a confusion matrix\n",
    "- Compute the sensitivity from a confusion matrix\n",
    "\n",
    "---"
   ]
  },
  {
   "cell_type": "markdown",
   "metadata": {},
   "source": [
    "## OneHotEncoder"
   ]
  },
  {
   "cell_type": "markdown",
   "metadata": {},
   "source": [
    "One hot encoder is extremely helpful for dummy encoding variables for machine learning so that you don't have to worry about information from the test set leaking into the training set during the training process."
   ]
  },
  {
   "cell_type": "markdown",
   "metadata": {},
   "source": [
    "### Read in titanic data from seaborn"
   ]
  },
  {
   "cell_type": "code",
   "execution_count": null,
   "metadata": {},
   "outputs": [],
   "source": [
    "import pandas as pd\n",
    "import numpy as np\n",
    "import seaborn as sns\n",
    "\n",
    "from sklearn.model_selection import train_test_split\n",
    "from sklearn.linear_model import LogisticRegression\n",
    "from sklearn.preprocessing import OneHotEncoder\n",
    "from sklearn.metrics import confusion_matrix\n",
    "from sklearn.metrics import accuracy_score"
   ]
  },
  {
   "cell_type": "code",
   "execution_count": null,
   "metadata": {},
   "outputs": [],
   "source": [
    "df_titanic = sns.load_dataset('titanic', )\n",
    "df_titanic.head()"
   ]
  },
  {
   "cell_type": "code",
   "execution_count": null,
   "metadata": {},
   "outputs": [],
   "source": [
    "df_titanic.info()"
   ]
  },
  {
   "cell_type": "markdown",
   "metadata": {},
   "source": [
    "## Split into x and y. \n",
    "\n",
    "Let's use `survived` for y and `sex` and `class` for X."
   ]
  },
  {
   "cell_type": "code",
   "execution_count": null,
   "metadata": {},
   "outputs": [],
   "source": [
    "X = df_titanic[['sex', 'class']]\n",
    "y = df_titanic['survived']"
   ]
  },
  {
   "cell_type": "code",
   "execution_count": null,
   "metadata": {},
   "outputs": [],
   "source": [
    "X.head()"
   ]
  },
  {
   "cell_type": "code",
   "execution_count": null,
   "metadata": {},
   "outputs": [],
   "source": []
  },
  {
   "cell_type": "code",
   "execution_count": null,
   "metadata": {},
   "outputs": [],
   "source": [
    "y.head()"
   ]
  },
  {
   "cell_type": "code",
   "execution_count": null,
   "metadata": {},
   "outputs": [],
   "source": [
    "y.value_counts()"
   ]
  },
  {
   "cell_type": "code",
   "execution_count": null,
   "metadata": {},
   "outputs": [],
   "source": [
    "y.value_counts(normalize=True)"
   ]
  },
  {
   "cell_type": "markdown",
   "metadata": {},
   "source": [
    "## Split into training and test sets"
   ]
  },
  {
   "cell_type": "code",
   "execution_count": null,
   "metadata": {},
   "outputs": [],
   "source": [
    "X_train, X_test, y_train, y_test = train_test_split(X, y, random_state=7)"
   ]
  },
  {
   "cell_type": "code",
   "execution_count": null,
   "metadata": {},
   "outputs": [],
   "source": [
    "X_train.head(2)"
   ]
  },
  {
   "cell_type": "code",
   "execution_count": null,
   "metadata": {},
   "outputs": [],
   "source": [
    "X_test.head(2)"
   ]
  },
  {
   "cell_type": "code",
   "execution_count": null,
   "metadata": {},
   "outputs": [],
   "source": [
    "y_train.head(2)"
   ]
  },
  {
   "cell_type": "code",
   "execution_count": null,
   "metadata": {},
   "outputs": [],
   "source": [
    "y_test.head(2)"
   ]
  },
  {
   "cell_type": "code",
   "execution_count": null,
   "metadata": {},
   "outputs": [],
   "source": []
  },
  {
   "cell_type": "markdown",
   "metadata": {},
   "source": [
    "### Make an object from the OneHotEncoder class. \n",
    "\n",
    "#### Warning! ☝️  The arguments are important here. "
   ]
  },
  {
   "cell_type": "code",
   "execution_count": null,
   "metadata": {},
   "outputs": [],
   "source": [
    "ohe = OneHotEncoder(sparse=False, handle_unknown='ignore')\n",
    "ohe"
   ]
  },
  {
   "cell_type": "markdown",
   "metadata": {},
   "source": [
    "### Save the fit and transformed training data"
   ]
  },
  {
   "cell_type": "code",
   "execution_count": null,
   "metadata": {},
   "outputs": [],
   "source": [
    "X_train_dummified = ohe.fit_transform(X_train, y_train)\n",
    "X_train_dummified"
   ]
  },
  {
   "cell_type": "markdown",
   "metadata": {},
   "source": [
    "### Save the transformed `X_test`"
   ]
  },
  {
   "cell_type": "code",
   "execution_count": null,
   "metadata": {},
   "outputs": [],
   "source": [
    "X_test_dummified = ohe.transform(X_test)\n",
    "X_test_dummified"
   ]
  },
  {
   "cell_type": "code",
   "execution_count": null,
   "metadata": {},
   "outputs": [],
   "source": [
    "pd.get_dummies(X_train)"
   ]
  },
  {
   "cell_type": "markdown",
   "metadata": {},
   "source": [
    "## Make a LogisticRegression model"
   ]
  },
  {
   "cell_type": "code",
   "execution_count": null,
   "metadata": {},
   "outputs": [],
   "source": [
    "logreg = LogisticRegression()\n"
   ]
  },
  {
   "cell_type": "code",
   "execution_count": null,
   "metadata": {},
   "outputs": [],
   "source": []
  },
  {
   "cell_type": "markdown",
   "metadata": {},
   "source": [
    "### Fit the model"
   ]
  },
  {
   "cell_type": "code",
   "execution_count": null,
   "metadata": {},
   "outputs": [],
   "source": [
    "logreg.fit(X_train_dummified, y_train)"
   ]
  },
  {
   "cell_type": "markdown",
   "metadata": {},
   "source": [
    "### Create the model predictions"
   ]
  },
  {
   "cell_type": "code",
   "execution_count": 89,
   "metadata": {},
   "outputs": [],
   "source": [
    "preds = logreg.predict(X_test_dummified)"
   ]
  },
  {
   "cell_type": "code",
   "execution_count": 90,
   "metadata": {},
   "outputs": [
    {
     "data": {
      "text/plain": [
       "array([0, 0, 0, 0, 1, 1, 0, 0, 0, 1, 1, 0, 1, 1, 0, 0, 0, 0, 0, 0, 0, 0,\n",
       "       0, 0, 0, 0, 1, 0, 0, 1, 1, 1, 0, 0, 0, 0, 0, 0, 0, 0, 0, 0, 0, 0,\n",
       "       0, 0, 0, 0, 0, 0, 0, 1, 1, 0, 0, 0, 1, 0, 0, 1, 1, 0, 1, 0, 1, 0,\n",
       "       0, 1, 1, 1, 0, 0, 0, 0, 0, 0, 1, 0, 1, 0, 1, 0, 0, 1, 1, 0, 0, 1,\n",
       "       1, 0, 1, 0, 1, 1, 0, 1, 1, 0, 0, 0, 1, 1, 0, 0, 0, 0, 0, 1, 0, 0,\n",
       "       0, 0, 1, 1, 0, 0, 0, 1, 1, 0, 1, 0, 0, 0, 0, 0, 0, 0, 0, 1, 0, 0,\n",
       "       1, 1, 0, 1, 1, 0, 1, 0, 1, 0, 1, 0, 0, 0, 0, 1, 1, 0, 0, 0, 1, 1,\n",
       "       0, 1, 0, 0, 0, 0, 1, 1, 1, 1, 0, 0, 0, 0, 0, 0, 0, 0, 0, 1, 1, 0,\n",
       "       0, 0, 1, 1, 0, 1, 0, 0, 1, 0, 1, 0, 0, 0, 1, 0, 1, 0, 1, 0, 1, 0,\n",
       "       1, 1, 0, 1, 0, 0, 0, 1, 0, 0, 0, 0, 0, 1, 1, 0, 1, 0, 0, 0, 0, 0,\n",
       "       0, 0, 1])"
      ]
     },
     "execution_count": 90,
     "metadata": {},
     "output_type": "execute_result"
    }
   ],
   "source": [
    "preds"
   ]
  },
  {
   "cell_type": "code",
   "execution_count": 77,
   "metadata": {},
   "outputs": [
    {
     "data": {
      "text/plain": [
       "array([[0.91001718, 0.08998282],\n",
       "       [0.777694  , 0.222306  ],\n",
       "       [0.91001718, 0.08998282],\n",
       "       [0.91001718, 0.08998282],\n",
       "       [0.09931411, 0.90068589],\n",
       "       [0.16955327, 0.83044673],\n",
       "       [0.91001718, 0.08998282],\n",
       "       [0.91001718, 0.08998282],\n",
       "       [0.777694  , 0.222306  ],\n",
       "       [0.09931411, 0.90068589],\n",
       "       [0.16955327, 0.83044673],\n",
       "       [0.91001718, 0.08998282],\n",
       "       [0.16955327, 0.83044673],\n",
       "       [0.16955327, 0.83044673],\n",
       "       [0.91001718, 0.08998282],\n",
       "       [0.91001718, 0.08998282],\n",
       "       [0.91001718, 0.08998282],\n",
       "       [0.777694  , 0.222306  ],\n",
       "       [0.91001718, 0.08998282],\n",
       "       [0.777694  , 0.222306  ],\n",
       "       [0.65389534, 0.34610466],\n",
       "       [0.91001718, 0.08998282],\n",
       "       [0.65389534, 0.34610466],\n",
       "       [0.91001718, 0.08998282],\n",
       "       [0.91001718, 0.08998282],\n",
       "       [0.91001718, 0.08998282],\n",
       "       [0.16955327, 0.83044673],\n",
       "       [0.91001718, 0.08998282],\n",
       "       [0.777694  , 0.222306  ],\n",
       "       [0.09931411, 0.90068589],\n",
       "       [0.16955327, 0.83044673],\n",
       "       [0.16955327, 0.83044673],\n",
       "       [0.91001718, 0.08998282],\n",
       "       [0.777694  , 0.222306  ],\n",
       "       [0.91001718, 0.08998282],\n",
       "       [0.91001718, 0.08998282],\n",
       "       [0.65389534, 0.34610466],\n",
       "       [0.91001718, 0.08998282],\n",
       "       [0.91001718, 0.08998282],\n",
       "       [0.777694  , 0.222306  ],\n",
       "       [0.91001718, 0.08998282],\n",
       "       [0.91001718, 0.08998282],\n",
       "       [0.91001718, 0.08998282],\n",
       "       [0.91001718, 0.08998282],\n",
       "       [0.91001718, 0.08998282],\n",
       "       [0.91001718, 0.08998282],\n",
       "       [0.91001718, 0.08998282],\n",
       "       [0.91001718, 0.08998282],\n",
       "       [0.777694  , 0.222306  ],\n",
       "       [0.91001718, 0.08998282],\n",
       "       [0.91001718, 0.08998282],\n",
       "       [0.16955327, 0.83044673],\n",
       "       [0.09931411, 0.90068589],\n",
       "       [0.777694  , 0.222306  ],\n",
       "       [0.91001718, 0.08998282],\n",
       "       [0.91001718, 0.08998282],\n",
       "       [0.37116311, 0.62883689],\n",
       "       [0.91001718, 0.08998282],\n",
       "       [0.91001718, 0.08998282],\n",
       "       [0.37116311, 0.62883689],\n",
       "       [0.09931411, 0.90068589],\n",
       "       [0.777694  , 0.222306  ],\n",
       "       [0.37116311, 0.62883689],\n",
       "       [0.65389534, 0.34610466],\n",
       "       [0.37116311, 0.62883689],\n",
       "       [0.91001718, 0.08998282],\n",
       "       [0.777694  , 0.222306  ],\n",
       "       [0.37116311, 0.62883689],\n",
       "       [0.37116311, 0.62883689],\n",
       "       [0.09931411, 0.90068589],\n",
       "       [0.65389534, 0.34610466],\n",
       "       [0.91001718, 0.08998282],\n",
       "       [0.91001718, 0.08998282],\n",
       "       [0.65389534, 0.34610466],\n",
       "       [0.777694  , 0.222306  ],\n",
       "       [0.91001718, 0.08998282],\n",
       "       [0.09931411, 0.90068589],\n",
       "       [0.65389534, 0.34610466],\n",
       "       [0.37116311, 0.62883689],\n",
       "       [0.65389534, 0.34610466],\n",
       "       [0.37116311, 0.62883689],\n",
       "       [0.91001718, 0.08998282],\n",
       "       [0.91001718, 0.08998282],\n",
       "       [0.37116311, 0.62883689],\n",
       "       [0.09931411, 0.90068589],\n",
       "       [0.91001718, 0.08998282],\n",
       "       [0.91001718, 0.08998282],\n",
       "       [0.37116311, 0.62883689],\n",
       "       [0.37116311, 0.62883689],\n",
       "       [0.65389534, 0.34610466],\n",
       "       [0.37116311, 0.62883689],\n",
       "       [0.65389534, 0.34610466],\n",
       "       [0.09931411, 0.90068589],\n",
       "       [0.37116311, 0.62883689],\n",
       "       [0.91001718, 0.08998282],\n",
       "       [0.16955327, 0.83044673],\n",
       "       [0.37116311, 0.62883689],\n",
       "       [0.91001718, 0.08998282],\n",
       "       [0.65389534, 0.34610466],\n",
       "       [0.91001718, 0.08998282],\n",
       "       [0.09931411, 0.90068589],\n",
       "       [0.16955327, 0.83044673],\n",
       "       [0.91001718, 0.08998282],\n",
       "       [0.91001718, 0.08998282],\n",
       "       [0.91001718, 0.08998282],\n",
       "       [0.91001718, 0.08998282],\n",
       "       [0.91001718, 0.08998282],\n",
       "       [0.09931411, 0.90068589],\n",
       "       [0.91001718, 0.08998282],\n",
       "       [0.91001718, 0.08998282],\n",
       "       [0.91001718, 0.08998282],\n",
       "       [0.91001718, 0.08998282],\n",
       "       [0.09931411, 0.90068589],\n",
       "       [0.16955327, 0.83044673],\n",
       "       [0.91001718, 0.08998282],\n",
       "       [0.65389534, 0.34610466],\n",
       "       [0.91001718, 0.08998282],\n",
       "       [0.16955327, 0.83044673],\n",
       "       [0.16955327, 0.83044673],\n",
       "       [0.91001718, 0.08998282],\n",
       "       [0.09931411, 0.90068589],\n",
       "       [0.91001718, 0.08998282],\n",
       "       [0.91001718, 0.08998282],\n",
       "       [0.91001718, 0.08998282],\n",
       "       [0.65389534, 0.34610466],\n",
       "       [0.91001718, 0.08998282],\n",
       "       [0.65389534, 0.34610466],\n",
       "       [0.91001718, 0.08998282],\n",
       "       [0.91001718, 0.08998282],\n",
       "       [0.09931411, 0.90068589],\n",
       "       [0.91001718, 0.08998282],\n",
       "       [0.91001718, 0.08998282],\n",
       "       [0.16955327, 0.83044673],\n",
       "       [0.09931411, 0.90068589],\n",
       "       [0.91001718, 0.08998282],\n",
       "       [0.37116311, 0.62883689],\n",
       "       [0.37116311, 0.62883689],\n",
       "       [0.65389534, 0.34610466],\n",
       "       [0.37116311, 0.62883689],\n",
       "       [0.65389534, 0.34610466],\n",
       "       [0.37116311, 0.62883689],\n",
       "       [0.65389534, 0.34610466],\n",
       "       [0.09931411, 0.90068589],\n",
       "       [0.65389534, 0.34610466],\n",
       "       [0.91001718, 0.08998282],\n",
       "       [0.91001718, 0.08998282],\n",
       "       [0.777694  , 0.222306  ],\n",
       "       [0.37116311, 0.62883689],\n",
       "       [0.37116311, 0.62883689],\n",
       "       [0.91001718, 0.08998282],\n",
       "       [0.91001718, 0.08998282],\n",
       "       [0.65389534, 0.34610466],\n",
       "       [0.16955327, 0.83044673],\n",
       "       [0.09931411, 0.90068589],\n",
       "       [0.91001718, 0.08998282],\n",
       "       [0.16955327, 0.83044673],\n",
       "       [0.777694  , 0.222306  ],\n",
       "       [0.91001718, 0.08998282],\n",
       "       [0.65389534, 0.34610466],\n",
       "       [0.91001718, 0.08998282],\n",
       "       [0.37116311, 0.62883689],\n",
       "       [0.37116311, 0.62883689],\n",
       "       [0.37116311, 0.62883689],\n",
       "       [0.16955327, 0.83044673],\n",
       "       [0.65389534, 0.34610466],\n",
       "       [0.777694  , 0.222306  ],\n",
       "       [0.91001718, 0.08998282],\n",
       "       [0.91001718, 0.08998282],\n",
       "       [0.65389534, 0.34610466],\n",
       "       [0.91001718, 0.08998282],\n",
       "       [0.91001718, 0.08998282],\n",
       "       [0.65389534, 0.34610466],\n",
       "       [0.91001718, 0.08998282],\n",
       "       [0.37116311, 0.62883689],\n",
       "       [0.09931411, 0.90068589],\n",
       "       [0.65389534, 0.34610466],\n",
       "       [0.91001718, 0.08998282],\n",
       "       [0.91001718, 0.08998282],\n",
       "       [0.16955327, 0.83044673],\n",
       "       [0.37116311, 0.62883689],\n",
       "       [0.91001718, 0.08998282],\n",
       "       [0.09931411, 0.90068589],\n",
       "       [0.91001718, 0.08998282],\n",
       "       [0.91001718, 0.08998282],\n",
       "       [0.37116311, 0.62883689],\n",
       "       [0.91001718, 0.08998282],\n",
       "       [0.09931411, 0.90068589],\n",
       "       [0.91001718, 0.08998282],\n",
       "       [0.91001718, 0.08998282],\n",
       "       [0.91001718, 0.08998282],\n",
       "       [0.09931411, 0.90068589],\n",
       "       [0.91001718, 0.08998282],\n",
       "       [0.09931411, 0.90068589],\n",
       "       [0.91001718, 0.08998282],\n",
       "       [0.37116311, 0.62883689],\n",
       "       [0.91001718, 0.08998282],\n",
       "       [0.16955327, 0.83044673],\n",
       "       [0.65389534, 0.34610466],\n",
       "       [0.16955327, 0.83044673],\n",
       "       [0.37116311, 0.62883689],\n",
       "       [0.777694  , 0.222306  ],\n",
       "       [0.16955327, 0.83044673],\n",
       "       [0.65389534, 0.34610466],\n",
       "       [0.91001718, 0.08998282],\n",
       "       [0.91001718, 0.08998282],\n",
       "       [0.37116311, 0.62883689],\n",
       "       [0.65389534, 0.34610466],\n",
       "       [0.65389534, 0.34610466],\n",
       "       [0.91001718, 0.08998282],\n",
       "       [0.65389534, 0.34610466],\n",
       "       [0.91001718, 0.08998282],\n",
       "       [0.09931411, 0.90068589],\n",
       "       [0.37116311, 0.62883689],\n",
       "       [0.91001718, 0.08998282],\n",
       "       [0.09931411, 0.90068589],\n",
       "       [0.777694  , 0.222306  ],\n",
       "       [0.777694  , 0.222306  ],\n",
       "       [0.91001718, 0.08998282],\n",
       "       [0.91001718, 0.08998282],\n",
       "       [0.91001718, 0.08998282],\n",
       "       [0.91001718, 0.08998282],\n",
       "       [0.91001718, 0.08998282],\n",
       "       [0.16955327, 0.83044673]])"
      ]
     },
     "execution_count": 77,
     "metadata": {},
     "output_type": "execute_result"
    }
   ],
   "source": [
    "probs = logreg.predict_proba(X_test_dummified)\n",
    "probs"
   ]
  },
  {
   "cell_type": "code",
   "execution_count": 58,
   "metadata": {},
   "outputs": [
    {
     "data": {
      "text/plain": [
       "0.7309417040358744"
      ]
     },
     "execution_count": 58,
     "metadata": {},
     "output_type": "execute_result"
    }
   ],
   "source": [
    "logreg.score(X_test_dummified, y_test)"
   ]
  },
  {
   "cell_type": "markdown",
   "metadata": {},
   "source": [
    "### Generate the confusion matrix"
   ]
  },
  {
   "cell_type": "code",
   "execution_count": 59,
   "metadata": {},
   "outputs": [
    {
     "data": {
      "text/plain": [
       "array([[111,  24],\n",
       "       [ 36,  52]])"
      ]
     },
     "execution_count": 59,
     "metadata": {},
     "output_type": "execute_result"
    }
   ],
   "source": [
    "confusion_matrix(y_test, preds)"
   ]
  },
  {
   "cell_type": "code",
   "execution_count": 60,
   "metadata": {},
   "outputs": [
    {
     "data": {
      "text/plain": [
       "111"
      ]
     },
     "execution_count": 60,
     "metadata": {},
     "output_type": "execute_result"
    }
   ],
   "source": [
    "tn, fp, fn, tp = confusion_matrix(y_test, preds).ravel()\n",
    "tn"
   ]
  },
  {
   "cell_type": "code",
   "execution_count": 61,
   "metadata": {},
   "outputs": [
    {
     "data": {
      "text/plain": [
       "24"
      ]
     },
     "execution_count": 61,
     "metadata": {},
     "output_type": "execute_result"
    }
   ],
   "source": [
    "fp"
   ]
  },
  {
   "cell_type": "code",
   "execution_count": 62,
   "metadata": {},
   "outputs": [
    {
     "data": {
      "text/plain": [
       "36"
      ]
     },
     "execution_count": 62,
     "metadata": {},
     "output_type": "execute_result"
    }
   ],
   "source": [
    "fn"
   ]
  },
  {
   "cell_type": "code",
   "execution_count": 63,
   "metadata": {},
   "outputs": [
    {
     "data": {
      "text/plain": [
       "52"
      ]
     },
     "execution_count": 63,
     "metadata": {},
     "output_type": "execute_result"
    }
   ],
   "source": [
    "tp"
   ]
  },
  {
   "cell_type": "markdown",
   "metadata": {},
   "source": [
    "### Try out the plot_confusion_matrix method"
   ]
  },
  {
   "cell_type": "code",
   "execution_count": 64,
   "metadata": {},
   "outputs": [],
   "source": [
    "from sklearn.metrics import plot_confusion_matrix"
   ]
  },
  {
   "cell_type": "code",
   "execution_count": 65,
   "metadata": {},
   "outputs": [
    {
     "data": {
      "text/plain": [
       "<sklearn.metrics._plot.confusion_matrix.ConfusionMatrixDisplay at 0x1a19093610>"
      ]
     },
     "execution_count": 65,
     "metadata": {},
     "output_type": "execute_result"
    },
    {
     "data": {
      "image/png": "[encoded data removed]",
      "text/plain": [
       "<Figure size 432x288 with 2 Axes>"
      ]
     },
     "metadata": {
      "needs_background": "light"
     },
     "output_type": "display_data"
    }
   ],
   "source": [
    "plot_confusion_matrix(logreg, X_test_dummified, y_test, values_format = '.5g')"
   ]
  },
  {
   "cell_type": "markdown",
   "metadata": {},
   "source": [
    "Accuracy = 73%"
   ]
  },
  {
   "cell_type": "markdown",
   "metadata": {},
   "source": [
    "#### Compute the True Postive Rate"
   ]
  },
  {
   "cell_type": "code",
   "execution_count": 66,
   "metadata": {},
   "outputs": [
    {
     "data": {
      "text/plain": [
       "0.5909090909090909"
      ]
     },
     "execution_count": 66,
     "metadata": {},
     "output_type": "execute_result"
    }
   ],
   "source": [
    "tp/(tp+fn)"
   ]
  },
  {
   "cell_type": "markdown",
   "metadata": {},
   "source": [
    "#### Compute the Sensitivity"
   ]
  },
  {
   "cell_type": "code",
   "execution_count": null,
   "metadata": {},
   "outputs": [],
   "source": []
  },
  {
   "cell_type": "markdown",
   "metadata": {},
   "source": [
    "#### Compute the Recall"
   ]
  },
  {
   "cell_type": "code",
   "execution_count": null,
   "metadata": {},
   "outputs": [],
   "source": []
  },
  {
   "cell_type": "markdown",
   "metadata": {},
   "source": [
    "#### Compute the Precision"
   ]
  },
  {
   "cell_type": "code",
   "execution_count": 67,
   "metadata": {},
   "outputs": [
    {
     "data": {
      "text/plain": [
       "0.6842105263157895"
      ]
     },
     "execution_count": 67,
     "metadata": {},
     "output_type": "execute_result"
    }
   ],
   "source": [
    "tp / (tp + fp)"
   ]
  },
  {
   "cell_type": "markdown",
   "metadata": {},
   "source": [
    "#### Compute the Specificity"
   ]
  },
  {
   "cell_type": "code",
   "execution_count": 68,
   "metadata": {},
   "outputs": [
    {
     "data": {
      "text/plain": [
       "0.8222222222222222"
      ]
     },
     "execution_count": 68,
     "metadata": {},
     "output_type": "execute_result"
    }
   ],
   "source": [
    "tn/ (tn + fp)"
   ]
  },
  {
   "cell_type": "code",
   "execution_count": 69,
   "metadata": {},
   "outputs": [],
   "source": [
    "from sklearn.metrics import recall_score, precision_score"
   ]
  },
  {
   "cell_type": "code",
   "execution_count": 70,
   "metadata": {},
   "outputs": [
    {
     "data": {
      "text/plain": [
       "0.5909090909090909"
      ]
     },
     "execution_count": 70,
     "metadata": {},
     "output_type": "execute_result"
    }
   ],
   "source": [
    "recall_score(y_test, preds)"
   ]
  },
  {
   "cell_type": "code",
   "execution_count": 71,
   "metadata": {},
   "outputs": [
    {
     "data": {
      "text/plain": [
       "0.6842105263157895"
      ]
     },
     "execution_count": 71,
     "metadata": {},
     "output_type": "execute_result"
    }
   ],
   "source": [
    "precision_score(y_test, preds)"
   ]
  },
  {
   "cell_type": "code",
   "execution_count": 72,
   "metadata": {},
   "outputs": [],
   "source": [
    "from sklearn.metrics import classification_report"
   ]
  },
  {
   "cell_type": "code",
   "execution_count": 73,
   "metadata": {},
   "outputs": [
    {
     "data": {
      "text/plain": [
       "{'0': {'precision': 0.7551020408163265,\n",
       "  'recall': 0.8222222222222222,\n",
       "  'f1-score': 0.7872340425531914,\n",
       "  'support': 135},\n",
       " '1': {'precision': 0.6842105263157895,\n",
       "  'recall': 0.5909090909090909,\n",
       "  'f1-score': 0.6341463414634148,\n",
       "  'support': 88},\n",
       " 'accuracy': 0.7309417040358744,\n",
       " 'macro avg': {'precision': 0.719656283566058,\n",
       "  'recall': 0.7065656565656566,\n",
       "  'f1-score': 0.7106901920083031,\n",
       "  'support': 223},\n",
       " 'weighted avg': {'precision': 0.7271269140179083,\n",
       "  'recall': 0.7309417040358744,\n",
       "  'f1-score': 0.7268227524370463,\n",
       "  'support': 223}}"
      ]
     },
     "execution_count": 73,
     "metadata": {},
     "output_type": "execute_result"
    }
   ],
   "source": [
    "classification_report(y_test, preds, output_dict=True)"
   ]
  },
  {
   "cell_type": "markdown",
   "metadata": {},
   "source": [
    "### Make the ROC curve"
   ]
  },
  {
   "cell_type": "code",
   "execution_count": 74,
   "metadata": {},
   "outputs": [],
   "source": [
    "from sklearn.metrics import roc_auc_score, plot_roc_curve\n",
    "import matplotlib.pyplot as plt"
   ]
  },
  {
   "cell_type": "code",
   "execution_count": 75,
   "metadata": {},
   "outputs": [
    {
     "data": {
      "text/plain": [
       "[<matplotlib.lines.Line2D at 0x1a19246f10>]"
      ]
     },
     "execution_count": 75,
     "metadata": {},
     "output_type": "execute_result"
    },
    {
     "data": {
      "image/png": "[encoded data removed]",
      "text/plain": [
       "<Figure size 432x288 with 1 Axes>"
      ]
     },
     "metadata": {
      "needs_background": "light"
     },
     "output_type": "display_data"
    }
   ],
   "source": [
    "plot_roc_curve(logreg, X_test_dummified, y_test);\n",
    "plt.plot([0, 1], [0, 1], 'k--')"
   ]
  },
  {
   "cell_type": "markdown",
   "metadata": {},
   "source": [
    "### What's the ROC AUC score?"
   ]
  },
  {
   "cell_type": "markdown",
   "metadata": {},
   "source": [
    "Recall that `.predict_proba()` method will return the probabilities of both classes in a numpy array."
   ]
  },
  {
   "cell_type": "code",
   "execution_count": 87,
   "metadata": {},
   "outputs": [
    {
     "data": {
      "text/plain": [
       "array([[0.91001718, 0.08998282],\n",
       "       [0.777694  , 0.222306  ],\n",
       "       [0.91001718, 0.08998282],\n",
       "       [0.91001718, 0.08998282],\n",
       "       [0.09931411, 0.90068589]])"
      ]
     },
     "execution_count": 87,
     "metadata": {},
     "output_type": "execute_result"
    }
   ],
   "source": [
    "both_probs = logreg.predict_proba(X_test_dummified)\n",
    "both_probs[:5]"
   ]
  },
  {
   "cell_type": "code",
   "execution_count": 88,
   "metadata": {},
   "outputs": [],
   "source": [
    "from sklearn.metrics import f1_score"
   ]
  },
  {
   "cell_type": "markdown",
   "metadata": {},
   "source": [
    "### F1 score\n",
    "\n",
    "2 *    (Precision * Recall)      /      (Precision  + Recall)"
   ]
  },
  {
   "cell_type": "code",
   "execution_count": 91,
   "metadata": {},
   "outputs": [
    {
     "data": {
      "text/plain": [
       "0.6341463414634148"
      ]
     },
     "execution_count": 91,
     "metadata": {},
     "output_type": "execute_result"
    }
   ],
   "source": [
    "f1_score(y_test, preds)"
   ]
  },
  {
   "cell_type": "markdown",
   "metadata": {},
   "source": [
    "### Balanced Accuracy Score"
   ]
  },
  {
   "cell_type": "markdown",
   "metadata": {},
   "source": [
    "Average of TPR and TNR\n",
    "\n",
    "(Sensitivity + Specificity) / 2"
   ]
  },
  {
   "cell_type": "code",
   "execution_count": 98,
   "metadata": {},
   "outputs": [
    {
     "data": {
      "text/plain": [
       "0.8222222222222222"
      ]
     },
     "execution_count": 98,
     "metadata": {},
     "output_type": "execute_result"
    }
   ],
   "source": [
    "specificity = tn / (tn + fp)\n",
    "specificity "
   ]
  },
  {
   "cell_type": "code",
   "execution_count": 99,
   "metadata": {},
   "outputs": [
    {
     "data": {
      "text/plain": [
       "0.5909090909090909"
      ]
     },
     "execution_count": 99,
     "metadata": {},
     "output_type": "execute_result"
    }
   ],
   "source": [
    "recall = recall_score(y_test, preds)\n",
    "recall"
   ]
  },
  {
   "cell_type": "code",
   "execution_count": 103,
   "metadata": {},
   "outputs": [
    {
     "data": {
      "text/plain": [
       "0.7065656565656566"
      ]
     },
     "execution_count": 103,
     "metadata": {},
     "output_type": "execute_result"
    }
   ],
   "source": [
    "(specificity + recall) /2"
   ]
  },
  {
   "cell_type": "code",
   "execution_count": 93,
   "metadata": {},
   "outputs": [],
   "source": [
    "from sklearn.metrics import balanced_accuracy_score"
   ]
  },
  {
   "cell_type": "code",
   "execution_count": 94,
   "metadata": {},
   "outputs": [
    {
     "data": {
      "text/plain": [
       "0.7065656565656566"
      ]
     },
     "execution_count": 94,
     "metadata": {},
     "output_type": "execute_result"
    }
   ],
   "source": [
    "balanced_accuracy_score(y_test, preds)"
   ]
  },
  {
   "cell_type": "markdown",
   "metadata": {},
   "source": [
    "### Put all the predicted probabilities for class 1 in a numpy array.\n",
    "\n",
    "Here we use a list comprehension and the `np.full()` method to make an array with just the predicted probabilities."
   ]
  },
  {
   "cell_type": "code",
   "execution_count": 84,
   "metadata": {},
   "outputs": [],
   "source": [
    "pred_proba = [probability[1] for probability in logreg.predict_proba(X_test_dummified)]\n",
    "probs = np.full(y_test.shape[0], pred_proba)"
   ]
  },
  {
   "cell_type": "code",
   "execution_count": 83,
   "metadata": {},
   "outputs": [
    {
     "data": {
      "text/plain": [
       "array([[0.91001718, 0.08998282],\n",
       "       [0.777694  , 0.222306  ],\n",
       "       [0.91001718, 0.08998282],\n",
       "       [0.91001718, 0.08998282],\n",
       "       [0.09931411, 0.90068589]])"
      ]
     },
     "execution_count": 83,
     "metadata": {},
     "output_type": "execute_result"
    }
   ],
   "source": [
    "probs[:5]"
   ]
  },
  {
   "cell_type": "code",
   "execution_count": 85,
   "metadata": {},
   "outputs": [
    {
     "data": {
      "text/plain": [
       "0.798526936026936"
      ]
     },
     "execution_count": 85,
     "metadata": {},
     "output_type": "execute_result"
    }
   ],
   "source": [
    "roc_auc_score(y_test, probs)"
   ]
  },
  {
   "cell_type": "markdown",
   "metadata": {},
   "source": [
    "### Just passing an array of the predictions (1 or 0) does not work!"
   ]
  },
  {
   "cell_type": "markdown",
   "metadata": {},
   "source": [
    "#### How good is that score?"
   ]
  },
  {
   "cell_type": "markdown",
   "metadata": {},
   "source": [
    "Not terrible. But we can likely improve our model."
   ]
  },
  {
   "cell_type": "markdown",
   "metadata": {},
   "source": [
    "## Baseline model"
   ]
  },
  {
   "cell_type": "code",
   "execution_count": null,
   "metadata": {},
   "outputs": [],
   "source": [
    "y_train.value_counts(normalize=True)"
   ]
  },
  {
   "cell_type": "markdown",
   "metadata": {},
   "source": [
    "#### Predict the most common class every time."
   ]
  },
  {
   "cell_type": "code",
   "execution_count": null,
   "metadata": {},
   "outputs": [],
   "source": [
    "from sklearn.metrics import accuracy_score"
   ]
  },
  {
   "cell_type": "code",
   "execution_count": null,
   "metadata": {},
   "outputs": [],
   "source": [
    "accuracy_score(np.zeros_like(y_test), y_test)"
   ]
  },
  {
   "cell_type": "markdown",
   "metadata": {},
   "source": [
    "### How does our LogisticRegression model perform compared to the baseline model?"
   ]
  },
  {
   "cell_type": "markdown",
   "metadata": {},
   "source": [
    " \n",
    " "
   ]
  },
  {
   "cell_type": "markdown",
   "metadata": {},
   "source": [
    "### How could we try to improve our model?"
   ]
  },
  {
   "cell_type": "markdown",
   "metadata": {},
   "source": [
    " \n"
   ]
  },
  {
   "cell_type": "markdown",
   "metadata": {},
   "source": [
    "# Summary\n",
    "\n",
    "You've seen how to use OneHotEncoder.\n",
    "\n",
    "You've practiced computing the recall."
   ]
  },
  {
   "cell_type": "markdown",
   "metadata": {},
   "source": [
    "### Check for Understanding"
   ]
  },
  {
   "cell_type": "markdown",
   "metadata": {},
   "source": [
    "- Why would you want to use OneHotEncoder instead of pd.get_dummies()?\n",
    "\n",
    "- How do you use OneHotEncoder with the test data?"
   ]
  },
  {
   "cell_type": "code",
   "execution_count": null,
   "metadata": {},
   "outputs": [],
   "source": []
  }
 ],
 "metadata": {
  "kernelspec": {
   "display_name": "Python 3",
   "language": "python",
   "name": "python3"
  },
  "language_info": {
   "codemirror_mode": {
    "name": "ipython",
    "version": 3
   },
   "file_extension": ".py",
   "mimetype": "text/x-python",
   "name": "python",
   "nbconvert_exporter": "python",
   "pygments_lexer": "ipython3",
   "version": "3.7.7"
  }
 },
 "nbformat": 4,
 "nbformat_minor": 4
}
