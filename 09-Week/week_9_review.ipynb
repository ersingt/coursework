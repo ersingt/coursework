{
 "cells": [
  {
   "cell_type": "markdown",
   "metadata": {},
   "source": [
    "# **Week 9 Review**\n",
    "-----\n",
    "\n",
    "-- Adapted from Boom and Adi"
   ]
  },
  {
   "cell_type": "markdown",
   "metadata": {},
   "source": [
    "### 1. Understand how to turn the date into the index\n",
    "### 2. Understand and implement the following pandas methods:\n",
    "- `.rolling()`\n",
    "- `.diff()`\n",
    "- `.pct_change()`\n",
    "- `.shift()`"
   ]
  },
  {
   "cell_type": "code",
   "execution_count": 1,
   "metadata": {
    "ExecuteTime": {
     "end_time": "2019-08-01T18:20:43.327202Z",
     "start_time": "2019-08-01T18:20:42.370946Z"
    }
   },
   "outputs": [
    {
     "data": {
      "text/html": [
       "<div>\n",
       "<style scoped>\n",
       "    .dataframe tbody tr th:only-of-type {\n",
       "        vertical-align: middle;\n",
       "    }\n",
       "\n",
       "    .dataframe tbody tr th {\n",
       "        vertical-align: top;\n",
       "    }\n",
       "\n",
       "    .dataframe thead th {\n",
       "        text-align: right;\n",
       "    }\n",
       "</style>\n",
       "<table border=\"1\" class=\"dataframe\">\n",
       "  <thead>\n",
       "    <tr style=\"text-align: right;\">\n",
       "      <th></th>\n",
       "      <th>date</th>\n",
       "      <th>bus_ridership</th>\n",
       "    </tr>\n",
       "  </thead>\n",
       "  <tbody>\n",
       "    <tr>\n",
       "      <th>0</th>\n",
       "      <td>1973-01-01</td>\n",
       "      <td>648</td>\n",
       "    </tr>\n",
       "    <tr>\n",
       "      <th>1</th>\n",
       "      <td>1973-02-01</td>\n",
       "      <td>646</td>\n",
       "    </tr>\n",
       "    <tr>\n",
       "      <th>2</th>\n",
       "      <td>1973-03-02</td>\n",
       "      <td>639</td>\n",
       "    </tr>\n",
       "    <tr>\n",
       "      <th>3</th>\n",
       "      <td>1973-04-02</td>\n",
       "      <td>654</td>\n",
       "    </tr>\n",
       "    <tr>\n",
       "      <th>4</th>\n",
       "      <td>1973-05-02</td>\n",
       "      <td>630</td>\n",
       "    </tr>\n",
       "  </tbody>\n",
       "</table>\n",
       "</div>"
      ],
      "text/plain": [
       "         date  bus_ridership\n",
       "0  1973-01-01            648\n",
       "1  1973-02-01            646\n",
       "2  1973-03-02            639\n",
       "3  1973-04-02            654\n",
       "4  1973-05-02            630"
      ]
     },
     "execution_count": 1,
     "metadata": {},
     "output_type": "execute_result"
    }
   ],
   "source": [
    "# import relevant modules\n",
    "import pandas as pd\n",
    "import seaborn as sns\n",
    "import matplotlib.pyplot as plt\n",
    "from statsmodels.graphics.tsaplots import plot_acf, plot_pacf\n",
    "from statsmodels.tsa.seasonal import seasonal_decompose\n",
    "from statsmodels.tsa.arima_model import ARMA\n",
    "from sklearn.metrics import r2_score\n",
    "\n",
    "# import the bus ridership data\n",
    "bus = pd.read_csv('./data/bus.csv')\n",
    "bus.head()"
   ]
  },
  {
   "cell_type": "code",
   "execution_count": 2,
   "metadata": {
    "ExecuteTime": {
     "end_time": "2019-08-01T18:20:43.393528Z",
     "start_time": "2019-08-01T18:20:43.378693Z"
    }
   },
   "outputs": [
    {
     "name": "stdout",
     "output_type": "stream",
     "text": [
      "<class 'pandas.core.frame.DataFrame'>\n",
      "RangeIndex: 114 entries, 0 to 113\n",
      "Data columns (total 2 columns):\n",
      " #   Column         Non-Null Count  Dtype \n",
      "---  ------         --------------  ----- \n",
      " 0   date           114 non-null    object\n",
      " 1   bus_ridership  114 non-null    int64 \n",
      "dtypes: int64(1), object(1)\n",
      "memory usage: 1.9+ KB\n"
     ]
    }
   ],
   "source": [
    "# When reading in data, date column is often an object\n",
    "bus.info()"
   ]
  },
  {
   "cell_type": "code",
   "execution_count": 3,
   "metadata": {
    "ExecuteTime": {
     "end_time": "2019-08-01T18:20:43.461976Z",
     "start_time": "2019-08-01T18:20:43.446148Z"
    }
   },
   "outputs": [],
   "source": [
    "# convert date into datetime objects\n",
    "bus['date'] = pd.to_datetime(bus['date'])"
   ]
  },
  {
   "cell_type": "code",
   "execution_count": 4,
   "metadata": {},
   "outputs": [
    {
     "name": "stdout",
     "output_type": "stream",
     "text": [
      "<class 'pandas.core.frame.DataFrame'>\n",
      "RangeIndex: 114 entries, 0 to 113\n",
      "Data columns (total 2 columns):\n",
      " #   Column         Non-Null Count  Dtype         \n",
      "---  ------         --------------  -----         \n",
      " 0   date           114 non-null    datetime64[ns]\n",
      " 1   bus_ridership  114 non-null    int64         \n",
      "dtypes: datetime64[ns](1), int64(1)\n",
      "memory usage: 1.9 KB\n"
     ]
    }
   ],
   "source": [
    "bus.info()"
   ]
  },
  {
   "cell_type": "code",
   "execution_count": 5,
   "metadata": {
    "ExecuteTime": {
     "end_time": "2019-08-01T18:20:43.461976Z",
     "start_time": "2019-08-01T18:20:43.446148Z"
    }
   },
   "outputs": [],
   "source": [
    "# change index of dataframe to the date\n",
    "bus = bus.set_index('date')"
   ]
  },
  {
   "cell_type": "code",
   "execution_count": 6,
   "metadata": {},
   "outputs": [
    {
     "data": {
      "text/html": [
       "<div>\n",
       "<style scoped>\n",
       "    .dataframe tbody tr th:only-of-type {\n",
       "        vertical-align: middle;\n",
       "    }\n",
       "\n",
       "    .dataframe tbody tr th {\n",
       "        vertical-align: top;\n",
       "    }\n",
       "\n",
       "    .dataframe thead th {\n",
       "        text-align: right;\n",
       "    }\n",
       "</style>\n",
       "<table border=\"1\" class=\"dataframe\">\n",
       "  <thead>\n",
       "    <tr style=\"text-align: right;\">\n",
       "      <th></th>\n",
       "      <th>bus_ridership</th>\n",
       "    </tr>\n",
       "    <tr>\n",
       "      <th>date</th>\n",
       "      <th></th>\n",
       "    </tr>\n",
       "  </thead>\n",
       "  <tbody>\n",
       "    <tr>\n",
       "      <th>1973-01-01</th>\n",
       "      <td>648</td>\n",
       "    </tr>\n",
       "    <tr>\n",
       "      <th>1973-02-01</th>\n",
       "      <td>646</td>\n",
       "    </tr>\n",
       "    <tr>\n",
       "      <th>1973-03-02</th>\n",
       "      <td>639</td>\n",
       "    </tr>\n",
       "    <tr>\n",
       "      <th>1973-04-02</th>\n",
       "      <td>654</td>\n",
       "    </tr>\n",
       "    <tr>\n",
       "      <th>1973-05-02</th>\n",
       "      <td>630</td>\n",
       "    </tr>\n",
       "  </tbody>\n",
       "</table>\n",
       "</div>"
      ],
      "text/plain": [
       "            bus_ridership\n",
       "date                     \n",
       "1973-01-01            648\n",
       "1973-02-01            646\n",
       "1973-03-02            639\n",
       "1973-04-02            654\n",
       "1973-05-02            630"
      ]
     },
     "execution_count": 6,
     "metadata": {},
     "output_type": "execute_result"
    }
   ],
   "source": [
    "bus.head()"
   ]
  },
  {
   "cell_type": "markdown",
   "metadata": {},
   "source": [
    "### `.rolling()`\n",
    "> Allows for rolling statistics (ie. \"I want the average of the past 7 days' ridership\")\n",
    "- **`window`** : the \"length\" or the period of the window\n",
    "- **`min_periods=None`** : Min number of observations in a window\n",
    "- **`win_type=None`** : Type of window"
   ]
  },
  {
   "cell_type": "code",
   "execution_count": 7,
   "metadata": {
    "ExecuteTime": {
     "end_time": "2019-08-01T18:20:46.171686Z",
     "start_time": "2019-08-01T18:20:46.158633Z"
    }
   },
   "outputs": [],
   "source": [
    "bus['SevenDayTotal'] = bus['bus_ridership'].rolling(window = 7).sum()\n",
    "bus['WeeklyAverage'] = bus['bus_ridership'].rolling(window = 7).mean()"
   ]
  },
  {
   "cell_type": "code",
   "execution_count": 8,
   "metadata": {
    "ExecuteTime": {
     "end_time": "2019-08-01T18:20:46.438176Z",
     "start_time": "2019-08-01T18:20:46.427441Z"
    },
    "scrolled": true
   },
   "outputs": [
    {
     "data": {
      "text/html": [
       "<div>\n",
       "<style scoped>\n",
       "    .dataframe tbody tr th:only-of-type {\n",
       "        vertical-align: middle;\n",
       "    }\n",
       "\n",
       "    .dataframe tbody tr th {\n",
       "        vertical-align: top;\n",
       "    }\n",
       "\n",
       "    .dataframe thead th {\n",
       "        text-align: right;\n",
       "    }\n",
       "</style>\n",
       "<table border=\"1\" class=\"dataframe\">\n",
       "  <thead>\n",
       "    <tr style=\"text-align: right;\">\n",
       "      <th></th>\n",
       "      <th>bus_ridership</th>\n",
       "      <th>SevenDayTotal</th>\n",
       "      <th>WeeklyAverage</th>\n",
       "    </tr>\n",
       "    <tr>\n",
       "      <th>date</th>\n",
       "      <th></th>\n",
       "      <th></th>\n",
       "      <th></th>\n",
       "    </tr>\n",
       "  </thead>\n",
       "  <tbody>\n",
       "    <tr>\n",
       "      <th>1973-01-01</th>\n",
       "      <td>648</td>\n",
       "      <td>NaN</td>\n",
       "      <td>NaN</td>\n",
       "    </tr>\n",
       "    <tr>\n",
       "      <th>1973-02-01</th>\n",
       "      <td>646</td>\n",
       "      <td>NaN</td>\n",
       "      <td>NaN</td>\n",
       "    </tr>\n",
       "    <tr>\n",
       "      <th>1973-03-02</th>\n",
       "      <td>639</td>\n",
       "      <td>NaN</td>\n",
       "      <td>NaN</td>\n",
       "    </tr>\n",
       "    <tr>\n",
       "      <th>1973-04-02</th>\n",
       "      <td>654</td>\n",
       "      <td>NaN</td>\n",
       "      <td>NaN</td>\n",
       "    </tr>\n",
       "    <tr>\n",
       "      <th>1973-05-02</th>\n",
       "      <td>630</td>\n",
       "      <td>NaN</td>\n",
       "      <td>NaN</td>\n",
       "    </tr>\n",
       "    <tr>\n",
       "      <th>1973-06-02</th>\n",
       "      <td>622</td>\n",
       "      <td>NaN</td>\n",
       "      <td>NaN</td>\n",
       "    </tr>\n",
       "    <tr>\n",
       "      <th>1973-07-02</th>\n",
       "      <td>617</td>\n",
       "      <td>4456.0</td>\n",
       "      <td>636.571429</td>\n",
       "    </tr>\n",
       "    <tr>\n",
       "      <th>1973-08-02</th>\n",
       "      <td>613</td>\n",
       "      <td>4421.0</td>\n",
       "      <td>631.571429</td>\n",
       "    </tr>\n",
       "    <tr>\n",
       "      <th>1973-09-02</th>\n",
       "      <td>661</td>\n",
       "      <td>4436.0</td>\n",
       "      <td>633.714286</td>\n",
       "    </tr>\n",
       "    <tr>\n",
       "      <th>1973-10-02</th>\n",
       "      <td>695</td>\n",
       "      <td>4492.0</td>\n",
       "      <td>641.714286</td>\n",
       "    </tr>\n",
       "  </tbody>\n",
       "</table>\n",
       "</div>"
      ],
      "text/plain": [
       "            bus_ridership  SevenDayTotal  WeeklyAverage\n",
       "date                                                   \n",
       "1973-01-01            648            NaN            NaN\n",
       "1973-02-01            646            NaN            NaN\n",
       "1973-03-02            639            NaN            NaN\n",
       "1973-04-02            654            NaN            NaN\n",
       "1973-05-02            630            NaN            NaN\n",
       "1973-06-02            622            NaN            NaN\n",
       "1973-07-02            617         4456.0     636.571429\n",
       "1973-08-02            613         4421.0     631.571429\n",
       "1973-09-02            661         4436.0     633.714286\n",
       "1973-10-02            695         4492.0     641.714286"
      ]
     },
     "execution_count": 8,
     "metadata": {},
     "output_type": "execute_result"
    }
   ],
   "source": [
    "bus.head(10)"
   ]
  },
  {
   "cell_type": "markdown",
   "metadata": {},
   "source": [
    "### `.diff()`\n",
    "> The literal subtraction between day x and the period specified\n",
    "- **`periods`** : With what time before you subtract from\n",
    "    - `periods = 1` : Subtracting from previous day\n",
    "    - `periods = 7` : Subtracting from exactly 7 days ago"
   ]
  },
  {
   "cell_type": "code",
   "execution_count": 9,
   "metadata": {
    "ExecuteTime": {
     "end_time": "2019-08-01T18:20:48.553526Z",
     "start_time": "2019-08-01T18:20:48.539607Z"
    }
   },
   "outputs": [
    {
     "data": {
      "text/html": [
       "<div>\n",
       "<style scoped>\n",
       "    .dataframe tbody tr th:only-of-type {\n",
       "        vertical-align: middle;\n",
       "    }\n",
       "\n",
       "    .dataframe tbody tr th {\n",
       "        vertical-align: top;\n",
       "    }\n",
       "\n",
       "    .dataframe thead th {\n",
       "        text-align: right;\n",
       "    }\n",
       "</style>\n",
       "<table border=\"1\" class=\"dataframe\">\n",
       "  <thead>\n",
       "    <tr style=\"text-align: right;\">\n",
       "      <th></th>\n",
       "      <th>bus_ridership</th>\n",
       "      <th>SevenDayTotal</th>\n",
       "      <th>WeeklyAverage</th>\n",
       "      <th>DailyDiff</th>\n",
       "      <th>WeeklyDiff</th>\n",
       "    </tr>\n",
       "    <tr>\n",
       "      <th>date</th>\n",
       "      <th></th>\n",
       "      <th></th>\n",
       "      <th></th>\n",
       "      <th></th>\n",
       "      <th></th>\n",
       "    </tr>\n",
       "  </thead>\n",
       "  <tbody>\n",
       "    <tr>\n",
       "      <th>1973-01-01</th>\n",
       "      <td>648</td>\n",
       "      <td>NaN</td>\n",
       "      <td>NaN</td>\n",
       "      <td>NaN</td>\n",
       "      <td>NaN</td>\n",
       "    </tr>\n",
       "    <tr>\n",
       "      <th>1973-02-01</th>\n",
       "      <td>646</td>\n",
       "      <td>NaN</td>\n",
       "      <td>NaN</td>\n",
       "      <td>-2.0</td>\n",
       "      <td>NaN</td>\n",
       "    </tr>\n",
       "    <tr>\n",
       "      <th>1973-03-02</th>\n",
       "      <td>639</td>\n",
       "      <td>NaN</td>\n",
       "      <td>NaN</td>\n",
       "      <td>-7.0</td>\n",
       "      <td>NaN</td>\n",
       "    </tr>\n",
       "    <tr>\n",
       "      <th>1973-04-02</th>\n",
       "      <td>654</td>\n",
       "      <td>NaN</td>\n",
       "      <td>NaN</td>\n",
       "      <td>15.0</td>\n",
       "      <td>NaN</td>\n",
       "    </tr>\n",
       "    <tr>\n",
       "      <th>1973-05-02</th>\n",
       "      <td>630</td>\n",
       "      <td>NaN</td>\n",
       "      <td>NaN</td>\n",
       "      <td>-24.0</td>\n",
       "      <td>NaN</td>\n",
       "    </tr>\n",
       "  </tbody>\n",
       "</table>\n",
       "</div>"
      ],
      "text/plain": [
       "            bus_ridership  SevenDayTotal  WeeklyAverage  DailyDiff  WeeklyDiff\n",
       "date                                                                          \n",
       "1973-01-01            648            NaN            NaN        NaN         NaN\n",
       "1973-02-01            646            NaN            NaN       -2.0         NaN\n",
       "1973-03-02            639            NaN            NaN       -7.0         NaN\n",
       "1973-04-02            654            NaN            NaN       15.0         NaN\n",
       "1973-05-02            630            NaN            NaN      -24.0         NaN"
      ]
     },
     "execution_count": 9,
     "metadata": {},
     "output_type": "execute_result"
    }
   ],
   "source": [
    "bus['DailyDiff']  = bus['bus_ridership'].diff()\n",
    "bus['WeeklyDiff'] = bus['bus_ridership'].diff(7)\n",
    "\n",
    "bus.head()"
   ]
  },
  {
   "cell_type": "markdown",
   "metadata": {},
   "source": [
    "### `.pct_change()`\n",
    "> Percent change for the period specified"
   ]
  },
  {
   "cell_type": "code",
   "execution_count": 10,
   "metadata": {
    "ExecuteTime": {
     "end_time": "2019-08-01T18:20:50.466578Z",
     "start_time": "2019-08-01T18:20:50.433819Z"
    }
   },
   "outputs": [
    {
     "data": {
      "text/html": [
       "<div>\n",
       "<style scoped>\n",
       "    .dataframe tbody tr th:only-of-type {\n",
       "        vertical-align: middle;\n",
       "    }\n",
       "\n",
       "    .dataframe tbody tr th {\n",
       "        vertical-align: top;\n",
       "    }\n",
       "\n",
       "    .dataframe thead th {\n",
       "        text-align: right;\n",
       "    }\n",
       "</style>\n",
       "<table border=\"1\" class=\"dataframe\">\n",
       "  <thead>\n",
       "    <tr style=\"text-align: right;\">\n",
       "      <th></th>\n",
       "      <th>bus_ridership</th>\n",
       "      <th>SevenDayTotal</th>\n",
       "      <th>WeeklyAverage</th>\n",
       "      <th>DailyDiff</th>\n",
       "      <th>WeeklyDiff</th>\n",
       "      <th>DailyDiffPCT</th>\n",
       "    </tr>\n",
       "    <tr>\n",
       "      <th>date</th>\n",
       "      <th></th>\n",
       "      <th></th>\n",
       "      <th></th>\n",
       "      <th></th>\n",
       "      <th></th>\n",
       "      <th></th>\n",
       "    </tr>\n",
       "  </thead>\n",
       "  <tbody>\n",
       "    <tr>\n",
       "      <th>1973-01-01</th>\n",
       "      <td>648</td>\n",
       "      <td>NaN</td>\n",
       "      <td>NaN</td>\n",
       "      <td>NaN</td>\n",
       "      <td>NaN</td>\n",
       "      <td>NaN</td>\n",
       "    </tr>\n",
       "    <tr>\n",
       "      <th>1973-02-01</th>\n",
       "      <td>646</td>\n",
       "      <td>NaN</td>\n",
       "      <td>NaN</td>\n",
       "      <td>-2.0</td>\n",
       "      <td>NaN</td>\n",
       "      <td>-0.003086</td>\n",
       "    </tr>\n",
       "    <tr>\n",
       "      <th>1973-03-02</th>\n",
       "      <td>639</td>\n",
       "      <td>NaN</td>\n",
       "      <td>NaN</td>\n",
       "      <td>-7.0</td>\n",
       "      <td>NaN</td>\n",
       "      <td>-0.010836</td>\n",
       "    </tr>\n",
       "    <tr>\n",
       "      <th>1973-04-02</th>\n",
       "      <td>654</td>\n",
       "      <td>NaN</td>\n",
       "      <td>NaN</td>\n",
       "      <td>15.0</td>\n",
       "      <td>NaN</td>\n",
       "      <td>0.023474</td>\n",
       "    </tr>\n",
       "    <tr>\n",
       "      <th>1973-05-02</th>\n",
       "      <td>630</td>\n",
       "      <td>NaN</td>\n",
       "      <td>NaN</td>\n",
       "      <td>-24.0</td>\n",
       "      <td>NaN</td>\n",
       "      <td>-0.036697</td>\n",
       "    </tr>\n",
       "  </tbody>\n",
       "</table>\n",
       "</div>"
      ],
      "text/plain": [
       "            bus_ridership  SevenDayTotal  WeeklyAverage  DailyDiff  \\\n",
       "date                                                                 \n",
       "1973-01-01            648            NaN            NaN        NaN   \n",
       "1973-02-01            646            NaN            NaN       -2.0   \n",
       "1973-03-02            639            NaN            NaN       -7.0   \n",
       "1973-04-02            654            NaN            NaN       15.0   \n",
       "1973-05-02            630            NaN            NaN      -24.0   \n",
       "\n",
       "            WeeklyDiff  DailyDiffPCT  \n",
       "date                                  \n",
       "1973-01-01         NaN           NaN  \n",
       "1973-02-01         NaN     -0.003086  \n",
       "1973-03-02         NaN     -0.010836  \n",
       "1973-04-02         NaN      0.023474  \n",
       "1973-05-02         NaN     -0.036697  "
      ]
     },
     "execution_count": 10,
     "metadata": {},
     "output_type": "execute_result"
    }
   ],
   "source": [
    "bus['DailyDiffPCT'] = bus['bus_ridership'].pct_change()\n",
    "\n",
    "bus.head()"
   ]
  },
  {
   "cell_type": "markdown",
   "metadata": {},
   "source": [
    "### `.shift()`\n",
    "> Shifts the rows down by specified period"
   ]
  },
  {
   "cell_type": "code",
   "execution_count": 11,
   "metadata": {
    "ExecuteTime": {
     "end_time": "2019-08-01T18:20:51.930779Z",
     "start_time": "2019-08-01T18:20:51.905684Z"
    }
   },
   "outputs": [
    {
     "data": {
      "text/html": [
       "<div>\n",
       "<style scoped>\n",
       "    .dataframe tbody tr th:only-of-type {\n",
       "        vertical-align: middle;\n",
       "    }\n",
       "\n",
       "    .dataframe tbody tr th {\n",
       "        vertical-align: top;\n",
       "    }\n",
       "\n",
       "    .dataframe thead th {\n",
       "        text-align: right;\n",
       "    }\n",
       "</style>\n",
       "<table border=\"1\" class=\"dataframe\">\n",
       "  <thead>\n",
       "    <tr style=\"text-align: right;\">\n",
       "      <th></th>\n",
       "      <th>bus_ridership</th>\n",
       "      <th>SevenDayTotal</th>\n",
       "      <th>WeeklyAverage</th>\n",
       "      <th>DailyDiff</th>\n",
       "      <th>WeeklyDiff</th>\n",
       "      <th>DailyDiffPCT</th>\n",
       "      <th>DailyOffset</th>\n",
       "      <th>WeeklyOffset</th>\n",
       "    </tr>\n",
       "    <tr>\n",
       "      <th>date</th>\n",
       "      <th></th>\n",
       "      <th></th>\n",
       "      <th></th>\n",
       "      <th></th>\n",
       "      <th></th>\n",
       "      <th></th>\n",
       "      <th></th>\n",
       "      <th></th>\n",
       "    </tr>\n",
       "  </thead>\n",
       "  <tbody>\n",
       "    <tr>\n",
       "      <th>1973-01-01</th>\n",
       "      <td>648</td>\n",
       "      <td>NaN</td>\n",
       "      <td>NaN</td>\n",
       "      <td>NaN</td>\n",
       "      <td>NaN</td>\n",
       "      <td>NaN</td>\n",
       "      <td>NaN</td>\n",
       "      <td>NaN</td>\n",
       "    </tr>\n",
       "    <tr>\n",
       "      <th>1973-02-01</th>\n",
       "      <td>646</td>\n",
       "      <td>NaN</td>\n",
       "      <td>NaN</td>\n",
       "      <td>-2.0</td>\n",
       "      <td>NaN</td>\n",
       "      <td>-0.003086</td>\n",
       "      <td>648.0</td>\n",
       "      <td>NaN</td>\n",
       "    </tr>\n",
       "    <tr>\n",
       "      <th>1973-03-02</th>\n",
       "      <td>639</td>\n",
       "      <td>NaN</td>\n",
       "      <td>NaN</td>\n",
       "      <td>-7.0</td>\n",
       "      <td>NaN</td>\n",
       "      <td>-0.010836</td>\n",
       "      <td>646.0</td>\n",
       "      <td>NaN</td>\n",
       "    </tr>\n",
       "    <tr>\n",
       "      <th>1973-04-02</th>\n",
       "      <td>654</td>\n",
       "      <td>NaN</td>\n",
       "      <td>NaN</td>\n",
       "      <td>15.0</td>\n",
       "      <td>NaN</td>\n",
       "      <td>0.023474</td>\n",
       "      <td>639.0</td>\n",
       "      <td>NaN</td>\n",
       "    </tr>\n",
       "    <tr>\n",
       "      <th>1973-05-02</th>\n",
       "      <td>630</td>\n",
       "      <td>NaN</td>\n",
       "      <td>NaN</td>\n",
       "      <td>-24.0</td>\n",
       "      <td>NaN</td>\n",
       "      <td>-0.036697</td>\n",
       "      <td>654.0</td>\n",
       "      <td>NaN</td>\n",
       "    </tr>\n",
       "    <tr>\n",
       "      <th>1973-06-02</th>\n",
       "      <td>622</td>\n",
       "      <td>NaN</td>\n",
       "      <td>NaN</td>\n",
       "      <td>-8.0</td>\n",
       "      <td>NaN</td>\n",
       "      <td>-0.012698</td>\n",
       "      <td>630.0</td>\n",
       "      <td>NaN</td>\n",
       "    </tr>\n",
       "    <tr>\n",
       "      <th>1973-07-02</th>\n",
       "      <td>617</td>\n",
       "      <td>4456.0</td>\n",
       "      <td>636.571429</td>\n",
       "      <td>-5.0</td>\n",
       "      <td>NaN</td>\n",
       "      <td>-0.008039</td>\n",
       "      <td>622.0</td>\n",
       "      <td>NaN</td>\n",
       "    </tr>\n",
       "    <tr>\n",
       "      <th>1973-08-02</th>\n",
       "      <td>613</td>\n",
       "      <td>4421.0</td>\n",
       "      <td>631.571429</td>\n",
       "      <td>-4.0</td>\n",
       "      <td>-35.0</td>\n",
       "      <td>-0.006483</td>\n",
       "      <td>617.0</td>\n",
       "      <td>648.0</td>\n",
       "    </tr>\n",
       "    <tr>\n",
       "      <th>1973-09-02</th>\n",
       "      <td>661</td>\n",
       "      <td>4436.0</td>\n",
       "      <td>633.714286</td>\n",
       "      <td>48.0</td>\n",
       "      <td>15.0</td>\n",
       "      <td>0.078303</td>\n",
       "      <td>613.0</td>\n",
       "      <td>646.0</td>\n",
       "    </tr>\n",
       "    <tr>\n",
       "      <th>1973-10-02</th>\n",
       "      <td>695</td>\n",
       "      <td>4492.0</td>\n",
       "      <td>641.714286</td>\n",
       "      <td>34.0</td>\n",
       "      <td>56.0</td>\n",
       "      <td>0.051437</td>\n",
       "      <td>661.0</td>\n",
       "      <td>639.0</td>\n",
       "    </tr>\n",
       "  </tbody>\n",
       "</table>\n",
       "</div>"
      ],
      "text/plain": [
       "            bus_ridership  SevenDayTotal  WeeklyAverage  DailyDiff  \\\n",
       "date                                                                 \n",
       "1973-01-01            648            NaN            NaN        NaN   \n",
       "1973-02-01            646            NaN            NaN       -2.0   \n",
       "1973-03-02            639            NaN            NaN       -7.0   \n",
       "1973-04-02            654            NaN            NaN       15.0   \n",
       "1973-05-02            630            NaN            NaN      -24.0   \n",
       "1973-06-02            622            NaN            NaN       -8.0   \n",
       "1973-07-02            617         4456.0     636.571429       -5.0   \n",
       "1973-08-02            613         4421.0     631.571429       -4.0   \n",
       "1973-09-02            661         4436.0     633.714286       48.0   \n",
       "1973-10-02            695         4492.0     641.714286       34.0   \n",
       "\n",
       "            WeeklyDiff  DailyDiffPCT  DailyOffset  WeeklyOffset  \n",
       "date                                                             \n",
       "1973-01-01         NaN           NaN          NaN           NaN  \n",
       "1973-02-01         NaN     -0.003086        648.0           NaN  \n",
       "1973-03-02         NaN     -0.010836        646.0           NaN  \n",
       "1973-04-02         NaN      0.023474        639.0           NaN  \n",
       "1973-05-02         NaN     -0.036697        654.0           NaN  \n",
       "1973-06-02         NaN     -0.012698        630.0           NaN  \n",
       "1973-07-02         NaN     -0.008039        622.0           NaN  \n",
       "1973-08-02       -35.0     -0.006483        617.0         648.0  \n",
       "1973-09-02        15.0      0.078303        613.0         646.0  \n",
       "1973-10-02        56.0      0.051437        661.0         639.0  "
      ]
     },
     "execution_count": 11,
     "metadata": {},
     "output_type": "execute_result"
    }
   ],
   "source": [
    "bus['DailyOffset']  = bus['bus_ridership'].shift(1)\n",
    "bus['WeeklyOffset'] = bus['bus_ridership'].shift(7)\n",
    "\n",
    "bus.head(10)"
   ]
  },
  {
   "cell_type": "markdown",
   "metadata": {},
   "source": [
    "# 9.02 Principles of Time Series"
   ]
  },
  {
   "cell_type": "markdown",
   "metadata": {},
   "source": [
    "### 1. Define time series and cross-sectional data."
   ]
  },
  {
   "cell_type": "markdown",
   "metadata": {},
   "source": [
    "- **Time series data**\n",
    "> Data where each index value is a time \n",
    "- **Cross-sectional data**\n",
    "> Data at one point in time"
   ]
  },
  {
   "cell_type": "markdown",
   "metadata": {},
   "source": [
    "### 2. Describe forecasting, some of its challenges, and when it's advised."
   ]
  },
  {
   "cell_type": "markdown",
   "metadata": {},
   "source": [
    "> Predicting a future estimate for a target variable\n",
    "\n",
    "- What are some challenges to consider when using time series data?\n",
    "> 1. As we forecast farther out, accuracy  decreases\n",
    "> 2. Changes will be compounded in future forecasts\n",
    "> 3. Data availability (oftne an issue)?"
   ]
  },
  {
   "cell_type": "markdown",
   "metadata": {},
   "source": [
    "### 3. Generate and interpret time plots."
   ]
  },
  {
   "cell_type": "code",
   "execution_count": 12,
   "metadata": {
    "ExecuteTime": {
     "end_time": "2019-08-01T18:39:55.680920Z",
     "start_time": "2019-08-01T18:39:55.669932Z"
    }
   },
   "outputs": [],
   "source": [
    "# reset bus dataframe\n",
    "bus = bus[['bus_ridership']]\n",
    "\n",
    "# Specify frequency for data with date_range (this will be relevant later)!\n",
    "bus.index = pd.date_range('1/1/1973', # start date is January 1, 1973\n",
    "                               periods=len(bus.index), # we want one period per entry\n",
    "                               freq='M') # frequency in months"
   ]
  },
  {
   "cell_type": "code",
   "execution_count": 13,
   "metadata": {
    "ExecuteTime": {
     "end_time": "2019-08-01T18:39:56.845848Z",
     "start_time": "2019-08-01T18:39:56.834347Z"
    },
    "scrolled": true
   },
   "outputs": [
    {
     "data": {
      "text/html": [
       "<div>\n",
       "<style scoped>\n",
       "    .dataframe tbody tr th:only-of-type {\n",
       "        vertical-align: middle;\n",
       "    }\n",
       "\n",
       "    .dataframe tbody tr th {\n",
       "        vertical-align: top;\n",
       "    }\n",
       "\n",
       "    .dataframe thead th {\n",
       "        text-align: right;\n",
       "    }\n",
       "</style>\n",
       "<table border=\"1\" class=\"dataframe\">\n",
       "  <thead>\n",
       "    <tr style=\"text-align: right;\">\n",
       "      <th></th>\n",
       "      <th>bus_ridership</th>\n",
       "    </tr>\n",
       "  </thead>\n",
       "  <tbody>\n",
       "    <tr>\n",
       "      <th>1973-01-31</th>\n",
       "      <td>648</td>\n",
       "    </tr>\n",
       "    <tr>\n",
       "      <th>1973-02-28</th>\n",
       "      <td>646</td>\n",
       "    </tr>\n",
       "    <tr>\n",
       "      <th>1973-03-31</th>\n",
       "      <td>639</td>\n",
       "    </tr>\n",
       "    <tr>\n",
       "      <th>1973-04-30</th>\n",
       "      <td>654</td>\n",
       "    </tr>\n",
       "    <tr>\n",
       "      <th>1973-05-31</th>\n",
       "      <td>630</td>\n",
       "    </tr>\n",
       "  </tbody>\n",
       "</table>\n",
       "</div>"
      ],
      "text/plain": [
       "            bus_ridership\n",
       "1973-01-31            648\n",
       "1973-02-28            646\n",
       "1973-03-31            639\n",
       "1973-04-30            654\n",
       "1973-05-31            630"
      ]
     },
     "execution_count": 13,
     "metadata": {},
     "output_type": "execute_result"
    }
   ],
   "source": [
    "bus.head()"
   ]
  },
  {
   "cell_type": "code",
   "execution_count": 14,
   "metadata": {
    "ExecuteTime": {
     "end_time": "2019-08-01T18:40:01.311936Z",
     "start_time": "2019-08-01T18:40:00.694361Z"
    }
   },
   "outputs": [
    {
     "data": {
      "image/png": "[encoded data removed]",
      "text/plain": [
       "<Figure size 432x288 with 1 Axes>"
      ]
     },
     "metadata": {},
     "output_type": "display_data"
    }
   ],
   "source": [
    "# Thanks, Sean Bjork!\n",
    "sns.set()\n",
    "\n",
    "bus.plot()\n",
    "plt.title('Bus Ridership from 1973 to 1983', fontsize = 20)\n",
    "plt.xlabel('Year', fontsize = 16)\n",
    "plt.ylabel('Bus Ridership', fontsize = 16);"
   ]
  },
  {
   "cell_type": "markdown",
   "metadata": {},
   "source": [
    "### 4. Define and identify trend and seasonality"
   ]
  },
  {
   "cell_type": "markdown",
   "metadata": {},
   "source": [
    "- **Trends** : \n",
    "> patterns over time, long-term changes; most trends are linear or quadratic\n",
    "- **Seasonality** :\n",
    "> fluctuations over a \"fixed and known\" interval\n"
   ]
  },
  {
   "cell_type": "code",
   "execution_count": 15,
   "metadata": {
    "ExecuteTime": {
     "end_time": "2019-08-01T18:40:04.836946Z",
     "start_time": "2019-08-01T18:40:04.826677Z"
    }
   },
   "outputs": [
    {
     "data": {
      "text/html": [
       "<div>\n",
       "<style scoped>\n",
       "    .dataframe tbody tr th:only-of-type {\n",
       "        vertical-align: middle;\n",
       "    }\n",
       "\n",
       "    .dataframe tbody tr th {\n",
       "        vertical-align: top;\n",
       "    }\n",
       "\n",
       "    .dataframe thead th {\n",
       "        text-align: right;\n",
       "    }\n",
       "</style>\n",
       "<table border=\"1\" class=\"dataframe\">\n",
       "  <thead>\n",
       "    <tr style=\"text-align: right;\">\n",
       "      <th></th>\n",
       "      <th>bus_ridership</th>\n",
       "    </tr>\n",
       "  </thead>\n",
       "  <tbody>\n",
       "    <tr>\n",
       "      <th>1973-01-31</th>\n",
       "      <td>648</td>\n",
       "    </tr>\n",
       "    <tr>\n",
       "      <th>1973-02-28</th>\n",
       "      <td>646</td>\n",
       "    </tr>\n",
       "    <tr>\n",
       "      <th>1973-03-31</th>\n",
       "      <td>639</td>\n",
       "    </tr>\n",
       "    <tr>\n",
       "      <th>1973-04-30</th>\n",
       "      <td>654</td>\n",
       "    </tr>\n",
       "    <tr>\n",
       "      <th>1973-05-31</th>\n",
       "      <td>630</td>\n",
       "    </tr>\n",
       "  </tbody>\n",
       "</table>\n",
       "</div>"
      ],
      "text/plain": [
       "            bus_ridership\n",
       "1973-01-31            648\n",
       "1973-02-28            646\n",
       "1973-03-31            639\n",
       "1973-04-30            654\n",
       "1973-05-31            630"
      ]
     },
     "execution_count": 15,
     "metadata": {},
     "output_type": "execute_result"
    }
   ],
   "source": [
    "bus.head()"
   ]
  },
  {
   "cell_type": "code",
   "execution_count": 16,
   "metadata": {
    "ExecuteTime": {
     "end_time": "2019-08-01T18:40:11.253431Z",
     "start_time": "2019-08-01T18:40:08.839050Z"
    },
    "scrolled": true
   },
   "outputs": [
    {
     "data": {
      "image/png": "[encoded data removed]",
      "text/plain": [
       "<Figure size 432x288 with 4 Axes>"
      ]
     },
     "metadata": {},
     "output_type": "display_data"
    }
   ],
   "source": [
    "# This will always try to find some kind of seasonality\n",
    "decomp = seasonal_decompose(bus['bus_ridership'])\n",
    "decomp.plot();"
   ]
  },
  {
   "cell_type": "markdown",
   "metadata": {},
   "source": [
    "### 5. Calculate, plot and interpret autocorrelation and partial autocorrelation."
   ]
  },
  {
   "cell_type": "markdown",
   "metadata": {},
   "source": [
    "- **Autocorrelation (or ACF) plots** :\n",
    "> How correlated one row (time) is to the one before it (or some other specified time)\n",
    "- **Partial autocorrelation (or PACF) plots** : \n",
    "> Autocorrelation but ignore previous correlations already accounted for"
   ]
  },
  {
   "cell_type": "markdown",
   "metadata": {},
   "source": [
    "- Interpreting ACF (autocorrelation) and PACF (partial autocorrelation) plots\n",
    "    - Y axis = level of correlation\n",
    "    - X axis = Number of lags away.\n",
    "    - Shaded blue area = region of uncertainty"
   ]
  },
  {
   "cell_type": "code",
   "execution_count": 17,
   "metadata": {
    "ExecuteTime": {
     "end_time": "2019-08-01T18:40:19.607912Z",
     "start_time": "2019-08-01T18:40:18.876162Z"
    }
   },
   "outputs": [
    {
     "data": {
      "image/png": "[encoded data removed]",
      "text/plain": [
       "<Figure size 648x360 with 1 Axes>"
      ]
     },
     "metadata": {},
     "output_type": "display_data"
    },
    {
     "data": {
      "image/png": "[encoded data removed]",
      "text/plain": [
       "<Figure size 648x360 with 1 Axes>"
      ]
     },
     "metadata": {},
     "output_type": "display_data"
    },
    {
     "data": {
      "image/png": "[encoded data removed]",
      "text/plain": [
       "<Figure size 648x360 with 1 Axes>"
      ]
     },
     "metadata": {},
     "output_type": "display_data"
    }
   ],
   "source": [
    "fig, ax = plt.subplots(figsize = (9, 5))\n",
    "plot_acf(bus['bus_ridership'], lags = 30, ax = ax)\n",
    "plt.show();\n",
    "\n",
    "fig, ax = plt.subplots(figsize = (9, 5))\n",
    "plot_pacf(bus['bus_ridership'], lags = 30, ax = ax)\n",
    "plt.show();\n",
    "\n",
    "fig, ax = plt.subplots(figsize = (9, 5))\n",
    "plot_pacf(bus['bus_ridership'], lags = 15, ax = ax)\n",
    "plt.show();"
   ]
  },
  {
   "cell_type": "markdown",
   "metadata": {
    "ExecuteTime": {
     "end_time": "2019-08-01T18:09:34.552419Z",
     "start_time": "2019-08-01T18:09:34.544183Z"
    }
   },
   "source": [
    "### Bonus: autocorrelation plot in pandas"
   ]
  },
  {
   "cell_type": "code",
   "execution_count": 18,
   "metadata": {},
   "outputs": [
    {
     "data": {
      "image/png": "[encoded data removed]",
      "text/plain": [
       "<Figure size 432x288 with 1 Axes>"
      ]
     },
     "metadata": {},
     "output_type": "display_data"
    }
   ],
   "source": [
    "from pandas.plotting import autocorrelation_plot\n",
    "\n",
    "autocorrelation_plot(bus['bus_ridership']);"
   ]
  },
  {
   "cell_type": "markdown",
   "metadata": {},
   "source": [
    "### 6. Properly fit, generate predictions from, and evaluate a linear time series model."
   ]
  },
  {
   "cell_type": "code",
   "execution_count": 19,
   "metadata": {
    "ExecuteTime": {
     "end_time": "2019-08-01T18:40:29.054468Z",
     "start_time": "2019-08-01T18:40:28.966500Z"
    }
   },
   "outputs": [
    {
     "data": {
      "text/plain": [
       "0.9364431877685966"
      ]
     },
     "execution_count": 19,
     "metadata": {},
     "output_type": "execute_result"
    }
   ],
   "source": [
    "# make bus_ridership into float values\n",
    "# (p,q), p is the AR part\n",
    "bus['bus_ridership'] = bus['bus_ridership'].astype(float)\n",
    "\n",
    "# fit an AR model with a lag of 1\n",
    "ar1 = ARMA(endog = bus['bus_ridership'],\n",
    "           order = (1, 0))\n",
    "\n",
    "model = ar1.fit()\n",
    "\n",
    "# generate predicted values\n",
    "preds = model.predict()\n",
    "r2_score(bus['bus_ridership'], preds)"
   ]
  },
  {
   "cell_type": "code",
   "execution_count": 20,
   "metadata": {
    "ExecuteTime": {
     "end_time": "2019-08-01T18:40:29.965247Z",
     "start_time": "2019-08-01T18:40:29.892356Z"
    }
   },
   "outputs": [
    {
     "data": {
      "text/plain": [
       "0.6553314322628319"
      ]
     },
     "execution_count": 20,
     "metadata": {},
     "output_type": "execute_result"
    }
   ],
   "source": [
    "# fit a MA model with a window of 1\n",
    "# (p,q), q is the MA part\n",
    "ma1 = ARMA(endog = bus['bus_ridership'],\n",
    "           order = (0, 1))\n",
    "\n",
    "model = ma1.fit()\n",
    "preds = model.predict()\n",
    "r2_score(bus['bus_ridership'], preds)"
   ]
  },
  {
   "cell_type": "markdown",
   "metadata": {},
   "source": [
    "# 9.03-9.04 ARIMA"
   ]
  },
  {
   "cell_type": "markdown",
   "metadata": {},
   "source": [
    "### 1. Define stationarity."
   ]
  },
  {
   "cell_type": "markdown",
   "metadata": {},
   "source": [
    "> Data that is detrended, mean is constant, line of best fit is horizontal"
   ]
  },
  {
   "cell_type": "markdown",
   "metadata": {},
   "source": [
    "### 2. Conduct and interpret an augmented Dickey-Fuller test for stationarity."
   ]
  },
  {
   "cell_type": "code",
   "execution_count": 21,
   "metadata": {
    "ExecuteTime": {
     "end_time": "2019-08-01T18:42:10.878638Z",
     "start_time": "2019-08-01T18:42:10.873090Z"
    }
   },
   "outputs": [],
   "source": [
    "from statsmodels.tsa.stattools import adfuller\n",
    "\n",
    "# Original code written by Joseph Nelson\n",
    "def interpret_dftest(series):\n",
    "    return pd.Series(adfuller(series)[0:2], index=['Test Statistic','p-value'])"
   ]
  },
  {
   "cell_type": "code",
   "execution_count": 22,
   "metadata": {
    "ExecuteTime": {
     "end_time": "2019-08-01T18:42:29.093343Z",
     "start_time": "2019-08-01T18:42:29.065875Z"
    }
   },
   "outputs": [
    {
     "data": {
      "text/plain": [
       "Test Statistic   -1.536597\n",
       "p-value           0.515336\n",
       "dtype: float64"
      ]
     },
     "execution_count": 22,
     "metadata": {},
     "output_type": "execute_result"
    }
   ],
   "source": [
    "# Not stationary\n",
    "interpret_dftest(bus['bus_ridership'])"
   ]
  },
  {
   "cell_type": "code",
   "execution_count": 23,
   "metadata": {
    "ExecuteTime": {
     "end_time": "2019-08-01T18:43:06.672330Z",
     "start_time": "2019-08-01T18:43:06.645739Z"
    }
   },
   "outputs": [
    {
     "data": {
      "text/plain": [
       "Test Statistic   -1.938696\n",
       "p-value           0.314082\n",
       "dtype: float64"
      ]
     },
     "execution_count": 23,
     "metadata": {},
     "output_type": "execute_result"
    }
   ],
   "source": [
    "# First difference\n",
    "interpret_dftest(bus['bus_ridership'].diff().dropna())"
   ]
  },
  {
   "cell_type": "code",
   "execution_count": 24,
   "metadata": {
    "ExecuteTime": {
     "end_time": "2019-08-01T18:43:17.643873Z",
     "start_time": "2019-08-01T18:43:17.622002Z"
    }
   },
   "outputs": [
    {
     "data": {
      "text/plain": [
       "Test Statistic   -1.247869e+01\n",
       "p-value           3.126378e-23\n",
       "dtype: float64"
      ]
     },
     "execution_count": 24,
     "metadata": {},
     "output_type": "execute_result"
    }
   ],
   "source": [
    "# Second difference\n",
    "interpret_dftest(bus['bus_ridership'].diff().diff().dropna())"
   ]
  },
  {
   "cell_type": "code",
   "execution_count": 25,
   "metadata": {
    "ExecuteTime": {
     "end_time": "2019-08-01T18:44:20.328472Z",
     "start_time": "2019-08-01T18:44:20.309247Z"
    }
   },
   "outputs": [
    {
     "data": {
      "text/html": [
       "<div>\n",
       "<style scoped>\n",
       "    .dataframe tbody tr th:only-of-type {\n",
       "        vertical-align: middle;\n",
       "    }\n",
       "\n",
       "    .dataframe tbody tr th {\n",
       "        vertical-align: top;\n",
       "    }\n",
       "\n",
       "    .dataframe thead th {\n",
       "        text-align: right;\n",
       "    }\n",
       "</style>\n",
       "<table border=\"1\" class=\"dataframe\">\n",
       "  <thead>\n",
       "    <tr style=\"text-align: right;\">\n",
       "      <th></th>\n",
       "      <th>bus_ridership</th>\n",
       "      <th>second_diff_ridership</th>\n",
       "    </tr>\n",
       "  </thead>\n",
       "  <tbody>\n",
       "    <tr>\n",
       "      <th>1973-01-31</th>\n",
       "      <td>648.0</td>\n",
       "      <td>NaN</td>\n",
       "    </tr>\n",
       "    <tr>\n",
       "      <th>1973-02-28</th>\n",
       "      <td>646.0</td>\n",
       "      <td>NaN</td>\n",
       "    </tr>\n",
       "    <tr>\n",
       "      <th>1973-03-31</th>\n",
       "      <td>639.0</td>\n",
       "      <td>-5.0</td>\n",
       "    </tr>\n",
       "    <tr>\n",
       "      <th>1973-04-30</th>\n",
       "      <td>654.0</td>\n",
       "      <td>22.0</td>\n",
       "    </tr>\n",
       "    <tr>\n",
       "      <th>1973-05-31</th>\n",
       "      <td>630.0</td>\n",
       "      <td>-39.0</td>\n",
       "    </tr>\n",
       "  </tbody>\n",
       "</table>\n",
       "</div>"
      ],
      "text/plain": [
       "            bus_ridership  second_diff_ridership\n",
       "1973-01-31          648.0                    NaN\n",
       "1973-02-28          646.0                    NaN\n",
       "1973-03-31          639.0                   -5.0\n",
       "1973-04-30          654.0                   22.0\n",
       "1973-05-31          630.0                  -39.0"
      ]
     },
     "execution_count": 25,
     "metadata": {},
     "output_type": "execute_result"
    }
   ],
   "source": [
    "bus['second_diff_ridership'] = bus['bus_ridership'].diff().diff()\n",
    "bus.head()"
   ]
  },
  {
   "cell_type": "markdown",
   "metadata": {},
   "source": [
    "### 3. Construct integrated autoregressive moving average (ARIMA) models."
   ]
  },
  {
   "cell_type": "markdown",
   "metadata": {},
   "source": [
    "- Integrating AR and MA models results in an ARIMA model\n",
    "- Useful when we want to model _longer term data with sudden fluctuations_"
   ]
  },
  {
   "cell_type": "markdown",
   "metadata": {},
   "source": [
    "### 4. Describe when autoregressive models and moving average models are appropriate."
   ]
  },
  {
   "cell_type": "markdown",
   "metadata": {},
   "source": [
    "**Autoregressive (AR - p) models** :\n",
    "> Better for long-term trends\n",
    "- Number of previous observations to consider when predicting (lags)\n",
    "\n",
    "**Moving average (MA - q) models** :\n",
    "> Better for short-term fluctuations\n",
    "- Number of errors we regress on\n",
    "\n",
    "**Integrated (d)**\n",
    "- How many differences we need to achieve stationarity"
   ]
  },
  {
   "cell_type": "markdown",
   "metadata": {},
   "source": [
    "### 5. Identify the optimal values of parameters $p$, $d$, and $q$ through GridSearch."
   ]
  },
  {
   "cell_type": "markdown",
   "metadata": {},
   "source": [
    "# 9.05 Benford's Law"
   ]
  },
  {
   "cell_type": "markdown",
   "metadata": {},
   "source": [
    "### 1. Understand what Benford's law is"
   ]
  },
  {
   "cell_type": "markdown",
   "metadata": {},
   "source": [
    "> Numbers with a smaller first digit are more frequent\n",
    "\n",
    "> Benford's law is an observation about the frequency distribution of leading digits in many real-life sets of numerical data. The law states that in many naturally occurring collections of numbers, the leading significant digit is likely to be small."
   ]
  },
  {
   "cell_type": "markdown",
   "metadata": {},
   "source": [
    "### 2. Use Benford's law to find anomalies within a dataset."
   ]
  },
  {
   "cell_type": "markdown",
   "metadata": {},
   "source": [
    "> convert numbers into strings, check count of first character (leading digit)"
   ]
  },
  {
   "cell_type": "markdown",
   "metadata": {},
   "source": [
    "---"
   ]
  }
 ],
 "metadata": {
  "kernelspec": {
   "display_name": "Python 3.7.7 64-bit ('main': conda)",
   "language": "python",
   "name": "python37764bitmaincondaa9a7a0d21de644d9b6536b1c4ef2dac8"
  },
  "language_info": {
   "codemirror_mode": {
    "name": "ipython",
    "version": 3
   },
   "file_extension": ".py",
   "mimetype": "text/x-python",
   "name": "python",
   "nbconvert_exporter": "python",
   "pygments_lexer": "ipython3",
   "version": "3.7.7"
  }
 },
 "nbformat": 4,
 "nbformat_minor": 4
}
