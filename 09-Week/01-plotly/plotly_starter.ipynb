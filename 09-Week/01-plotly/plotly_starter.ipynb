{
 "cells": [
  {
   "cell_type": "markdown",
   "metadata": {},
   "source": [
    "# Plotly\n",
    "\n",
    "By Jeff Hale\n",
    "\n",
    "Let's learn about plotly! It's a powerful interactive graphing library that is more fun to use that matplotlib. 🎉\n",
    "\n",
    "### Learning Objectives\n",
    "By the end of the lesson students should be able to:\n",
    "\n",
    "- Understand the differences between the following visualization tools:\n",
    "    - d3.js\n",
    "    - plotly (company and the detailed, underlying package)\n",
    "    - express\n",
    "    - cufflinks\n",
    "    - dash\n",
    "\n",
    "- Use plotly.express to make visualizations\n",
    "- Adjust aspects of the underlying plotly plot\n",
    "- Export plotly figures as files\n",
    "- Serve plotly figures with streamlit\n"
   ]
  },
  {
   "cell_type": "code",
   "execution_count": null,
   "metadata": {},
   "outputs": [],
   "source": [
    "import plotly \n",
    "import plotly.express as px\n",
    "import pandas as pd\n",
    "import numpy as np\n",
    "import cufflinks"
   ]
  },
  {
   "cell_type": "markdown",
   "metadata": {},
   "source": [
    "#### If you get errors, install the packages you need to install.\n",
    "\n",
    "To make plots show up in Jupyter lab you also need to run\n",
    "\n",
    "`jupyter labextension install jupyterlab-plotly@4.7.1` \n",
    "\n",
    "and, if you want widgets\n",
    "\n",
    "`jupyter labextension install @jupyter-widgets/jupyterlab-manager plotlywidget@4.7.1`\n",
    "\n",
    "from the command line."
   ]
  },
  {
   "cell_type": "markdown",
   "metadata": {},
   "source": [
    "### Check versions"
   ]
  },
  {
   "cell_type": "code",
   "execution_count": null,
   "metadata": {},
   "outputs": [],
   "source": []
  },
  {
   "cell_type": "code",
   "execution_count": null,
   "metadata": {},
   "outputs": [],
   "source": []
  },
  {
   "cell_type": "markdown",
   "metadata": {},
   "source": [
    "### Read in sample data that comes in plotly express"
   ]
  },
  {
   "cell_type": "code",
   "execution_count": null,
   "metadata": {},
   "outputs": [],
   "source": []
  },
  {
   "cell_type": "code",
   "execution_count": null,
   "metadata": {},
   "outputs": [],
   "source": []
  },
  {
   "cell_type": "markdown",
   "metadata": {},
   "source": [
    "### Make a scatter plot with fanciness"
   ]
  },
  {
   "cell_type": "code",
   "execution_count": null,
   "metadata": {},
   "outputs": [],
   "source": []
  },
  {
   "cell_type": "markdown",
   "metadata": {},
   "source": [
    "### Let's format this code so it complies with style guide. And let's discuss code style."
   ]
  },
  {
   "cell_type": "code",
   "execution_count": null,
   "metadata": {},
   "outputs": [],
   "source": []
  },
  {
   "cell_type": "markdown",
   "metadata": {},
   "source": [
    "#### Change something in the plot"
   ]
  },
  {
   "cell_type": "code",
   "execution_count": null,
   "metadata": {},
   "outputs": [],
   "source": []
  },
  {
   "cell_type": "code",
   "execution_count": null,
   "metadata": {},
   "outputs": [],
   "source": [
    "# update to add text inside               \n"
   ]
  },
  {
   "cell_type": "markdown",
   "metadata": {},
   "source": [
    "### updade the x axis"
   ]
  },
  {
   "cell_type": "code",
   "execution_count": null,
   "metadata": {},
   "outputs": [],
   "source": []
  },
  {
   "cell_type": "markdown",
   "metadata": {},
   "source": [
    "### Wish that code formatting could happen automatically? It can, with the black library.\n",
    "\n",
    "What's the first phrase would you google to learn about it? (thread)"
   ]
  },
  {
   "cell_type": "markdown",
   "metadata": {},
   "source": [
    "### The lay of the land.\n",
    "\n",
    "Regular plotly, plotly express and cufflinks\n",
    "\n",
    "[This is may article](https://towardsdatascience.com/its-2019-make-your-data-visualizations-interactive-with-plotly-b361e7d45dc6?source=friends_link&sk=ad9ff3eda197071e6b056abe23c1509e) on the topic. It's 1 year old and somewhat outdated. \n",
    "\n",
    "# Terms to know:\n",
    "- d3.js\n",
    "- plotly (company and the detailed, underlying package)\n",
    "- express\n",
    "- cufflinks\n",
    "- dash"
   ]
  },
  {
   "cell_type": "markdown",
   "metadata": {
    "toc-hr-collapsed": true
   },
   "source": [
    "## cufflinks\n",
    "\n",
    "use `.iplot()` on a DataFrame"
   ]
  },
  {
   "cell_type": "code",
   "execution_count": null,
   "metadata": {},
   "outputs": [],
   "source": []
  },
  {
   "cell_type": "code",
   "execution_count": null,
   "metadata": {},
   "outputs": [],
   "source": []
  },
  {
   "cell_type": "markdown",
   "metadata": {
    "toc-hr-collapsed": true
   },
   "source": [
    "### To modify an attribute of the figure from cufflinks\n",
    "1. save as a variable and pass `asFigure = True`\n",
    "2. modify the attribute\n",
    "3. display figure\n"
   ]
  },
  {
   "cell_type": "code",
   "execution_count": null,
   "metadata": {},
   "outputs": [],
   "source": []
  },
  {
   "cell_type": "code",
   "execution_count": null,
   "metadata": {},
   "outputs": [],
   "source": []
  },
  {
   "cell_type": "code",
   "execution_count": null,
   "metadata": {},
   "outputs": [],
   "source": []
  },
  {
   "cell_type": "markdown",
   "metadata": {},
   "source": [
    "#### Setting an attribute"
   ]
  },
  {
   "cell_type": "code",
   "execution_count": null,
   "metadata": {},
   "outputs": [],
   "source": []
  },
  {
   "cell_type": "markdown",
   "metadata": {},
   "source": [
    "Or alternatively, use a method. This is more declarative (as opposed to imperative). We don't care what the method does to achieve what we want."
   ]
  },
  {
   "cell_type": "code",
   "execution_count": null,
   "metadata": {},
   "outputs": [],
   "source": []
  },
  {
   "cell_type": "markdown",
   "metadata": {},
   "source": [
    "#### Output the interactive file (not just the flat image)"
   ]
  },
  {
   "cell_type": "code",
   "execution_count": null,
   "metadata": {},
   "outputs": [],
   "source": []
  },
  {
   "cell_type": "markdown",
   "metadata": {},
   "source": [
    "Let's view this in Jupyter Lab."
   ]
  },
  {
   "cell_type": "markdown",
   "metadata": {
    "toc-hr-collapsed": true
   },
   "source": [
    "## Let's look at geo data because it is fun"
   ]
  },
  {
   "cell_type": "code",
   "execution_count": null,
   "metadata": {},
   "outputs": [],
   "source": []
  },
  {
   "cell_type": "code",
   "execution_count": null,
   "metadata": {},
   "outputs": [],
   "source": []
  },
  {
   "cell_type": "markdown",
   "metadata": {},
   "source": [
    "Let's change the map."
   ]
  },
  {
   "cell_type": "markdown",
   "metadata": {},
   "source": [
    "See more about plotly express [here](https://plotly.com/python/plotly-express/)"
   ]
  },
  {
   "cell_type": "markdown",
   "metadata": {},
   "source": [
    "### Let's see this figure in streamlit"
   ]
  },
  {
   "cell_type": "markdown",
   "metadata": {},
   "source": [
    "# Conclusion\n",
    "\n",
    "## Check for understanding\n",
    "\n",
    "What are the differences between:\n",
    "\n",
    "    - d3.js\n",
    "    - plotly (company and the detailed, underlying package)\n",
    "    - express\n",
    "    - cufflinks\n",
    "    - dash\n"
   ]
  },
  {
   "cell_type": "code",
   "execution_count": null,
   "metadata": {},
   "outputs": [],
   "source": []
  }
 ],
 "metadata": {
  "kernelspec": {
   "display_name": "Python 3",
   "language": "python",
   "name": "python3"
  },
  "language_info": {
   "codemirror_mode": {
    "name": "ipython",
    "version": 3
   },
   "file_extension": ".py",
   "mimetype": "text/x-python",
   "name": "python",
   "nbconvert_exporter": "python",
   "pygments_lexer": "ipython3",
   "version": "3.7.7"
  }
 },
 "nbformat": 4,
 "nbformat_minor": 4
}
