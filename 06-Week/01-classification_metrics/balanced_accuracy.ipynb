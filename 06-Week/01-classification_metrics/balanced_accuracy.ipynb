{
 "cells": [
  {
   "cell_type": "markdown",
   "metadata": {},
   "source": [
    "# Classification Metrics Roundup \n",
    "\n",
    "_By Jeff Hale_\n",
    "\n",
    "---\n",
    "\n",
    "## Learning Objectives\n",
    "By the end of this lesson students will be able to:\n",
    "\n",
    "- Understand binary classification metrics \n",
    "- Compute binary classification metrics by hand\n",
    "- Use sklearn to compute binary classification metrics\n",
    "---"
   ]
  },
  {
   "cell_type": "markdown",
   "metadata": {},
   "source": [
    "### Read in titanic data from seaborn"
   ]
  },
  {
   "cell_type": "code",
<<<<<<< HEAD
   "execution_count": 1,
=======
   "execution_count": 109,
>>>>>>> fd9af4f6b8e5ff6839496e47b1e0f207e5ed444a
   "metadata": {},
   "outputs": [],
   "source": [
    "import pandas as pd\n",
    "import numpy as np\n",
    "import seaborn as sns\n",
    "\n",
    "from sklearn.model_selection import train_test_split\n",
    "from sklearn.linear_model import LogisticRegression\n",
    "from sklearn.preprocessing import OneHotEncoder\n",
    "from sklearn.metrics import confusion_matrix\n",
    "from sklearn.metrics import accuracy_score"
   ]
  },
  {
   "cell_type": "code",
<<<<<<< HEAD
   "execution_count": 2,
=======
   "execution_count": 110,
>>>>>>> fd9af4f6b8e5ff6839496e47b1e0f207e5ed444a
   "metadata": {},
   "outputs": [
    {
     "data": {
      "text/html": [
       "<div>\n",
       "<style scoped>\n",
       "    .dataframe tbody tr th:only-of-type {\n",
       "        vertical-align: middle;\n",
       "    }\n",
       "\n",
       "    .dataframe tbody tr th {\n",
       "        vertical-align: top;\n",
       "    }\n",
       "\n",
       "    .dataframe thead th {\n",
       "        text-align: right;\n",
       "    }\n",
       "</style>\n",
       "<table border=\"1\" class=\"dataframe\">\n",
       "  <thead>\n",
       "    <tr style=\"text-align: right;\">\n",
       "      <th></th>\n",
       "      <th>survived</th>\n",
       "      <th>pclass</th>\n",
       "      <th>sex</th>\n",
       "      <th>age</th>\n",
       "      <th>sibsp</th>\n",
       "      <th>parch</th>\n",
       "      <th>fare</th>\n",
       "      <th>embarked</th>\n",
       "      <th>class</th>\n",
       "      <th>who</th>\n",
       "      <th>adult_male</th>\n",
       "      <th>deck</th>\n",
       "      <th>embark_town</th>\n",
       "      <th>alive</th>\n",
       "      <th>alone</th>\n",
       "    </tr>\n",
       "  </thead>\n",
       "  <tbody>\n",
       "    <tr>\n",
       "      <th>0</th>\n",
       "      <td>0</td>\n",
       "      <td>3</td>\n",
       "      <td>male</td>\n",
       "      <td>22.0</td>\n",
       "      <td>1</td>\n",
       "      <td>0</td>\n",
       "      <td>7.2500</td>\n",
       "      <td>S</td>\n",
       "      <td>Third</td>\n",
       "      <td>man</td>\n",
       "      <td>True</td>\n",
       "      <td>NaN</td>\n",
       "      <td>Southampton</td>\n",
       "      <td>no</td>\n",
       "      <td>False</td>\n",
       "    </tr>\n",
       "    <tr>\n",
       "      <th>1</th>\n",
       "      <td>1</td>\n",
       "      <td>1</td>\n",
       "      <td>female</td>\n",
       "      <td>38.0</td>\n",
       "      <td>1</td>\n",
       "      <td>0</td>\n",
       "      <td>71.2833</td>\n",
       "      <td>C</td>\n",
       "      <td>First</td>\n",
       "      <td>woman</td>\n",
       "      <td>False</td>\n",
       "      <td>C</td>\n",
       "      <td>Cherbourg</td>\n",
       "      <td>yes</td>\n",
       "      <td>False</td>\n",
       "    </tr>\n",
       "    <tr>\n",
       "      <th>2</th>\n",
       "      <td>1</td>\n",
       "      <td>3</td>\n",
       "      <td>female</td>\n",
       "      <td>26.0</td>\n",
       "      <td>0</td>\n",
       "      <td>0</td>\n",
       "      <td>7.9250</td>\n",
       "      <td>S</td>\n",
       "      <td>Third</td>\n",
       "      <td>woman</td>\n",
       "      <td>False</td>\n",
       "      <td>NaN</td>\n",
       "      <td>Southampton</td>\n",
       "      <td>yes</td>\n",
       "      <td>True</td>\n",
       "    </tr>\n",
       "    <tr>\n",
       "      <th>3</th>\n",
       "      <td>1</td>\n",
       "      <td>1</td>\n",
       "      <td>female</td>\n",
       "      <td>35.0</td>\n",
       "      <td>1</td>\n",
       "      <td>0</td>\n",
       "      <td>53.1000</td>\n",
       "      <td>S</td>\n",
       "      <td>First</td>\n",
       "      <td>woman</td>\n",
       "      <td>False</td>\n",
       "      <td>C</td>\n",
       "      <td>Southampton</td>\n",
       "      <td>yes</td>\n",
       "      <td>False</td>\n",
       "    </tr>\n",
       "    <tr>\n",
       "      <th>4</th>\n",
       "      <td>0</td>\n",
       "      <td>3</td>\n",
       "      <td>male</td>\n",
       "      <td>35.0</td>\n",
       "      <td>0</td>\n",
       "      <td>0</td>\n",
       "      <td>8.0500</td>\n",
       "      <td>S</td>\n",
       "      <td>Third</td>\n",
       "      <td>man</td>\n",
       "      <td>True</td>\n",
       "      <td>NaN</td>\n",
       "      <td>Southampton</td>\n",
       "      <td>no</td>\n",
       "      <td>True</td>\n",
       "    </tr>\n",
       "  </tbody>\n",
       "</table>\n",
       "</div>"
      ],
      "text/plain": [
       "   survived  pclass     sex   age  sibsp  parch     fare embarked  class  \\\n",
       "0         0       3    male  22.0      1      0   7.2500        S  Third   \n",
       "1         1       1  female  38.0      1      0  71.2833        C  First   \n",
       "2         1       3  female  26.0      0      0   7.9250        S  Third   \n",
       "3         1       1  female  35.0      1      0  53.1000        S  First   \n",
       "4         0       3    male  35.0      0      0   8.0500        S  Third   \n",
       "\n",
       "     who  adult_male deck  embark_town alive  alone  \n",
       "0    man        True  NaN  Southampton    no  False  \n",
       "1  woman       False    C    Cherbourg   yes  False  \n",
       "2  woman       False  NaN  Southampton   yes   True  \n",
       "3  woman       False    C  Southampton   yes  False  \n",
       "4    man        True  NaN  Southampton    no   True  "
      ]
     },
<<<<<<< HEAD
     "execution_count": 2,
=======
     "execution_count": 110,
>>>>>>> fd9af4f6b8e5ff6839496e47b1e0f207e5ed444a
     "metadata": {},
     "output_type": "execute_result"
    }
   ],
   "source": [
    "df_titanic = sns.load_dataset('titanic', )\n",
    "df_titanic.head()"
   ]
  },
  {
   "cell_type": "code",
<<<<<<< HEAD
   "execution_count": 3,
=======
   "execution_count": 111,
>>>>>>> fd9af4f6b8e5ff6839496e47b1e0f207e5ed444a
   "metadata": {},
   "outputs": [
    {
     "name": "stdout",
     "output_type": "stream",
     "text": [
      "<class 'pandas.core.frame.DataFrame'>\n",
      "RangeIndex: 891 entries, 0 to 890\n",
      "Data columns (total 15 columns):\n",
<<<<<<< HEAD
      "survived       891 non-null int64\n",
      "pclass         891 non-null int64\n",
      "sex            891 non-null object\n",
      "age            714 non-null float64\n",
      "sibsp          891 non-null int64\n",
      "parch          891 non-null int64\n",
      "fare           891 non-null float64\n",
      "embarked       889 non-null object\n",
      "class          891 non-null category\n",
      "who            891 non-null object\n",
      "adult_male     891 non-null bool\n",
      "deck           203 non-null category\n",
      "embark_town    889 non-null object\n",
      "alive          891 non-null object\n",
      "alone          891 non-null bool\n",
=======
      " #   Column       Non-Null Count  Dtype   \n",
      "---  ------       --------------  -----   \n",
      " 0   survived     891 non-null    int64   \n",
      " 1   pclass       891 non-null    int64   \n",
      " 2   sex          891 non-null    object  \n",
      " 3   age          714 non-null    float64 \n",
      " 4   sibsp        891 non-null    int64   \n",
      " 5   parch        891 non-null    int64   \n",
      " 6   fare         891 non-null    float64 \n",
      " 7   embarked     889 non-null    object  \n",
      " 8   class        891 non-null    category\n",
      " 9   who          891 non-null    object  \n",
      " 10  adult_male   891 non-null    bool    \n",
      " 11  deck         203 non-null    category\n",
      " 12  embark_town  889 non-null    object  \n",
      " 13  alive        891 non-null    object  \n",
      " 14  alone        891 non-null    bool    \n",
>>>>>>> fd9af4f6b8e5ff6839496e47b1e0f207e5ed444a
      "dtypes: bool(2), category(2), float64(2), int64(4), object(5)\n",
      "memory usage: 80.6+ KB\n"
     ]
    }
   ],
   "source": [
    "df_titanic.info()"
   ]
  },
  {
   "cell_type": "markdown",
   "metadata": {},
   "source": [
    "#### Split into x and y. \n",
    "\n",
    "Let's use `survived` for y and `sex` and `class` for X."
   ]
  },
  {
   "cell_type": "code",
<<<<<<< HEAD
   "execution_count": 4,
=======
   "execution_count": 112,
>>>>>>> fd9af4f6b8e5ff6839496e47b1e0f207e5ed444a
   "metadata": {},
   "outputs": [],
   "source": [
    "X = df_titanic[['sex', 'class']]\n",
    "y = df_titanic['survived']"
   ]
  },
  {
   "cell_type": "code",
<<<<<<< HEAD
   "execution_count": 5,
=======
   "execution_count": 113,
>>>>>>> fd9af4f6b8e5ff6839496e47b1e0f207e5ed444a
   "metadata": {},
   "outputs": [
    {
     "data": {
      "text/html": [
       "<div>\n",
       "<style scoped>\n",
       "    .dataframe tbody tr th:only-of-type {\n",
       "        vertical-align: middle;\n",
       "    }\n",
       "\n",
       "    .dataframe tbody tr th {\n",
       "        vertical-align: top;\n",
       "    }\n",
       "\n",
       "    .dataframe thead th {\n",
       "        text-align: right;\n",
       "    }\n",
       "</style>\n",
       "<table border=\"1\" class=\"dataframe\">\n",
       "  <thead>\n",
       "    <tr style=\"text-align: right;\">\n",
       "      <th></th>\n",
       "      <th>sex</th>\n",
       "      <th>class</th>\n",
       "    </tr>\n",
       "  </thead>\n",
       "  <tbody>\n",
       "    <tr>\n",
       "      <th>0</th>\n",
       "      <td>male</td>\n",
       "      <td>Third</td>\n",
       "    </tr>\n",
       "    <tr>\n",
       "      <th>1</th>\n",
       "      <td>female</td>\n",
       "      <td>First</td>\n",
       "    </tr>\n",
       "    <tr>\n",
       "      <th>2</th>\n",
       "      <td>female</td>\n",
       "      <td>Third</td>\n",
       "    </tr>\n",
       "    <tr>\n",
       "      <th>3</th>\n",
       "      <td>female</td>\n",
       "      <td>First</td>\n",
       "    </tr>\n",
       "    <tr>\n",
       "      <th>4</th>\n",
       "      <td>male</td>\n",
       "      <td>Third</td>\n",
       "    </tr>\n",
       "  </tbody>\n",
       "</table>\n",
       "</div>"
      ],
      "text/plain": [
       "      sex  class\n",
       "0    male  Third\n",
       "1  female  First\n",
       "2  female  Third\n",
       "3  female  First\n",
       "4    male  Third"
      ]
     },
<<<<<<< HEAD
     "execution_count": 5,
=======
     "execution_count": 113,
>>>>>>> fd9af4f6b8e5ff6839496e47b1e0f207e5ed444a
     "metadata": {},
     "output_type": "execute_result"
    }
   ],
   "source": [
    "X.head()"
   ]
  },
  {
   "cell_type": "code",
<<<<<<< HEAD
   "execution_count": 6,
=======
   "execution_count": 114,
>>>>>>> fd9af4f6b8e5ff6839496e47b1e0f207e5ed444a
   "metadata": {},
   "outputs": [
    {
     "data": {
      "text/plain": [
       "0    0\n",
       "1    1\n",
       "2    1\n",
       "3    1\n",
       "4    0\n",
       "Name: survived, dtype: int64"
      ]
     },
<<<<<<< HEAD
     "execution_count": 6,
=======
     "execution_count": 114,
>>>>>>> fd9af4f6b8e5ff6839496e47b1e0f207e5ed444a
     "metadata": {},
     "output_type": "execute_result"
    }
   ],
   "source": [
    "y.head()"
   ]
  },
  {
   "cell_type": "code",
<<<<<<< HEAD
   "execution_count": 7,
=======
   "execution_count": 115,
>>>>>>> fd9af4f6b8e5ff6839496e47b1e0f207e5ed444a
   "metadata": {},
   "outputs": [
    {
     "data": {
      "text/plain": [
       "0    549\n",
       "1    342\n",
       "Name: survived, dtype: int64"
      ]
     },
<<<<<<< HEAD
     "execution_count": 7,
=======
     "execution_count": 115,
>>>>>>> fd9af4f6b8e5ff6839496e47b1e0f207e5ed444a
     "metadata": {},
     "output_type": "execute_result"
    }
   ],
   "source": [
    "y.value_counts()"
   ]
  },
  {
   "cell_type": "code",
<<<<<<< HEAD
   "execution_count": 8,
=======
   "execution_count": 116,
>>>>>>> fd9af4f6b8e5ff6839496e47b1e0f207e5ed444a
   "metadata": {},
   "outputs": [
    {
     "data": {
      "text/plain": [
       "0    0.616162\n",
       "1    0.383838\n",
       "Name: survived, dtype: float64"
      ]
     },
<<<<<<< HEAD
     "execution_count": 8,
=======
     "execution_count": 116,
>>>>>>> fd9af4f6b8e5ff6839496e47b1e0f207e5ed444a
     "metadata": {},
     "output_type": "execute_result"
    }
   ],
   "source": [
    "y.value_counts(normalize=True)"
   ]
  },
  {
   "cell_type": "markdown",
   "metadata": {},
   "source": [
    "## Split into training and test sets"
   ]
  },
  {
   "cell_type": "code",
<<<<<<< HEAD
   "execution_count": 9,
=======
   "execution_count": 117,
>>>>>>> fd9af4f6b8e5ff6839496e47b1e0f207e5ed444a
   "metadata": {},
   "outputs": [],
   "source": [
    "X_train, X_test, y_train, y_test = train_test_split(X, y, random_state=7)"
   ]
  },
  {
   "cell_type": "code",
<<<<<<< HEAD
   "execution_count": 10,
=======
   "execution_count": 118,
>>>>>>> fd9af4f6b8e5ff6839496e47b1e0f207e5ed444a
   "metadata": {},
   "outputs": [
    {
     "data": {
      "text/html": [
       "<div>\n",
       "<style scoped>\n",
       "    .dataframe tbody tr th:only-of-type {\n",
       "        vertical-align: middle;\n",
       "    }\n",
       "\n",
       "    .dataframe tbody tr th {\n",
       "        vertical-align: top;\n",
       "    }\n",
       "\n",
       "    .dataframe thead th {\n",
       "        text-align: right;\n",
       "    }\n",
       "</style>\n",
       "<table border=\"1\" class=\"dataframe\">\n",
       "  <thead>\n",
       "    <tr style=\"text-align: right;\">\n",
       "      <th></th>\n",
       "      <th>sex</th>\n",
       "      <th>class</th>\n",
       "    </tr>\n",
       "  </thead>\n",
       "  <tbody>\n",
       "    <tr>\n",
       "      <th>709</th>\n",
       "      <td>male</td>\n",
       "      <td>Third</td>\n",
       "    </tr>\n",
       "    <tr>\n",
       "      <th>558</th>\n",
       "      <td>female</td>\n",
       "      <td>First</td>\n",
       "    </tr>\n",
       "  </tbody>\n",
       "</table>\n",
       "</div>"
      ],
      "text/plain": [
       "        sex  class\n",
       "709    male  Third\n",
       "558  female  First"
      ]
     },
<<<<<<< HEAD
     "execution_count": 10,
=======
     "execution_count": 118,
>>>>>>> fd9af4f6b8e5ff6839496e47b1e0f207e5ed444a
     "metadata": {},
     "output_type": "execute_result"
    }
   ],
   "source": [
    "X_train.head(2)"
   ]
  },
  {
   "cell_type": "code",
<<<<<<< HEAD
   "execution_count": 11,
=======
   "execution_count": 119,
>>>>>>> fd9af4f6b8e5ff6839496e47b1e0f207e5ed444a
   "metadata": {},
   "outputs": [
    {
     "data": {
      "text/html": [
       "<div>\n",
       "<style scoped>\n",
       "    .dataframe tbody tr th:only-of-type {\n",
       "        vertical-align: middle;\n",
       "    }\n",
       "\n",
       "    .dataframe tbody tr th {\n",
       "        vertical-align: top;\n",
       "    }\n",
       "\n",
       "    .dataframe thead th {\n",
       "        text-align: right;\n",
       "    }\n",
       "</style>\n",
       "<table border=\"1\" class=\"dataframe\">\n",
       "  <thead>\n",
       "    <tr style=\"text-align: right;\">\n",
       "      <th></th>\n",
       "      <th>sex</th>\n",
       "      <th>class</th>\n",
       "    </tr>\n",
       "  </thead>\n",
       "  <tbody>\n",
       "    <tr>\n",
       "      <th>725</th>\n",
       "      <td>male</td>\n",
       "      <td>Third</td>\n",
       "    </tr>\n",
       "    <tr>\n",
       "      <th>861</th>\n",
       "      <td>male</td>\n",
       "      <td>Second</td>\n",
       "    </tr>\n",
       "  </tbody>\n",
       "</table>\n",
       "</div>"
      ],
      "text/plain": [
       "      sex   class\n",
       "725  male   Third\n",
       "861  male  Second"
      ]
     },
<<<<<<< HEAD
     "execution_count": 11,
=======
     "execution_count": 119,
>>>>>>> fd9af4f6b8e5ff6839496e47b1e0f207e5ed444a
     "metadata": {},
     "output_type": "execute_result"
    }
   ],
   "source": [
    "X_test.head(2)"
   ]
  },
  {
   "cell_type": "code",
<<<<<<< HEAD
   "execution_count": 12,
=======
   "execution_count": 120,
>>>>>>> fd9af4f6b8e5ff6839496e47b1e0f207e5ed444a
   "metadata": {},
   "outputs": [
    {
     "data": {
      "text/plain": [
       "709    1\n",
       "558    1\n",
       "Name: survived, dtype: int64"
      ]
     },
<<<<<<< HEAD
     "execution_count": 12,
=======
     "execution_count": 120,
>>>>>>> fd9af4f6b8e5ff6839496e47b1e0f207e5ed444a
     "metadata": {},
     "output_type": "execute_result"
    }
   ],
   "source": [
    "y_train.head(2)"
   ]
  },
  {
   "cell_type": "code",
<<<<<<< HEAD
   "execution_count": 13,
=======
   "execution_count": 121,
>>>>>>> fd9af4f6b8e5ff6839496e47b1e0f207e5ed444a
   "metadata": {},
   "outputs": [
    {
     "data": {
      "text/plain": [
       "725    0\n",
       "861    0\n",
       "Name: survived, dtype: int64"
      ]
     },
<<<<<<< HEAD
     "execution_count": 13,
=======
     "execution_count": 121,
>>>>>>> fd9af4f6b8e5ff6839496e47b1e0f207e5ed444a
     "metadata": {},
     "output_type": "execute_result"
    }
   ],
   "source": [
    "y_test.head(2)"
   ]
  },
  {
   "cell_type": "markdown",
   "metadata": {},
   "source": [
    "### Make an object from the OneHotEncoder class. \n",
    "\n",
    "#### Warning! ☝️  The arguments are important here. "
   ]
  },
  {
   "cell_type": "code",
<<<<<<< HEAD
   "execution_count": 14,
=======
   "execution_count": 122,
>>>>>>> fd9af4f6b8e5ff6839496e47b1e0f207e5ed444a
   "metadata": {},
   "outputs": [
    {
     "data": {
      "text/plain": [
       "OneHotEncoder(categories='auto', drop=None, dtype=<class 'numpy.float64'>,\n",
       "              handle_unknown='ignore', sparse=False)"
      ]
     },
<<<<<<< HEAD
     "execution_count": 14,
=======
     "execution_count": 122,
>>>>>>> fd9af4f6b8e5ff6839496e47b1e0f207e5ed444a
     "metadata": {},
     "output_type": "execute_result"
    }
   ],
   "source": [
    "ohe = OneHotEncoder(sparse=False, handle_unknown='ignore')\n",
    "ohe"
   ]
  },
  {
   "cell_type": "markdown",
   "metadata": {},
   "source": [
    "### Save the fit and transformed training data"
   ]
  },
  {
   "cell_type": "code",
<<<<<<< HEAD
   "execution_count": 15,
=======
   "execution_count": 123,
>>>>>>> fd9af4f6b8e5ff6839496e47b1e0f207e5ed444a
   "metadata": {},
   "outputs": [
    {
     "data": {
      "text/plain": [
       "array([[0., 1., 0., 0., 1.],\n",
       "       [1., 0., 1., 0., 0.],\n",
       "       [1., 0., 0., 1., 0.],\n",
       "       ...,\n",
       "       [1., 0., 1., 0., 0.],\n",
       "       [0., 1., 0., 0., 1.],\n",
       "       [0., 1., 0., 0., 1.]])"
      ]
     },
<<<<<<< HEAD
     "execution_count": 15,
=======
     "execution_count": 123,
>>>>>>> fd9af4f6b8e5ff6839496e47b1e0f207e5ed444a
     "metadata": {},
     "output_type": "execute_result"
    }
   ],
   "source": [
    "X_train_dummified = ohe.fit_transform(X_train, y_train)\n",
    "X_train_dummified"
   ]
  },
  {
   "cell_type": "markdown",
   "metadata": {},
   "source": [
    "### Save the transformed `X_test`"
   ]
  },
  {
   "cell_type": "code",
<<<<<<< HEAD
   "execution_count": 16,
=======
   "execution_count": 124,
>>>>>>> fd9af4f6b8e5ff6839496e47b1e0f207e5ed444a
   "metadata": {},
   "outputs": [
    {
     "data": {
      "text/plain": [
       "array([[0., 1., 0., 0., 1.],\n",
       "       [0., 1., 0., 1., 0.],\n",
       "       [0., 1., 0., 0., 1.],\n",
       "       ...,\n",
       "       [0., 1., 0., 0., 1.],\n",
       "       [0., 1., 0., 0., 1.],\n",
       "       [1., 0., 0., 1., 0.]])"
      ]
     },
<<<<<<< HEAD
     "execution_count": 16,
=======
     "execution_count": 124,
>>>>>>> fd9af4f6b8e5ff6839496e47b1e0f207e5ed444a
     "metadata": {},
     "output_type": "execute_result"
    }
   ],
   "source": [
    "X_test_dummified = ohe.transform(X_test)\n",
    "X_test_dummified"
   ]
  },
  {
   "cell_type": "code",
<<<<<<< HEAD
   "execution_count": 17,
=======
   "execution_count": 125,
>>>>>>> fd9af4f6b8e5ff6839496e47b1e0f207e5ed444a
   "metadata": {},
   "outputs": [
    {
     "data": {
      "text/html": [
       "<div>\n",
       "<style scoped>\n",
       "    .dataframe tbody tr th:only-of-type {\n",
       "        vertical-align: middle;\n",
       "    }\n",
       "\n",
       "    .dataframe tbody tr th {\n",
       "        vertical-align: top;\n",
       "    }\n",
       "\n",
       "    .dataframe thead th {\n",
       "        text-align: right;\n",
       "    }\n",
       "</style>\n",
       "<table border=\"1\" class=\"dataframe\">\n",
       "  <thead>\n",
       "    <tr style=\"text-align: right;\">\n",
       "      <th></th>\n",
       "      <th>sex_female</th>\n",
       "      <th>sex_male</th>\n",
       "      <th>class_First</th>\n",
       "      <th>class_Second</th>\n",
       "      <th>class_Third</th>\n",
       "    </tr>\n",
       "  </thead>\n",
       "  <tbody>\n",
       "    <tr>\n",
       "      <th>709</th>\n",
       "      <td>0</td>\n",
       "      <td>1</td>\n",
       "      <td>0</td>\n",
       "      <td>0</td>\n",
       "      <td>1</td>\n",
       "    </tr>\n",
       "    <tr>\n",
       "      <th>558</th>\n",
       "      <td>1</td>\n",
       "      <td>0</td>\n",
       "      <td>1</td>\n",
       "      <td>0</td>\n",
       "      <td>0</td>\n",
       "    </tr>\n",
       "    <tr>\n",
       "      <th>327</th>\n",
       "      <td>1</td>\n",
       "      <td>0</td>\n",
       "      <td>0</td>\n",
       "      <td>1</td>\n",
       "      <td>0</td>\n",
       "    </tr>\n",
       "    <tr>\n",
       "      <th>256</th>\n",
       "      <td>1</td>\n",
       "      <td>0</td>\n",
       "      <td>1</td>\n",
       "      <td>0</td>\n",
       "      <td>0</td>\n",
       "    </tr>\n",
       "    <tr>\n",
       "      <th>51</th>\n",
       "      <td>0</td>\n",
       "      <td>1</td>\n",
       "      <td>0</td>\n",
       "      <td>0</td>\n",
       "      <td>1</td>\n",
       "    </tr>\n",
       "    <tr>\n",
       "      <th>...</th>\n",
       "      <td>...</td>\n",
       "      <td>...</td>\n",
       "      <td>...</td>\n",
       "      <td>...</td>\n",
       "      <td>...</td>\n",
       "    </tr>\n",
       "    <tr>\n",
       "      <th>579</th>\n",
       "      <td>0</td>\n",
       "      <td>1</td>\n",
       "      <td>0</td>\n",
       "      <td>0</td>\n",
       "      <td>1</td>\n",
       "    </tr>\n",
       "    <tr>\n",
       "      <th>502</th>\n",
       "      <td>1</td>\n",
       "      <td>0</td>\n",
       "      <td>0</td>\n",
       "      <td>0</td>\n",
       "      <td>1</td>\n",
       "    </tr>\n",
       "    <tr>\n",
       "      <th>537</th>\n",
       "      <td>1</td>\n",
       "      <td>0</td>\n",
       "      <td>1</td>\n",
       "      <td>0</td>\n",
       "      <td>0</td>\n",
       "    </tr>\n",
       "    <tr>\n",
       "      <th>196</th>\n",
       "      <td>0</td>\n",
       "      <td>1</td>\n",
       "      <td>0</td>\n",
       "      <td>0</td>\n",
       "      <td>1</td>\n",
       "    </tr>\n",
       "    <tr>\n",
       "      <th>175</th>\n",
       "      <td>0</td>\n",
       "      <td>1</td>\n",
       "      <td>0</td>\n",
       "      <td>0</td>\n",
       "      <td>1</td>\n",
       "    </tr>\n",
       "  </tbody>\n",
       "</table>\n",
       "<p>668 rows × 5 columns</p>\n",
       "</div>"
      ],
      "text/plain": [
       "     sex_female  sex_male  class_First  class_Second  class_Third\n",
       "709           0         1            0             0            1\n",
       "558           1         0            1             0            0\n",
       "327           1         0            0             1            0\n",
       "256           1         0            1             0            0\n",
       "51            0         1            0             0            1\n",
       "..          ...       ...          ...           ...          ...\n",
       "579           0         1            0             0            1\n",
       "502           1         0            0             0            1\n",
       "537           1         0            1             0            0\n",
       "196           0         1            0             0            1\n",
       "175           0         1            0             0            1\n",
       "\n",
       "[668 rows x 5 columns]"
      ]
     },
<<<<<<< HEAD
     "execution_count": 17,
=======
     "execution_count": 125,
>>>>>>> fd9af4f6b8e5ff6839496e47b1e0f207e5ed444a
     "metadata": {},
     "output_type": "execute_result"
    }
   ],
   "source": [
    "pd.get_dummies(X_train)"
   ]
  },
  {
   "cell_type": "markdown",
   "metadata": {},
   "source": [
    "## Make a LogisticRegression model"
   ]
  },
  {
   "cell_type": "code",
<<<<<<< HEAD
   "execution_count": 18,
=======
   "execution_count": 126,
>>>>>>> fd9af4f6b8e5ff6839496e47b1e0f207e5ed444a
   "metadata": {},
   "outputs": [],
   "source": [
    "logreg = LogisticRegression()\n"
   ]
  },
  {
   "cell_type": "code",
   "execution_count": null,
   "metadata": {},
   "outputs": [],
   "source": []
  },
  {
   "cell_type": "markdown",
   "metadata": {},
   "source": [
    "### Fit the model"
   ]
  },
  {
   "cell_type": "code",
<<<<<<< HEAD
   "execution_count": 19,
=======
   "execution_count": 127,
>>>>>>> fd9af4f6b8e5ff6839496e47b1e0f207e5ed444a
   "metadata": {},
   "outputs": [
    {
     "data": {
      "text/plain": [
       "LogisticRegression(C=1.0, class_weight=None, dual=False, fit_intercept=True,\n",
       "                   intercept_scaling=1, l1_ratio=None, max_iter=100,\n",
       "                   multi_class='auto', n_jobs=None, penalty='l2',\n",
       "                   random_state=None, solver='lbfgs', tol=0.0001, verbose=0,\n",
       "                   warm_start=False)"
      ]
     },
<<<<<<< HEAD
     "execution_count": 19,
=======
     "execution_count": 127,
>>>>>>> fd9af4f6b8e5ff6839496e47b1e0f207e5ed444a
     "metadata": {},
     "output_type": "execute_result"
    }
   ],
   "source": [
    "logreg.fit(X_train_dummified, y_train)"
   ]
  },
  {
   "cell_type": "markdown",
   "metadata": {},
   "source": [
    "### Create the model predictions"
   ]
  },
  {
   "cell_type": "code",
<<<<<<< HEAD
   "execution_count": 20,
=======
   "execution_count": 128,
>>>>>>> fd9af4f6b8e5ff6839496e47b1e0f207e5ed444a
   "metadata": {},
   "outputs": [],
   "source": [
    "preds = logreg.predict(X_test_dummified)"
   ]
  },
  {
   "cell_type": "code",
<<<<<<< HEAD
   "execution_count": 21,
=======
   "execution_count": 129,
>>>>>>> fd9af4f6b8e5ff6839496e47b1e0f207e5ed444a
   "metadata": {},
   "outputs": [
    {
     "data": {
      "text/plain": [
       "array([0, 0, 0, 0, 1, 1])"
      ]
     },
<<<<<<< HEAD
     "execution_count": 21,
=======
     "execution_count": 129,
>>>>>>> fd9af4f6b8e5ff6839496e47b1e0f207e5ed444a
     "metadata": {},
     "output_type": "execute_result"
    }
   ],
   "source": [
    "preds[:6]"
   ]
  },
  {
   "cell_type": "code",
<<<<<<< HEAD
   "execution_count": 22,
=======
   "execution_count": 130,
>>>>>>> fd9af4f6b8e5ff6839496e47b1e0f207e5ed444a
   "metadata": {},
   "outputs": [
    {
     "data": {
      "text/plain": [
       "array([[0.91001718, 0.08998282],\n",
       "       [0.777694  , 0.222306  ],\n",
       "       [0.91001718, 0.08998282],\n",
       "       [0.91001718, 0.08998282],\n",
       "       [0.09931411, 0.90068589],\n",
       "       [0.16955327, 0.83044673]])"
      ]
     },
<<<<<<< HEAD
     "execution_count": 22,
=======
     "execution_count": 130,
>>>>>>> fd9af4f6b8e5ff6839496e47b1e0f207e5ed444a
     "metadata": {},
     "output_type": "execute_result"
    }
   ],
   "source": [
    "probs = logreg.predict_proba(X_test_dummified)\n",
    "probs[:6]"
   ]
  },
  {
   "cell_type": "code",
<<<<<<< HEAD
   "execution_count": 23,
=======
   "execution_count": 131,
>>>>>>> fd9af4f6b8e5ff6839496e47b1e0f207e5ed444a
   "metadata": {},
   "outputs": [
    {
     "data": {
      "text/plain": [
       "0.7309417040358744"
      ]
     },
<<<<<<< HEAD
     "execution_count": 23,
=======
     "execution_count": 131,
>>>>>>> fd9af4f6b8e5ff6839496e47b1e0f207e5ed444a
     "metadata": {},
     "output_type": "execute_result"
    }
   ],
   "source": [
    "logreg.score(X_test_dummified, y_test)"
   ]
  },
  {
   "cell_type": "markdown",
   "metadata": {},
   "source": [
    "### Generate the confusion matrix"
   ]
  },
  {
   "cell_type": "code",
<<<<<<< HEAD
   "execution_count": 24,
=======
   "execution_count": 132,
>>>>>>> fd9af4f6b8e5ff6839496e47b1e0f207e5ed444a
   "metadata": {},
   "outputs": [
    {
     "data": {
      "text/plain": [
       "array([[111,  24],\n",
       "       [ 36,  52]])"
      ]
     },
<<<<<<< HEAD
     "execution_count": 24,
=======
     "execution_count": 132,
>>>>>>> fd9af4f6b8e5ff6839496e47b1e0f207e5ed444a
     "metadata": {},
     "output_type": "execute_result"
    }
   ],
   "source": [
    "confusion_matrix(y_test, preds)"
   ]
  },
  {
   "cell_type": "code",
<<<<<<< HEAD
   "execution_count": 25,
=======
   "execution_count": 133,
>>>>>>> fd9af4f6b8e5ff6839496e47b1e0f207e5ed444a
   "metadata": {},
   "outputs": [
    {
     "data": {
      "text/plain": [
       "111"
      ]
     },
<<<<<<< HEAD
     "execution_count": 25,
=======
     "execution_count": 133,
>>>>>>> fd9af4f6b8e5ff6839496e47b1e0f207e5ed444a
     "metadata": {},
     "output_type": "execute_result"
    }
   ],
   "source": [
    "tn, fp, fn, tp = confusion_matrix(y_test, preds).ravel()\n",
    "tn"
   ]
  },
  {
   "cell_type": "code",
<<<<<<< HEAD
   "execution_count": 26,
=======
   "execution_count": 134,
>>>>>>> fd9af4f6b8e5ff6839496e47b1e0f207e5ed444a
   "metadata": {},
   "outputs": [
    {
     "data": {
      "text/plain": [
       "24"
      ]
     },
<<<<<<< HEAD
     "execution_count": 26,
=======
     "execution_count": 134,
>>>>>>> fd9af4f6b8e5ff6839496e47b1e0f207e5ed444a
     "metadata": {},
     "output_type": "execute_result"
    }
   ],
   "source": [
    "fp"
   ]
  },
  {
   "cell_type": "code",
<<<<<<< HEAD
   "execution_count": 27,
=======
   "execution_count": 135,
>>>>>>> fd9af4f6b8e5ff6839496e47b1e0f207e5ed444a
   "metadata": {},
   "outputs": [
    {
     "data": {
      "text/plain": [
       "36"
      ]
     },
<<<<<<< HEAD
     "execution_count": 27,
=======
     "execution_count": 135,
>>>>>>> fd9af4f6b8e5ff6839496e47b1e0f207e5ed444a
     "metadata": {},
     "output_type": "execute_result"
    }
   ],
   "source": [
    "fn"
   ]
  },
  {
   "cell_type": "code",
<<<<<<< HEAD
   "execution_count": 28,
=======
   "execution_count": 136,
>>>>>>> fd9af4f6b8e5ff6839496e47b1e0f207e5ed444a
   "metadata": {},
   "outputs": [
    {
     "data": {
      "text/plain": [
       "52"
      ]
     },
<<<<<<< HEAD
     "execution_count": 28,
=======
     "execution_count": 136,
>>>>>>> fd9af4f6b8e5ff6839496e47b1e0f207e5ed444a
     "metadata": {},
     "output_type": "execute_result"
    }
   ],
   "source": [
    "tp"
   ]
  },
  {
   "cell_type": "markdown",
   "metadata": {},
   "source": [
    "### Try out the plot_confusion_matrix method"
   ]
  },
  {
   "cell_type": "code",
<<<<<<< HEAD
   "execution_count": 29,
=======
   "execution_count": 137,
>>>>>>> fd9af4f6b8e5ff6839496e47b1e0f207e5ed444a
   "metadata": {},
   "outputs": [],
   "source": [
    "from sklearn.metrics import plot_confusion_matrix"
   ]
  },
  {
   "cell_type": "code",
<<<<<<< HEAD
   "execution_count": 30,
=======
   "execution_count": 138,
>>>>>>> fd9af4f6b8e5ff6839496e47b1e0f207e5ed444a
   "metadata": {},
   "outputs": [
    {
     "data": {
      "text/plain": [
<<<<<<< HEAD
       "<sklearn.metrics._plot.confusion_matrix.ConfusionMatrixDisplay at 0x1a222c3150>"
      ]
     },
     "execution_count": 30,
=======
       "<sklearn.metrics._plot.confusion_matrix.ConfusionMatrixDisplay at 0x1a193aabd0>"
      ]
     },
     "execution_count": 138,
>>>>>>> fd9af4f6b8e5ff6839496e47b1e0f207e5ed444a
     "metadata": {},
     "output_type": "execute_result"
    },
    {
     "data": {
<<<<<<< HEAD
      "image/png": "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\n",
=======
      "image/png": "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\n",
>>>>>>> fd9af4f6b8e5ff6839496e47b1e0f207e5ed444a
      "text/plain": [
       "<Figure size 432x288 with 2 Axes>"
      ]
     },
     "metadata": {
      "needs_background": "light"
     },
     "output_type": "display_data"
    }
   ],
   "source": [
    "plot_confusion_matrix(logreg, X_test_dummified, y_test, values_format = '.5g')"
   ]
  },
  {
   "cell_type": "markdown",
   "metadata": {},
   "source": [
    "Accuracy = 73%"
   ]
  },
  {
   "cell_type": "markdown",
   "metadata": {},
   "source": [
    "#### Compute the True Postive Rate"
   ]
  },
  {
   "cell_type": "code",
<<<<<<< HEAD
   "execution_count": 31,
=======
   "execution_count": 139,
>>>>>>> fd9af4f6b8e5ff6839496e47b1e0f207e5ed444a
   "metadata": {},
   "outputs": [
    {
     "data": {
      "text/plain": [
       "0.5909090909090909"
      ]
     },
<<<<<<< HEAD
     "execution_count": 31,
=======
     "execution_count": 139,
>>>>>>> fd9af4f6b8e5ff6839496e47b1e0f207e5ed444a
     "metadata": {},
     "output_type": "execute_result"
    }
   ],
   "source": [
    "tp/(tp+fn)"
   ]
  },
  {
   "cell_type": "markdown",
   "metadata": {},
   "source": [
    "#### Compute the Sensitivity"
   ]
  },
  {
   "cell_type": "code",
<<<<<<< HEAD
   "execution_count": 32,
=======
   "execution_count": 140,
>>>>>>> fd9af4f6b8e5ff6839496e47b1e0f207e5ed444a
   "metadata": {},
   "outputs": [],
   "source": [
    "# same"
   ]
  },
  {
   "cell_type": "markdown",
   "metadata": {},
   "source": [
    "#### Compute the Recall"
   ]
  },
  {
   "cell_type": "code",
<<<<<<< HEAD
   "execution_count": 33,
=======
   "execution_count": 141,
>>>>>>> fd9af4f6b8e5ff6839496e47b1e0f207e5ed444a
   "metadata": {},
   "outputs": [],
   "source": [
    "# same"
   ]
  },
  {
   "cell_type": "markdown",
   "metadata": {},
   "source": [
    "#### Compute the Precision"
   ]
  },
  {
   "cell_type": "code",
<<<<<<< HEAD
   "execution_count": 34,
=======
   "execution_count": 142,
>>>>>>> fd9af4f6b8e5ff6839496e47b1e0f207e5ed444a
   "metadata": {},
   "outputs": [
    {
     "data": {
      "text/plain": [
       "0.6842105263157895"
      ]
     },
<<<<<<< HEAD
     "execution_count": 34,
=======
     "execution_count": 142,
>>>>>>> fd9af4f6b8e5ff6839496e47b1e0f207e5ed444a
     "metadata": {},
     "output_type": "execute_result"
    }
   ],
   "source": [
    "tp / (tp + fp)"
   ]
  },
  {
   "cell_type": "markdown",
   "metadata": {},
   "source": [
    "#### Compute the Specificity"
   ]
  },
  {
   "cell_type": "code",
<<<<<<< HEAD
   "execution_count": 35,
=======
   "execution_count": 143,
>>>>>>> fd9af4f6b8e5ff6839496e47b1e0f207e5ed444a
   "metadata": {},
   "outputs": [
    {
     "data": {
      "text/plain": [
       "0.8222222222222222"
      ]
     },
<<<<<<< HEAD
     "execution_count": 35,
=======
     "execution_count": 143,
>>>>>>> fd9af4f6b8e5ff6839496e47b1e0f207e5ed444a
     "metadata": {},
     "output_type": "execute_result"
    }
   ],
   "source": [
    "tn/ (tn + fp)"
   ]
  },
  {
   "cell_type": "code",
<<<<<<< HEAD
   "execution_count": 36,
=======
   "execution_count": 144,
>>>>>>> fd9af4f6b8e5ff6839496e47b1e0f207e5ed444a
   "metadata": {},
   "outputs": [],
   "source": [
    "from sklearn.metrics import recall_score, precision_score"
   ]
  },
  {
   "cell_type": "code",
<<<<<<< HEAD
   "execution_count": 37,
=======
   "execution_count": 145,
>>>>>>> fd9af4f6b8e5ff6839496e47b1e0f207e5ed444a
   "metadata": {},
   "outputs": [
    {
     "data": {
      "text/plain": [
       "0.5909090909090909"
      ]
     },
<<<<<<< HEAD
     "execution_count": 37,
=======
     "execution_count": 145,
>>>>>>> fd9af4f6b8e5ff6839496e47b1e0f207e5ed444a
     "metadata": {},
     "output_type": "execute_result"
    }
   ],
   "source": [
    "recall_score(y_test, preds)"
   ]
  },
  {
   "cell_type": "code",
<<<<<<< HEAD
   "execution_count": 38,
=======
   "execution_count": 146,
>>>>>>> fd9af4f6b8e5ff6839496e47b1e0f207e5ed444a
   "metadata": {},
   "outputs": [
    {
     "data": {
      "text/plain": [
       "0.6842105263157895"
      ]
     },
<<<<<<< HEAD
     "execution_count": 38,
=======
     "execution_count": 146,
>>>>>>> fd9af4f6b8e5ff6839496e47b1e0f207e5ed444a
     "metadata": {},
     "output_type": "execute_result"
    }
   ],
   "source": [
    "precision_score(y_test, preds)"
   ]
  },
  {
   "cell_type": "code",
<<<<<<< HEAD
   "execution_count": 39,
=======
   "execution_count": 147,
>>>>>>> fd9af4f6b8e5ff6839496e47b1e0f207e5ed444a
   "metadata": {},
   "outputs": [],
   "source": [
    "from sklearn.metrics import classification_report"
   ]
  },
  {
   "cell_type": "code",
<<<<<<< HEAD
   "execution_count": 40,
=======
   "execution_count": 148,
>>>>>>> fd9af4f6b8e5ff6839496e47b1e0f207e5ed444a
   "metadata": {},
   "outputs": [
    {
     "data": {
      "text/plain": [
       "{'0': {'precision': 0.7551020408163265,\n",
       "  'recall': 0.8222222222222222,\n",
       "  'f1-score': 0.7872340425531914,\n",
       "  'support': 135},\n",
       " '1': {'precision': 0.6842105263157895,\n",
       "  'recall': 0.5909090909090909,\n",
       "  'f1-score': 0.6341463414634148,\n",
       "  'support': 88},\n",
       " 'accuracy': 0.7309417040358744,\n",
       " 'macro avg': {'precision': 0.719656283566058,\n",
       "  'recall': 0.7065656565656566,\n",
       "  'f1-score': 0.7106901920083031,\n",
       "  'support': 223},\n",
       " 'weighted avg': {'precision': 0.7271269140179083,\n",
       "  'recall': 0.7309417040358744,\n",
       "  'f1-score': 0.7268227524370463,\n",
       "  'support': 223}}"
      ]
     },
<<<<<<< HEAD
     "execution_count": 40,
=======
     "execution_count": 148,
>>>>>>> fd9af4f6b8e5ff6839496e47b1e0f207e5ed444a
     "metadata": {},
     "output_type": "execute_result"
    }
   ],
   "source": [
    "classification_report(y_test, preds, output_dict=True)"
   ]
  },
  {
   "cell_type": "markdown",
   "metadata": {},
   "source": [
    "### Make the ROC curve"
   ]
  },
  {
   "cell_type": "code",
<<<<<<< HEAD
   "execution_count": 41,
=======
   "execution_count": 149,
>>>>>>> fd9af4f6b8e5ff6839496e47b1e0f207e5ed444a
   "metadata": {},
   "outputs": [],
   "source": [
    "from sklearn.metrics import roc_auc_score, plot_roc_curve\n",
    "import matplotlib.pyplot as plt"
   ]
  },
  {
   "cell_type": "code",
<<<<<<< HEAD
   "execution_count": 42,
=======
   "execution_count": 150,
>>>>>>> fd9af4f6b8e5ff6839496e47b1e0f207e5ed444a
   "metadata": {},
   "outputs": [
    {
     "data": {
      "text/plain": [
<<<<<<< HEAD
       "[<matplotlib.lines.Line2D at 0x1a23d166d0>]"
      ]
     },
     "execution_count": 42,
=======
       "[<matplotlib.lines.Line2D at 0x1a1980d890>]"
      ]
     },
     "execution_count": 150,
>>>>>>> fd9af4f6b8e5ff6839496e47b1e0f207e5ed444a
     "metadata": {},
     "output_type": "execute_result"
    },
    {
     "data": {
<<<<<<< HEAD
      "image/png": "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\n",
=======
      "image/png": "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\n",
>>>>>>> fd9af4f6b8e5ff6839496e47b1e0f207e5ed444a
      "text/plain": [
       "<Figure size 432x288 with 1 Axes>"
      ]
     },
     "metadata": {
      "needs_background": "light"
     },
     "output_type": "display_data"
    }
   ],
   "source": [
    "plot_roc_curve(logreg, X_test_dummified, y_test);\n",
    "plt.plot([0, 1], [0, 1], 'k--')"
   ]
  },
  {
   "cell_type": "markdown",
   "metadata": {},
   "source": [
    "### What's the ROC AUC score?"
   ]
  },
  {
   "cell_type": "markdown",
   "metadata": {},
   "source": [
    "Recall that `.predict_proba()` method will return the probabilities of both classes in a numpy array."
   ]
  },
  {
   "cell_type": "code",
<<<<<<< HEAD
   "execution_count": 43,
=======
   "execution_count": 151,
>>>>>>> fd9af4f6b8e5ff6839496e47b1e0f207e5ed444a
   "metadata": {},
   "outputs": [
    {
     "data": {
      "text/plain": [
       "array([[0.91001718, 0.08998282],\n",
       "       [0.777694  , 0.222306  ],\n",
       "       [0.91001718, 0.08998282],\n",
       "       [0.91001718, 0.08998282],\n",
       "       [0.09931411, 0.90068589]])"
      ]
     },
<<<<<<< HEAD
     "execution_count": 43,
=======
     "execution_count": 151,
>>>>>>> fd9af4f6b8e5ff6839496e47b1e0f207e5ed444a
     "metadata": {},
     "output_type": "execute_result"
    }
   ],
   "source": [
    "both_probs = logreg.predict_proba(X_test_dummified)\n",
    "both_probs[:5]"
   ]
  },
  {
   "cell_type": "code",
<<<<<<< HEAD
   "execution_count": 44,
   "metadata": {},
   "outputs": [
    {
     "ename": "ValueError",
     "evalue": "bad input shape (223, 2)",
     "output_type": "error",
     "traceback": [
      "\u001b[0;31m---------------------------------------------------------------------------\u001b[0m",
      "\u001b[0;31mValueError\u001b[0m                                Traceback (most recent call last)",
      "\u001b[0;32m<ipython-input-44-8f88b74d589f>\u001b[0m in \u001b[0;36m<module>\u001b[0;34m\u001b[0m\n\u001b[0;32m----> 1\u001b[0;31m \u001b[0mroc_auc_score\u001b[0m\u001b[0;34m(\u001b[0m\u001b[0my_test\u001b[0m\u001b[0;34m,\u001b[0m \u001b[0mprobs\u001b[0m\u001b[0;34m)\u001b[0m\u001b[0;34m\u001b[0m\u001b[0;34m\u001b[0m\u001b[0m\n\u001b[0m",
      "\u001b[0;32m~/opt/anaconda3/envs/dsi/lib/python3.7/site-packages/sklearn/metrics/_ranking.py\u001b[0m in \u001b[0;36mroc_auc_score\u001b[0;34m(y_true, y_score, average, sample_weight, max_fpr, multi_class, labels)\u001b[0m\n\u001b[1;32m    388\u001b[0m                                              max_fpr=max_fpr),\n\u001b[1;32m    389\u001b[0m                                      \u001b[0my_true\u001b[0m\u001b[0;34m,\u001b[0m \u001b[0my_score\u001b[0m\u001b[0;34m,\u001b[0m \u001b[0maverage\u001b[0m\u001b[0;34m,\u001b[0m\u001b[0;34m\u001b[0m\u001b[0;34m\u001b[0m\u001b[0m\n\u001b[0;32m--> 390\u001b[0;31m                                      sample_weight=sample_weight)\n\u001b[0m\u001b[1;32m    391\u001b[0m     \u001b[0;32melse\u001b[0m\u001b[0;34m:\u001b[0m  \u001b[0;31m# multilabel-indicator\u001b[0m\u001b[0;34m\u001b[0m\u001b[0;34m\u001b[0m\u001b[0m\n\u001b[1;32m    392\u001b[0m         return _average_binary_score(partial(_binary_roc_auc_score,\n",
      "\u001b[0;32m~/opt/anaconda3/envs/dsi/lib/python3.7/site-packages/sklearn/metrics/_base.py\u001b[0m in \u001b[0;36m_average_binary_score\u001b[0;34m(binary_metric, y_true, y_score, average, sample_weight)\u001b[0m\n\u001b[1;32m     75\u001b[0m \u001b[0;34m\u001b[0m\u001b[0m\n\u001b[1;32m     76\u001b[0m     \u001b[0;32mif\u001b[0m \u001b[0my_type\u001b[0m \u001b[0;34m==\u001b[0m \u001b[0;34m\"binary\"\u001b[0m\u001b[0;34m:\u001b[0m\u001b[0;34m\u001b[0m\u001b[0;34m\u001b[0m\u001b[0m\n\u001b[0;32m---> 77\u001b[0;31m         \u001b[0;32mreturn\u001b[0m \u001b[0mbinary_metric\u001b[0m\u001b[0;34m(\u001b[0m\u001b[0my_true\u001b[0m\u001b[0;34m,\u001b[0m \u001b[0my_score\u001b[0m\u001b[0;34m,\u001b[0m \u001b[0msample_weight\u001b[0m\u001b[0;34m=\u001b[0m\u001b[0msample_weight\u001b[0m\u001b[0;34m)\u001b[0m\u001b[0;34m\u001b[0m\u001b[0;34m\u001b[0m\u001b[0m\n\u001b[0m\u001b[1;32m     78\u001b[0m \u001b[0;34m\u001b[0m\u001b[0m\n\u001b[1;32m     79\u001b[0m     \u001b[0mcheck_consistent_length\u001b[0m\u001b[0;34m(\u001b[0m\u001b[0my_true\u001b[0m\u001b[0;34m,\u001b[0m \u001b[0my_score\u001b[0m\u001b[0;34m,\u001b[0m \u001b[0msample_weight\u001b[0m\u001b[0;34m)\u001b[0m\u001b[0;34m\u001b[0m\u001b[0;34m\u001b[0m\u001b[0m\n",
      "\u001b[0;32m~/opt/anaconda3/envs/dsi/lib/python3.7/site-packages/sklearn/metrics/_ranking.py\u001b[0m in \u001b[0;36m_binary_roc_auc_score\u001b[0;34m(y_true, y_score, sample_weight, max_fpr)\u001b[0m\n\u001b[1;32m    223\u001b[0m \u001b[0;34m\u001b[0m\u001b[0m\n\u001b[1;32m    224\u001b[0m     fpr, tpr, _ = roc_curve(y_true, y_score,\n\u001b[0;32m--> 225\u001b[0;31m                             sample_weight=sample_weight)\n\u001b[0m\u001b[1;32m    226\u001b[0m     \u001b[0;32mif\u001b[0m \u001b[0mmax_fpr\u001b[0m \u001b[0;32mis\u001b[0m \u001b[0;32mNone\u001b[0m \u001b[0;32mor\u001b[0m \u001b[0mmax_fpr\u001b[0m \u001b[0;34m==\u001b[0m \u001b[0;36m1\u001b[0m\u001b[0;34m:\u001b[0m\u001b[0;34m\u001b[0m\u001b[0;34m\u001b[0m\u001b[0m\n\u001b[1;32m    227\u001b[0m         \u001b[0;32mreturn\u001b[0m \u001b[0mauc\u001b[0m\u001b[0;34m(\u001b[0m\u001b[0mfpr\u001b[0m\u001b[0;34m,\u001b[0m \u001b[0mtpr\u001b[0m\u001b[0;34m)\u001b[0m\u001b[0;34m\u001b[0m\u001b[0;34m\u001b[0m\u001b[0m\n",
      "\u001b[0;32m~/opt/anaconda3/envs/dsi/lib/python3.7/site-packages/sklearn/metrics/_ranking.py\u001b[0m in \u001b[0;36mroc_curve\u001b[0;34m(y_true, y_score, pos_label, sample_weight, drop_intermediate)\u001b[0m\n\u001b[1;32m    769\u001b[0m     \"\"\"\n\u001b[1;32m    770\u001b[0m     fps, tps, thresholds = _binary_clf_curve(\n\u001b[0;32m--> 771\u001b[0;31m         y_true, y_score, pos_label=pos_label, sample_weight=sample_weight)\n\u001b[0m\u001b[1;32m    772\u001b[0m \u001b[0;34m\u001b[0m\u001b[0m\n\u001b[1;32m    773\u001b[0m     \u001b[0;31m# Attempt to drop thresholds corresponding to points in between and\u001b[0m\u001b[0;34m\u001b[0m\u001b[0;34m\u001b[0m\u001b[0;34m\u001b[0m\u001b[0m\n",
      "\u001b[0;32m~/opt/anaconda3/envs/dsi/lib/python3.7/site-packages/sklearn/metrics/_ranking.py\u001b[0m in \u001b[0;36m_binary_clf_curve\u001b[0;34m(y_true, y_score, pos_label, sample_weight)\u001b[0m\n\u001b[1;32m    538\u001b[0m     \u001b[0mcheck_consistent_length\u001b[0m\u001b[0;34m(\u001b[0m\u001b[0my_true\u001b[0m\u001b[0;34m,\u001b[0m \u001b[0my_score\u001b[0m\u001b[0;34m,\u001b[0m \u001b[0msample_weight\u001b[0m\u001b[0;34m)\u001b[0m\u001b[0;34m\u001b[0m\u001b[0;34m\u001b[0m\u001b[0m\n\u001b[1;32m    539\u001b[0m     \u001b[0my_true\u001b[0m \u001b[0;34m=\u001b[0m \u001b[0mcolumn_or_1d\u001b[0m\u001b[0;34m(\u001b[0m\u001b[0my_true\u001b[0m\u001b[0;34m)\u001b[0m\u001b[0;34m\u001b[0m\u001b[0;34m\u001b[0m\u001b[0m\n\u001b[0;32m--> 540\u001b[0;31m     \u001b[0my_score\u001b[0m \u001b[0;34m=\u001b[0m \u001b[0mcolumn_or_1d\u001b[0m\u001b[0;34m(\u001b[0m\u001b[0my_score\u001b[0m\u001b[0;34m)\u001b[0m\u001b[0;34m\u001b[0m\u001b[0;34m\u001b[0m\u001b[0m\n\u001b[0m\u001b[1;32m    541\u001b[0m     \u001b[0massert_all_finite\u001b[0m\u001b[0;34m(\u001b[0m\u001b[0my_true\u001b[0m\u001b[0;34m)\u001b[0m\u001b[0;34m\u001b[0m\u001b[0;34m\u001b[0m\u001b[0m\n\u001b[1;32m    542\u001b[0m     \u001b[0massert_all_finite\u001b[0m\u001b[0;34m(\u001b[0m\u001b[0my_score\u001b[0m\u001b[0;34m)\u001b[0m\u001b[0;34m\u001b[0m\u001b[0;34m\u001b[0m\u001b[0m\n",
      "\u001b[0;32m~/opt/anaconda3/envs/dsi/lib/python3.7/site-packages/sklearn/utils/validation.py\u001b[0m in \u001b[0;36mcolumn_or_1d\u001b[0;34m(y, warn)\u001b[0m\n\u001b[1;32m    795\u001b[0m         \u001b[0;32mreturn\u001b[0m \u001b[0mnp\u001b[0m\u001b[0;34m.\u001b[0m\u001b[0mravel\u001b[0m\u001b[0;34m(\u001b[0m\u001b[0my\u001b[0m\u001b[0;34m)\u001b[0m\u001b[0;34m\u001b[0m\u001b[0;34m\u001b[0m\u001b[0m\n\u001b[1;32m    796\u001b[0m \u001b[0;34m\u001b[0m\u001b[0m\n\u001b[0;32m--> 797\u001b[0;31m     \u001b[0;32mraise\u001b[0m \u001b[0mValueError\u001b[0m\u001b[0;34m(\u001b[0m\u001b[0;34m\"bad input shape {0}\"\u001b[0m\u001b[0;34m.\u001b[0m\u001b[0mformat\u001b[0m\u001b[0;34m(\u001b[0m\u001b[0mshape\u001b[0m\u001b[0;34m)\u001b[0m\u001b[0;34m)\u001b[0m\u001b[0;34m\u001b[0m\u001b[0;34m\u001b[0m\u001b[0m\n\u001b[0m\u001b[1;32m    798\u001b[0m \u001b[0;34m\u001b[0m\u001b[0m\n\u001b[1;32m    799\u001b[0m \u001b[0;34m\u001b[0m\u001b[0m\n",
      "\u001b[0;31mValueError\u001b[0m: bad input shape (223, 2)"
     ]
    }
   ],
=======
   "execution_count": 153,
   "metadata": {},
   "outputs": [],
>>>>>>> fd9af4f6b8e5ff6839496e47b1e0f207e5ed444a
   "source": [
    "# roc_auc_score(y_test, probs)"
   ]
  },
  {
   "cell_type": "markdown",
   "metadata": {},
   "source": [
    "### F1 score\n",
    "\n",
    "2 *    (Precision * Recall)      /      (Precision  + Recall)"
   ]
  },
  {
   "cell_type": "code",
   "execution_count": null,
   "metadata": {},
   "outputs": [],
   "source": [
    "from sklearn.metrics import f1_score"
   ]
  },
  {
   "cell_type": "code",
   "execution_count": null,
   "metadata": {},
   "outputs": [],
   "source": [
    "f1_score(y_test, preds)"
   ]
  },
  {
   "cell_type": "markdown",
   "metadata": {},
   "source": [
    "### Balanced Accuracy Score\n",
    "\n",
    "When is balanced accuracy a good metric to use?"
   ]
  },
  {
   "cell_type": "markdown",
   "metadata": {},
   "source": [
    "Average of TPR and TNR\n",
    "\n",
    "(Sensitivity + Specificity) / 2"
   ]
  },
  {
   "cell_type": "code",
<<<<<<< HEAD
   "execution_count": 45,
=======
   "execution_count": 156,
>>>>>>> fd9af4f6b8e5ff6839496e47b1e0f207e5ed444a
   "metadata": {},
   "outputs": [
    {
     "data": {
      "text/plain": [
       "0.5909090909090909"
      ]
     },
<<<<<<< HEAD
     "execution_count": 45,
=======
     "execution_count": 156,
>>>>>>> fd9af4f6b8e5ff6839496e47b1e0f207e5ed444a
     "metadata": {},
     "output_type": "execute_result"
    }
   ],
   "source": [
    "# compute sensitivity\n",
<<<<<<< HEAD
    "tp / (tp + fn)"
=======
    "sensitivity = tp / (tp + fn)\n",
    "sensitivity"
>>>>>>> fd9af4f6b8e5ff6839496e47b1e0f207e5ed444a
   ]
  },
  {
   "cell_type": "code",
<<<<<<< HEAD
   "execution_count": 46,
=======
   "execution_count": 155,
>>>>>>> fd9af4f6b8e5ff6839496e47b1e0f207e5ed444a
   "metadata": {},
   "outputs": [
    {
     "data": {
      "text/plain": [
       "0.8222222222222222"
      ]
     },
<<<<<<< HEAD
     "execution_count": 46,
=======
     "execution_count": 155,
>>>>>>> fd9af4f6b8e5ff6839496e47b1e0f207e5ed444a
     "metadata": {},
     "output_type": "execute_result"
    }
   ],
   "source": [
    "# compute specificity\n",
<<<<<<< HEAD
    "tn / (tn+fp)"
=======
    "specificity = tn / (tn + fp)\n",
    "specificity"
>>>>>>> fd9af4f6b8e5ff6839496e47b1e0f207e5ed444a
   ]
  },
  {
   "cell_type": "code",
   "execution_count": 157,
   "metadata": {},
   "outputs": [
    {
     "data": {
      "text/plain": [
       "0.7065656565656566"
      ]
     },
     "execution_count": 157,
     "metadata": {},
     "output_type": "execute_result"
    }
   ],
   "source": [
    "# compute balanced accuracy\n",
    "(sensitivity + specificity) / 2"
   ]
  },
  {
   "cell_type": "code",
   "execution_count": 158,
   "metadata": {},
   "outputs": [
    {
     "data": {
      "text/plain": [
       "0.7309417040358744"
      ]
     },
     "execution_count": 158,
     "metadata": {},
     "output_type": "execute_result"
    }
   ],
   "source": [
    "accuracy_score(y_test, preds)"
   ]
  },
  {
   "cell_type": "code",
   "execution_count": 159,
   "metadata": {},
   "outputs": [],
   "source": [
    "# use sklearn to do it the fast way\n",
    "from sklearn.metrics import balanced_accuracy_score"
   ]
  },
  {
   "cell_type": "code",
   "execution_count": 160,
   "metadata": {},
   "outputs": [
    {
     "data": {
      "text/plain": [
       "0.7065656565656566"
      ]
     },
     "execution_count": 160,
     "metadata": {},
     "output_type": "execute_result"
    }
   ],
   "source": [
    "balanced_accuracy_score(y_test, preds)"
   ]
  },
  {
   "cell_type": "markdown",
   "metadata": {},
   "source": [
    " \n"
   ]
  },
  {
   "cell_type": "markdown",
   "metadata": {},
   "source": [
    "# Summary\n",
    "\n",
    "You've seen how to compute common classification metrics by hand and using sklearn. 🎉"
   ]
  },
  {
   "cell_type": "markdown",
   "metadata": {},
   "source": [
    "### Check for Understanding"
   ]
  },
  {
   "cell_type": "markdown",
   "metadata": {},
   "source": [
    "What do the following terms mean in words? How would you compute them? When would you want to use each one?\n",
    "\n",
    "- Recall\n",
    "- Precision\n",
    "- Sensitivity\n",
    "- Specificity\n",
    "- Balanced Accuracy\n",
    "- F1 Score\n",
    "- ROC AUC \n",
    "- Accuracy"
   ]
  },
  {
   "cell_type": "code",
   "execution_count": null,
   "metadata": {},
   "outputs": [],
   "source": []
  }
 ],
 "metadata": {
  "kernelspec": {
   "display_name": "Python 3",
   "language": "python",
   "name": "python3"
  },
  "language_info": {
   "codemirror_mode": {
    "name": "ipython",
    "version": 3
   },
   "file_extension": ".py",
   "mimetype": "text/x-python",
   "name": "python",
   "nbconvert_exporter": "python",
   "pygments_lexer": "ipython3",
   "version": "3.7.6"
  }
 },
 "nbformat": 4,
 "nbformat_minor": 4
}
