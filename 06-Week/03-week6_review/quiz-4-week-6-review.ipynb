{
 "cells": [
  {
   "cell_type": "markdown",
   "metadata": {},
   "source": [
    "# Quiz 4 Review\n",
    "---\n",
    "\n"
   ]
  },
  {
   "cell_type": "markdown",
   "metadata": {},
   "source": [
    "# Decision Trees\n",
    "\n",
    "- Decision Trees are **non-parametric** models which means they only consider 1 feature at a time. They do not consider how multiple features interact simultaneously.\n",
    "\n",
    "### Understand the core concepts behind decision tree classifiers\n",
    "- By continuing to make splits we can isolate similar classes.\n",
    "- Decision Trees are a \"greedy\" model and thus they consider the optimal option at each split. They don't optimize the whole tree.   \n",
    "- Don't need to scale features because each feature is considered individually.\n",
    "- Does not care about distribution of features.\n",
    "- Interpretable.\n",
    "\n",
    "### For classification problems:\n",
    "- Gini is the most common calculation when deciding how to make a split.  We want to make splits that result in isolating the largest chunks of similar observations/classes.\n",
    "\n",
    "\n",
    "**Decision Tree Regressor**\n",
    "- Works similar to a classifier but makes splits to optimize (minimize) a loss metric such as MSE.\n",
    "- Before it makes a split, it looks at the current MSE and tries to identify the split that minimizes MSE.\n",
    "---"
   ]
  },
  {
   "cell_type": "code",
   "execution_count": 1,
   "metadata": {},
   "outputs": [],
   "source": [
    "# Load Data\n",
    "import seaborn as sns\n",
    "iris = sns.load_dataset('iris') \n",
    "### iris's species column is an object column and not a integer\n",
    "### As in, species names are list in text and the values are not converted to 0s,1s or 2s\n",
    "# Instantiate Classifier"
   ]
  },
  {
   "cell_type": "code",
   "execution_count": 2,
   "metadata": {},
   "outputs": [],
   "source": [
    "from sklearn.tree import DecisionTreeClassifier\n",
    "dtc = DecisionTreeClassifier(max_depth = 3,min_samples_split=5)"
   ]
  },
  {
   "cell_type": "code",
   "execution_count": 2,
   "metadata": {
    "scrolled": true
   },
   "outputs": [
    {
     "data": {
      "text/plain": [
       "DecisionTreeClassifier(ccp_alpha=0.0, class_weight=None, criterion='gini',\n",
       "                       max_depth=3, max_features=None, max_leaf_nodes=None,\n",
       "                       min_impurity_decrease=0.0, min_impurity_split=None,\n",
       "                       min_samples_leaf=1, min_samples_split=5,\n",
       "                       min_weight_fraction_leaf=0.0, presort='deprecated',\n",
       "                       random_state=None, splitter='best')"
      ]
     },
     "execution_count": 2,
     "metadata": {},
     "output_type": "execute_result"
    }
   ],
   "source": [
    "# Make X and y\n",
    "X = iris.drop('species', axis = 1)\n",
    "y = iris['species']\n",
    "\n",
    "# fit model\n",
    "dtc.fit(X,y)"
   ]
  },
  {
   "cell_type": "code",
   "execution_count": 5,
   "metadata": {},
   "outputs": [],
   "source": [
    "from sklearn.tree import plot_tree"
   ]
  },
  {
   "cell_type": "code",
   "execution_count": 7,
   "metadata": {},
   "outputs": [
    {
     "data": {
      "text/plain": [
       "[Text(125.55000000000001, 190.26, 'X[3] <= 0.8\\ngini = 0.667\\nsamples = 150\\nvalue = [50, 50, 50]'),\n",
       " Text(83.7, 135.9, 'gini = 0.0\\nsamples = 50\\nvalue = [50, 0, 0]'),\n",
       " Text(167.4, 135.9, 'X[3] <= 1.75\\ngini = 0.5\\nsamples = 100\\nvalue = [0, 50, 50]'),\n",
       " Text(83.7, 81.53999999999999, 'X[2] <= 4.95\\ngini = 0.168\\nsamples = 54\\nvalue = [0, 49, 5]'),\n",
       " Text(41.85, 27.180000000000007, 'gini = 0.041\\nsamples = 48\\nvalue = [0, 47, 1]'),\n",
       " Text(125.55000000000001, 27.180000000000007, 'gini = 0.444\\nsamples = 6\\nvalue = [0, 2, 4]'),\n",
       " Text(251.10000000000002, 81.53999999999999, 'X[2] <= 4.85\\ngini = 0.043\\nsamples = 46\\nvalue = [0, 1, 45]'),\n",
       " Text(209.25, 27.180000000000007, 'gini = 0.444\\nsamples = 3\\nvalue = [0, 1, 2]'),\n",
       " Text(292.95, 27.180000000000007, 'gini = 0.0\\nsamples = 43\\nvalue = [0, 0, 43]')]"
      ]
     },
     "execution_count": 7,
     "metadata": {},
     "output_type": "execute_result"
    },
    {
     "data": {
      "image/png": "[encoded data removed]",
      "text/plain": [
       "<Figure size 432x288 with 1 Axes>"
      ]
     },
     "metadata": {
      "needs_background": "light"
     },
     "output_type": "display_data"
    }
   ],
   "source": [
    "plot_tree(dtc)"
   ]
  },
  {
   "cell_type": "markdown",
   "metadata": {},
   "source": [
    "# Bagging, Boosting & Other Ensemble Methods.\n",
    "\n",
    "### Bootstrapping\n",
    "\n",
    "Random sample with replacement."
   ]
  },
  {
   "cell_type": "code",
   "execution_count": 10,
   "metadata": {},
   "outputs": [
    {
     "data": {
      "text/html": [
       "<div>\n",
       "<style scoped>\n",
       "    .dataframe tbody tr th:only-of-type {\n",
       "        vertical-align: middle;\n",
       "    }\n",
       "\n",
       "    .dataframe tbody tr th {\n",
       "        vertical-align: top;\n",
       "    }\n",
       "\n",
       "    .dataframe thead th {\n",
       "        text-align: right;\n",
       "    }\n",
       "</style>\n",
       "<table border=\"1\" class=\"dataframe\">\n",
       "  <thead>\n",
       "    <tr style=\"text-align: right;\">\n",
       "      <th></th>\n",
       "      <th>sepal_length</th>\n",
       "      <th>sepal_width</th>\n",
       "      <th>petal_length</th>\n",
       "      <th>petal_width</th>\n",
       "    </tr>\n",
       "  </thead>\n",
       "  <tbody>\n",
       "    <tr>\n",
       "      <th>102</th>\n",
       "      <td>7.1</td>\n",
       "      <td>3.0</td>\n",
       "      <td>5.9</td>\n",
       "      <td>2.1</td>\n",
       "    </tr>\n",
       "    <tr>\n",
       "      <th>92</th>\n",
       "      <td>5.8</td>\n",
       "      <td>2.6</td>\n",
       "      <td>4.0</td>\n",
       "      <td>1.2</td>\n",
       "    </tr>\n",
       "    <tr>\n",
       "      <th>14</th>\n",
       "      <td>5.8</td>\n",
       "      <td>4.0</td>\n",
       "      <td>1.2</td>\n",
       "      <td>0.2</td>\n",
       "    </tr>\n",
       "    <tr>\n",
       "      <th>106</th>\n",
       "      <td>4.9</td>\n",
       "      <td>2.5</td>\n",
       "      <td>4.5</td>\n",
       "      <td>1.7</td>\n",
       "    </tr>\n",
       "    <tr>\n",
       "      <th>71</th>\n",
       "      <td>6.1</td>\n",
       "      <td>2.8</td>\n",
       "      <td>4.0</td>\n",
       "      <td>1.3</td>\n",
       "    </tr>\n",
       "  </tbody>\n",
       "</table>\n",
       "</div>"
      ],
      "text/plain": [
       "     sepal_length  sepal_width  petal_length  petal_width\n",
       "102           7.1          3.0           5.9          2.1\n",
       "92            5.8          2.6           4.0          1.2\n",
       "14            5.8          4.0           1.2          0.2\n",
       "106           4.9          2.5           4.5          1.7\n",
       "71            6.1          2.8           4.0          1.3"
      ]
     },
     "execution_count": 10,
     "metadata": {},
     "output_type": "execute_result"
    }
   ],
   "source": [
    "X.sample(5, replace=True, random_state=42)"
   ]
  },
  {
   "cell_type": "markdown",
   "metadata": {},
   "source": [
    "### Tree-based ensembles\n",
    "\n",
    "There are variations for classification and regression. \n",
    "\n",
    "**Bagged Models**  \n",
    "- Bagging = Bootstrap AGGregatING.  \n",
    "- Build several models on random bootstrapped samples, then averaging the predictions of each model.\n",
    "- Parallelizable.\n"
   ]
  },
  {
   "cell_type": "markdown",
   "metadata": {},
   "source": [
    "**Random Forests**\n",
    "- Random because they use random subsets of the feature columns to build each tree.\n",
    "- The goal is to create trees that don't rely on \"overly important features\" and thus need to be able to generalize the data from other, maybe less important columns.\n",
    "- Start with a random subset of features for each tree.\n",
    "- Each split _can_ only consider an additional random subset of features.  (By default in sklearn the number of features considered at each split point is the square root of the total number of features).\n",
    "- Random forests are very powerful and tend to do well at reducing variance.  "
   ]
  },
  {
   "cell_type": "markdown",
   "metadata": {},
   "source": [
    "**ExtraTrees : _Extremely Random Trees_**\n",
    "- Extra Trees work similarly to Random forests, except they add an additional layer of randomness.\n",
    "- For each decision node, the ExtraTrees model only considers one possible split per feature/column.\n",
    "- Typically ExtraTree models are grown wider and deeper to account for the randomness."
   ]
  },
  {
   "cell_type": "markdown",
   "metadata": {},
   "source": [
    "### Understand the differences between bagging and boosting.\n",
    "**Bagging**\n",
    "- Aggregates the results of all models simultaneously. Takes the mean of the trees for a regression problem and takes the majority vote of the trees in classification problem.\n",
    "- Bootstrap sampling makes each model unique in that it is (hopefully) exposed to data that is slightly different.\n",
    "- Model building can be parallelized."
   ]
  },
  {
   "cell_type": "markdown",
   "metadata": {},
   "source": [
    "**Boosting**\n",
    "- Sequential model building\n",
    "- One model is built after learning from the previous.\n",
    "- Models learn from the mistakes of the models that they are built on.\n",
    "\n",
    "\n",
    "\n",
    "### Learn the pros and cons to using boosting models.\n",
    "- Boosting uses trees that are not deep. These are known as _weak learners_, \n",
    "\n",
    "**Pros**\n",
    "- Generally achieve higher performance than bagging when the hyperparameters are well tuned.\n",
    "\n",
    "**Cons**\n",
    "- Time consuming to properly tune hyperparameters.\n",
    "- Cannot be parallelized like bagging (bad scalability when there are huge amounts of data).\n",
    "- Higher risk of overfitting compared to bagging (so have to tune well) 😀.\n",
    "\n",
    "\n",
    "### AdaBoost\n",
    "- Adaboost stands for Adaptive Boosting\n",
    "\n",
    "Core principal: overweight difficult data points so that they are more likely to appear in subsequent data ponts.\n",
    "\n",
    "_Difficult data points_ refers to the data points that the model classified incorrectly (for a classification problem).\n",
    "\n",
    "- Each tree in the ensemble takes a dataset (reweighted if following a previous model) and makes a split.  Incorrect classifications are overweighted, and the process happens again.  \n",
    "\n",
    "- Predictions are aggregated in the end with more accurate trees getting higher weights and less accurate trees get less of a weight.\n",
    "    \n",
    "### Gradient Boosting\n",
    "\n",
    "- Gradient Boosting's core principal is predicting the residuals/errors of the previous model.\n",
    "- For a regression problem, think:\n",
    "    - build a linear regression model\n",
    "    - calculate the residuals\n",
    "    - build another linear regression model to predict the residuals\n",
    "    - combine the prediction of the first model with the residuals of the second model to incorporate the predicted error with the prediction to come to (hopefully) a better result.\n",
    "    - repeat"
   ]
  },
  {
   "cell_type": "markdown",
   "metadata": {},
   "source": [
    "# Quick Recap of Trees and Ensembles"
   ]
  },
  {
   "cell_type": "markdown",
   "metadata": {},
   "source": [
    "### Decision Tree \n",
    "Algorithm that takes best split in a feature (maximize purity for classification or minimize RMSE for regression problem). Like asking questions."
   ]
  },
  {
   "cell_type": "markdown",
   "metadata": {},
   "source": [
    "### Bagging\n",
    "Bootstrap aggregating. Bootstrap = randomized sample with replacement. Multiple trees averaged."
   ]
  },
  {
   "cell_type": "markdown",
   "metadata": {},
   "source": [
    "## Ensemble Methods\n",
    "\n",
    "### Random Forest\n",
    "Bootstrap multiple trees, but only use a subset of features with each tree."
   ]
  },
  {
   "cell_type": "markdown",
   "metadata": {},
   "source": [
    "### Extra Trees - (Extremely Randomized Trees) \n",
    "\n",
    "Like random forests, but uses bagging instead of bootstrapped sampling and make random splits instead of best splits. "
   ]
  },
  {
   "cell_type": "markdown",
   "metadata": {},
   "source": [
    "### Boosting\n",
    "\n",
    "#### Gradient Boosting\n",
    "\n",
    "Learn from previous trees by creating new trees that predict the errors from the previous trees. Sequential. Lots of weak learner trees (not deep). \n",
    "\n",
    "#### Ada Boost\n",
    "\n",
    "Increased probability for each sample that gets misclassified of appearing in the tree built. Sequential. Bootstrapped, so sample may appear many times. \n",
    "\n"
   ]
  },
  {
   "cell_type": "markdown",
   "metadata": {},
   "source": [
    "### Voting Classifier \n",
    "\n",
    "Make your own ensemble!\n",
    "\n",
    "(Also VotingRegressor)."
   ]
  },
  {
   "cell_type": "markdown",
   "metadata": {},
   "source": [
    "```` \n",
    "\n",
    "vote = VotingClassifier([\n",
    "    ('ada', AdaBoostClassifier()),\n",
    "    ('gb', GradientBoostingClassifier())\n",
    "])\n",
    "````"
   ]
  },
  {
   "cell_type": "markdown",
   "metadata": {},
   "source": [
    "---\n",
    "# Support Vector Machines (SVMs)\n",
    "\n",
    "### Describe linear separability.\n",
    "- Can be separated by a line.\n",
    "\n",
    "### Differentiate between maximal margin classifiers, support vector classifiers, and support vector machines.\n",
    "\n",
    "**Maximal Margin SVM Classifiers**\n",
    "- Finds the best line to separate classes that maximizes the margin between the classes.\n",
    "- It wants to draw the boundary line that creates the largest \"No Man's Land/Demilitarized Zone\" that is equal on both sides. \n",
    "- If data is noisy, might not work.\n",
    "- Only exists when we can _perfectly_ separates our groups.\n",
    "\n",
    "**Soft-margin SVM Classifiers**\n",
    "- Like maximal margin SVM classifiers, but allows leniency of observations to cross the margins. Necessary because perfectly separable classes are often not possible.\n",
    "\n",
    "**Kernel SVMs**\n",
    "- Unlikely that we can find linear separability in our data, so we should consider non-linear separability. \n",
    "- With RBF kernel trick we transform our features into more dimensions where we can use a hyperplane to separate the data."
   ]
  },
  {
   "cell_type": "markdown",
   "metadata": {},
   "source": [
    "### Implement SVMs in scikit-learn\n",
    "\n",
    "\n",
    "### Describe the effects of C and kernels on SVMs.\n",
    "- _C_ is a regularization parameter. Like with LogisticRegression, more C = less regularization.\n",
    "\n",
    "- C is the leniency in regards to mow many missclassifications are OK when drawing our line of separation.\n",
    "- If C is small: We get a less flexible boundary between our classes, leading to a less perfect classification of our training data.\n",
    "- If C is large: We get a more flexible boundary between our classes, leading to a more perfect classification of our training data.\n",
    "\n",
    "#### Kernels\n",
    "_Kernel Trick_ - take our data and force it into higher dimensions to find the best linear boundary between classes. \n",
    "\n",
    "The parameter `kernel` allows us to control how we force our data into higher dimensions.\n",
    "\n",
    "- **`rbf` (default): Radial basis kernel**. Radial, like radius, works particularly well with circular/spherical data. You need to specify hyperparameter gamma as well, where gamma > 0.\n",
    "- **`linear`: Linear kernel**. This gives us the support vector classifier. This works best with linearly separable data.\n",
    "- **`polynomial`: Polynomial kernel**. This can well with non-linear and non-spherical data. - Can be good for NLP.\n",
    "- **`sigmoid`: Sigmoid kernel**. This can well with non-linear and non-spherical data.\n"
   ]
  },
  {
   "cell_type": "markdown",
   "metadata": {},
   "source": [
    "# Generalized Linear Models \n",
    "\n",
    "Describe generalized linear models.\n",
    "\n",
    "All GLMs will have three components:\n",
    "\n",
    "- **Linear**\n",
    "\n",
    "    - The linear component will always be the linear formula $\\beta_0 + \\beta_1X_1 + \\cdots + \\beta_pX_p$.\n",
    "    \n",
    "- **Link**\n",
    "\n",
    "    - The link function will transform the linear component into the range of interest.\n",
    "\n",
    "- **Random**\n",
    "    - The random component connects our predictions $\\hat{Y}_i$ to our observed values $Y_i$ by using a statistical distribution to model our errors."
   ]
  },
  {
   "cell_type": "markdown",
   "metadata": {},
   "source": [
    "### Linear Regression\n",
    "When do we use it? \n",
    "    - When we want to model something on the $(-\\infty,\\infty)$ range\n",
    "\n",
    "### Logistic Regression\n",
    "When do we use it? \n",
    "    - For predicting values between 0 and 1. \n",
    "\n",
    "### Poisson Regression \n",
    "When do we use it? \n",
    "    - When we want to model something on the $\\{0,1,2,\\ldots\\}$ range... like number of cars on through a toll road, number of objects sold or number of awards earned!\n",
    "\n",
    "### Gamma Regression \n",
    "When do we use it? \n",
    "    - When we want to model something on the $[0,\\infty)$ range... like time until some event occurs!\n",
    "\n",
    "#### Not necessary to memorize, but feel free to go back and review:\n",
    "\n",
    "- What's the link function for each of the above?\n",
    "- What's the distribution?"
   ]
  },
  {
   "cell_type": "markdown",
   "metadata": {},
   "source": [
    "# Gradient Descent\n",
    "\n",
    "\n"
   ]
  },
  {
   "cell_type": "markdown",
   "metadata": {},
   "source": [
    "1. **Understand** the intuition behind gradient descent.\n",
    "\n",
    "Gradient Descent is how many machine learning algorithms fit models. They try to **Iteratively** solve for the absolute best parameters given certain features (our X), associated targets (our y), and a cost function (such as MSE).\n",
    "\n",
    "They try to find the minimum result of the cost function. \n",
    "\n",
    "They take steps down the curve by using the derivative to decide which way to go. \n",
    "\n",
    "Requires a learning rate (alpha). The learning rate tells you how far to move to the side. (Along the X axis if there is only one feature).\n",
    "\n",
    "For instance we use gradient descent to solve for the best coefficients when we fit a lasso regression. "
   ]
  },
  {
   "cell_type": "markdown",
   "metadata": {},
   "source": [
    "2. **Implement** gradient descent.\n",
    "\n",
    "- Start with a random value for beta(s), a learning rate, and a loss function.\n",
    "\n",
    "- Find the derivative using the loss function and your values for x . \n",
    "\n",
    "    - If negative, move right, if positive, move left. \n",
    "\n",
    "- How far you move to the right or left is based on the learning rate (alpha).\n",
    "    \n",
    "- Update the beta weight coefficients based on the learning rate . \n",
    "\n",
    "- Repeat the loop until stopping rate is met (not much improvement or run out iterations)!  \n",
    "    - find derivative\n",
    "    - move along the x axis in the indicated direction, as far as the learning rate tells you\n",
    "    - update beta weight coefficients"
   ]
  },
  {
   "cell_type": "markdown",
   "metadata": {},
   "source": [
    "3. **Understand** common pitfalls associated with gradient descent.\n",
    "\n",
    "<img src=\"./assets/gdpitfal.png\" height=\"400\" width=\"600\">\n",
    "\n",
    "![](./assets/gdpitfal.png)\n",
    "\n",
    "---\n",
    "<img src=\"./assets/gdpitfall2.png\" height=\"400\" width=\"600\">\n",
    "\n",
    "- If step size is too big, convergence may not happen. You might bounce back and forth above the minimum.\n",
    "- If too small, it may take too long to converge (run out of iterations).\n",
    "- Potential to get stuck in a local minimum, if one exists."
   ]
  },
  {
   "cell_type": "markdown",
   "metadata": {},
   "source": [
    "4. **Identify** solutions for common pitfalls.\n",
    "\n",
    "\n",
    "#### Solution 1\n",
    "\n",
    "Change the learning rate over time. \n",
    "    - One common method is to start large and then make it smaller. \n",
    "    - You can also draw the learning rate at each iteration from a distribution.\n",
    "\n",
    "\n",
    "#### Solution 2\n",
    "\n",
    "Try several complete runs and change the starting point of the algorithm each time. \n",
    "\n",
    "If we get nearly identical results a few times, we can be more confident that we've arrived at the global minimum. "
   ]
  },
  {
   "cell_type": "markdown",
   "metadata": {},
   "source": [
    "### Understand convex vs. nonconvex loss functions \n",
    "\n",
    "#### A convex loss function has one minimum.\n",
    "\n",
    "There is not a local minimum that is different from the global minimum. \n",
    "\n",
    "Here's an example of a convex loss function.\n",
    "\n",
    "![](https://i.stack.imgur.com/w2KpJ.gif)\n",
    "\n",
    "\n",
    "Source: Avik Mohan  https://stats.stackexchange.com/a/324570/198892\n",
    "\n",
    "#### A non-convex loss function has a local minimum that is not the global minimum.\n",
    "\n",
    "Here's a non-convex loss function:\n",
    "\n",
    "![](https://i.stack.imgur.com/XrUE6.gif)\n",
    "\n",
    "It's got a hump.\n",
    "\n",
    "Source: Avik Mohan  https://stats.stackexchange.com/a/324570/198892\n"
   ]
  },
  {
   "cell_type": "markdown",
   "metadata": {},
   "source": [
    "### Understand the difference between local minimum and global minimum."
   ]
  },
  {
   "cell_type": "markdown",
   "metadata": {},
   "source": [
    "In the image above, the valley to the left is a local minimum. It's a valley. It's not the lowest valley.\n",
    "\n",
    "The valley on the right is the lowest valley. It is the global maximum."
   ]
  },
  {
   "cell_type": "code",
   "execution_count": null,
   "metadata": {},
   "outputs": [],
   "source": []
  }
 ],
 "metadata": {
  "anaconda-cloud": {},
  "kernelspec": {
   "display_name": "Python 3",
   "language": "python",
   "name": "python3"
  },
  "language_info": {
   "codemirror_mode": {
    "name": "ipython",
    "version": 3
   },
   "file_extension": ".py",
   "mimetype": "text/x-python",
   "name": "python",
   "nbconvert_exporter": "python",
   "pygments_lexer": "ipython3",
   "version": "3.7.7"
  }
 },
 "nbformat": 4,
 "nbformat_minor": 4
}
