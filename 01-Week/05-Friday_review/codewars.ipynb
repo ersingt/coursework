{
 "cells": [
  {
   "cell_type": "code",
   "execution_count": 4,
   "metadata": {},
   "outputs": [],
   "source": [
    "def anagrams(word, words):\n",
    "    anagram_list = [] \n",
    "    for item in words:\n",
    "        if sorted(item) == sorted(word):\n",
    "            anagram_list.append(item)\n",
    "    return anagram_list\n",
    "            "
   ]
  },
  {
   "cell_type": "code",
   "execution_count": 3,
   "metadata": {},
   "outputs": [
    {
     "data": {
      "text/plain": [
       "['c', 'c', 'h', 'k', 'u']"
      ]
     },
     "execution_count": 3,
     "metadata": {},
     "output_type": "execute_result"
    }
   ],
   "source": [
    "string = 'chuck'\n",
    "sorted(string)"
   ]
  },
  {
   "cell_type": "code",
   "execution_count": 6,
   "metadata": {},
   "outputs": [
    {
     "data": {
      "text/plain": [
       "['aabb', 'bbaa']"
      ]
     },
     "execution_count": 6,
     "metadata": {},
     "output_type": "execute_result"
    }
   ],
   "source": [
    "anagrams('abba', ['aabb', 'abcd', 'bbaa', 'dada'])"
   ]
  },
  {
   "cell_type": "code",
   "execution_count": 24,
   "metadata": {},
   "outputs": [],
   "source": [
    "def generate_hashtag(s):\n",
    "    string = s.title()\n",
    "    string = string.split()\n",
    "    hashtag = '#' \n",
    "    for i in string:\n",
    "        hashtag += i\n",
    "    if len(hashtag) > 140 or len(hashtag) == 1 :\n",
    "        print(len(hashtag))\n",
    "        return False\n",
    "    else:\n",
    "        return hashtag"
   ]
  },
  {
   "cell_type": "code",
   "execution_count": 25,
   "metadata": {},
   "outputs": [
    {
     "name": "stdout",
     "output_type": "stream",
     "text": [
      "1\n"
     ]
    },
    {
     "data": {
      "text/plain": [
       "False"
      ]
     },
     "execution_count": 25,
     "metadata": {},
     "output_type": "execute_result"
    }
   ],
   "source": [
    "generate_hashtag('')"
   ]
  },
  {
   "cell_type": "code",
   "execution_count": 134,
   "metadata": {},
   "outputs": [],
   "source": [
    "def isSolved(board):\n",
    "\n",
    "    for row in board:\n",
    "        if row[0] == row[1] == row[2] and row[0] > 0:\n",
    "            return row[0]\n",
    "    for num in range(3):\n",
    "        if board[0][num] == board[1][num] == board[2][num] and board[0][num] > 0:\n",
    "             return board[0][num]\n",
    "    if board[0][0] == board[1][1] == board[2][2] and board[0][0] > 0:\n",
    "         return board[0][0]\n",
    "    if board[2][0] == board[1][1] == board[0][2] and board[2][0] > 0:\n",
    "         return board[2][0]\n",
    "    for row in board:\n",
    "        for square in row:\n",
    "              if square == 0:\n",
    "                    return -1\n",
    "                \n",
    "            \n",
    "    return 0\n",
    "        \n",
    "        "
   ]
  },
  {
   "cell_type": "code",
   "execution_count": 133,
   "metadata": {},
   "outputs": [
    {
     "data": {
      "text/plain": [
       "-1"
      ]
     },
     "execution_count": 133,
     "metadata": {},
     "output_type": "execute_result"
    }
   ],
   "source": [
    "isSolved([[0,0,0],\n",
    "          [0,0,0], \n",
    "          [0,0,0]])"
   ]
  },
  {
   "cell_type": "code",
   "execution_count": null,
   "metadata": {},
   "outputs": [],
   "source": [
    "00 10 20   01 11 21 02 12 22 "
   ]
  }
 ],
 "metadata": {
  "kernelspec": {
   "display_name": "Python 3",
   "language": "python",
   "name": "python3"
  },
  "language_info": {
   "codemirror_mode": {
    "name": "ipython",
    "version": 3
   },
   "file_extension": ".py",
   "mimetype": "text/x-python",
   "name": "python",
   "nbconvert_exporter": "python",
   "pygments_lexer": "ipython3",
   "version": "3.6.8"
  }
 },
 "nbformat": 4,
 "nbformat_minor": 2
}
