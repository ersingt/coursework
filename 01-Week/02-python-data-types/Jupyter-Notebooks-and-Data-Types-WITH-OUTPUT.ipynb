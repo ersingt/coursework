{
 "cells": [
  {
   "cell_type": "markdown",
   "metadata": {},
   "source": [
    "# Day 1 Morning Review"
   ]
  },
  {
   "cell_type": "markdown",
   "metadata": {},
   "source": [
    "## Intro to Jupyter Notebooks"
   ]
  },
  {
   "cell_type": "markdown",
   "metadata": {
    "ExecuteTime": {
     "end_time": "2018-04-23T16:09:14.473082Z",
     "start_time": "2018-04-23T16:09:14.453499Z"
    }
   },
   "source": [
    "There are different types of cells. This is a markdown cell! Markdown is just a text formatting \"language\" that we use to make our notebooks easy to read. The README files in each repo are also markdown files."
   ]
  },
  {
   "cell_type": "code",
   "execution_count": 1,
   "metadata": {
    "ExecuteTime": {
     "end_time": "2018-04-23T19:11:05.548026Z",
     "start_time": "2018-04-23T19:11:05.544016Z"
    }
   },
   "outputs": [],
   "source": [
    "# This is a code cell! In particular, this is a comment."
   ]
  },
  {
   "cell_type": "markdown",
   "metadata": {},
   "source": [
    "To change the type of a cell, use the dropdown menu above. Or, use `Esc` to move into \"command mode,\" where the cell outline is blue rather than green. In command mode, `y` makes the cell a code cell and `m` makes the cell a markdown cell. \n",
    "\n",
    "You can do all sorts of things in command mode. You can select multiple cells with `Shift` and then use `Shift + m` to merge all of those cells."
   ]
  },
  {
   "cell_type": "markdown",
   "metadata": {},
   "source": [
    "I recommend playing around with the buttons at the top of the notebook. Figure out what they all do and, if you like, commit to memory some keyboard shortcuts for them.\n",
    "\n",
    "Above the buttons, you see a series of tabs (File, Edit, View, etc.) The important one to understand is the Kernel tab. In it, you can restart your Python kernel, clear the output, etc. You should be able to \"Restart and Run All\" on your notebook to ensure everything is running as you expect it to you when you run it from top to bottom."
   ]
  },
  {
   "cell_type": "markdown",
   "metadata": {
    "ExecuteTime": {
     "end_time": "2018-04-23T15:32:50.083338Z",
     "start_time": "2018-04-23T15:32:50.075402Z"
    }
   },
   "source": [
    "## Data Types Review"
   ]
  },
  {
   "cell_type": "markdown",
   "metadata": {},
   "source": [
    "### Numbers"
   ]
  },
  {
   "cell_type": "markdown",
   "metadata": {},
   "source": [
    "There are basically only two that you need to worry about (for now!):"
   ]
  },
  {
   "cell_type": "code",
   "execution_count": 2,
   "metadata": {
    "ExecuteTime": {
     "end_time": "2018-04-23T19:11:05.556048Z",
     "start_time": "2018-04-23T19:11:05.552037Z"
    }
   },
   "outputs": [
    {
     "data": {
      "text/plain": [
       "5"
      ]
     },
     "execution_count": 2,
     "metadata": {},
     "output_type": "execute_result"
    }
   ],
   "source": [
    "# Integers\n",
    "5"
   ]
  },
  {
   "cell_type": "code",
   "execution_count": 3,
   "metadata": {
    "ExecuteTime": {
     "end_time": "2018-04-23T19:11:05.579109Z",
     "start_time": "2018-04-23T19:11:05.559057Z"
    }
   },
   "outputs": [
    {
     "data": {
      "text/plain": [
       "True"
      ]
     },
     "execution_count": 3,
     "metadata": {},
     "output_type": "execute_result"
    }
   ],
   "source": [
    "# Show the type built-in operation and the int built-in operation\n",
    "type(5) == int"
   ]
  },
  {
   "cell_type": "code",
   "execution_count": 4,
   "metadata": {},
   "outputs": [
    {
     "data": {
      "text/plain": [
       "int"
      ]
     },
     "execution_count": 4,
     "metadata": {},
     "output_type": "execute_result"
    }
   ],
   "source": [
    "type(5)"
   ]
  },
  {
   "cell_type": "code",
   "execution_count": 5,
   "metadata": {
    "ExecuteTime": {
     "end_time": "2018-04-23T19:11:05.590139Z",
     "start_time": "2018-04-23T19:11:05.583121Z"
    }
   },
   "outputs": [
    {
     "data": {
      "text/plain": [
       "False"
      ]
     },
     "execution_count": 5,
     "metadata": {},
     "output_type": "execute_result"
    }
   ],
   "source": [
    "# Floats\n",
    "# Check: why are they called 'floats'?\n",
    "\n",
    "# Same thing, show type and int\n",
    "type(5 / 3) == int # is not an integer"
   ]
  },
  {
   "cell_type": "code",
   "execution_count": 6,
   "metadata": {},
   "outputs": [
    {
     "data": {
      "text/plain": [
       "True"
      ]
     },
     "execution_count": 6,
     "metadata": {},
     "output_type": "execute_result"
    }
   ],
   "source": [
    "type(5 / 3) == float"
   ]
  },
  {
   "cell_type": "code",
   "execution_count": 7,
   "metadata": {
    "ExecuteTime": {
     "end_time": "2018-04-23T19:11:05.609190Z",
     "start_time": "2018-04-23T19:11:05.594148Z"
    }
   },
   "outputs": [
    {
     "data": {
      "text/plain": [
       "float"
      ]
     },
     "execution_count": 7,
     "metadata": {},
     "output_type": "execute_result"
    }
   ],
   "source": [
    "# Demonstrate that it is actually a float\n",
    "type(5 / 3)"
   ]
  },
  {
   "cell_type": "code",
   "execution_count": 8,
   "metadata": {},
   "outputs": [
    {
     "data": {
      "text/plain": [
       "1.6666666666666667"
      ]
     },
     "execution_count": 8,
     "metadata": {},
     "output_type": "execute_result"
    }
   ],
   "source": [
    "# Show the actual float created\n",
    "5 / 3"
   ]
  },
  {
   "cell_type": "code",
   "execution_count": 9,
   "metadata": {
    "ExecuteTime": {
     "end_time": "2018-04-23T19:11:05.618214Z",
     "start_time": "2018-04-23T19:11:05.612198Z"
    }
   },
   "outputs": [
    {
     "data": {
      "text/plain": [
       "True"
      ]
     },
     "execution_count": 9,
     "metadata": {},
     "output_type": "execute_result"
    }
   ],
   "source": [
    "# Demonstrate that something can be NOT EQUAL to a type\n",
    "type('5') != int # but this is just a string"
   ]
  },
  {
   "cell_type": "markdown",
   "metadata": {
    "ExecuteTime": {
     "end_time": "2018-04-23T15:33:29.655766Z",
     "start_time": "2018-04-23T15:33:29.651035Z"
    }
   },
   "source": [
    "### Sequential Data Types"
   ]
  },
  {
   "cell_type": "markdown",
   "metadata": {},
   "source": [
    "Why are they 'sequential'? Because they have _elements_! This means they can be *indexed* and *sliced*. This also means they can be _iterated upon_. They are _iterables_. We'll discuss iterables in greater depth when we discuss control flow and list comprehensions. Note: not all iterables are sequential types!"
   ]
  },
  {
   "cell_type": "markdown",
   "metadata": {},
   "source": [
    "#### Tuples\n",
    "\n",
    "Tuples are the most 'basic' sequential type. They are **immutable** and **ordered**, and there's not too much you can do with them. But they're the 'default' data structure when there is more than one element:"
   ]
  },
  {
   "cell_type": "code",
   "execution_count": 10,
   "metadata": {
    "ExecuteTime": {
     "end_time": "2018-04-23T19:11:05.626235Z",
     "start_time": "2018-04-23T19:11:05.621221Z"
    }
   },
   "outputs": [
    {
     "data": {
      "text/plain": [
       "(1, 2)"
      ]
     },
     "execution_count": 10,
     "metadata": {},
     "output_type": "execute_result"
    }
   ],
   "source": [
    "# Set-up x, y, and z variables\n",
    "x = 1\n",
    "y = 2\n",
    "z = x, y\n",
    "z"
   ]
  },
  {
   "cell_type": "code",
   "execution_count": 11,
   "metadata": {},
   "outputs": [
    {
     "data": {
      "text/plain": [
       "2"
      ]
     },
     "execution_count": 11,
     "metadata": {},
     "output_type": "execute_result"
    }
   ],
   "source": [
    "z[1]"
   ]
  },
  {
   "cell_type": "code",
   "execution_count": 12,
   "metadata": {},
   "outputs": [],
   "source": [
    "z = x, y, x, y"
   ]
  },
  {
   "cell_type": "code",
   "execution_count": 13,
   "metadata": {},
   "outputs": [
    {
     "data": {
      "text/plain": [
       "(1, 2, 1, 2)"
      ]
     },
     "execution_count": 13,
     "metadata": {},
     "output_type": "execute_result"
    }
   ],
   "source": [
    "z"
   ]
  },
  {
   "cell_type": "code",
   "execution_count": 14,
   "metadata": {},
   "outputs": [],
   "source": [
    "z = 1, 2, 3, 4, 5"
   ]
  },
  {
   "cell_type": "code",
   "execution_count": 15,
   "metadata": {},
   "outputs": [
    {
     "data": {
      "text/plain": [
       "(1, 2, 3, 4, 5)"
      ]
     },
     "execution_count": 15,
     "metadata": {},
     "output_type": "execute_result"
    }
   ],
   "source": [
    "z"
   ]
  },
  {
   "cell_type": "code",
   "execution_count": 16,
   "metadata": {},
   "outputs": [
    {
     "data": {
      "text/plain": [
       "100000"
      ]
     },
     "execution_count": 16,
     "metadata": {},
     "output_type": "execute_result"
    }
   ],
   "source": [
    "100_000"
   ]
  },
  {
   "cell_type": "code",
   "execution_count": 17,
   "metadata": {},
   "outputs": [
    {
     "data": {
      "text/plain": [
       "tuple"
      ]
     },
     "execution_count": 17,
     "metadata": {},
     "output_type": "execute_result"
    }
   ],
   "source": [
    "# Show that z is a tuple\n",
    "type(z)"
   ]
  },
  {
   "cell_type": "code",
   "execution_count": 18,
   "metadata": {
    "scrolled": true
   },
   "outputs": [
    {
     "data": {
      "text/plain": [
       "(1, 2)"
      ]
     },
     "execution_count": 18,
     "metadata": {},
     "output_type": "execute_result"
    }
   ],
   "source": [
    "# Set-up x, y, and z variables\n",
    "x = 1\n",
    "y = 2\n",
    "z = x, y\n",
    "z"
   ]
  },
  {
   "cell_type": "markdown",
   "metadata": {},
   "source": [
    "`x,y` is the same as `(x,y)`:"
   ]
  },
  {
   "cell_type": "code",
   "execution_count": 19,
   "metadata": {
    "ExecuteTime": {
     "end_time": "2018-04-23T19:11:05.638269Z",
     "start_time": "2018-04-23T19:11:05.629243Z"
    }
   },
   "outputs": [],
   "source": [
    "# Because tuples are immutable and ordered we can assign new variables with tuple unpacking\n",
    "a, b = z"
   ]
  },
  {
   "cell_type": "code",
   "execution_count": 20,
   "metadata": {},
   "outputs": [
    {
     "name": "stdout",
     "output_type": "stream",
     "text": [
      "a: 1\n",
      "b: 2\n"
     ]
    }
   ],
   "source": [
    "print(\"a:\", a)\n",
    "print(\"b:\", b)"
   ]
  },
  {
   "cell_type": "markdown",
   "metadata": {},
   "source": [
    "But we typically think of tuples coming to us in parentheses."
   ]
  },
  {
   "cell_type": "markdown",
   "metadata": {},
   "source": [
    "#### Lists\n",
    "\n",
    "Lists are the 'go to' sequential type / data structure / object in native Python. Like tuples, they contain **ordered** heterogenous elements. Unlike tuples, they are **mutable**, which means we can do all sorts of things to change them, like so:\n",
    "\n",
    "LISTS ARE MUTABLE"
   ]
  },
  {
   "cell_type": "code",
   "execution_count": 21,
   "metadata": {
    "ExecuteTime": {
     "end_time": "2018-04-23T19:11:05.650299Z",
     "start_time": "2018-04-23T19:11:05.641274Z"
    }
   },
   "outputs": [
    {
     "data": {
      "text/plain": [
       "9"
      ]
     },
     "execution_count": 21,
     "metadata": {},
     "output_type": "execute_result"
    }
   ],
   "source": [
    "# Lists come in square brackets:\n",
    "x = [1,2,7,4,5, 'stuff', 'things', '1.67', 1.75]\n",
    "\n",
    "len(x)"
   ]
  },
  {
   "cell_type": "code",
   "execution_count": 22,
   "metadata": {},
   "outputs": [
    {
     "data": {
      "text/plain": [
       "1"
      ]
     },
     "execution_count": 22,
     "metadata": {},
     "output_type": "execute_result"
    }
   ],
   "source": [
    "x[0]"
   ]
  },
  {
   "cell_type": "markdown",
   "metadata": {},
   "source": [
    "Another example of a list method is sort. (A method is just a function that is defined for objects of a certain type. Instead of calling it directly, we call it _on_ an object, like so: `object.method(arguments)`.)"
   ]
  },
  {
   "cell_type": "code",
   "execution_count": 23,
   "metadata": {
    "ExecuteTime": {
     "end_time": "2018-04-23T19:11:05.660326Z",
     "start_time": "2018-04-23T19:11:05.653306Z"
    }
   },
   "outputs": [],
   "source": [
    "# Because they are mutable, we can do stuff with them:\n",
    "x.reverse()"
   ]
  },
  {
   "cell_type": "code",
   "execution_count": 24,
   "metadata": {},
   "outputs": [
    {
     "data": {
      "text/plain": [
       "[1.75, '1.67', 'things', 'stuff', 5, 4, 7, 2, 1]"
      ]
     },
     "execution_count": 24,
     "metadata": {},
     "output_type": "execute_result"
    }
   ],
   "source": [
    "x"
   ]
  },
  {
   "cell_type": "code",
   "execution_count": 25,
   "metadata": {
    "ExecuteTime": {
     "end_time": "2018-04-23T19:11:05.671355Z",
     "start_time": "2018-04-23T19:11:05.665339Z"
    }
   },
   "outputs": [
    {
     "name": "stdout",
     "output_type": "stream",
     "text": [
      "(1, 2)\n"
     ]
    },
    {
     "data": {
      "text/plain": [
       "[1.75, '1.67', 'things', 'stuff', 5, 4, 7, 2, 1]"
      ]
     },
     "execution_count": 25,
     "metadata": {},
     "output_type": "execute_result"
    }
   ],
   "source": [
    "# An inplace operation meaning it sticks\n",
    "x.append(6)\n",
    "print(z)\n",
    "x.pop()\n",
    "x"
   ]
  },
  {
   "cell_type": "code",
   "execution_count": 26,
   "metadata": {
    "ExecuteTime": {
     "end_time": "2018-04-23T19:11:47.727864Z",
     "start_time": "2018-04-23T19:11:47.722849Z"
    },
    "scrolled": true
   },
   "outputs": [
    {
     "data": {
      "text/plain": [
       "'Python is zero-indexed. Note that not all programing languages are like this. \\nFor example in MATLAB and Fortran,indecies begin from 1.'"
      ]
     },
     "execution_count": 26,
     "metadata": {},
     "output_type": "execute_result"
    }
   ],
   "source": [
    "\"\"\"Python is zero-indexed. Note that not all programing languages are like this. \n",
    "For example in MATLAB and Fortran,indecies begin from 1.\"\"\""
   ]
  },
  {
   "cell_type": "markdown",
   "metadata": {},
   "source": [
    "The square brackets have this syntax: `[start:stop:step]`. To go backwards, specify a negative `step`."
   ]
  },
  {
   "cell_type": "code",
   "execution_count": 27,
   "metadata": {},
   "outputs": [
    {
     "data": {
      "text/plain": [
       "[1.75, '1.67', 'things', 'stuff', 5, 4, 7, 2, 1]"
      ]
     },
     "execution_count": 27,
     "metadata": {},
     "output_type": "execute_result"
    }
   ],
   "source": [
    "x"
   ]
  },
  {
   "cell_type": "code",
   "execution_count": 28,
   "metadata": {
    "ExecuteTime": {
     "end_time": "2018-04-23T19:11:48.188577Z",
     "start_time": "2018-04-23T19:11:48.182564Z"
    }
   },
   "outputs": [
    {
     "data": {
      "text/plain": [
       "['things', 'stuff', 5, 4, 7, 2, 1]"
      ]
     },
     "execution_count": 28,
     "metadata": {},
     "output_type": "execute_result"
    }
   ],
   "source": [
    "# If no colons are used, 'start' is assumed. Return the last element.\n",
    "x[2:]"
   ]
  },
  {
   "cell_type": "code",
   "execution_count": 29,
   "metadata": {
    "ExecuteTime": {
     "end_time": "2018-04-23T19:11:48.321936Z",
     "start_time": "2018-04-23T19:11:48.315Z"
    }
   },
   "outputs": [
    {
     "data": {
      "text/plain": [
       "[1.75, '1.67', 'things', 'stuff', 5]"
      ]
     },
     "execution_count": 29,
     "metadata": {},
     "output_type": "execute_result"
    }
   ],
   "source": [
    "# Start is unspecified, so we start at the beginning. 'Stop' is exclusive!\n",
    "x[:5]"
   ]
  },
  {
   "cell_type": "code",
   "execution_count": 30,
   "metadata": {
    "ExecuteTime": {
     "end_time": "2018-04-23T19:11:48.457109Z",
     "start_time": "2018-04-23T19:11:48.456Z"
    }
   },
   "outputs": [
    {
     "data": {
      "text/plain": [
       "[1.75, 'things', 5, 7, 1]"
      ]
     },
     "execution_count": 30,
     "metadata": {},
     "output_type": "execute_result"
    }
   ],
   "source": [
    "# Go from the beginning to the end by twos.\n",
    "x[::2]"
   ]
  },
  {
   "cell_type": "code",
   "execution_count": 31,
   "metadata": {
    "ExecuteTime": {
     "end_time": "2018-04-23T19:11:48.788766Z",
     "start_time": "2018-04-23T19:11:48.781750Z"
    }
   },
   "outputs": [
    {
     "data": {
      "text/plain": [
       "[1, 2, 7, 4, 5, 'stuff', 'things', '1.67', 1.75]"
      ]
     },
     "execution_count": 31,
     "metadata": {},
     "output_type": "execute_result"
    }
   ],
   "source": [
    "# Go backwards from index 5 to index 3 (because stop is exclusive)\n",
    "x[::-1]"
   ]
  },
  {
   "cell_type": "markdown",
   "metadata": {},
   "source": [
    "To access the element of `x` corresponding to the index `i`, use `x[i]`:"
   ]
  },
  {
   "cell_type": "code",
   "execution_count": 32,
   "metadata": {},
   "outputs": [
    {
     "data": {
      "text/plain": [
       "[1.75, '1.67', 'things', 'stuff', 5, 4, 7, 2, 1]"
      ]
     },
     "execution_count": 32,
     "metadata": {},
     "output_type": "execute_result"
    }
   ],
   "source": [
    "x"
   ]
  },
  {
   "cell_type": "code",
   "execution_count": 33,
   "metadata": {},
   "outputs": [],
   "source": [
    "x.append([1, 3, 5, 7])"
   ]
  },
  {
   "cell_type": "code",
   "execution_count": 34,
   "metadata": {},
   "outputs": [
    {
     "data": {
      "text/plain": [
       "[1.75, '1.67', 'things', 'stuff', 5, 4, 7, 2, 1, [1, 3, 5, 7]]"
      ]
     },
     "execution_count": 34,
     "metadata": {},
     "output_type": "execute_result"
    }
   ],
   "source": [
    "x"
   ]
  },
  {
   "cell_type": "code",
   "execution_count": 35,
   "metadata": {},
   "outputs": [],
   "source": [
    "x.extend([1, 3, 5, 7])"
   ]
  },
  {
   "cell_type": "code",
   "execution_count": 36,
   "metadata": {},
   "outputs": [
    {
     "data": {
      "text/plain": [
       "[1.75, '1.67', 'things', 'stuff', 5, 4, 7, 2, 1, [1, 3, 5, 7], 1, 3, 5, 7]"
      ]
     },
     "execution_count": 36,
     "metadata": {},
     "output_type": "execute_result"
    }
   ],
   "source": [
    "x"
   ]
  },
  {
   "cell_type": "markdown",
   "metadata": {},
   "source": [
    "#### IMPORTANT COMMANDS FOR LISTS\n",
    "- .append() = Add value to end of list verbose to values you are adding, such as appending a list to a list will put a list inside the list.\n",
    "- .extend() = Add values to end of list, different to append as extend will not nest a list inside a list, but add the values directly into the current list.\n",
    "- .reverse() = Reverse the values in the list\n",
    "- .pop() = removes the last value in the list\n",
    "- .insert() = adds values to a list at a specific location in the list\n",
    "- .remove() = will remove the first value that appears for the designated amount."
   ]
  },
  {
   "cell_type": "markdown",
   "metadata": {
    "ExecuteTime": {
     "end_time": "2018-04-23T15:34:47.291972Z",
     "start_time": "2018-04-23T15:34:47.284184Z"
    }
   },
   "source": [
    "### An important distinction:"
   ]
  },
  {
   "cell_type": "markdown",
   "metadata": {},
   "source": [
    "You've noticed that sequential data types can be _nested_. This means that we need to respect the distinction between the type of an object and the type of the elements that object contains. \n",
    "\n",
    "An example:"
   ]
  },
  {
   "cell_type": "code",
   "execution_count": 37,
   "metadata": {
    "ExecuteTime": {
     "end_time": "2018-04-23T19:11:05.708454Z",
     "start_time": "2018-04-23T19:11:05.701435Z"
    }
   },
   "outputs": [
    {
     "data": {
      "text/plain": [
       "int"
      ]
     },
     "execution_count": 37,
     "metadata": {},
     "output_type": "execute_result"
    }
   ],
   "source": [
    "# What type is x?\n",
    "x = 1\n",
    "type(x)"
   ]
  },
  {
   "cell_type": "code",
   "execution_count": 38,
   "metadata": {
    "ExecuteTime": {
     "end_time": "2018-04-23T19:11:05.719482Z",
     "start_time": "2018-04-23T19:11:05.712464Z"
    }
   },
   "outputs": [
    {
     "data": {
      "text/plain": [
       "list"
      ]
     },
     "execution_count": 38,
     "metadata": {},
     "output_type": "execute_result"
    }
   ],
   "source": [
    "# What type is y?\n",
    "y = [1]\n",
    "type(y)"
   ]
  },
  {
   "cell_type": "markdown",
   "metadata": {},
   "source": [
    "This distinction becomes very important when we begin working with Numpy and Pandas. For example, we might be dealing with a column of numbers. In Pandas terminology, the column's type is a `Series`, but the type (`dtype`) of the elements in that column is `int`."
   ]
  },
  {
   "cell_type": "markdown",
   "metadata": {},
   "source": [
    "#### Sets\n",
    "\n",
    "Sets are inspired by the mathematical notion of a set. They are **mutable** but **unordered** collections of **unique** items. They come in `{}` most of the time. (Note: you can create sets with `{}` _or_ with the `set` function. Likewise, there are `list`, `tuple`, and `dict` functions.)"
   ]
  },
  {
   "cell_type": "code",
   "execution_count": 39,
   "metadata": {
    "ExecuteTime": {
     "end_time": "2018-04-23T19:11:05.678374Z",
     "start_time": "2018-04-23T19:11:05.674363Z"
    }
   },
   "outputs": [
    {
     "data": {
      "text/plain": [
       "{2, 3, 5, 8}"
      ]
     },
     "execution_count": 39,
     "metadata": {},
     "output_type": "execute_result"
    }
   ],
   "source": [
    "this_is_a_set = {2, 3, 5, 3, 5, 8}\n",
    "this_is_a_set # Notice that duplicates were removed"
   ]
  },
  {
   "cell_type": "code",
   "execution_count": 40,
   "metadata": {},
   "outputs": [],
   "source": [
    "z = {2, 7, 5}"
   ]
  },
  {
   "cell_type": "code",
   "execution_count": 41,
   "metadata": {},
   "outputs": [
    {
     "data": {
      "text/plain": [
       "{2, 5, 7}"
      ]
     },
     "execution_count": 41,
     "metadata": {},
     "output_type": "execute_result"
    }
   ],
   "source": [
    "z"
   ]
  },
  {
   "cell_type": "code",
   "execution_count": 42,
   "metadata": {
    "ExecuteTime": {
     "end_time": "2018-04-23T19:11:05.689403Z",
     "start_time": "2018-04-23T19:11:05.681382Z"
    }
   },
   "outputs": [
    {
     "data": {
      "text/plain": [
       "{2, 5}"
      ]
     },
     "execution_count": 42,
     "metadata": {},
     "output_type": "execute_result"
    }
   ],
   "source": [
    "# The elements of y that are also in z for .intersection()\n",
    "this_is_a_set.intersection(z)"
   ]
  },
  {
   "cell_type": "code",
   "execution_count": 43,
   "metadata": {},
   "outputs": [
    {
     "data": {
      "text/plain": [
       "{2, 3, 5, 7, 8}"
      ]
     },
     "execution_count": 43,
     "metadata": {},
     "output_type": "execute_result"
    }
   ],
   "source": [
    "# combine the two sets with a .union()\n",
    "this_is_a_set.union(z)"
   ]
  },
  {
   "cell_type": "markdown",
   "metadata": {},
   "source": [
    "#### Dictionaries\n",
    "\n",
    "The best way to understand dictionaries it to think of how a regular language dictionary works. Instead of looking up elements according to their location in a certain order, you look up elements according to a certain 'key,' which may be any immutable object. \n",
    "\n",
    "Dictionaries are 'semi-ordered' collection of **key, value** pairs. I say 'semi-ordered' because Python recently implemented a kind of order for dictionaries. Nevertheless, Python throws an error if you try and access the 'first' value in a dictionary, because that is not how they are meant to be used!"
   ]
  },
  {
   "cell_type": "code",
   "execution_count": 44,
   "metadata": {
    "ExecuteTime": {
     "end_time": "2018-04-23T19:11:05.697424Z",
     "start_time": "2018-04-23T19:11:05.692412Z"
    }
   },
   "outputs": [],
   "source": [
    "instructors = {\"Matt\": {\"likes\": ['stats', 'pugs'], \"phone_number\": 205782998,},\n",
    "               \"Adi\": {\"likes\": ['reading', 'movies', 'travel'], \"phone_number\": 800723589}\n",
    "}"
   ]
  },
  {
   "cell_type": "code",
   "execution_count": 45,
   "metadata": {
    "ExecuteTime": {
     "end_time": "2018-04-23T19:11:06.124560Z",
     "start_time": "2018-04-23T19:11:06.115537Z"
    }
   },
   "outputs": [
    {
     "data": {
      "text/plain": [
       "{'likes': ['reading', 'movies', 'travel'], 'phone_number': 800723589}"
      ]
     },
     "execution_count": 45,
     "metadata": {},
     "output_type": "execute_result"
    }
   ],
   "source": [
    "# Look up the key 'Brian' in the dictionary 'instructor'\n",
    "instructors['Adi']"
   ]
  },
  {
   "cell_type": "markdown",
   "metadata": {},
   "source": [
    "Notice that as expected, the code above returns a dictionary. So the output can be treated as a dictionay."
   ]
  },
  {
   "cell_type": "code",
   "execution_count": 46,
   "metadata": {
    "ExecuteTime": {
     "end_time": "2018-04-23T19:11:06.134587Z",
     "start_time": "2018-04-23T19:11:06.127569Z"
    }
   },
   "outputs": [
    {
     "data": {
      "text/plain": [
       "['reading', 'movies', 'travel']"
      ]
     },
     "execution_count": 46,
     "metadata": {},
     "output_type": "execute_result"
    }
   ],
   "source": [
    "# Do one further look up to find instructor's likes\n",
    "instructors['Adi']['likes']"
   ]
  },
  {
   "cell_type": "code",
   "execution_count": 47,
   "metadata": {
    "ExecuteTime": {
     "end_time": "2018-04-23T19:11:06.341136Z",
     "start_time": "2018-04-23T19:11:06.137594Z"
    }
   },
   "outputs": [
    {
     "ename": "KeyError",
     "evalue": "'MAtt'",
     "output_type": "error",
     "traceback": [
      "\u001b[0;31m---------------------------------------------------------------------------\u001b[0m",
      "\u001b[0;31mKeyError\u001b[0m                                  Traceback (most recent call last)",
      "\u001b[0;32m<ipython-input-47-ad0f7f39df31>\u001b[0m in \u001b[0;36m<module>\u001b[0;34m\u001b[0m\n\u001b[1;32m      1\u001b[0m \u001b[0;31m# Demonstrate that when indexing the key it needs to be exact\u001b[0m\u001b[0;34m\u001b[0m\u001b[0;34m\u001b[0m\u001b[0;34m\u001b[0m\u001b[0m\n\u001b[0;32m----> 2\u001b[0;31m \u001b[0minstructors\u001b[0m\u001b[0;34m[\u001b[0m\u001b[0;34m'MAtt'\u001b[0m\u001b[0;34m]\u001b[0m\u001b[0;34m\u001b[0m\u001b[0;34m\u001b[0m\u001b[0m\n\u001b[0m",
      "\u001b[0;31mKeyError\u001b[0m: 'MAtt'"
     ]
    }
   ],
   "source": [
    "# Demonstrate that when indexing the key it needs to be exact \n",
    "instructors['MAtt']"
   ]
  },
  {
   "cell_type": "markdown",
   "metadata": {},
   "source": [
    "The error message above is expected - because I used a key that does not exist in the dictionary"
   ]
  },
  {
   "cell_type": "code",
   "execution_count": 48,
   "metadata": {
    "ExecuteTime": {
     "end_time": "2018-04-23T19:11:46.515808Z",
     "start_time": "2018-04-23T19:11:46.511831Z"
    }
   },
   "outputs": [
    {
     "data": {
      "text/plain": [
       "'NOPE not a Key'"
      ]
     },
     "execution_count": 48,
     "metadata": {},
     "output_type": "execute_result"
    }
   ],
   "source": [
    "# .get is a safe way of looking up a key if you're not sure it exists\n",
    "instructors.get('MAtt', 'NOPE not a Key')"
   ]
  },
  {
   "cell_type": "code",
   "execution_count": 49,
   "metadata": {},
   "outputs": [],
   "source": [
    "instructors.update({\"Josh\": {\"likes\": [\"music\", \"data science\", \"food\"], \"phone_number\": 2025551836}})"
   ]
  },
  {
   "cell_type": "code",
   "execution_count": 50,
   "metadata": {},
   "outputs": [
    {
     "data": {
      "text/plain": [
       "{'Matt': {'likes': ['stats', 'pugs'], 'phone_number': 205782998},\n",
       " 'Adi': {'likes': ['reading', 'movies', 'travel'], 'phone_number': 800723589},\n",
       " 'Josh': {'likes': ['music', 'data science', 'food'],\n",
       "  'phone_number': 2025551836}}"
      ]
     },
     "execution_count": 50,
     "metadata": {},
     "output_type": "execute_result"
    }
   ],
   "source": [
    "instructors"
   ]
  },
  {
   "cell_type": "code",
   "execution_count": 51,
   "metadata": {},
   "outputs": [],
   "source": [
    "# .update is a way to add new values to the dictionary\n",
    "instructors.update({\"Kihoon\": {\"likes\": [\"his baby\", \"his wife\", \"food\"], \"phone_number\": 865305}})"
   ]
  },
  {
   "cell_type": "code",
   "execution_count": 52,
   "metadata": {},
   "outputs": [
    {
     "data": {
      "text/plain": [
       "dict_keys(['Matt', 'Adi', 'Josh', 'Kihoon'])"
      ]
     },
     "execution_count": 52,
     "metadata": {},
     "output_type": "execute_result"
    }
   ],
   "source": [
    "# Dictionary keys:\n",
    "instructors.keys()"
   ]
  },
  {
   "cell_type": "code",
   "execution_count": 53,
   "metadata": {},
   "outputs": [
    {
     "name": "stdout",
     "output_type": "stream",
     "text": [
      "Matt\n",
      "Adi\n",
      "Josh\n",
      "Kihoon\n"
     ]
    }
   ],
   "source": [
    "# I can iterate through the keys of a dictionary:\n",
    "for key in instructors.keys():\n",
    "    print(key)"
   ]
  },
  {
   "cell_type": "code",
   "execution_count": 54,
   "metadata": {},
   "outputs": [
    {
     "data": {
      "text/plain": [
       "dict_values([{'likes': ['stats', 'pugs'], 'phone_number': 205782998}, {'likes': ['reading', 'movies', 'travel'], 'phone_number': 800723589}, {'likes': ['music', 'data science', 'food'], 'phone_number': 2025551836}, {'likes': ['his baby', 'his wife', 'food'], 'phone_number': 865305}])"
      ]
     },
     "execution_count": 54,
     "metadata": {},
     "output_type": "execute_result"
    }
   ],
   "source": [
    "# Dictionary values\n",
    "instructors.values()"
   ]
  },
  {
   "cell_type": "code",
   "execution_count": 55,
   "metadata": {},
   "outputs": [
    {
     "name": "stdout",
     "output_type": "stream",
     "text": [
      "{'likes': ['stats', 'pugs'], 'phone_number': 205782998}\n",
      "{'likes': ['reading', 'movies', 'travel'], 'phone_number': 800723589}\n",
      "{'likes': ['music', 'data science', 'food'], 'phone_number': 2025551836}\n",
      "{'likes': ['his baby', 'his wife', 'food'], 'phone_number': 865305}\n"
     ]
    }
   ],
   "source": [
    "# I can iterate through the dictionary values:\n",
    "for value in instructors.values():\n",
    "    print(value)"
   ]
  },
  {
   "cell_type": "code",
   "execution_count": 56,
   "metadata": {
    "scrolled": true
   },
   "outputs": [
    {
     "data": {
      "text/plain": [
       "dict_items([('Matt', {'likes': ['stats', 'pugs'], 'phone_number': 205782998}), ('Adi', {'likes': ['reading', 'movies', 'travel'], 'phone_number': 800723589}), ('Josh', {'likes': ['music', 'data science', 'food'], 'phone_number': 2025551836}), ('Kihoon', {'likes': ['his baby', 'his wife', 'food'], 'phone_number': 865305})])"
      ]
     },
     "execution_count": 56,
     "metadata": {},
     "output_type": "execute_result"
    }
   ],
   "source": [
    "# I can see the key:value pairs using .items():\n",
    "instructors.items()"
   ]
  },
  {
   "cell_type": "code",
   "execution_count": 57,
   "metadata": {},
   "outputs": [
    {
     "name": "stdout",
     "output_type": "stream",
     "text": [
      "Matt {'likes': ['stats', 'pugs'], 'phone_number': 205782998}\n",
      "Adi {'likes': ['reading', 'movies', 'travel'], 'phone_number': 800723589}\n",
      "Josh {'likes': ['music', 'data science', 'food'], 'phone_number': 2025551836}\n",
      "Kihoon {'likes': ['his baby', 'his wife', 'food'], 'phone_number': 865305}\n"
     ]
    }
   ],
   "source": [
    "# And I can iterate through the key:value pairs, but I need to use TWO iterables: key, value\n",
    "for key, value in instructors.items():\n",
    "    print(key, value)"
   ]
  },
  {
   "cell_type": "markdown",
   "metadata": {},
   "source": [
    "#### IMPORTANT COMMANDS FOR DICTIONARIES\n",
    "- .get()    = calls dictionary keys to show their values (similar to indexing on the name, but can add a response if value is not in dictionary)\n",
    "- .values() = shows the dictionary values\n",
    "- .keys()   = Shows the dictionary keys\n",
    "- .items()  = Shows both keys and values\n",
    "- .update() = update with a new dictionary key/values"
   ]
  },
  {
   "cell_type": "markdown",
   "metadata": {},
   "source": [
    "## Indexing and Slicing Sequential Data Types"
   ]
  },
  {
   "cell_type": "markdown",
   "metadata": {},
   "source": [
    "Everywhere in Python, the square brackets (`[]`) are used to *index* and to *slice* things. You'll see them all the time when you subset your data.\n",
    "\n",
    "But it is important to know how to do basic indexing and slice on the basic Python sequential data types."
   ]
  },
  {
   "cell_type": "markdown",
   "metadata": {},
   "source": [
    "#### The same bracket slicing syntax is used elsewhere:"
   ]
  },
  {
   "cell_type": "code",
   "execution_count": 58,
   "metadata": {
    "ExecuteTime": {
     "end_time": "2018-04-23T19:11:49.407101Z",
     "start_time": "2018-04-23T19:11:49.403091Z"
    }
   },
   "outputs": [],
   "source": [
    "string = \"DATA IS THE BEST!\"\n",
    "# Remember that strings are sequential data types!"
   ]
  },
  {
   "cell_type": "code",
   "execution_count": 59,
   "metadata": {
    "ExecuteTime": {
     "end_time": "2018-04-23T19:11:49.545473Z",
     "start_time": "2018-04-23T19:11:49.539Z"
    }
   },
   "outputs": [
    {
     "data": {
      "text/plain": [
       "'!TSEB EHT SI ATAD'"
      ]
     },
     "execution_count": 59,
     "metadata": {},
     "output_type": "execute_result"
    }
   ],
   "source": [
    "# String is reversed\n",
    "string[::-1]"
   ]
  },
  {
   "cell_type": "code",
   "execution_count": 60,
   "metadata": {
    "ExecuteTime": {
     "end_time": "2018-04-23T19:11:49.793143Z",
     "start_time": "2018-04-23T19:11:49.787127Z"
    }
   },
   "outputs": [
    {
     "data": {
      "text/plain": [
       "['DA', 'A IS ', 'HE BES', '!']"
      ]
     },
     "execution_count": 60,
     "metadata": {},
     "output_type": "execute_result"
    }
   ],
   "source": [
    "# To split the string on whitespace, btw:\n",
    "# sep is actually the default though\n",
    "string.split(sep='T')"
   ]
  },
  {
   "cell_type": "markdown",
   "metadata": {
    "ExecuteTime": {
     "end_time": "2018-04-23T19:11:50.052835Z",
     "start_time": "2018-04-23T19:11:50.043813Z"
    }
   },
   "source": [
    "#### IMPORTANT METHODS FOR STRINGS\n",
    "- There's a lot. Give them a shot!"
   ]
  },
  {
   "cell_type": "markdown",
   "metadata": {},
   "source": [
    "You can check out the reference guide to string functions here:\n",
    "\n",
    "https://docs.python.org/3/library/string.html"
   ]
  }
 ],
 "metadata": {
  "kernelspec": {
   "display_name": "Python 3",
   "language": "python",
   "name": "python3"
  },
  "language_info": {
   "codemirror_mode": {
    "name": "ipython",
    "version": 3
   },
   "file_extension": ".py",
   "mimetype": "text/x-python",
   "name": "python",
   "nbconvert_exporter": "python",
   "pygments_lexer": "ipython3",
   "version": "3.7.5"
  },
  "toc": {
   "nav_menu": {},
   "number_sections": true,
   "sideBar": true,
   "skip_h1_title": false,
   "title_cell": "Table of Contents",
   "title_sidebar": "Contents",
   "toc_cell": false,
   "toc_position": {},
   "toc_section_display": true,
   "toc_window_display": false
  },
  "varInspector": {
   "cols": {
    "lenName": 16,
    "lenType": 16,
    "lenVar": 40
   },
   "kernels_config": {
    "python": {
     "delete_cmd_postfix": "",
     "delete_cmd_prefix": "del ",
     "library": "var_list.py",
     "varRefreshCmd": "print(var_dic_list())"
    },
    "r": {
     "delete_cmd_postfix": ") ",
     "delete_cmd_prefix": "rm(",
     "library": "var_list.r",
     "varRefreshCmd": "cat(var_dic_list()) "
    }
   },
   "types_to_exclude": [
    "module",
    "function",
    "builtin_function_or_method",
    "instance",
    "_Feature"
   ],
   "window_display": false
  }
 },
 "nbformat": 4,
 "nbformat_minor": 2
}
