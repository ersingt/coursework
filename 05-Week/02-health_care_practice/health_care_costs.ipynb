{
 "cells": [
  {
   "cell_type": "markdown",
   "metadata": {},
   "source": [
    "# Challenge\n",
    "\n",
    "Have fun and build your skills! 🚀"
   ]
  },
  {
   "cell_type": "markdown",
   "metadata": {},
   "source": [
    "### Goal\n",
    "\n",
    "Predict `charges` using the other columns.\n",
    "\n",
    "The goal is to make a model with the lowest RMSE on your 25% of the test (holdout) set, without any data leakage from the test (holdout) set.\n",
    "\n",
    "Does your model beat a null baseline model?\n",
    "\n",
    "### Roles\n",
    "\n",
    "- One person from your group will be the spokesperson who will present your results.\n",
    "- Another person is the moderator who will keep the group on task and make sure everything is humming along and everyone is on board with decisions and understands what's happening.\n",
    "- The third person will share their screen and keep the official notebook for the group (everyone should work on their own notebook, too).\n",
    "\n",
    "### Instructions\n",
    "\n",
    "Use GridSearchCV, a pipeline, and any of the following models you like:\n",
    "\n",
    "- LinearRegression\n",
    "- Lasso\n",
    "- Ridge\n",
    "- ElasticNet\n",
    "- KNeighborsRegressor\n",
    "- LogisticRegression\n",
    "\n",
    "There are at least 2 options for grid searching  with a pipeline:\n",
    "\n",
    "- Make a pipeline, put transformers and LogisticRegressionCV in it.\n",
    "- Make a GridSearchCV object, put a pipeline with transformers and LogisticRegression in it.\n",
    "\n",
    "Either way you can use column transformers to only transform on a subset of columns.\n",
    "\n",
    "Either way, you just need to fit X_train and y_train and then you can go right to scoring on the test set.\n",
    "\n",
    "You can make as many models as you like.\n",
    "\n",
    "The data is in the `data` folder.\n",
    "\n",
    "Good luck! 😀\n"
   ]
  },
  {
   "cell_type": "code",
   "execution_count": null,
   "metadata": {},
   "outputs": [],
   "source": []
  }
 ],
 "metadata": {
  "kernelspec": {
   "display_name": "Python 3",
   "language": "python",
   "name": "python3"
  },
  "language_info": {
   "codemirror_mode": {
    "name": "ipython",
    "version": 3
   },
   "file_extension": ".py",
   "mimetype": "text/x-python",
   "name": "python",
   "nbconvert_exporter": "python",
   "pygments_lexer": "ipython3",
   "version": "3.7.7"
  }
 },
 "nbformat": 4,
 "nbformat_minor": 4
}
