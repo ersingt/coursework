{
 "cells": [
  {
   "cell_type": "markdown",
   "metadata": {},
   "source": [
    "## Using the Pushshift API to get data from Reddit\n",
    "\n",
    "_Adjusted by Jeff Hale__"
   ]
  },
  {
   "cell_type": "markdown",
   "metadata": {
    "heading_collapsed": true
   },
   "source": [
    "## Learning Objectives\n",
    "\n",
    "By the end of this lesson, students will be able to:\n",
    "\n",
    "- Use the Pushshift API with the requests library to get data from Reddit\n",
    "- Parse the data into a pandas DataFrame"
   ]
  },
  {
   "cell_type": "markdown",
   "metadata": {},
   "source": [
    "## Pushshift API Example"
   ]
  },
  {
   "cell_type": "markdown",
   "metadata": {},
   "source": [
    "This document gives an example of a successful call to the pushshift API.\n",
    "\n",
    "The documentation found at [https://github.com/pushshift/api](https://github.com/pushshift/api) is a good reference and was used to make this guide.\n",
    "\n",
    "Another walkthrough that is helpful is found here: https://www.osrsbox.com/blog/2019/03/18/watercooler-scraping-an-entire-subreddit-2007scape/.  I do not know why this is a Runescape blog that did a great walkthrough, but we'll take it."
   ]
  },
  {
   "cell_type": "markdown",
   "metadata": {},
   "source": [
    "### Setup"
   ]
  },
  {
   "cell_type": "code",
   "execution_count": null,
   "metadata": {
    "ExecuteTime": {
     "end_time": "2020-04-13T19:22:57.912952Z",
     "start_time": "2020-04-13T19:22:57.908950Z"
    }
   },
   "outputs": [],
   "source": [
    "import pandas as pd   \n",
    "import requests  #library that uses internet to make web requests to outside pages\n",
    "import time    #specialized functions to \n",
    "import datetime"
   ]
  },
  {
   "cell_type": "markdown",
   "metadata": {},
   "source": [
    "### Making our first API call"
   ]
  },
  {
   "cell_type": "markdown",
   "metadata": {
    "heading_collapsed": true
   },
   "source": [
    "#### Try 1"
   ]
  },
  {
   "cell_type": "markdown",
   "metadata": {
    "hidden": true
   },
   "source": [
    "First we need to tell the computer where it is going to go to get the data"
   ]
  },
  {
   "cell_type": "markdown",
   "metadata": {
    "ExecuteTime": {
     "end_time": "2020-04-13T19:05:13.144408Z",
     "start_time": "2020-04-13T19:05:13.141394Z"
    },
    "hidden": true
   },
   "source": [
    "#### url where we want to request data."
   ]
  },
  {
   "cell_type": "code",
   "execution_count": null,
   "metadata": {
    "ExecuteTime": {
     "end_time": "2020-04-13T19:05:13.144408Z",
     "start_time": "2020-04-13T19:05:13.141394Z"
    },
    "hidden": true
   },
   "outputs": [],
   "source": [
    "reddit_url = 'https://api.pushshift.io/reddit/search/submisssion/?subreddit=PrideandPrejudice&size=100'"
   ]
  },
  {
   "cell_type": "markdown",
   "metadata": {
    "hidden": true
   },
   "source": [
    "Hold up, that's ugly as sin. What are all the parts of this?\n",
    "- https://api.pushshift.io :  \n",
    "- /reddit/ : \n",
    "- /search/ : \n",
    "- /submission/ :\n",
    "- ?subreddit=PrideandPrejudice :\n",
    "- &size=100 : \n",
    "\n",
    "More to come..."
   ]
  },
  {
   "cell_type": "markdown",
   "metadata": {
    "hidden": true
   },
   "source": [
    " "
   ]
  },
  {
   "cell_type": "markdown",
   "metadata": {
    "hidden": true
   },
   "source": [
    "  "
   ]
  },
  {
   "cell_type": "markdown",
   "metadata": {
    "hidden": true
   },
   "source": [
    "#### Then we make the request using the requests library:"
   ]
  },
  {
   "cell_type": "code",
   "execution_count": null,
   "metadata": {
    "ExecuteTime": {
     "end_time": "2020-04-13T19:10:45.091648Z",
     "start_time": "2020-04-13T19:10:45.017945Z"
    },
    "hidden": true
   },
   "outputs": [],
   "source": [
    " "
   ]
  },
  {
   "cell_type": "markdown",
   "metadata": {},
   "source": [
    "This is the actual request, the r is a convention to pull data that's not processed"
   ]
  },
  {
   "cell_type": "markdown",
   "metadata": {
    "ExecuteTime": {
     "end_time": "2020-04-13T19:10:45.091648Z",
     "start_time": "2020-04-13T19:10:45.017945Z"
    },
    "hidden": true
   },
   "source": [
    "#### the method `.text` will present the full text"
   ]
  },
  {
   "cell_type": "code",
   "execution_count": null,
   "metadata": {
    "ExecuteTime": {
     "end_time": "2020-04-13T19:10:45.091648Z",
     "start_time": "2020-04-13T19:10:45.017945Z"
    },
    "hidden": true
   },
   "outputs": [],
   "source": []
  },
  {
   "cell_type": "markdown",
   "metadata": {
    "hidden": true
   },
   "source": [
    "Hmmm that doesn't look right...let's check if our request connected properly"
   ]
  },
  {
   "cell_type": "code",
   "execution_count": null,
   "metadata": {},
   "outputs": [],
   "source": []
  },
  {
   "cell_type": "markdown",
   "metadata": {
    "ExecuteTime": {
     "end_time": "2020-04-13T19:08:16.555456Z",
     "start_time": "2020-04-13T19:08:16.487169Z"
    },
    "hidden": true
   },
   "source": [
    "#### function to check status of request"
   ]
  },
  {
   "cell_type": "code",
   "execution_count": null,
   "metadata": {
    "ExecuteTime": {
     "end_time": "2020-04-13T19:08:16.555456Z",
     "start_time": "2020-04-13T19:08:16.487169Z"
    },
    "hidden": true
   },
   "outputs": [],
   "source": []
  },
  {
   "cell_type": "markdown",
   "metadata": {
    "hidden": true
   },
   "source": [
    "Common Errors with API Requests:\n",
    "- 401 : Unauthorized\n",
    "- 403 : Forbidden\n",
    "- 404 : Page does not exist\n",
    "- 429 : Too many requests\n",
    "\n",
    "200 indicates a success!\n",
    "\n",
    "See more here: https://blog.runscope.com/posts/how-to-debug-common-api-errors and https://realpython.com/python-requests/#status-codes."
   ]
  },
  {
   "cell_type": "markdown",
   "metadata": {},
   "source": [
    "#### Try 2"
   ]
  },
  {
   "cell_type": "markdown",
   "metadata": {},
   "source": [
    "We found our error so let's try that same API call."
   ]
  },
  {
   "cell_type": "markdown",
   "metadata": {
    "ExecuteTime": {
     "end_time": "2020-04-13T19:13:12.198408Z",
     "start_time": "2020-04-13T19:13:12.194505Z"
    }
   },
   "source": [
    "#### list the url where we want to request data."
   ]
  },
  {
   "cell_type": "code",
   "execution_count": null,
   "metadata": {
    "ExecuteTime": {
     "end_time": "2020-04-13T19:13:12.198408Z",
     "start_time": "2020-04-13T19:13:12.194505Z"
    }
   },
   "outputs": [],
   "source": [
    "reddit_url = 'https://api.pushshift.io/reddit/search/submission/?subreddit=PrideandPrejudice&size=100'"
   ]
  },
  {
   "cell_type": "markdown",
   "metadata": {},
   "source": [
    "What if we followed this link in Chrome instead of making the request?"
   ]
  },
  {
   "cell_type": "markdown",
   "metadata": {
    "ExecuteTime": {
     "end_time": "2020-04-13T19:20:25.355377Z",
     "start_time": "2020-04-13T19:20:25.110895Z"
    },
    "jupyter": {
     "outputs_hidden": true
    }
   },
   "source": [
    "#### try with repaired URL"
   ]
  },
  {
   "cell_type": "code",
   "execution_count": null,
   "metadata": {
    "ExecuteTime": {
     "end_time": "2020-04-13T19:20:25.355377Z",
     "start_time": "2020-04-13T19:20:25.110895Z"
    }
   },
   "outputs": [],
   "source": []
  },
  {
   "cell_type": "markdown",
   "metadata": {
    "ExecuteTime": {
     "end_time": "2020-04-13T19:20:25.355377Z",
     "start_time": "2020-04-13T19:20:25.110895Z"
    },
    "jupyter": {
     "outputs_hidden": true
    }
   },
   "source": [
    "#### what is r exactly?"
   ]
  },
  {
   "cell_type": "code",
   "execution_count": null,
   "metadata": {
    "ExecuteTime": {
     "end_time": "2020-04-13T19:20:25.355377Z",
     "start_time": "2020-04-13T19:20:25.110895Z"
    }
   },
   "outputs": [],
   "source": []
  },
  {
   "cell_type": "markdown",
   "metadata": {},
   "source": [
    "#### the method .text will present the full text"
   ]
  },
  {
   "cell_type": "code",
   "execution_count": null,
   "metadata": {
    "ExecuteTime": {
     "end_time": "2020-04-13T19:20:25.355377Z",
     "start_time": "2020-04-13T19:20:25.110895Z"
    }
   },
   "outputs": [],
   "source": []
  },
  {
   "cell_type": "markdown",
   "metadata": {},
   "source": [
    "Ok now THAT is ugly... How might we make this cleaner?"
   ]
  },
  {
   "cell_type": "markdown",
   "metadata": {},
   "source": [
    "#### json method will show it in json format and transform it"
   ]
  },
  {
   "cell_type": "code",
   "execution_count": null,
   "metadata": {
    "ExecuteTime": {
     "end_time": "2020-04-13T19:23:26.596778Z",
     "start_time": "2020-04-13T19:23:26.590729Z"
    }
   },
   "outputs": [],
   "source": [
    " "
   ]
  },
  {
   "cell_type": "markdown",
   "metadata": {},
   "source": [
    "Woah lots of stuff! Does this look familiar to anyone...?\n",
    "\n",
    "Let's save it."
   ]
  },
  {
   "cell_type": "code",
   "execution_count": null,
   "metadata": {},
   "outputs": [],
   "source": []
  },
  {
   "cell_type": "markdown",
   "metadata": {},
   "source": [
    "### Processing JSON "
   ]
  },
  {
   "cell_type": "markdown",
   "metadata": {
    "ExecuteTime": {
     "end_time": "2020-04-13T19:24:11.854890Z",
     "start_time": "2020-04-13T19:24:11.849891Z"
    }
   },
   "source": [
    "#### let's explore this a bit...what type is this new json object?"
   ]
  },
  {
   "cell_type": "code",
   "execution_count": null,
   "metadata": {
    "ExecuteTime": {
     "end_time": "2020-04-13T19:24:11.854890Z",
     "start_time": "2020-04-13T19:24:11.849891Z"
    }
   },
   "outputs": [],
   "source": []
  },
  {
   "cell_type": "markdown",
   "metadata": {
    "jupyter": {
     "source_hidden": true
    }
   },
   "source": [
    "![btfgif](https://i.kym-cdn.com/photos/images/newsfeed/001/480/980/897.gif)"
   ]
  },
  {
   "cell_type": "markdown",
   "metadata": {},
   "source": [
    "We know how to work with dictionaries!\n",
    "\n",
    "Let's use what we know about dictionaries to explore further"
   ]
  },
  {
   "cell_type": "markdown",
   "metadata": {
    "ExecuteTime": {
     "end_time": "2020-04-13T19:27:35.583126Z",
     "start_time": "2020-04-13T19:27:35.578134Z"
    }
   },
   "source": [
    "#### look at keys"
   ]
  },
  {
   "cell_type": "code",
   "execution_count": null,
   "metadata": {
    "ExecuteTime": {
     "end_time": "2020-04-13T19:27:35.583126Z",
     "start_time": "2020-04-13T19:27:35.578134Z"
    }
   },
   "outputs": [],
   "source": []
  },
  {
   "cell_type": "markdown",
   "metadata": {},
   "source": [
    "Oddly only one key: 'data'...what is its corresponding value?"
   ]
  },
  {
   "cell_type": "code",
   "execution_count": null,
   "metadata": {
    "ExecuteTime": {
     "end_time": "2020-04-13T19:30:01.316631Z",
     "start_time": "2020-04-13T19:30:01.197020Z"
    }
   },
   "outputs": [],
   "source": []
  },
  {
   "cell_type": "markdown",
   "metadata": {},
   "source": [
    "Now we have it as a list...? What is each item of the list? "
   ]
  },
  {
   "cell_type": "code",
   "execution_count": null,
   "metadata": {},
   "outputs": [],
   "source": []
  },
  {
   "cell_type": "markdown",
   "metadata": {
    "ExecuteTime": {
     "end_time": "2020-04-13T19:34:25.691978Z",
     "start_time": "2020-04-13T19:34:25.687977Z"
    }
   },
   "source": [
    "#### Lets make this list a variable so we can explore each item further"
   ]
  },
  {
   "cell_type": "code",
   "execution_count": null,
   "metadata": {
    "ExecuteTime": {
     "end_time": "2020-04-13T19:34:25.691978Z",
     "start_time": "2020-04-13T19:34:25.687977Z"
    }
   },
   "outputs": [],
   "source": []
  },
  {
   "cell_type": "markdown",
   "metadata": {},
   "source": [
    "#### Look at the first item in the list."
   ]
  },
  {
   "cell_type": "code",
   "execution_count": null,
   "metadata": {
    "ExecuteTime": {
     "end_time": "2020-04-13T19:32:26.266041Z",
     "start_time": "2020-04-13T19:32:26.261042Z"
    },
    "scrolled": true
   },
   "outputs": [],
   "source": []
  },
  {
   "cell_type": "markdown",
   "metadata": {},
   "source": [
    "#### What type is the first item?"
   ]
  },
  {
   "cell_type": "code",
   "execution_count": null,
   "metadata": {},
   "outputs": [],
   "source": []
  },
  {
   "cell_type": "markdown",
   "metadata": {},
   "source": [
    "#### Get the title of the first post."
   ]
  },
  {
   "cell_type": "code",
   "execution_count": null,
   "metadata": {},
   "outputs": [],
   "source": []
  },
  {
   "cell_type": "markdown",
   "metadata": {},
   "source": [
    "### Let's make a dataframe out of a post"
   ]
  },
  {
   "cell_type": "code",
   "execution_count": null,
   "metadata": {
    "ExecuteTime": {
     "end_time": "2020-04-13T19:52:04.109636Z",
     "start_time": "2020-04-13T19:52:04.106634Z"
    },
    "hidden": true
   },
   "outputs": [],
   "source": []
  },
  {
   "cell_type": "code",
   "execution_count": null,
   "metadata": {
    "ExecuteTime": {
     "end_time": "2020-04-13T19:52:07.144241Z",
     "start_time": "2020-04-13T19:52:07.139293Z"
    }
   },
   "outputs": [],
   "source": []
  },
  {
   "cell_type": "markdown",
   "metadata": {
    "jupyter": {
     "source_hidden": true
    }
   },
   "source": [
    "![collins-gif](https://media1.tenor.com/images/e25c4f2744fa7c5d96bcd2c5ca4c1435/tenor.gif?itemid=5782673)"
   ]
  },
  {
   "cell_type": "code",
   "execution_count": null,
   "metadata": {
    "ExecuteTime": {
     "end_time": "2020-04-13T19:52:33.198780Z",
     "start_time": "2020-04-13T19:52:33.180653Z"
    }
   },
   "outputs": [],
   "source": []
  },
  {
   "cell_type": "markdown",
   "metadata": {},
   "source": [
    "## Summary\n",
    "\n",
    "You saw how to access the reddit API using requests, turn it into JSON, and save the the data in a DataFrame.\n",
    "\n",
    "#### Check for understanding\n",
    "- What is JSON?\n",
    "\n",
    "Ready to get some data!? ⬇️\n"
   ]
  },
  {
   "cell_type": "code",
   "execution_count": null,
   "metadata": {},
   "outputs": [],
   "source": []
  }
 ],
 "metadata": {
  "kernelspec": {
   "display_name": "Python 3",
   "language": "python",
   "name": "python3"
  },
  "language_info": {
   "codemirror_mode": {
    "name": "ipython",
    "version": 3
   },
   "file_extension": ".py",
   "mimetype": "text/x-python",
   "name": "python",
   "nbconvert_exporter": "python",
   "pygments_lexer": "ipython3",
   "version": "3.7.7"
  },
  "toc": {
   "base_numbering": 1,
   "nav_menu": {},
   "number_sections": false,
   "sideBar": true,
   "skip_h1_title": true,
   "title_cell": "Table of Contents",
   "title_sidebar": "Contents",
   "toc_cell": true,
   "toc_position": {},
   "toc_section_display": true,
   "toc_window_display": false
  },
  "varInspector": {
   "cols": {
    "lenName": 16,
    "lenType": 16,
    "lenVar": 40
   },
   "kernels_config": {
    "python": {
     "delete_cmd_postfix": "",
     "delete_cmd_prefix": "del ",
     "library": "var_list.py",
     "varRefreshCmd": "print(var_dic_list())"
    },
    "r": {
     "delete_cmd_postfix": ") ",
     "delete_cmd_prefix": "rm(",
     "library": "var_list.r",
     "varRefreshCmd": "cat(var_dic_list()) "
    }
   },
   "types_to_exclude": [
    "module",
    "function",
    "builtin_function_or_method",
    "instance",
    "_Feature"
   ],
   "window_display": false
  }
 },
 "nbformat": 4,
 "nbformat_minor": 4
}
