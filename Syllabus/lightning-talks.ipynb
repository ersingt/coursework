{
 "cells": [
  {
   "cell_type": "markdown",
   "metadata": {},
   "source": [
    "# Lightning Talks"
   ]
  },
  {
   "cell_type": "code",
   "execution_count": 1,
   "metadata": {},
   "outputs": [],
   "source": [
    "import random\n",
    "import pandas as pd\n"
   ]
  },
  {
   "cell_type": "code",
   "execution_count": 2,
   "metadata": {},
   "outputs": [],
   "source": [
    "names = ['Jurgen',\n",
    " 'Djuwita',\n",
    " 'Brenda',\n",
    " 'Larry',\n",
    " 'John',\n",
    " 'Jessie',\n",
    " 'Eileen',\n",
    " 'Eddie',\n",
    " 'Alaa',\n",
    " 'Wilson']"
   ]
  },
  {
   "cell_type": "code",
   "execution_count": 3,
   "metadata": {},
   "outputs": [],
   "source": [
    "topics = [ \n",
    "\"Hypothesis Testing and Confidence Intervals\",\n",
    "\"Linear Regression\",\n",
    "\"Bias/Variance Tradeoff\",\n",
    "\"Confusion Matrix/Classification Metrics\",\n",
    "\"Logistic Regression and KNN\",\n",
    "\"Count Vectorizer/TFIDF\",\n",
    "\"CART and Random Forest (tree based methods)\",\n",
    "\"SVMs\",\n",
    "\"Clustering\",\n",
    "\"Prinicipal Components Analysis\"\n",
    "]\n"
   ]
  },
  {
   "cell_type": "code",
   "execution_count": 7,
   "metadata": {},
   "outputs": [
    {
     "data": {
      "text/html": [
       "<div>\n",
       "<style scoped>\n",
       "    .dataframe tbody tr th:only-of-type {\n",
       "        vertical-align: middle;\n",
       "    }\n",
       "\n",
       "    .dataframe tbody tr th {\n",
       "        vertical-align: top;\n",
       "    }\n",
       "\n",
       "    .dataframe thead th {\n",
       "        text-align: right;\n",
       "    }\n",
       "</style>\n",
       "<table border=\"1\" class=\"dataframe\">\n",
       "  <thead>\n",
       "    <tr style=\"text-align: right;\">\n",
       "      <th></th>\n",
       "      <th>Topic</th>\n",
       "    </tr>\n",
       "    <tr>\n",
       "      <th>Name</th>\n",
       "      <th></th>\n",
       "    </tr>\n",
       "  </thead>\n",
       "  <tbody>\n",
       "    <tr>\n",
       "      <th>Jessie</th>\n",
       "      <td>Count Vectorizer/TFIDF</td>\n",
       "    </tr>\n",
       "    <tr>\n",
       "      <th>Wilson</th>\n",
       "      <td>Prinicipal Components Analysis</td>\n",
       "    </tr>\n",
       "    <tr>\n",
       "      <th>Larry</th>\n",
       "      <td>Confusion Matrix/Classification Metrics</td>\n",
       "    </tr>\n",
       "    <tr>\n",
       "      <th>John</th>\n",
       "      <td>Logistic Regression and KNN</td>\n",
       "    </tr>\n",
       "    <tr>\n",
       "      <th>Djuwita</th>\n",
       "      <td>Linear Regression</td>\n",
       "    </tr>\n",
       "    <tr>\n",
       "      <th>Jurgen</th>\n",
       "      <td>Hypothesis Testing and Confidence Intervals</td>\n",
       "    </tr>\n",
       "    <tr>\n",
       "      <th>Eddie</th>\n",
       "      <td>SVMs</td>\n",
       "    </tr>\n",
       "    <tr>\n",
       "      <th>Alaa</th>\n",
       "      <td>Clustering</td>\n",
       "    </tr>\n",
       "    <tr>\n",
       "      <th>Eileen</th>\n",
       "      <td>CART and Random Forest (tree based methods)</td>\n",
       "    </tr>\n",
       "    <tr>\n",
       "      <th>Brenda</th>\n",
       "      <td>Bias/Variance Tradeoff</td>\n",
       "    </tr>\n",
       "  </tbody>\n",
       "</table>\n",
       "</div>"
      ],
      "text/plain": [
       "                                               Topic\n",
       "Name                                                \n",
       "Jessie                        Count Vectorizer/TFIDF\n",
       "Wilson                Prinicipal Components Analysis\n",
       "Larry        Confusion Matrix/Classification Metrics\n",
       "John                     Logistic Regression and KNN\n",
       "Djuwita                            Linear Regression\n",
       "Jurgen   Hypothesis Testing and Confidence Intervals\n",
       "Eddie                                           SVMs\n",
       "Alaa                                      Clustering\n",
       "Eileen   CART and Random Forest (tree based methods)\n",
       "Brenda                        Bias/Variance Tradeoff"
      ]
     },
     "execution_count": 7,
     "metadata": {},
     "output_type": "execute_result"
    }
   ],
   "source": [
    "# Set the random seed\n",
    "random.seed(486793012)\n",
    "\n",
    "# Random selection of name/student and topic and save it as a list of tuples\n",
    "lightning = random.sample(list(zip(names, topics)), 10)\n",
    "lightning\n",
    "\n",
    "# Turn it into a nice data frame\n",
    "pd.DataFrame(lightning, columns=['Name', 'Topic']).set_index('Name')"
   ]
  },
  {
   "cell_type": "code",
   "execution_count": null,
   "metadata": {},
   "outputs": [],
   "source": []
  },
  {
   "cell_type": "code",
   "execution_count": null,
   "metadata": {},
   "outputs": [],
   "source": []
  }
 ],
 "metadata": {
  "kernelspec": {
   "display_name": "Python 3",
   "language": "python",
   "name": "python3"
  },
  "language_info": {
   "codemirror_mode": {
    "name": "ipython",
    "version": 3
   },
   "file_extension": ".py",
   "mimetype": "text/x-python",
   "name": "python",
   "nbconvert_exporter": "python",
   "pygments_lexer": "ipython3",
   "version": "3.7.3"
  }
 },
 "nbformat": 4,
 "nbformat_minor": 2
}
