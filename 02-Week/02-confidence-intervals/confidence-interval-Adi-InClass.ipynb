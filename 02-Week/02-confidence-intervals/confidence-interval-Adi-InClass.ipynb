{
 "cells": [
  {
   "cell_type": "markdown",
   "metadata": {},
   "source": [
    "# Inferential Statistics\n",
    "\n",
    "**Author**: _Adi Bronshtein (DC)_ with additions from _Wessley Bosse (LA)_\n",
    "\n",
    "---"
   ]
  },
  {
   "cell_type": "markdown",
   "metadata": {},
   "source": [
    "## Confidence Interval Review"
   ]
  },
  {
   "cell_type": "markdown",
   "metadata": {},
   "source": [
    "Let's say we wanted to know how many hours of sleep DSI students get, on average. It's not really a viable option to ask every single DSI student in all of the campuses (especially if we're checking across cohorts!) So instead, we'll collect a sample of hours of sleep of students in the DC campus, and use that to build a confidence interval - a range of values of average hours of a sleep. The level of confidence we have in our estimates/predictions will change the range of values. Let's see what I mean:"
   ]
  },
  {
   "cell_type": "code",
   "execution_count": 1,
   "metadata": {},
   "outputs": [],
   "source": [
    "# List of average hours of sleep each student gets a night\n",
    "sleep = [5, 7, 6, 8, 6, 8.5, 6.5, 8, 7.5, 7, 6.5, 6, 8]"
   ]
  },
  {
   "cell_type": "code",
   "execution_count": 2,
   "metadata": {},
   "outputs": [],
   "source": [
    "# import the necessary libraries \n",
    "import numpy as np\n",
    "import math \n",
    "from scipy import stats"
   ]
  },
  {
   "cell_type": "code",
   "execution_count": 3,
   "metadata": {},
   "outputs": [],
   "source": [
    "# Get the sample's mean and standard deviation (sigma)\n",
    "mean = np.mean(sleep)\n",
    "stdv = np.std(sleep)"
   ]
  },
  {
   "cell_type": "code",
   "execution_count": 4,
   "metadata": {},
   "outputs": [
    {
     "name": "stdout",
     "output_type": "stream",
     "text": [
      "6.923076923076923\n",
      "0.9970370305242862\n"
     ]
    }
   ],
   "source": [
    "print(mean)\n",
    "print(stdv)"
   ]
  },
  {
   "cell_type": "markdown",
   "metadata": {},
   "source": [
    "###### As a reminder:\n"
   ]
  },
  {
   "cell_type": "markdown",
   "metadata": {},
   "source": [
    "The formula for the **mean**: $\\bar{x} = \\frac{1}{n} \\sum_{i=1}^{n}x_{i}$\n",
    "\n"
   ]
  },
  {
   "cell_type": "markdown",
   "metadata": {},
   "source": [
    "The formula for the **standard deviation** (sigma): $\\sigma = \\sqrt{\\frac {\\sum{(x_i - \\bar{X})^2}} {n-1}}$\n",
    "\n"
   ]
  },
  {
   "cell_type": "markdown",
   "metadata": {},
   "source": [
    "#### Calculating the Confidence Interval by hand"
   ]
  },
  {
   "cell_type": "markdown",
   "metadata": {},
   "source": [
    "##### 68-95-99.7 Rule\n",
    "\n",
    "- 68% confidence interval can be approximated by adding and subtracting 1 standard deviation from the mean.\n",
    "- 95% confidence interval is ~2 standard deviation away from the mean.\n",
    "- 99.7% confidence interval is ~3 standard deviation away from the mean.\n",
    "![](https://miro.medium.com/max/24000/1*IZ2II2HYKeoMrdLU5jW6Dw.png)"
   ]
  },
  {
   "cell_type": "code",
   "execution_count": 5,
   "metadata": {},
   "outputs": [],
   "source": [
    "# what is the value we will need to add/subtract \n",
    "# in order to find the 95% confidence interval? (using the approximation)\n",
    "diff = stdv * 2"
   ]
  },
  {
   "cell_type": "code",
   "execution_count": 6,
   "metadata": {},
   "outputs": [
    {
     "data": {
      "text/plain": [
       "1.9940740610485723"
      ]
     },
     "execution_count": 6,
     "metadata": {},
     "output_type": "execute_result"
    }
   ],
   "source": [
    "# 2 standard deviations\n",
    "diff"
   ]
  },
  {
   "cell_type": "code",
   "execution_count": 7,
   "metadata": {},
   "outputs": [
    {
     "data": {
      "text/plain": [
       "(4.9290028620283515, 8.917150984125495)"
      ]
     },
     "execution_count": 7,
     "metadata": {},
     "output_type": "execute_result"
    }
   ],
   "source": [
    "# generate the confidence interval\n",
    "lower_boundry = mean - diff\n",
    "upper_boundry = mean + diff\n",
    "(lower_boundry, upper_boundry)"
   ]
  },
  {
   "cell_type": "code",
   "execution_count": 9,
   "metadata": {},
   "outputs": [
    {
     "data": {
      "text/plain": [
       "(3.9319658315040646, 9.914188014649781)"
      ]
     },
     "execution_count": 9,
     "metadata": {},
     "output_type": "execute_result"
    }
   ],
   "source": [
    "# repeat the process for 99.7% confidence\n",
    "diff_99 = stdv * 3\n",
    "lower_99 = mean - diff_99\n",
    "upper_99 = mean + diff_99\n",
    "(lower_99, upper_99)"
   ]
  },
  {
   "cell_type": "markdown",
   "metadata": {},
   "source": [
    "#### Confidence Interval with the Stats Module (from SciPy)"
   ]
  },
  {
   "cell_type": "code",
   "execution_count": 12,
   "metadata": {},
   "outputs": [],
   "source": [
    "# Create a confidence interval with 95% confidence\n",
    "## first argument = level of confidence\n",
    "## second arguemnt (loc) = location (where do we center the confidence interval)\n",
    "## third argument (scale) = scale/spread\n",
    "confidence_95 = stats.norm.interval(0.95, loc=mean, scale=stdv)"
   ]
  },
  {
   "cell_type": "code",
   "execution_count": 11,
   "metadata": {},
   "outputs": [
    {
     "data": {
      "text/plain": [
       "(4.968920251996559, 8.877233594157287)"
      ]
     },
     "execution_count": 11,
     "metadata": {},
     "output_type": "execute_result"
    }
   ],
   "source": [
    "# The confidence interval - the left side is the bottom/lowest estimate and the right is the top/highest estimate \n",
    "confidence_95"
   ]
  },
  {
   "cell_type": "code",
   "execution_count": 13,
   "metadata": {},
   "outputs": [
    {
     "data": {
      "text/plain": [
       "6.923076923076923"
      ]
     },
     "execution_count": 13,
     "metadata": {},
     "output_type": "execute_result"
    }
   ],
   "source": [
    "# The average amount of sleep a DSI student in the DC campus gets\n",
    "mean"
   ]
  },
  {
   "cell_type": "code",
   "execution_count": 14,
   "metadata": {},
   "outputs": [
    {
     "name": "stdout",
     "output_type": "stream",
     "text": [
      "I am 95% confident that a DSI student sleeps between 4.97 hours and 8.88 hours a night, on average.\n"
     ]
    }
   ],
   "source": [
    "print(f\"I am 95% confident that a DSI student sleeps between {round(confidence_95[0], 2)} hours \\\n",
    "and {round(confidence_95[1], 2)} hours a night, on average.\")"
   ]
  },
  {
   "cell_type": "code",
   "execution_count": 15,
   "metadata": {},
   "outputs": [],
   "source": [
    "# A confidence interval with 99% confidence\n",
    "confidence_99 = stats.norm.interval(0.99, loc=mean, scale=stdv)"
   ]
  },
  {
   "cell_type": "code",
   "execution_count": 16,
   "metadata": {
    "scrolled": true
   },
   "outputs": [
    {
     "data": {
      "text/plain": [
       "(4.354879723129088, 9.491274123024759)"
      ]
     },
     "execution_count": 16,
     "metadata": {},
     "output_type": "execute_result"
    }
   ],
   "source": [
    "confidence_99"
   ]
  },
  {
   "cell_type": "code",
   "execution_count": 17,
   "metadata": {},
   "outputs": [
    {
     "name": "stdout",
     "output_type": "stream",
     "text": [
      "I am 99% confident that a DSI student sleeps between 4.35 hours and 9.49 hours a night, on average.\n"
     ]
    }
   ],
   "source": [
    "# interpretation \n",
    "print(f\"I am 99% confident that a DSI student sleeps between {round(confidence_99[0], 2)} hours \\\n",
    "and {round(confidence_99[1], 2)} hours a night, on average.\")"
   ]
  },
  {
   "cell_type": "code",
   "execution_count": 19,
   "metadata": {},
   "outputs": [
    {
     "name": "stdout",
     "output_type": "stream",
     "text": [
      "I am 90% confident that a DSI student sleeps between 5.28 hours and 8.56 hours a night, on average.\n"
     ]
    }
   ],
   "source": [
    "# A confidence interval with 90% confidence\n",
    "confidence_90 = stats.norm.interval(0.90, loc=mean, scale=stdv)\n",
    "print(f\"I am 90% confident that a DSI student sleeps between {round(confidence_90[0], 2)} hours \\\n",
    "and {round(confidence_90[1], 2)} hours a night, on average.\")"
   ]
  },
  {
   "cell_type": "markdown",
   "metadata": {},
   "source": [
    "**Interpretation (loaned [ok, stolen] directly from the lecture):**\n",
    "\n",
    "Generally, we would say:\n",
    "\n",
    "- \"I am {confidence level}% confident\n",
    "- that the true population {parameter}\n",
    "- is between {lower confidence bound} and {upper confidence bound}.\""
   ]
  }
 ],
 "metadata": {
  "kernelspec": {
   "display_name": "Python 3",
   "language": "python",
   "name": "python3"
  },
  "language_info": {
   "codemirror_mode": {
    "name": "ipython",
    "version": 3
   },
   "file_extension": ".py",
   "mimetype": "text/x-python",
   "name": "python",
   "nbconvert_exporter": "python",
   "pygments_lexer": "ipython3",
   "version": "3.7.5"
  }
 },
 "nbformat": 4,
 "nbformat_minor": 2
}
