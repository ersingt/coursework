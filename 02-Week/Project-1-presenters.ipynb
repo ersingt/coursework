{
 "cells": [
  {
   "cell_type": "markdown",
   "metadata": {},
   "source": [
    "# Project 1 Order of Presentations"
   ]
  },
  {
   "cell_type": "code",
   "execution_count": null,
   "metadata": {},
   "outputs": [],
   "source": [
    "import numpy as np\n",
    "import pandas as pd"
   ]
  },
  {
   "cell_type": "code",
   "execution_count": null,
   "metadata": {},
   "outputs": [],
   "source": [
    "students =[\n",
    "     'Dylan',\n",
    "     'Michael Blow',\n",
    "     'Michael Daugherty',\n",
    "     'Jacob',\n",
    "     'Ze\\'ev',\n",
    "     'Neil',\n",
    "     'Song',\n",
    "     'Miguel',\n",
    "     'Michael Uno',\n",
    "     'Benjamin',\n",
    "     'Ana',\n",
    "     'Kelly',\n",
    "     'Beth',\n",
    "     'Maninder'\n",
    "]\n"
   ]
  },
  {
   "cell_type": "code",
   "execution_count": null,
   "metadata": {},
   "outputs": [],
   "source": [
    "np.random.seed() # Set the random seed\n",
    "presenters = np.random.choice(students, size=len(students), replace=False) # radnomly chosen array, no replacement\n",
    "presenters # numpy array of presenters "
   ]
  },
  {
   "cell_type": "code",
   "execution_count": null,
   "metadata": {},
   "outputs": [],
   "source": [
    "# Data frame with the order of presenters. \n",
    "present_df = pd.DataFrame(presenters, columns=['Presenter']) \n",
    "present_df.index += 1 # Add 1 to the index (so we start with 1)\n",
    "present_df"
   ]
  },
  {
   "cell_type": "code",
   "execution_count": null,
   "metadata": {},
   "outputs": [],
   "source": []
  }
 ],
 "metadata": {
  "kernelspec": {
   "display_name": "Python 3",
   "language": "python",
   "name": "python3"
  },
  "language_info": {
   "codemirror_mode": {
    "name": "ipython",
    "version": 3
   },
   "file_extension": ".py",
   "mimetype": "text/x-python",
   "name": "python",
   "nbconvert_exporter": "python",
   "pygments_lexer": "ipython3",
   "version": "3.7.5"
  }
 },
 "nbformat": 4,
 "nbformat_minor": 2
}
