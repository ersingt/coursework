{
 "cells": [
  {
   "cell_type": "markdown",
   "metadata": {
    "slideshow": {
     "slide_type": "slide"
    }
   },
   "source": [
    "<img src=\"http://imgur.com/1ZcRyrc.png\" style=\"float: left; margin: 20px; height: 55px\">\n",
    "\n",
    "## Data Visualization With Python\n",
    "\n",
    "_Authors: Dave Yerrington (San Francisco), Jeff Hale (DC) _\n",
    "\n",
    "---\n",
    "\n",
    "### Learning Objectives\n",
    "*After this lesson, you will be able to:*\n",
    "- **Describe** why data visualization is important.\n",
    "- **Represent** colors with different color representation formats.\n",
    "- **Identify** the characteristics of a great data visualization.\n",
    "- **Describe** when you would use a bar chart, pie chart, scatter plot, and histogram.\n"
   ]
  },
  {
   "cell_type": "markdown",
   "metadata": {
    "slideshow": {
     "slide_type": "slide"
    }
   },
   "source": [
    "### Lesson Guide\n",
    "\n",
    "- [Why Use Data Visualization?](#why_data_viz)\n",
    "- [Anscombe's Quartet](#anscombe)\n",
    "- [Color Formats](#formats)\n",
    "- [Attributes of Good Visualization](#viz_attr)\n",
    "- [Color Scale Types](#scales)\n",
    "- [Designing for Accessibility](#accessibility)\n",
    "- [Choosing the Right Chart](#chart_choice)\n",
    "- [Visualization Library Options](#visualization_libraries)\n",
    "- [Conclusion](#conclusion)\n"
   ]
  },
  {
   "cell_type": "markdown",
   "metadata": {
    "slideshow": {
     "slide_type": "slide"
    }
   },
   "source": [
    "<a id='why_data_viz'></a>\n",
    "\n",
    "### Discussion: Why Use Data Visualization?\n",
    "\n",
    "---\n",
    "\n",
    "Why do you think data visualization is useful? \n",
    "\n",
    "Why is it important?"
   ]
  },
  {
   "cell_type": "markdown",
   "metadata": {
    "slideshow": {
     "slide_type": "slide"
    }
   },
   "source": [
    "### Why Use Data Visualization?\n",
    "\n",
    "---\n",
    "If you have more than a few numbers, charts are easier to quickly understand than spreadsheets or written reports. \n",
    "\n",
    "People love visualizations. \n",
    "\n",
    "**Your job is to learn to make them so you can uncover insights in the data and communicate information effectively.**"
   ]
  },
  {
   "cell_type": "code",
   "execution_count": 1,
   "metadata": {
    "slideshow": {
     "slide_type": "slide"
    }
   },
   "outputs": [
    {
     "data": {
      "text/html": [
       "<div>\n",
       "<style>\n",
       "    .dataframe thead tr:only-child th {\n",
       "        text-align: right;\n",
       "    }\n",
       "\n",
       "    .dataframe thead th {\n",
       "        text-align: left;\n",
       "    }\n",
       "\n",
       "    .dataframe tbody tr th {\n",
       "        vertical-align: top;\n",
       "    }\n",
       "</style>\n",
       "<table border=\"1\" class=\"dataframe\">\n",
       "  <thead>\n",
       "    <tr style=\"text-align: right;\">\n",
       "      <th></th>\n",
       "      <th>volume_sold</th>\n",
       "      <th>2015_margin</th>\n",
       "      <th>2015_q1_sales</th>\n",
       "      <th>2016_q1_sales</th>\n",
       "    </tr>\n",
       "  </thead>\n",
       "  <tbody>\n",
       "    <tr>\n",
       "      <th>0</th>\n",
       "      <td>18.420760</td>\n",
       "      <td>93.802281</td>\n",
       "      <td>337166.53</td>\n",
       "      <td>337804.05</td>\n",
       "    </tr>\n",
       "    <tr>\n",
       "      <th>1</th>\n",
       "      <td>4.776510</td>\n",
       "      <td>21.082425</td>\n",
       "      <td>22351.86</td>\n",
       "      <td>21736.63</td>\n",
       "    </tr>\n",
       "    <tr>\n",
       "      <th>2</th>\n",
       "      <td>16.602401</td>\n",
       "      <td>93.612494</td>\n",
       "      <td>277764.46</td>\n",
       "      <td>306942.27</td>\n",
       "    </tr>\n",
       "    <tr>\n",
       "      <th>3</th>\n",
       "      <td>4.296111</td>\n",
       "      <td>16.824704</td>\n",
       "      <td>16805.11</td>\n",
       "      <td>9307.75</td>\n",
       "    </tr>\n",
       "    <tr>\n",
       "      <th>4</th>\n",
       "      <td>8.156023</td>\n",
       "      <td>35.011457</td>\n",
       "      <td>54411.42</td>\n",
       "      <td>58939.90</td>\n",
       "    </tr>\n",
       "  </tbody>\n",
       "</table>\n",
       "</div>"
      ],
      "text/plain": [
       "   volume_sold  2015_margin  2015_q1_sales  2016_q1_sales\n",
       "0    18.420760    93.802281      337166.53      337804.05\n",
       "1     4.776510    21.082425       22351.86       21736.63\n",
       "2    16.602401    93.612494      277764.46      306942.27\n",
       "3     4.296111    16.824704       16805.11        9307.75\n",
       "4     8.156023    35.011457       54411.42       58939.90"
      ]
     },
     "execution_count": 1,
     "metadata": {},
     "output_type": "execute_result"
    }
   ],
   "source": [
    "# Check out my awesome text-based data viz below.\n",
    "import pandas as pd\n",
    "\n",
    "df = pd.read_csv(\"./datasets/sales_info.csv\")\n",
    "df.head()"
   ]
  },
  {
   "cell_type": "markdown",
   "metadata": {
    "slideshow": {
     "slide_type": "fragment"
    }
   },
   "source": [
    "## Can median, mean, and mode mislead us? "
   ]
  },
  {
   "cell_type": "markdown",
   "metadata": {
    "slideshow": {
     "slide_type": "slide"
    }
   },
   "source": [
    "<a id='anscombe'></a>\n",
    "\n",
    "### Anscombe's Quartet\n",
    "\n",
    "---\n",
    "\n",
    "Below are the summary statistics for four plots. What do you think the visualization for each plot would look like? \n",
    "\n",
    "![summary statistics for four different plots](./assets/images/anscombs%20quartet.png)"
   ]
  },
  {
   "cell_type": "markdown",
   "metadata": {
    "slideshow": {
     "slide_type": "slide"
    }
   },
   "source": [
    "You can probably already guess what the answer is: Although the four plots have the same summary statistics, \n",
    "they are actually completely different. This can be seen when we visualize them together. \n",
    "\n",
    "![anscomb's quartet](./assets/images/anscombs%20quartert%20visualization.png)"
   ]
  },
  {
   "cell_type": "markdown",
   "metadata": {
    "slideshow": {
     "slide_type": "slide"
    }
   },
   "source": [
    "### What do you see?\n",
    "\n",
    "These descriptive statistics come from a data set constructed in 1973 by the statistician Francis Anscombe. \n",
    "\n",
    "- Anscombe's intention was to attack the impression among statisticians that \"numerical calculations are exact, but graphs are rough.\""
   ]
  },
  {
   "cell_type": "markdown",
   "metadata": {},
   "source": [
    "<a id='formats'></a>\n",
    "# Color Formats\n",
    "\n",
    "Color can be represented in several formats\n",
    "\n",
    "See with ColorZilla color picker in Chrome. \n",
    "\n",
    "### 1. Hexidecimal \n",
    "\n",
    "  - #ffffff is  white\n",
    "  - #000000 is black\n",
    "  \n",
    "### 2. hsl - hue, saturation, lightness, alpha \n",
    "\n",
    "  - (50%, 50%, 50%) is gross green\n",
    "  \n",
    "### 3. rgb - red, green, blue \n",
    "\n",
    "  - (255, 255, 255) is white\n",
    "  - (0, 0, 0) is black\n",
    "  \n",
    "a = alpha channel  - how opaque "
   ]
  },
  {
   "cell_type": "markdown",
   "metadata": {
    "slideshow": {
     "slide_type": "slide"
    }
   },
   "source": [
    "<a id='viz_attr'></a>\n",
    "\n",
    "# Attributes of Good Visualization\n",
    "\n",
    "\n",
    "### Less is more. Erase everything you don’t need.\n",
    "\n",
    "## “Above all else show the data” (p. 92). \n",
    "\n",
    "-Tufte in [Visual Display of Quantitative Information](https://www.amazon.com/Visual-Display-Quantitative-Information/dp/1930824130)"
   ]
  },
  {
   "cell_type": "markdown",
   "metadata": {
    "slideshow": {
     "slide_type": "slide"
    }
   },
   "source": [
    "## “Graphical excellence consists of complex ideas communicated with clarity, precision, and efficiency.” (p. 51)\n",
    "\n",
    "-Tufte in [Visual Display of Quantitative Information](https://www.amazon.com/Visual-Display-Quantitative-Information/dp/1930824130)\n",
    "\n",
    "---\n",
    "\n",
    "![](./assets/images/data%20attributes.png)\n",
    "\n",
    "-Jeffrey Shaffer, data visualization at University of Cincinnati."
   ]
  },
  {
   "cell_type": "markdown",
   "metadata": {
    "slideshow": {
     "slide_type": "slide"
    }
   },
   "source": [
    "### Preattentive attributes of visual perception\n",
    "\n",
    "These attributes determine what draws our eyes when we look at something new.\n",
    "\n",
    "Some attributes have more affect on our brain than others. \n"
   ]
  },
  {
   "cell_type": "markdown",
   "metadata": {
    "slideshow": {
     "slide_type": "slide"
    }
   },
   "source": [
    "Look at these three visualizations. \n",
    "\n",
    "Which one catches your attention most? Why?\n",
    "\n",
    "![](./assets/images/mixed%20shapes.png)\n",
    "\n",
    "![](./assets/images/squares%20and%20circles.png)\n",
    "\n",
    "![](./assets/images/color.png)\n"
   ]
  },
  {
   "cell_type": "markdown",
   "metadata": {},
   "source": [
    "The ones we tend to focus on most are position, then color, then size.\n",
    "\n",
    "[Reference](http://mediashift.org/2016/02/checklist-does-your-data-visualization-say-what-you-think-it-says/)"
   ]
  },
  {
   "cell_type": "markdown",
   "metadata": {
    "slideshow": {
     "slide_type": "slide"
    }
   },
   "source": [
    "<a id='scales'></a>\n",
    "## Three types of color scales"
   ]
  },
  {
   "cell_type": "markdown",
   "metadata": {
    "slideshow": {
     "slide_type": "slide"
    }
   },
   "source": [
    "Sequential, divergent, and categorical. \n",
    "\n",
    "**Sequential** color scales are used to show values ordered from low to high.\n",
    "\n",
    "![sequential](./assets/images/sequential.png)"
   ]
  },
  {
   "cell_type": "markdown",
   "metadata": {
    "slideshow": {
     "slide_type": "slide"
    }
   },
   "source": [
    "**Divergent** color scales are used to show ordered values that have a critical midpoint, like an average or zero.\n",
    "\n",
    "![](./assets/images/diverging_scales.png)\n",
    "\n",
    "[Divergent Color Scales from Plotly](https://plot.ly/python/v3/ipython-notebooks/color-scales/)"
   ]
  },
  {
   "cell_type": "markdown",
   "metadata": {
    "slideshow": {
     "slide_type": "slide"
    }
   },
   "source": [
    "**Categorical** color scales are used to distinguish data that falls into distinct groups.\n",
    "\n",
    "![categorical](./assets/images/categorical.png)\n",
    "\n",
    "[Images via MediaShift](http://mediashift.org/2016/02/checklist-does-your-data-visualization-say-what-you-think-it-says/)"
   ]
  },
  {
   "cell_type": "markdown",
   "metadata": {},
   "source": [
    "<a id='accessibility'></a>\n",
    "## Designing for Accessibility\n",
    "\n",
    "Color Blindness/ Color Vision Deficiency (CVD) can take many forms. Red-green is 99%. \n",
    "\n",
    "\"Red–green color blindness is the most common form, followed by blue–yellow color blindness and total color blindness. Red–green color blindness affects up to 8% of males and 0.5% of females of Northern European descent.\" - [Wikipedia](https://en.wikipedia.org/wiki/Color_blindness)\n",
    "\n",
    "I suggest you design for it.\n",
    "\n",
    "### A color blind-friendly palette keeps green objects away from red objects.\n",
    "\n",
    "Here's one:"
   ]
  },
  {
   "cell_type": "code",
   "execution_count": 1,
   "metadata": {},
   "outputs": [],
   "source": [
    "color_list = [\"#E69F00\", \"#56B4E9\", \"#009E73\", \"#F0E442\", \"#D55E00\", \"#0072B2\",  \"#CC79A7\"]"
   ]
  },
  {
   "cell_type": "markdown",
   "metadata": {
    "slideshow": {
     "slide_type": "slide"
    }
   },
   "source": [
    "<a id='chart_choice'></a>\n",
    "\n",
    "## Choosing the Right Chart\n",
    "\n",
    "---\n",
    "\n",
    "Let's look at a few commonly used chart types.\n",
    "\n",
    "\n",
    "- histogram\n",
    "- bar \n",
    "- line\n",
    "- scatter\n",
    "- box plot"
   ]
  },
  {
   "cell_type": "markdown",
   "metadata": {
    "slideshow": {
     "slide_type": "slide"
    }
   },
   "source": [
    "### Bar Charts\n",
    "\n",
    "Good for a variable with categories with different levels or counts.\n",
    "\n",
    "![](./assets/images/bar%20chart.png)"
   ]
  },
  {
   "cell_type": "markdown",
   "metadata": {},
   "source": [
    "### Line \n",
    "\n",
    "Shows trends in variables over time."
   ]
  },
  {
   "cell_type": "code",
   "execution_count": 6,
   "metadata": {},
   "outputs": [
    {
     "data": {
      "image/png": "[encoded data removed]",
      "text/plain": [
       "<Figure size 432x288 with 1 Axes>"
      ]
     },
     "metadata": {
      "needs_background": "light"
     },
     "output_type": "display_data"
    }
   ],
   "source": [
    "df = pd.DataFrame(dict(a=[1,3,5,2], b=[4,6,2,1]))\n",
    "df.plot();"
   ]
  },
  {
   "cell_type": "markdown",
   "metadata": {
    "slideshow": {
     "slide_type": "slide"
    }
   },
   "source": [
    "### Boxplots\n",
    "\n",
    "Good for summary statistics for a variable. \n",
    "\n",
    "Focuses on outliers.\n",
    "\n",
    "<img src=\"./assets/images/boxplot.png\" alt=\"drawing\" style=\"width: 600px;\"/>"
   ]
  },
  {
   "cell_type": "markdown",
   "metadata": {
    "slideshow": {
     "slide_type": "slide"
    }
   },
   "source": [
    "### Scatter Plots\n",
    "\n",
    "Show the raw distribution for two values. They provide a sense of trends, concentrations, and outliers. Very powerful. \n",
    "\n",
    "![](./assets/images/scatter%20plot.png)\n",
    "[Scatter plot via Wikibooks](https://en.wikibooks.org/wiki/Statistics/Displaying_Data/Scatter_Graphs)"
   ]
  },
  {
   "cell_type": "markdown",
   "metadata": {
    "slideshow": {
     "slide_type": "slide"
    }
   },
   "source": [
    "### How to add a third variable\n",
    "\n",
    "Want to visualize the relationship among three variables? No problemo! \n",
    "\n",
    "Add another parameter, like point size or color/hue.\n",
    "\n",
    "#### Data shows two distinct groups\n",
    "![](./assets/images/scatter_no_color.png)\n",
    "\n",
    "\n",
    "#### Add some color and now there are three!\n",
    "![](./assets/images/scatter_color.png)"
   ]
  },
  {
   "cell_type": "markdown",
   "metadata": {
    "slideshow": {
     "slide_type": "slide"
    }
   },
   "source": [
    "### Histograms \n",
    "\n",
    "Count data for one variable. Grouped into bins.\n",
    "\n",
    "Histograms are useful when you want to see how your data are distributed across groups. \n",
    "\n",
    "![](./assets/images/histogram%20chart.png)\n",
    "\n"
   ]
  },
  {
   "cell_type": "markdown",
   "metadata": {},
   "source": [
    "### Pie Charts and 3 D Charts\n",
    "\n",
    "Generally avoid both of these types. Often misused. Make sure your visualization is very easy to understand and doesn't mislead!"
   ]
  },
  {
   "cell_type": "markdown",
   "metadata": {
    "slideshow": {
     "slide_type": "slide"
    }
   },
   "source": [
    "<a id='visualization_libraries'></a>\n",
    "\n",
    "## Visualization Programming Libraries\n",
    "\n",
    "In this lesson, we will use the Python libraries [Matplotlib] (Python plotting) and [Seaborn](https://seaborn.pydata.org/) (statistical data visualization).\n",
    "\n",
    "Popular Python visualization libraries include:\n",
    "\n",
    "- **[Bokeh](http://bokeh.pydata.org/en/latest/):** Python visualization library that targets the web browser. Makes interactive plots, dashboards, data apps. **Holloviews** is a wrapper for Bokeh that you'll use in a bit.\n",
    "\n",
    "- **[Altair](https://altair-viz.github.io/):** a declarative statistical visualization library for Python, based on Vega and Vega-Lite.\n",
    "\n",
    "One of the most popular libraries for interactive visualizations in the web browser is D3. Because web browsers only natively run JavaScript, D3 requires knowledge of JavaScript:\n",
    "\n",
    "- **[D3.js](https://d3js.org/):** JavaScript library for interactive web visualizations [D3.js](https://d3js.org/) | [Examples](https://github.com/mbostock/d3/wiki/Gallery)\n",
    "\n",
    "- **[Plotly](https://plot.ly/python/getting-started/):** Popular library for interactive plotting and making dashboards. Can create apps or use in Jupyter. Uses D3.js under the hood. Configuration takes a few steps. \n"
   ]
  },
  {
   "cell_type": "markdown",
   "metadata": {
    "slideshow": {
     "slide_type": "slide"
    }
   },
   "source": [
    "## Other Visualization Tools\n",
    "\n",
    "A variety of non-programming tools are also used in industry. Some are faster. For example:\n",
    "\n",
    "- **Excel:** For quick data cleaning and simple graphs\n",
    "- **Power BI:** A suite of business analytics tools\n",
    "- **Tableau:** Business intelligence and analytics software\n",
    "\n",
    "Not all are great for repeated analysis or as customizable or free!"
   ]
  },
  {
   "cell_type": "markdown",
   "metadata": {
    "slideshow": {
     "slide_type": "slide"
    }
   },
   "source": [
    "<a id='conclusion'></a>\n",
    "---\n",
    "\n",
    "> Check for understanding\n",
    "\n",
    "\n",
    "- Why are data visualization skills important? \n",
    "\n",
    "- What are some considerations to keep in mind when creating a visualization? \n",
    "\n",
    "- Describe when you would use the following types of charts:\n",
    "    - Bar chart\n",
    "    - Scatter plot\n",
    "    - Histogram \n",
    "    - Box plot\n",
    "    - Line chart"
   ]
  },
  {
   "cell_type": "markdown",
   "metadata": {},
   "source": [
    "### Summary\n",
    "\n",
    "You've learned the basics of data visualization. Let's see how to make put what you've learned into action!"
   ]
  },
  {
   "cell_type": "code",
   "execution_count": null,
   "metadata": {},
   "outputs": [],
   "source": []
  }
 ],
 "metadata": {
  "anaconda-cloud": {},
  "celltoolbar": "Slideshow",
  "kernelspec": {
   "display_name": "Python 3",
   "language": "python",
   "name": "python3"
  },
  "language_info": {
   "codemirror_mode": {
    "name": "ipython",
    "version": 3
   },
   "file_extension": ".py",
   "mimetype": "text/x-python",
   "name": "python",
   "nbconvert_exporter": "python",
   "pygments_lexer": "ipython3",
   "version": "3.7.6"
  }
 },
 "nbformat": 4,
 "nbformat_minor": 4
}
