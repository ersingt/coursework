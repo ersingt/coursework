{
 "cells": [
  {
   "cell_type": "markdown",
   "metadata": {},
   "source": [
    "# Inferential Statistics\n",
    "\n",
    "**Author**: _Adi Bronshtein (DC)_ with additions from _Wessley Bosse (LA)_ and _Jeff Hale (DC)_\n",
    "\n",
    "---"
   ]
  },
  {
   "cell_type": "markdown",
   "metadata": {},
   "source": [
    "## Confidence Interval Review"
   ]
  },
  {
   "cell_type": "markdown",
   "metadata": {},
   "source": [
    "Let's say we wanted to know how many hours of sleep DSI students get, on average. It's not really a viable option to ask every single DSI student in all of the campuses (especially if we're checking across cohorts!) \n",
    "\n",
    "So instead, we'll collect a sample of hours of sleep of students in the DC campus, and use that to build a confidence interval - a range of values of average hours of a sleep. The level of confidence we have in our estimates/predictions will change the range of values. \n",
    "\n",
    "Let's check it out:"
   ]
  },
  {
   "cell_type": "markdown",
   "metadata": {},
   "source": [
    "#### List of average hours of sleep each student gets a night"
   ]
  },
  {
   "cell_type": "code",
   "execution_count": 2,
   "metadata": {},
   "outputs": [],
   "source": [
    "sleep = []"
   ]
  },
  {
   "cell_type": "markdown",
   "metadata": {},
   "source": [
    "#### import the necessary libraries "
   ]
  },
  {
   "cell_type": "code",
   "execution_count": 3,
   "metadata": {},
   "outputs": [],
   "source": [
    "import numpy as np\n",
    "import math \n",
    "from scipy import stats"
   ]
  },
  {
   "cell_type": "markdown",
   "metadata": {},
   "source": [
    "#### Get the sample's mean and standard deviation (sigma)"
   ]
  },
  {
   "cell_type": "code",
   "execution_count": 4,
   "metadata": {},
   "outputs": [],
   "source": [
    "mean = np.mean(sleep)\n",
    "stdv = np.std(sleep)"
   ]
  },
  {
   "cell_type": "code",
   "execution_count": 5,
   "metadata": {},
   "outputs": [
    {
     "name": "stdout",
     "output_type": "stream",
     "text": [
      "6.923076923076923\n",
      "0.9970370305242862\n"
     ]
    }
   ],
   "source": [
    "print(mean)\n",
    "print(stdv)"
   ]
  },
  {
   "cell_type": "markdown",
   "metadata": {},
   "source": [
    "\n",
    "\n",
    "### Sample"
   ]
  },
  {
   "cell_type": "markdown",
   "metadata": {},
   "source": [
    "The formula for the sample **mean**: $\\bar{x} = \\frac{1}{n} \\sum_{i=1}^{n}x_{i}$\n"
   ]
  },
  {
   "cell_type": "markdown",
   "metadata": {},
   "source": [
    "The formula for the sample **standard deviation** : $s = \\sqrt{\\frac {\\sum{(x_i - \\bar{X})^2}} {n-1}}$\n",
    "\n",
    "\n",
    "- $x_i$ = each value from the sample\n",
    "- $\\bar{X}$ = the sample mean\n",
    "- $n$ = the size of the sample\n",
    "\n",
    "\n",
    "### Population\n",
    "\n",
    "\n",
    "$\\mu$ (mu) is the **population mean** $\\mu = \\frac{1}{N} \\sum_{i=1}^{N}x_{i}$\n",
    "\n",
    "\n",
    "$\\sigma$ (sigma) is the **population standard deviation**  $sigma = \\sqrt{\\frac {\\sum{(x_i - \\mu)^2}} {N}}$\n",
    "\n",
    "- $x_i$ = each value from the population\n",
    "- $\\mu$ = the population mean\n",
    "- $N$ = the size of the population\n",
    "\n",
    "\n",
    "**REMEMBER**: Greek letters are for the population! ☝️\n"
   ]
  },
  {
   "cell_type": "markdown",
   "metadata": {},
   "source": [
    "## Calculate the Confidence Interval Manually"
   ]
  },
  {
   "cell_type": "markdown",
   "metadata": {},
   "source": [
    "### 68-95-99.7 rule \n",
    "\n",
    "- 68% confidence interval can be approximated by adding and subtracting 1 standard deviation from the mean.\n",
    "- 95% confidence interval is ~2 standard deviation away from the mean.\n",
    "- 99.7% confidence interval is ~3 standard deviation away from the mean.\n",
    "![](https://miro.medium.com/max/24000/1*IZ2II2HYKeoMrdLU5jW6Dw.png)"
   ]
  },
  {
   "cell_type": "markdown",
   "metadata": {},
   "source": [
    "#### What is the value we will need to add/subtract to find the 95% confidence interval?  (using the approximation)"
   ]
  },
  {
   "cell_type": "code",
   "execution_count": 6,
   "metadata": {},
   "outputs": [],
   "source": [
    "diff = stdv * 2"
   ]
  },
  {
   "cell_type": "code",
   "execution_count": 7,
   "metadata": {},
   "outputs": [
    {
     "data": {
      "text/plain": [
       "1.9940740610485723"
      ]
     },
     "execution_count": 7,
     "metadata": {},
     "output_type": "execute_result"
    }
   ],
   "source": [
    "diff"
   ]
  },
  {
   "cell_type": "markdown",
   "metadata": {},
   "source": [
    "#### generate the 95.45% confidence interval"
   ]
  },
  {
   "cell_type": "code",
   "execution_count": 8,
   "metadata": {},
   "outputs": [
    {
     "data": {
      "text/plain": [
       "(4.9290028620283515, 8.917150984125495)"
      ]
     },
     "execution_count": 8,
     "metadata": {},
     "output_type": "execute_result"
    }
   ],
   "source": [
    "lower_boundry = mean - diff\n",
    "upper_boundry = mean + diff\n",
    "(lower_boundry, upper_boundry)"
   ]
  },
  {
   "cell_type": "markdown",
   "metadata": {},
   "source": [
    "#### repeat the process for 99.7% confidence"
   ]
  },
  {
   "cell_type": "code",
   "execution_count": 9,
   "metadata": {},
   "outputs": [
    {
     "data": {
      "text/plain": [
       "(3.9319658315040646, 9.914188014649781)"
      ]
     },
     "execution_count": 9,
     "metadata": {},
     "output_type": "execute_result"
    }
   ],
   "source": [
    "diff_99 = stdv * 3\n",
    "lower_99 = mean - diff_99\n",
    "upper_99 = mean + diff_99\n",
    "\n",
    "lower_99, upper_99"
   ]
  },
  {
   "cell_type": "markdown",
   "metadata": {},
   "source": [
    "### Interpretation (loaned [ok, stolen] directly from the lecture):\n",
    "\n",
    "Generally, we would say:\n",
    "\n",
    "- \"I am {confidence level}% confident\n",
    "- that the true population {parameter}\n",
    "- is between {lower confidence bound} and {upper confidence bound}.\""
   ]
  },
  {
   "cell_type": "markdown",
   "metadata": {},
   "source": [
    "#### 99.7% of the time the true population mean should be within these values."
   ]
  },
  {
   "cell_type": "markdown",
   "metadata": {},
   "source": [
    "## Confidence Interval with the Stats Module (from SciPy)"
   ]
  },
  {
   "cell_type": "markdown",
   "metadata": {},
   "source": [
    "#### Create a confidence interval with 95% confidence \n",
    "\n",
    "- first argument = level of confidence\n",
    "- second argument (loc) = location (where do we center the confidence interval)\n",
    "- third argument (scale) = scale/spread"
   ]
  },
  {
   "cell_type": "code",
   "execution_count": 12,
   "metadata": {},
   "outputs": [],
   "source": [
    "confidence_95 = stats.norm.interval(0.95, loc=mean, scale=stdv)"
   ]
  },
  {
   "cell_type": "markdown",
   "metadata": {},
   "source": [
    "The confidence interval - the left side is the bottom estimate and the right is the top estimate."
   ]
  },
  {
   "cell_type": "code",
   "execution_count": 13,
   "metadata": {},
   "outputs": [
    {
     "data": {
      "text/plain": [
       "(4.968920251996559, 8.877233594157287)"
      ]
     },
     "execution_count": 13,
     "metadata": {},
     "output_type": "execute_result"
    }
   ],
   "source": [
    "confidence_95"
   ]
  },
  {
   "cell_type": "markdown",
   "metadata": {},
   "source": [
    "#### What type of Python object is confidence_95?"
   ]
  },
  {
   "cell_type": "code",
   "execution_count": 14,
   "metadata": {},
   "outputs": [
    {
     "data": {
      "text/plain": [
       "tuple"
      ]
     },
     "execution_count": 14,
     "metadata": {},
     "output_type": "execute_result"
    }
   ],
   "source": [
    "type(confidence_95)"
   ]
  },
  {
   "cell_type": "code",
   "execution_count": 15,
   "metadata": {},
   "outputs": [
    {
     "data": {
      "text/plain": [
       "'I am 95% confident that a DSI student sleeps between 4.97 hours and 8.88 hours a night, on average.'"
      ]
     },
     "execution_count": 15,
     "metadata": {},
     "output_type": "execute_result"
    }
   ],
   "source": [
    "f\"I am 95% confident that a DSI student sleeps between {round(confidence_95[0], 2)} hours \\\n",
    "and {round(confidence_95[1], 2)} hours a night, on average.\""
   ]
  },
  {
   "cell_type": "markdown",
   "metadata": {},
   "source": [
    "#### Use `stats` package to create a confidence interval with 99% confidence"
   ]
  },
  {
   "cell_type": "code",
   "execution_count": 15,
   "metadata": {},
   "outputs": [],
   "source": [
    "confidence_99 = stats.norm.interval(0.99, loc=mean, scale=stdv)"
   ]
  },
  {
   "cell_type": "code",
   "execution_count": 16,
   "metadata": {
    "scrolled": true
   },
   "outputs": [
    {
     "data": {
      "text/plain": [
       "(4.354879723129088, 9.491274123024759)"
      ]
     },
     "execution_count": 16,
     "metadata": {},
     "output_type": "execute_result"
    }
   ],
   "source": [
    "confidence_99"
   ]
  },
  {
   "cell_type": "markdown",
   "metadata": {},
   "source": [
    "#### Interpretation "
   ]
  },
  {
   "cell_type": "code",
   "execution_count": 17,
   "metadata": {},
   "outputs": [
    {
     "name": "stdout",
     "output_type": "stream",
     "text": [
      "I am 99% confident that a DSI student sleeps between 4.35 hours and 9.49 hours a night, on average.\n"
     ]
    }
   ],
   "source": [
    "f\"I am 99% confident that a DSI student sleeps between {round(confidence_99[0], 2)} hours \\\n",
    "and {round(confidence_99[1], 2)} hours a night, on average.\""
   ]
  },
  {
   "cell_type": "markdown",
   "metadata": {},
   "source": [
    "#### A confidence interval with 90% confidence"
   ]
  },
  {
   "cell_type": "code",
   "execution_count": 19,
   "metadata": {},
   "outputs": [
    {
     "name": "stdout",
     "output_type": "stream",
     "text": [
      "I am 90% confident that a DSI student sleeps between 5.28 hours and 8.56 hours a night, on average.\n"
     ]
    }
   ],
   "source": [
    "confidence_90 = stats.norm.interval(0.90, loc=mean, scale=stdv)\n",
    "print(f\"I am 90% confident that a DSI student sleeps between {round(confidence_90[0], 2)} hours \\\n",
    "and {round(confidence_90[1], 2)} hours a night, on average.\")"
   ]
  },
  {
   "cell_type": "code",
   "execution_count": null,
   "metadata": {},
   "outputs": [],
   "source": []
  }
 ],
 "metadata": {
  "kernelspec": {
   "display_name": "Python 3",
   "language": "python",
   "name": "python3"
  },
  "language_info": {
   "codemirror_mode": {
    "name": "ipython",
    "version": 3
   },
   "file_extension": ".py",
   "mimetype": "text/x-python",
   "name": "python",
   "nbconvert_exporter": "python",
   "pygments_lexer": "ipython3",
   "version": "3.7.6"
  }
 },
 "nbformat": 4,
 "nbformat_minor": 4
}
