{
 "cells": [
  {
   "cell_type": "markdown",
   "metadata": {},
   "source": [
    "# LSTM Recurrent Neural Network\n",
    "**Author**: Adi Bronshtein, DC"
   ]
  },
  {
   "cell_type": "markdown",
   "metadata": {},
   "source": [
    "**Background:** we're going to use a _Recurrent Neural Network_ for text classification. The key feature of RNNs is that the data loop back in the network. This gives RNNs a type of \"memory\" it can use to better understand sequential data. A popular choice type of RNN is the _Long Short-Term Memory_ (LSTM) network which allows for information to loop backwards in the network."
   ]
  },
  {
   "cell_type": "code",
   "execution_count": 1,
   "metadata": {},
   "outputs": [
    {
     "name": "stderr",
     "output_type": "stream",
     "text": [
      "Using TensorFlow backend.\n"
     ]
    }
   ],
   "source": [
    "# the regular imports \n",
    "import numpy as np\n",
    "import matplotlib.pyplot as plt\n",
    "from keras.datasets import imdb # check out the dataset info at https://keras.io/datasets/\n",
    "from keras.models import Sequential # import the type of model we'll use\n",
    "from keras.layers import Dense, LSTM, Dropout # import the layers\n",
    "from keras.layers.embeddings import Embedding # import another kind of layers\n",
    "from keras.preprocessing import sequence\n",
    "\n",
    "# set random seed for reproducibility\n",
    "np.random.seed(42)"
   ]
  },
  {
   "cell_type": "markdown",
   "metadata": {},
   "source": [
    "## Simple LSTM for Sequence Classification"
   ]
  },
  {
   "cell_type": "markdown",
   "metadata": {},
   "source": [
    "### The IMDB Movie Review Dataset\n",
    "Dataset of 25,000 movies reviews from IMDB, labeled by sentiment (positive/negative). Reviews have been preprocessed, and each review is encoded as a sequence of word indexes (integers). For convenience, words are indexed by overall frequency in the dataset, so that for instance the integer \"3\" encodes the 3rd most frequent word in the data. This allows for quick filtering operations such as: \"only consider the top 10,000 most common words, but eliminate the top 20 most common words.\"\n",
    "As a convention, \"0\" does not stand for a specific word, but instead is used to encode any unknown word. \n",
    "\n",
    "Check out the full description and how to use the dataset and the `\"load_data()\"` method in the [Keras Documentation](https://keras.io/datasets/#imdb-movie-reviews-sentiment-classification)"
   ]
  },
  {
   "cell_type": "markdown",
   "metadata": {},
   "source": [
    "#### Load Dataset On Movie Review Text"
   ]
  },
  {
   "cell_type": "code",
   "execution_count": 2,
   "metadata": {},
   "outputs": [],
   "source": [
    "# load in the dataset using load_data, but only keep the top 5000 words. Other words would be 0. \n",
    "top_words = 5000\n",
    "(X_train, y_train), (X_test, y_test) = imdb.load_data(num_words=top_words)\n",
    "# imdb.load_data returns two tuples: (x_train, x_test) and (y_train, y_test). See the (link to) documentation above!"
   ]
  },
  {
   "cell_type": "code",
   "execution_count": 5,
   "metadata": {},
   "outputs": [],
   "source": [
    "# shorten/pad the input sequence - to make each observation have 500 features (you can change that value)\n",
    "max_review_length = 500\n",
    "X_train = sequence.pad_sequences(X_train, maxlen=max_review_length)\n",
    "X_test = sequence.pad_sequences(X_test, maxlen=max_review_length)"
   ]
  },
  {
   "cell_type": "markdown",
   "metadata": {},
   "source": [
    "#### View First Observation’s Raw Data"
   ]
  },
  {
   "cell_type": "markdown",
   "metadata": {},
   "source": [
    "#### View First Observation’s Feature Data\n"
   ]
  },
  {
   "cell_type": "code",
   "execution_count": 5,
   "metadata": {},
   "outputs": [],
   "source": [
    "# View first observation\n",
    "y"
   ]
  },
  {
   "cell_type": "markdown",
   "metadata": {},
   "source": [
    "### Create LSTM Neural Network Architecture"
   ]
  },
  {
   "cell_type": "code",
   "execution_count": 8,
   "metadata": {
    "scrolled": true
   },
   "outputs": [
    {
     "name": "stdout",
     "output_type": "stream",
     "text": [
      "Model: \"sequential_1\"\n",
      "_________________________________________________________________\n",
      "Layer (type)                 Output Shape              Param #   \n",
      "=================================================================\n",
      "embedding_1 (Embedding)      (None, 500, 32)           160000    \n",
      "_________________________________________________________________\n",
      "lstm_1 (LSTM)                (None, 100)               53200     \n",
      "_________________________________________________________________\n",
      "dense_1 (Dense)              (None, 1)                 101       \n",
      "=================================================================\n",
      "Total params: 213,301\n",
      "Trainable params: 213,301\n",
      "Non-trainable params: 0\n",
      "_________________________________________________________________\n",
      "None\n"
     ]
    }
   ],
   "source": [
    "# set the vector length\n",
    "embedding_vector_length =32\n",
    "\n",
    "# instantiate the neural network\n",
    "model = Sequential()\n",
    "\n",
    "# first layer - Embedded layer with a length of 32 vectors (represent each word)\n",
    "model.add(Embedding(top_words, embedding_vector_length, input_length=max_review_length))\n",
    "\n",
    "# second layer - LSTM (long short-term memory) layer with 100 neurons\n",
    "model.add(LSTM(100))\n",
    "\n",
    "# last layer - a fully densed (connected) layer with sigmoid activation function (binary classification)\n",
    "model.add(Dense(1, activation='sigmoid'))\n",
    "\n",
    "# compiling the network. Using binary crossentropy for log loss, adam as optimizer and accuracy as our metric\n",
    "model.compile(loss='binary_crossentropy', optimizer='adam', metrics=['accuracy'])\n",
    "# shows us all the model's informantion\n",
    "print(model.summary())\n"
   ]
  },
  {
   "cell_type": "markdown",
   "metadata": {},
   "source": [
    "### Train LSTM Neural Network Architecture"
   ]
  },
  {
   "cell_type": "code",
   "execution_count": 9,
   "metadata": {},
   "outputs": [
    {
     "name": "stderr",
     "output_type": "stream",
     "text": [
      "/Users/adibronshtein/anaconda3/lib/python3.7/site-packages/tensorflow_core/python/framework/indexed_slices.py:433: UserWarning: Converting sparse IndexedSlices to a dense Tensor of unknown shape. This may consume a large amount of memory.\n",
      "  \"Converting sparse IndexedSlices to a dense Tensor of unknown shape. \"\n"
     ]
    },
    {
     "name": "stdout",
     "output_type": "stream",
     "text": [
      "Train on 25000 samples, validate on 25000 samples\n",
      "Epoch 1/1\n",
      "25000/25000 [==============================] - 377s 15ms/step - loss: 0.4801 - accuracy: 0.7577 - val_loss: 0.4069 - val_accuracy: 0.8276\n"
     ]
    }
   ],
   "source": [
    "'''fit the model and assign it to a history object (to get info from fitted model later)\n",
    "fitting on the trainig data and using the test data as validation/evaluation.\n",
    "when you have more time, try epochs=3 (or more!)''' \n",
    "# Train neural network\n",
    "history = model.fit(X_train, y_train, validation_data=[X_test, y_test], epochs=1, batch_size=64)"
   ]
  },
  {
   "cell_type": "markdown",
   "metadata": {},
   "source": [
    "### Evaluate the Model"
   ]
  },
  {
   "cell_type": "code",
   "execution_count": 10,
   "metadata": {},
   "outputs": [
    {
     "name": "stdout",
     "output_type": "stream",
     "text": [
      "25000/25000 [==============================] - 89s 4ms/step\n"
     ]
    }
   ],
   "source": [
    "# evaluation of the model using the accuracy score \n",
    "scores = model.evaluate(X_test, y_test, verbose=1)"
   ]
  },
  {
   "cell_type": "code",
   "execution_count": 11,
   "metadata": {},
   "outputs": [
    {
     "data": {
      "text/plain": [
       "[0.40693396728515624, 0.8276399970054626]"
      ]
     },
     "execution_count": 11,
     "metadata": {},
     "output_type": "execute_result"
    }
   ],
   "source": [
    "scores"
   ]
  },
  {
   "cell_type": "markdown",
   "metadata": {},
   "source": [
    "### Visualize Neural Network Performance History "
   ]
  },
  {
   "cell_type": "markdown",
   "metadata": {},
   "source": [
    "For the sake of time, we're only running one epoch during the lesson, so this visualization would be meaningless.   \n",
    "Try running this code later, when you have time, after using, say, 10 or 15 epochs and seeing the training and testing accurcy. "
   ]
  },
  {
   "cell_type": "code",
   "execution_count": 12,
   "metadata": {},
   "outputs": [
    {
     "data": {
      "image/png": "[encoded data removed]",
      "text/plain": [
       "<Figure size 432x288 with 1 Axes>"
      ]
     },
     "metadata": {
      "needs_background": "light"
     },
     "output_type": "display_data"
    }
   ],
   "source": [
    "# Get training and test accuracy histories\n",
    "training_accuracy = history.history['accuracy']\n",
    "testing_accuracy = history.history['val_accuracy']\n",
    "\n",
    "# Create count of the number of epochs\n",
    "epoch_count = range(1, len(training_accuracy) + 1)\n",
    "\n",
    "# Visualize accuracy history\n",
    "plt.plot(epoch_count, training_accuracy)\n",
    "plt.plot(epoch_count, testing_accuracy, 'red')\n",
    "plt.legend([\"Training Accuracy\", \"Testing Accuracy\"])\n",
    "plt.xlabel(\"Epoch\")\n",
    "plt.ylabel(\"Accuracy\")\n",
    "plt.show();"
   ]
  },
  {
   "cell_type": "markdown",
   "metadata": {},
   "source": [
    "## LSTM For Sequence Classification With Dropout"
   ]
  },
  {
   "cell_type": "markdown",
   "metadata": {},
   "source": [
    "As we discussed earlier, RNNs like LSTM are pretty prone for overfitting. We can add a Dropout layer between the the Embedding and LSTM layers and the LSTM and Dense output layers. Each Dropout layer will drop a user-defined hyperparameter of units in the previous layer every batch. Remember in Keras the input layer is assumed to be the first layer and not added using the add. Therefore, if we want to add dropout to the input layer, the layer we add in our is a dropout layer. This layer contains both the proportion of the input layer’s units to drop 0.2 and input_shape defining the shape of the observation data. Next, after we add a dropout layer with 0.5 after each of the hidden layers."
   ]
  },
  {
   "cell_type": "markdown",
   "metadata": {},
   "source": [
    "### Create LSTM Neural Network Architecture (with Dropout)"
   ]
  },
  {
   "cell_type": "code",
   "execution_count": 13,
   "metadata": {},
   "outputs": [],
   "source": [
    "# Start neural network\n",
    "network = Sequential()\n",
    "# Add a dropout layer for input layer\n",
    "network.add(Dropout(0.2, input_shape=(max_review_length, )))\n",
    "\n",
    "# Add fully connected layer with a ReLU activation function\n",
    "network.add(Dense(units=16, activation='relu'))\n",
    "\n",
    "# Add a dropout layer for previous hidden layer\n",
    "network.add(Dropout(0.2))\n",
    "\n",
    "# Add fully connected layer with a ReLU activation function\n",
    "network.add(Dense(units=16, activation='relu'))\n",
    "\n",
    "# Add a dropout layer for previous hidden layer\n",
    "network.add(Dropout(0.2))\n",
    "\n",
    "# Add fully connected layer with a sigmoid activation function\n",
    "network.add(Dense(units=1, activation='sigmoid'))"
   ]
  },
  {
   "cell_type": "markdown",
   "metadata": {},
   "source": [
    "### Compile the Network"
   ]
  },
  {
   "cell_type": "code",
   "execution_count": 15,
   "metadata": {},
   "outputs": [],
   "source": [
    "# Compile neural network\n",
    "network.compile(loss='binary_crossentropy',\n",
    "               optimizer='adam',\n",
    "               metrics=['accuracy'])"
   ]
  },
  {
   "cell_type": "markdown",
   "metadata": {},
   "source": [
    "### Train LSTM Neural Network Architecture"
   ]
  },
  {
   "cell_type": "code",
   "execution_count": 18,
   "metadata": {},
   "outputs": [
    {
     "name": "stdout",
     "output_type": "stream",
     "text": [
      "Train on 25000 samples, validate on 25000 samples\n",
      "Epoch 1/10\n",
      "25000/25000 [==============================] - 2s 70us/step - loss: 0.7011 - accuracy: 0.4988 - val_loss: 0.6941 - val_accuracy: 0.5003\n",
      "Epoch 2/10\n",
      "25000/25000 [==============================] - 1s 56us/step - loss: 0.7044 - accuracy: 0.4990 - val_loss: 0.6941 - val_accuracy: 0.4998\n",
      "Epoch 3/10\n",
      "25000/25000 [==============================] - 1s 50us/step - loss: 0.7001 - accuracy: 0.4912 - val_loss: 0.6938 - val_accuracy: 0.4999\n",
      "Epoch 4/10\n",
      "25000/25000 [==============================] - 2s 69us/step - loss: 0.6976 - accuracy: 0.4989 - val_loss: 0.6935 - val_accuracy: 0.4998\n",
      "Epoch 5/10\n",
      "25000/25000 [==============================] - 1s 56us/step - loss: 0.7002 - accuracy: 0.5004 - val_loss: 0.6934 - val_accuracy: 0.5002\n",
      "Epoch 6/10\n",
      "25000/25000 [==============================] - 2s 83us/step - loss: 0.7039 - accuracy: 0.4998 - val_loss: 0.6932 - val_accuracy: 0.4997\n",
      "Epoch 7/10\n",
      "25000/25000 [==============================] - 1s 60us/step - loss: 0.6954 - accuracy: 0.4971 - val_loss: 0.6931 - val_accuracy: 0.4998\n",
      "Epoch 8/10\n",
      "25000/25000 [==============================] - 2s 63us/step - loss: 0.6957 - accuracy: 0.4925 - val_loss: 0.6932 - val_accuracy: 0.5001\n",
      "Epoch 9/10\n",
      "25000/25000 [==============================] - 4s 172us/step - loss: 0.6989 - accuracy: 0.4954 - val_loss: 0.6931 - val_accuracy: 0.5000\n",
      "Epoch 10/10\n",
      "25000/25000 [==============================] - 2s 90us/step - loss: 0.6946 - accuracy: 0.4968 - val_loss: 0.6931 - val_accuracy: 0.4998\n"
     ]
    }
   ],
   "source": [
    "# Train neural network\n",
    "history_dropout = network.fit(X_train, y_train, validation_data=[X_test, y_test],\n",
    "                             epochs=10, batch_size=100, verbose=1)"
   ]
  },
  {
   "cell_type": "markdown",
   "metadata": {},
   "source": [
    "### Evaluate the Model"
   ]
  },
  {
   "cell_type": "code",
   "execution_count": 19,
   "metadata": {},
   "outputs": [
    {
     "name": "stdout",
     "output_type": "stream",
     "text": [
      "25000/25000 [==============================] - 1s 59us/step\n",
      "0.49983999133110046\n"
     ]
    }
   ],
   "source": [
    "# Get the accuracy score\n",
    "scores_dropout = network.evaluate(X_test, y_test, verbose=1)\n",
    "print(scores_dropout[1])"
   ]
  },
  {
   "cell_type": "markdown",
   "metadata": {},
   "source": [
    "### Visualize Neural Network Performance History "
   ]
  },
  {
   "cell_type": "markdown",
   "metadata": {},
   "source": [
    "For the sake of time, we're only running one epoch during the lesson, so this visualization would be meaningless.   \n",
    "Try running this code later, when you have time, after using, say, 10 or 15 epochs and seeing the training and testing accurcy. "
   ]
  },
  {
   "cell_type": "code",
   "execution_count": 22,
   "metadata": {},
   "outputs": [
    {
     "data": {
      "image/png": "[encoded data removed]",
      "text/plain": [
       "<Figure size 432x288 with 1 Axes>"
      ]
     },
     "metadata": {
      "needs_background": "light"
     },
     "output_type": "display_data"
    }
   ],
   "source": [
    "# Get training and test accuracy histories\n",
    "training_accuracy = history_dropout.history['accuracy']\n",
    "test_accuracy = history_dropout.history['val_accuracy']\n",
    "\n",
    "# Create count of the number of epochs\n",
    "epoch_count = range(1, len(training_accuracy) + 1)\n",
    "\n",
    "# Visualize accuracy history\n",
    "plt.plot(epoch_count, training_accuracy, 'r--')\n",
    "plt.plot(epoch_count, test_accuracy, 'b-')\n",
    "plt.legend(['Training Accuracy', 'Test Accuracy'])\n",
    "plt.xlabel('Epoch')\n",
    "plt.ylabel('Accuracy Score')\n",
    "plt.show();"
   ]
  },
  {
   "cell_type": "markdown",
   "metadata": {},
   "source": [
    "## Visualizing the Network"
   ]
  },
  {
   "cell_type": "code",
   "execution_count": 23,
   "metadata": {},
   "outputs": [],
   "source": [
    "from IPython.display import SVG\n",
    "from keras.utils.vis_utils import model_to_dot\n",
    "from keras.utils import plot_model"
   ]
  },
  {
   "cell_type": "code",
   "execution_count": 25,
   "metadata": {},
   "outputs": [
    {
     "data": {
      "image/svg+xml": [
       "<svg height=\"538pt\" viewBox=\"0.00 0.00 327.00 553.00\" width=\"318pt\" xmlns=\"http://www.w3.org/2000/svg\" xmlns:xlink=\"http://www.w3.org/1999/xlink\">\n",
       "<g class=\"graph\" id=\"graph0\" transform=\"scale(.9722 .9722) rotate(0) translate(4 549)\">\n",
       "<title>G</title>\n",
       "<polygon fill=\"#ffffff\" points=\"-4,4 -4,-549 323,-549 323,4 -4,4\" stroke=\"transparent\"/>\n",
       "<!-- 27036045648 -->\n",
       "<g class=\"node\" id=\"node1\">\n",
       "<title>27036045648</title>\n",
       "<polygon fill=\"none\" points=\"0,-498.5 0,-544.5 319,-544.5 319,-498.5 0,-498.5\" stroke=\"#000000\"/>\n",
       "<text fill=\"#000000\" font-family=\"Times,serif\" font-size=\"14.00\" text-anchor=\"middle\" x=\"89.5\" y=\"-517.8\">dropout_1_input: InputLayer</text>\n",
       "<polyline fill=\"none\" points=\"179,-498.5 179,-544.5 \" stroke=\"#000000\"/>\n",
       "<text fill=\"#000000\" font-family=\"Times,serif\" font-size=\"14.00\" text-anchor=\"middle\" x=\"207\" y=\"-529.3\">input:</text>\n",
       "<polyline fill=\"none\" points=\"179,-521.5 235,-521.5 \" stroke=\"#000000\"/>\n",
       "<text fill=\"#000000\" font-family=\"Times,serif\" font-size=\"14.00\" text-anchor=\"middle\" x=\"207\" y=\"-506.3\">output:</text>\n",
       "<polyline fill=\"none\" points=\"235,-498.5 235,-544.5 \" stroke=\"#000000\"/>\n",
       "<text fill=\"#000000\" font-family=\"Times,serif\" font-size=\"14.00\" text-anchor=\"middle\" x=\"277\" y=\"-529.3\">(None, 500)</text>\n",
       "<polyline fill=\"none\" points=\"235,-521.5 319,-521.5 \" stroke=\"#000000\"/>\n",
       "<text fill=\"#000000\" font-family=\"Times,serif\" font-size=\"14.00\" text-anchor=\"middle\" x=\"277\" y=\"-506.3\">(None, 500)</text>\n",
       "</g>\n",
       "<!-- 27036045968 -->\n",
       "<g class=\"node\" id=\"node2\">\n",
       "<title>27036045968</title>\n",
       "<polygon fill=\"none\" points=\"25.5,-415.5 25.5,-461.5 293.5,-461.5 293.5,-415.5 25.5,-415.5\" stroke=\"#000000\"/>\n",
       "<text fill=\"#000000\" font-family=\"Times,serif\" font-size=\"14.00\" text-anchor=\"middle\" x=\"89.5\" y=\"-434.8\">dropout_1: Dropout</text>\n",
       "<polyline fill=\"none\" points=\"153.5,-415.5 153.5,-461.5 \" stroke=\"#000000\"/>\n",
       "<text fill=\"#000000\" font-family=\"Times,serif\" font-size=\"14.00\" text-anchor=\"middle\" x=\"181.5\" y=\"-446.3\">input:</text>\n",
       "<polyline fill=\"none\" points=\"153.5,-438.5 209.5,-438.5 \" stroke=\"#000000\"/>\n",
       "<text fill=\"#000000\" font-family=\"Times,serif\" font-size=\"14.00\" text-anchor=\"middle\" x=\"181.5\" y=\"-423.3\">output:</text>\n",
       "<polyline fill=\"none\" points=\"209.5,-415.5 209.5,-461.5 \" stroke=\"#000000\"/>\n",
       "<text fill=\"#000000\" font-family=\"Times,serif\" font-size=\"14.00\" text-anchor=\"middle\" x=\"251.5\" y=\"-446.3\">(None, 500)</text>\n",
       "<polyline fill=\"none\" points=\"209.5,-438.5 293.5,-438.5 \" stroke=\"#000000\"/>\n",
       "<text fill=\"#000000\" font-family=\"Times,serif\" font-size=\"14.00\" text-anchor=\"middle\" x=\"251.5\" y=\"-423.3\">(None, 500)</text>\n",
       "</g>\n",
       "<!-- 27036045648&#45;&gt;27036045968 -->\n",
       "<g class=\"edge\" id=\"edge1\">\n",
       "<title>27036045648-&gt;27036045968</title>\n",
       "<path d=\"M159.5,-498.3799C159.5,-490.1745 159.5,-480.7679 159.5,-471.8786\" fill=\"none\" stroke=\"#000000\"/>\n",
       "<polygon fill=\"#000000\" points=\"163.0001,-471.784 159.5,-461.784 156.0001,-471.784 163.0001,-471.784\" stroke=\"#000000\"/>\n",
       "</g>\n",
       "<!-- 27033381520 -->\n",
       "<g class=\"node\" id=\"node3\">\n",
       "<title>27033381520</title>\n",
       "<polygon fill=\"none\" points=\"37,-332.5 37,-378.5 282,-378.5 282,-332.5 37,-332.5\" stroke=\"#000000\"/>\n",
       "<text fill=\"#000000\" font-family=\"Times,serif\" font-size=\"14.00\" text-anchor=\"middle\" x=\"89.5\" y=\"-351.8\">dense_2: Dense</text>\n",
       "<polyline fill=\"none\" points=\"142,-332.5 142,-378.5 \" stroke=\"#000000\"/>\n",
       "<text fill=\"#000000\" font-family=\"Times,serif\" font-size=\"14.00\" text-anchor=\"middle\" x=\"170\" y=\"-363.3\">input:</text>\n",
       "<polyline fill=\"none\" points=\"142,-355.5 198,-355.5 \" stroke=\"#000000\"/>\n",
       "<text fill=\"#000000\" font-family=\"Times,serif\" font-size=\"14.00\" text-anchor=\"middle\" x=\"170\" y=\"-340.3\">output:</text>\n",
       "<polyline fill=\"none\" points=\"198,-332.5 198,-378.5 \" stroke=\"#000000\"/>\n",
       "<text fill=\"#000000\" font-family=\"Times,serif\" font-size=\"14.00\" text-anchor=\"middle\" x=\"240\" y=\"-363.3\">(None, 500)</text>\n",
       "<polyline fill=\"none\" points=\"198,-355.5 282,-355.5 \" stroke=\"#000000\"/>\n",
       "<text fill=\"#000000\" font-family=\"Times,serif\" font-size=\"14.00\" text-anchor=\"middle\" x=\"240\" y=\"-340.3\">(None, 16)</text>\n",
       "</g>\n",
       "<!-- 27036045968&#45;&gt;27033381520 -->\n",
       "<g class=\"edge\" id=\"edge2\">\n",
       "<title>27036045968-&gt;27033381520</title>\n",
       "<path d=\"M159.5,-415.3799C159.5,-407.1745 159.5,-397.7679 159.5,-388.8786\" fill=\"none\" stroke=\"#000000\"/>\n",
       "<polygon fill=\"#000000\" points=\"163.0001,-388.784 159.5,-378.784 156.0001,-388.784 163.0001,-388.784\" stroke=\"#000000\"/>\n",
       "</g>\n",
       "<!-- 27033380368 -->\n",
       "<g class=\"node\" id=\"node4\">\n",
       "<title>27033380368</title>\n",
       "<polygon fill=\"none\" points=\"29,-249.5 29,-295.5 290,-295.5 290,-249.5 29,-249.5\" stroke=\"#000000\"/>\n",
       "<text fill=\"#000000\" font-family=\"Times,serif\" font-size=\"14.00\" text-anchor=\"middle\" x=\"93\" y=\"-268.8\">dropout_2: Dropout</text>\n",
       "<polyline fill=\"none\" points=\"157,-249.5 157,-295.5 \" stroke=\"#000000\"/>\n",
       "<text fill=\"#000000\" font-family=\"Times,serif\" font-size=\"14.00\" text-anchor=\"middle\" x=\"185\" y=\"-280.3\">input:</text>\n",
       "<polyline fill=\"none\" points=\"157,-272.5 213,-272.5 \" stroke=\"#000000\"/>\n",
       "<text fill=\"#000000\" font-family=\"Times,serif\" font-size=\"14.00\" text-anchor=\"middle\" x=\"185\" y=\"-257.3\">output:</text>\n",
       "<polyline fill=\"none\" points=\"213,-249.5 213,-295.5 \" stroke=\"#000000\"/>\n",
       "<text fill=\"#000000\" font-family=\"Times,serif\" font-size=\"14.00\" text-anchor=\"middle\" x=\"251.5\" y=\"-280.3\">(None, 16)</text>\n",
       "<polyline fill=\"none\" points=\"213,-272.5 290,-272.5 \" stroke=\"#000000\"/>\n",
       "<text fill=\"#000000\" font-family=\"Times,serif\" font-size=\"14.00\" text-anchor=\"middle\" x=\"251.5\" y=\"-257.3\">(None, 16)</text>\n",
       "</g>\n",
       "<!-- 27033381520&#45;&gt;27033380368 -->\n",
       "<g class=\"edge\" id=\"edge3\">\n",
       "<title>27033381520-&gt;27033380368</title>\n",
       "<path d=\"M159.5,-332.3799C159.5,-324.1745 159.5,-314.7679 159.5,-305.8786\" fill=\"none\" stroke=\"#000000\"/>\n",
       "<polygon fill=\"#000000\" points=\"163.0001,-305.784 159.5,-295.784 156.0001,-305.784 163.0001,-305.784\" stroke=\"#000000\"/>\n",
       "</g>\n",
       "<!-- 27036045584 -->\n",
       "<g class=\"node\" id=\"node5\">\n",
       "<title>27036045584</title>\n",
       "<polygon fill=\"none\" points=\"40.5,-166.5 40.5,-212.5 278.5,-212.5 278.5,-166.5 40.5,-166.5\" stroke=\"#000000\"/>\n",
       "<text fill=\"#000000\" font-family=\"Times,serif\" font-size=\"14.00\" text-anchor=\"middle\" x=\"93\" y=\"-185.8\">dense_3: Dense</text>\n",
       "<polyline fill=\"none\" points=\"145.5,-166.5 145.5,-212.5 \" stroke=\"#000000\"/>\n",
       "<text fill=\"#000000\" font-family=\"Times,serif\" font-size=\"14.00\" text-anchor=\"middle\" x=\"173.5\" y=\"-197.3\">input:</text>\n",
       "<polyline fill=\"none\" points=\"145.5,-189.5 201.5,-189.5 \" stroke=\"#000000\"/>\n",
       "<text fill=\"#000000\" font-family=\"Times,serif\" font-size=\"14.00\" text-anchor=\"middle\" x=\"173.5\" y=\"-174.3\">output:</text>\n",
       "<polyline fill=\"none\" points=\"201.5,-166.5 201.5,-212.5 \" stroke=\"#000000\"/>\n",
       "<text fill=\"#000000\" font-family=\"Times,serif\" font-size=\"14.00\" text-anchor=\"middle\" x=\"240\" y=\"-197.3\">(None, 16)</text>\n",
       "<polyline fill=\"none\" points=\"201.5,-189.5 278.5,-189.5 \" stroke=\"#000000\"/>\n",
       "<text fill=\"#000000\" font-family=\"Times,serif\" font-size=\"14.00\" text-anchor=\"middle\" x=\"240\" y=\"-174.3\">(None, 16)</text>\n",
       "</g>\n",
       "<!-- 27033380368&#45;&gt;27036045584 -->\n",
       "<g class=\"edge\" id=\"edge4\">\n",
       "<title>27033380368-&gt;27036045584</title>\n",
       "<path d=\"M159.5,-249.3799C159.5,-241.1745 159.5,-231.7679 159.5,-222.8786\" fill=\"none\" stroke=\"#000000\"/>\n",
       "<polygon fill=\"#000000\" points=\"163.0001,-222.784 159.5,-212.784 156.0001,-222.784 163.0001,-222.784\" stroke=\"#000000\"/>\n",
       "</g>\n",
       "<!-- 27045087696 -->\n",
       "<g class=\"node\" id=\"node6\">\n",
       "<title>27045087696</title>\n",
       "<polygon fill=\"none\" points=\"29,-83.5 29,-129.5 290,-129.5 290,-83.5 29,-83.5\" stroke=\"#000000\"/>\n",
       "<text fill=\"#000000\" font-family=\"Times,serif\" font-size=\"14.00\" text-anchor=\"middle\" x=\"93\" y=\"-102.8\">dropout_3: Dropout</text>\n",
       "<polyline fill=\"none\" points=\"157,-83.5 157,-129.5 \" stroke=\"#000000\"/>\n",
       "<text fill=\"#000000\" font-family=\"Times,serif\" font-size=\"14.00\" text-anchor=\"middle\" x=\"185\" y=\"-114.3\">input:</text>\n",
       "<polyline fill=\"none\" points=\"157,-106.5 213,-106.5 \" stroke=\"#000000\"/>\n",
       "<text fill=\"#000000\" font-family=\"Times,serif\" font-size=\"14.00\" text-anchor=\"middle\" x=\"185\" y=\"-91.3\">output:</text>\n",
       "<polyline fill=\"none\" points=\"213,-83.5 213,-129.5 \" stroke=\"#000000\"/>\n",
       "<text fill=\"#000000\" font-family=\"Times,serif\" font-size=\"14.00\" text-anchor=\"middle\" x=\"251.5\" y=\"-114.3\">(None, 16)</text>\n",
       "<polyline fill=\"none\" points=\"213,-106.5 290,-106.5 \" stroke=\"#000000\"/>\n",
       "<text fill=\"#000000\" font-family=\"Times,serif\" font-size=\"14.00\" text-anchor=\"middle\" x=\"251.5\" y=\"-91.3\">(None, 16)</text>\n",
       "</g>\n",
       "<!-- 27036045584&#45;&gt;27045087696 -->\n",
       "<g class=\"edge\" id=\"edge5\">\n",
       "<title>27036045584-&gt;27045087696</title>\n",
       "<path d=\"M159.5,-166.3799C159.5,-158.1745 159.5,-148.7679 159.5,-139.8786\" fill=\"none\" stroke=\"#000000\"/>\n",
       "<polygon fill=\"#000000\" points=\"163.0001,-139.784 159.5,-129.784 156.0001,-139.784 163.0001,-139.784\" stroke=\"#000000\"/>\n",
       "</g>\n",
       "<!-- 27157442064 -->\n",
       "<g class=\"node\" id=\"node7\">\n",
       "<title>27157442064</title>\n",
       "<polygon fill=\"none\" points=\"40.5,-.5 40.5,-46.5 278.5,-46.5 278.5,-.5 40.5,-.5\" stroke=\"#000000\"/>\n",
       "<text fill=\"#000000\" font-family=\"Times,serif\" font-size=\"14.00\" text-anchor=\"middle\" x=\"93\" y=\"-19.8\">dense_4: Dense</text>\n",
       "<polyline fill=\"none\" points=\"145.5,-.5 145.5,-46.5 \" stroke=\"#000000\"/>\n",
       "<text fill=\"#000000\" font-family=\"Times,serif\" font-size=\"14.00\" text-anchor=\"middle\" x=\"173.5\" y=\"-31.3\">input:</text>\n",
       "<polyline fill=\"none\" points=\"145.5,-23.5 201.5,-23.5 \" stroke=\"#000000\"/>\n",
       "<text fill=\"#000000\" font-family=\"Times,serif\" font-size=\"14.00\" text-anchor=\"middle\" x=\"173.5\" y=\"-8.3\">output:</text>\n",
       "<polyline fill=\"none\" points=\"201.5,-.5 201.5,-46.5 \" stroke=\"#000000\"/>\n",
       "<text fill=\"#000000\" font-family=\"Times,serif\" font-size=\"14.00\" text-anchor=\"middle\" x=\"240\" y=\"-31.3\">(None, 16)</text>\n",
       "<polyline fill=\"none\" points=\"201.5,-23.5 278.5,-23.5 \" stroke=\"#000000\"/>\n",
       "<text fill=\"#000000\" font-family=\"Times,serif\" font-size=\"14.00\" text-anchor=\"middle\" x=\"240\" y=\"-8.3\">(None, 1)</text>\n",
       "</g>\n",
       "<!-- 27045087696&#45;&gt;27157442064 -->\n",
       "<g class=\"edge\" id=\"edge6\">\n",
       "<title>27045087696-&gt;27157442064</title>\n",
       "<path d=\"M159.5,-83.3799C159.5,-75.1745 159.5,-65.7679 159.5,-56.8786\" fill=\"none\" stroke=\"#000000\"/>\n",
       "<polygon fill=\"#000000\" points=\"163.0001,-56.784 159.5,-46.784 156.0001,-56.784 163.0001,-56.784\" stroke=\"#000000\"/>\n",
       "</g>\n",
       "</g>\n",
       "</svg>"
      ],
      "text/plain": [
       "<IPython.core.display.SVG object>"
      ]
     },
     "execution_count": 25,
     "metadata": {},
     "output_type": "execute_result"
    }
   ],
   "source": [
    "# Visualize network architecture\n",
    "SVG(model_to_dot(network, dpi=70, show_shapes=True).create(prog='dot', format='svg'))"
   ]
  },
  {
   "cell_type": "code",
   "execution_count": null,
   "metadata": {},
   "outputs": [],
   "source": []
  }
 ],
 "metadata": {
  "kernelspec": {
   "display_name": "Python 3",
   "language": "python",
   "name": "python3"
  },
  "language_info": {
   "codemirror_mode": {
    "name": "ipython",
    "version": 3
   },
   "file_extension": ".py",
   "mimetype": "text/x-python",
   "name": "python",
   "nbconvert_exporter": "python",
   "pygments_lexer": "ipython3",
   "version": "3.7.6"
  }
 },
 "nbformat": 4,
 "nbformat_minor": 2
}
